{
 "cells": [
  {
   "cell_type": "code",
   "execution_count": 1,
   "id": "0c512203-3acb-4de4-a214-651d4148fcb6",
   "metadata": {},
   "outputs": [],
   "source": [
    "import pickle \n",
    "import numpy as np \n",
    "import pandas as pd\n",
    "import networkx as nx\n",
    "from tqdm import tqdm\n",
    "import time\n",
    "import datetime\n",
    "import seaborn as sns\n",
    "import matplotlib.pyplot as plt\n",
    "from itertools import combinations\n",
    "import community\n",
    "import collections\n",
    "import scipy.stats\n",
    "\n",
    "from src.utils.data_utils import *\n",
    "from src.utils.general_utils import *\n",
    "from src.utils.Director_Actor import *"
   ]
  },
  {
   "cell_type": "markdown",
   "id": "feffd00c-d5c7-492a-8afe-25fcfdfc7f05",
   "metadata": {},
   "source": [
    "# P3 : Directors and actors\n",
    "\n",
    "This notebook will present all the main results of the analysis of the final axis of the project. This axis is directed towards the relationship between actors and directors."
   ]
  },
  {
   "cell_type": "markdown",
   "id": "c0709c3b-c204-4a36-a33c-4ba8726f6b6a",
   "metadata": {},
   "source": [
    "The directors of each movie were previously found with the IMDb dataset. Only a little information about each director was found, such as date of birth/death, name, as well as the list of movies they directed.\n",
    "\n",
    "The goal of this part would be to link the actors who were successful during their careers to directors using a directed graph. The directed graph would be from the actor to the director. The weight of each edge would be the number of movies where the actor and the director were together. The value at the node of the director would be the sum of all the edges coming to him. By doing so, we hope to analyse the link between successful actors and directors and see if directors who have higher value have better careers and what are the factors that help them achieve these high counts. The career and successfulness of actors would be quantified as part of the first research question (\"Network and career analysis through time\").\n",
    "\n",
    "The major research question of this line of analysis would be:\\\n",
    "**What are the links between successful actors and directors ?**\n",
    "\n",
    "Here is the global strategy that we will use to answer these questions:\n",
    "1. Pre-process some data (specific way for this section)\n",
    "2. Compute metrics about actors and networks\n",
    "3. Analyse the metrics to determine what is a successful actor\n",
    "4. See the relationship between actors and directors using Network (undirected and directed network)\n",
    "5. Determined the most highly valued directors\n",
    "6. Analyse the factors and similarities between those directors\n",
    "7. Find the relationship between a high-valued director and a successful actor"
   ]
  },
  {
   "cell_type": "markdown",
   "id": "5ae5a328-12eb-42d8-ae7a-5ff35889c0a7",
   "metadata": {},
   "source": [
    "## 0. Loading Value"
   ]
  },
  {
   "cell_type": "code",
   "execution_count": 2,
   "id": "4df29027-d1c9-477f-bfcc-056d23cb41af",
   "metadata": {},
   "outputs": [],
   "source": [
    "movie_path = 'data/Movie.pkl'\n",
    "actors_path = 'data/Actor.pkl'\n",
    "\n",
    "with open(movie_path, 'rb') as file:\n",
    "    Movie = pickle.load(file)\n",
    "\n",
    "with open(actors_path, 'rb') as file:\n",
    "    Actor = pickle.load(file)"
   ]
  },
  {
   "cell_type": "code",
   "execution_count": 3,
   "id": "70fa197a-85db-44ff-afd5-d2b1ee6f6137",
   "metadata": {},
   "outputs": [
    {
     "name": "stdout",
     "output_type": "stream",
     "text": [
      "Shape of Actor :(135760, 8)\n",
      "Shape of Movie :(61042, 26)\n"
     ]
    }
   ],
   "source": [
    "print(f'Shape of Actor :{Actor.shape}')\n",
    "print(f'Shape of Movie :{Movie.shape}')"
   ]
  },
  {
   "cell_type": "code",
   "execution_count": 4,
   "id": "3b31e3c2-888f-4084-b775-67b0a9d1dfc4",
   "metadata": {},
   "outputs": [
    {
     "data": {
      "text/html": [
       "<div>\n",
       "<style scoped>\n",
       "    .dataframe tbody tr th:only-of-type {\n",
       "        vertical-align: middle;\n",
       "    }\n",
       "\n",
       "    .dataframe tbody tr th {\n",
       "        vertical-align: top;\n",
       "    }\n",
       "\n",
       "    .dataframe thead th {\n",
       "        text-align: right;\n",
       "    }\n",
       "</style>\n",
       "<table border=\"1\" class=\"dataframe\">\n",
       "  <thead>\n",
       "    <tr style=\"text-align: right;\">\n",
       "      <th></th>\n",
       "      <th>IMDb_title_ID</th>\n",
       "      <th>release_date</th>\n",
       "      <th>runtime</th>\n",
       "      <th>Primary_title</th>\n",
       "      <th>Original_title</th>\n",
       "      <th>Average rating</th>\n",
       "      <th>number of votes</th>\n",
       "      <th>IMDb_director_ID</th>\n",
       "      <th>IMDb_writers_ID</th>\n",
       "      <th>Producer name</th>\n",
       "      <th>...</th>\n",
       "      <th>Wikipedia_movie_ID</th>\n",
       "      <th>Freebase_movie_ID</th>\n",
       "      <th>Movie_name</th>\n",
       "      <th>Movie_release_date</th>\n",
       "      <th>Movie_box_office_revenue</th>\n",
       "      <th>Movie_runtime</th>\n",
       "      <th>Movie_languages</th>\n",
       "      <th>Movie_countries</th>\n",
       "      <th>Movie_genres</th>\n",
       "      <th>modified_title_y</th>\n",
       "    </tr>\n",
       "  </thead>\n",
       "  <tbody>\n",
       "    <tr>\n",
       "      <th>1894missjerry</th>\n",
       "      <td>tt0000009</td>\n",
       "      <td>1894</td>\n",
       "      <td>45</td>\n",
       "      <td>Miss Jerry</td>\n",
       "      <td>Miss Jerry</td>\n",
       "      <td>5.4</td>\n",
       "      <td>216.0</td>\n",
       "      <td>nm0085156</td>\n",
       "      <td>nm0085156</td>\n",
       "      <td>Alexander Black</td>\n",
       "      <td>...</td>\n",
       "      <td>10109752</td>\n",
       "      <td>/m/02q23xk</td>\n",
       "      <td>Miss Jerry</td>\n",
       "      <td>1894</td>\n",
       "      <td>&lt;NA&gt;</td>\n",
       "      <td>&lt;NA&gt;</td>\n",
       "      <td>Silent film</td>\n",
       "      <td>United States of America</td>\n",
       "      <td>Short Film, Silent film, Indie, Black-and-white</td>\n",
       "      <td>missjerry</td>\n",
       "    </tr>\n",
       "    <tr>\n",
       "      <th>1897thecorbettfitzsimmonsfight</th>\n",
       "      <td>tt0000147</td>\n",
       "      <td>1897</td>\n",
       "      <td>100</td>\n",
       "      <td>The Corbett-Fitzsimmons Fight</td>\n",
       "      <td>The Corbett-Fitzsimmons Fight</td>\n",
       "      <td>5.2</td>\n",
       "      <td>540.0</td>\n",
       "      <td>nm0714557</td>\n",
       "      <td>&lt;NA&gt;</td>\n",
       "      <td>Enoch J. Rector</td>\n",
       "      <td>...</td>\n",
       "      <td>28703057</td>\n",
       "      <td>/m/0czdh_n</td>\n",
       "      <td>The Corbett-Fitzsimmons Fight</td>\n",
       "      <td>1897</td>\n",
       "      <td>100000.0</td>\n",
       "      <td>&lt;NA&gt;</td>\n",
       "      <td></td>\n",
       "      <td></td>\n",
       "      <td>Sports</td>\n",
       "      <td>thecorbettfitzsimmonsfight</td>\n",
       "    </tr>\n",
       "    <tr>\n",
       "      <th>1906thestoryofthekellygang</th>\n",
       "      <td>tt0000574</td>\n",
       "      <td>1906</td>\n",
       "      <td>70</td>\n",
       "      <td>The Story of the Kelly Gang</td>\n",
       "      <td>The Story of the Kelly Gang</td>\n",
       "      <td>6.0</td>\n",
       "      <td>938.0</td>\n",
       "      <td>nm0846879</td>\n",
       "      <td>nm0846879</td>\n",
       "      <td>Charles Tait</td>\n",
       "      <td>...</td>\n",
       "      <td>142995</td>\n",
       "      <td>/m/0120y4</td>\n",
       "      <td>The Story of the Kelly Gang</td>\n",
       "      <td>1906</td>\n",
       "      <td>&lt;NA&gt;</td>\n",
       "      <td>70.0</td>\n",
       "      <td>English Language</td>\n",
       "      <td>Australia</td>\n",
       "      <td>Crime Fiction, Silent film, Biography, Indie, ...</td>\n",
       "      <td>thestoryofthekellygang</td>\n",
       "    </tr>\n",
       "    <tr>\n",
       "      <th>1908hamlet</th>\n",
       "      <td>tt0000630</td>\n",
       "      <td>1908</td>\n",
       "      <td>&lt;NA&gt;</td>\n",
       "      <td>Hamlet</td>\n",
       "      <td>Amleto</td>\n",
       "      <td>3.1</td>\n",
       "      <td>30.0</td>\n",
       "      <td>nm0143333</td>\n",
       "      <td>nm0000636</td>\n",
       "      <td>Mario Caserini</td>\n",
       "      <td>...</td>\n",
       "      <td>15128675</td>\n",
       "      <td>/m/03hjcy9</td>\n",
       "      <td>Hamlet</td>\n",
       "      <td>1908</td>\n",
       "      <td>&lt;NA&gt;</td>\n",
       "      <td>&lt;NA&gt;</td>\n",
       "      <td>French Language</td>\n",
       "      <td>France</td>\n",
       "      <td>Silent film, Drama</td>\n",
       "      <td>hamlet</td>\n",
       "    </tr>\n",
       "    <tr>\n",
       "      <th>1908thefairylogueandradioplays</th>\n",
       "      <td>tt0000679</td>\n",
       "      <td>1908</td>\n",
       "      <td>120</td>\n",
       "      <td>The Fairylogue and Radio-Plays</td>\n",
       "      <td>The Fairylogue and Radio-Plays</td>\n",
       "      <td>5.2</td>\n",
       "      <td>77.0</td>\n",
       "      <td>nm0091767,nm0877783</td>\n",
       "      <td>nm0000875,nm0877783</td>\n",
       "      <td>Francis Boggs, Otis Turner</td>\n",
       "      <td>...</td>\n",
       "      <td>5954041</td>\n",
       "      <td>/m/0fgfyy</td>\n",
       "      <td>The Fairylogue and Radio-Plays</td>\n",
       "      <td>1908</td>\n",
       "      <td>&lt;NA&gt;</td>\n",
       "      <td>120.0</td>\n",
       "      <td>English Language</td>\n",
       "      <td>United States of America</td>\n",
       "      <td>Silent film, Black-and-white</td>\n",
       "      <td>thefairylogueandradioplays</td>\n",
       "    </tr>\n",
       "  </tbody>\n",
       "</table>\n",
       "<p>5 rows × 26 columns</p>\n",
       "</div>"
      ],
      "text/plain": [
       "                               IMDb_title_ID  release_date runtime  \\\n",
       "1894missjerry                      tt0000009          1894      45   \n",
       "1897thecorbettfitzsimmonsfight     tt0000147          1897     100   \n",
       "1906thestoryofthekellygang         tt0000574          1906      70   \n",
       "1908hamlet                         tt0000630          1908    <NA>   \n",
       "1908thefairylogueandradioplays     tt0000679          1908     120   \n",
       "\n",
       "                                                 Primary_title  \\\n",
       "1894missjerry                                       Miss Jerry   \n",
       "1897thecorbettfitzsimmonsfight   The Corbett-Fitzsimmons Fight   \n",
       "1906thestoryofthekellygang         The Story of the Kelly Gang   \n",
       "1908hamlet                                              Hamlet   \n",
       "1908thefairylogueandradioplays  The Fairylogue and Radio-Plays   \n",
       "\n",
       "                                                Original_title Average rating  \\\n",
       "1894missjerry                                       Miss Jerry            5.4   \n",
       "1897thecorbettfitzsimmonsfight   The Corbett-Fitzsimmons Fight            5.2   \n",
       "1906thestoryofthekellygang         The Story of the Kelly Gang            6.0   \n",
       "1908hamlet                                              Amleto            3.1   \n",
       "1908thefairylogueandradioplays  The Fairylogue and Radio-Plays            5.2   \n",
       "\n",
       "                               number of votes     IMDb_director_ID  \\\n",
       "1894missjerry                            216.0            nm0085156   \n",
       "1897thecorbettfitzsimmonsfight           540.0            nm0714557   \n",
       "1906thestoryofthekellygang               938.0            nm0846879   \n",
       "1908hamlet                                30.0            nm0143333   \n",
       "1908thefairylogueandradioplays            77.0  nm0091767,nm0877783   \n",
       "\n",
       "                                    IMDb_writers_ID  \\\n",
       "1894missjerry                             nm0085156   \n",
       "1897thecorbettfitzsimmonsfight                 <NA>   \n",
       "1906thestoryofthekellygang                nm0846879   \n",
       "1908hamlet                                nm0000636   \n",
       "1908thefairylogueandradioplays  nm0000875,nm0877783   \n",
       "\n",
       "                                             Producer name  ...  \\\n",
       "1894missjerry                              Alexander Black  ...   \n",
       "1897thecorbettfitzsimmonsfight             Enoch J. Rector  ...   \n",
       "1906thestoryofthekellygang                    Charles Tait  ...   \n",
       "1908hamlet                                  Mario Caserini  ...   \n",
       "1908thefairylogueandradioplays  Francis Boggs, Otis Turner  ...   \n",
       "\n",
       "                               Wikipedia_movie_ID Freebase_movie_ID  \\\n",
       "1894missjerry                            10109752        /m/02q23xk   \n",
       "1897thecorbettfitzsimmonsfight           28703057        /m/0czdh_n   \n",
       "1906thestoryofthekellygang                 142995         /m/0120y4   \n",
       "1908hamlet                               15128675        /m/03hjcy9   \n",
       "1908thefairylogueandradioplays            5954041         /m/0fgfyy   \n",
       "\n",
       "                                                    Movie_name  \\\n",
       "1894missjerry                                       Miss Jerry   \n",
       "1897thecorbettfitzsimmonsfight   The Corbett-Fitzsimmons Fight   \n",
       "1906thestoryofthekellygang         The Story of the Kelly Gang   \n",
       "1908hamlet                                              Hamlet   \n",
       "1908thefairylogueandradioplays  The Fairylogue and Radio-Plays   \n",
       "\n",
       "                               Movie_release_date Movie_box_office_revenue  \\\n",
       "1894missjerry                                1894                     <NA>   \n",
       "1897thecorbettfitzsimmonsfight               1897                 100000.0   \n",
       "1906thestoryofthekellygang                   1906                     <NA>   \n",
       "1908hamlet                                   1908                     <NA>   \n",
       "1908thefairylogueandradioplays               1908                     <NA>   \n",
       "\n",
       "                               Movie_runtime   Movie_languages  \\\n",
       "1894missjerry                           <NA>       Silent film   \n",
       "1897thecorbettfitzsimmonsfight          <NA>                     \n",
       "1906thestoryofthekellygang              70.0  English Language   \n",
       "1908hamlet                              <NA>   French Language   \n",
       "1908thefairylogueandradioplays         120.0  English Language   \n",
       "\n",
       "                                         Movie_countries  \\\n",
       "1894missjerry                   United States of America   \n",
       "1897thecorbettfitzsimmonsfight                             \n",
       "1906thestoryofthekellygang                     Australia   \n",
       "1908hamlet                                        France   \n",
       "1908thefairylogueandradioplays  United States of America   \n",
       "\n",
       "                                                                     Movie_genres  \\\n",
       "1894missjerry                     Short Film, Silent film, Indie, Black-and-white   \n",
       "1897thecorbettfitzsimmonsfight                                             Sports   \n",
       "1906thestoryofthekellygang      Crime Fiction, Silent film, Biography, Indie, ...   \n",
       "1908hamlet                                                     Silent film, Drama   \n",
       "1908thefairylogueandradioplays                       Silent film, Black-and-white   \n",
       "\n",
       "                                          modified_title_y  \n",
       "1894missjerry                                    missjerry  \n",
       "1897thecorbettfitzsimmonsfight  thecorbettfitzsimmonsfight  \n",
       "1906thestoryofthekellygang          thestoryofthekellygang  \n",
       "1908hamlet                                          hamlet  \n",
       "1908thefairylogueandradioplays  thefairylogueandradioplays  \n",
       "\n",
       "[5 rows x 26 columns]"
      ]
     },
     "execution_count": 4,
     "metadata": {},
     "output_type": "execute_result"
    }
   ],
   "source": [
    "Movie.head()"
   ]
  },
  {
   "cell_type": "code",
   "execution_count": 5,
   "id": "6b8ad7d6-84b2-4383-86d8-fa199686dcaf",
   "metadata": {},
   "outputs": [
    {
     "data": {
      "text/html": [
       "<div>\n",
       "<style scoped>\n",
       "    .dataframe tbody tr th:only-of-type {\n",
       "        vertical-align: middle;\n",
       "    }\n",
       "\n",
       "    .dataframe tbody tr th {\n",
       "        vertical-align: top;\n",
       "    }\n",
       "\n",
       "    .dataframe thead th {\n",
       "        text-align: right;\n",
       "    }\n",
       "</style>\n",
       "<table border=\"1\" class=\"dataframe\">\n",
       "  <thead>\n",
       "    <tr style=\"text-align: right;\">\n",
       "      <th></th>\n",
       "      <th>Freebase_actor_ID</th>\n",
       "      <th>actor_name</th>\n",
       "      <th>actor_DOB</th>\n",
       "      <th>actor_gender</th>\n",
       "      <th>actor_height</th>\n",
       "      <th>ethnicity</th>\n",
       "      <th>Freebase_movie_ID</th>\n",
       "      <th>actor_age_atmovierelease</th>\n",
       "    </tr>\n",
       "  </thead>\n",
       "  <tbody>\n",
       "    <tr>\n",
       "      <th>0</th>\n",
       "      <td>/m/010p3</td>\n",
       "      <td>Adam Carolla</td>\n",
       "      <td>1964-05-27</td>\n",
       "      <td>M</td>\n",
       "      <td>1.88</td>\n",
       "      <td>Italian Americans</td>\n",
       "      <td>[/m/0bq2wj, /m/08hjr9, /m/06zm9p7, /m/06c5z_, ...</td>\n",
       "      <td>[35.0, 35.0, 45.0, 33.0, 33.0, 34.0, 42.0, 35....</td>\n",
       "    </tr>\n",
       "    <tr>\n",
       "      <th>1</th>\n",
       "      <td>/m/010q36</td>\n",
       "      <td>Fred Rogers</td>\n",
       "      <td>1928-03-20</td>\n",
       "      <td>M</td>\n",
       "      <td>NaN</td>\n",
       "      <td>None</td>\n",
       "      <td>[/m/033pf1]</td>\n",
       "      <td>[67.0]</td>\n",
       "    </tr>\n",
       "    <tr>\n",
       "      <th>2</th>\n",
       "      <td>/m/010wx</td>\n",
       "      <td>Aria Giovanni</td>\n",
       "      <td>1977-11-03</td>\n",
       "      <td>F</td>\n",
       "      <td>1.68</td>\n",
       "      <td>Yugoslavs</td>\n",
       "      <td>[/m/07gx0c]</td>\n",
       "      <td>[25.0]</td>\n",
       "    </tr>\n",
       "    <tr>\n",
       "      <th>3</th>\n",
       "      <td>/m/010xjr</td>\n",
       "      <td>Richard Harris</td>\n",
       "      <td>1930-10-01</td>\n",
       "      <td>M</td>\n",
       "      <td>1.85</td>\n",
       "      <td>Irish people</td>\n",
       "      <td>[/m/0c_6bf, /m/078mm1, /m/03qfyt, /m/0cz7_4w, ...</td>\n",
       "      <td>[66.0, 46.0, &lt;NA&gt;, 59.0, 48.0, 39.0, 66.0, 50....</td>\n",
       "    </tr>\n",
       "    <tr>\n",
       "      <th>4</th>\n",
       "      <td>/m/0112yl</td>\n",
       "      <td>Toshiro Mifune</td>\n",
       "      <td>1920-04-01</td>\n",
       "      <td>M</td>\n",
       "      <td>1.74</td>\n",
       "      <td>None</td>\n",
       "      <td>[/m/0513nd, /m/05c2g3q, /m/04wjg1, /m/01tch8, ...</td>\n",
       "      <td>[31.0, 42.0, 45.0, 41.0, 62.0, 29.0, 30.0, 38....</td>\n",
       "    </tr>\n",
       "  </tbody>\n",
       "</table>\n",
       "</div>"
      ],
      "text/plain": [
       "  Freebase_actor_ID      actor_name   actor_DOB actor_gender actor_height  \\\n",
       "0          /m/010p3    Adam Carolla  1964-05-27            M         1.88   \n",
       "1         /m/010q36     Fred Rogers  1928-03-20            M          NaN   \n",
       "2          /m/010wx   Aria Giovanni  1977-11-03            F         1.68   \n",
       "3         /m/010xjr  Richard Harris  1930-10-01            M         1.85   \n",
       "4         /m/0112yl  Toshiro Mifune  1920-04-01            M         1.74   \n",
       "\n",
       "           ethnicity                                  Freebase_movie_ID  \\\n",
       "0  Italian Americans  [/m/0bq2wj, /m/08hjr9, /m/06zm9p7, /m/06c5z_, ...   \n",
       "1               None                                        [/m/033pf1]   \n",
       "2          Yugoslavs                                        [/m/07gx0c]   \n",
       "3       Irish people  [/m/0c_6bf, /m/078mm1, /m/03qfyt, /m/0cz7_4w, ...   \n",
       "4               None  [/m/0513nd, /m/05c2g3q, /m/04wjg1, /m/01tch8, ...   \n",
       "\n",
       "                            actor_age_atmovierelease  \n",
       "0  [35.0, 35.0, 45.0, 33.0, 33.0, 34.0, 42.0, 35....  \n",
       "1                                             [67.0]  \n",
       "2                                             [25.0]  \n",
       "3  [66.0, 46.0, <NA>, 59.0, 48.0, 39.0, 66.0, 50....  \n",
       "4  [31.0, 42.0, 45.0, 41.0, 62.0, 29.0, 30.0, 38....  "
      ]
     },
     "execution_count": 5,
     "metadata": {},
     "output_type": "execute_result"
    }
   ],
   "source": [
    "Actor.head()"
   ]
  },
  {
   "cell_type": "code",
   "execution_count": 6,
   "id": "fe4b7d56-6d82-47e1-8c6d-b3030d57c58c",
   "metadata": {},
   "outputs": [
    {
     "data": {
      "text/html": [
       "<div>\n",
       "<style scoped>\n",
       "    .dataframe tbody tr th:only-of-type {\n",
       "        vertical-align: middle;\n",
       "    }\n",
       "\n",
       "    .dataframe tbody tr th {\n",
       "        vertical-align: top;\n",
       "    }\n",
       "\n",
       "    .dataframe thead th {\n",
       "        text-align: right;\n",
       "    }\n",
       "</style>\n",
       "<table border=\"1\" class=\"dataframe\">\n",
       "  <thead>\n",
       "    <tr style=\"text-align: right;\">\n",
       "      <th></th>\n",
       "      <th>IMDb_director_ID</th>\n",
       "      <th>director_name</th>\n",
       "      <th>birthYear_director</th>\n",
       "      <th>deathYear_director</th>\n",
       "      <th>Freebase_movie_ID</th>\n",
       "      <th>age_at_movie_release</th>\n",
       "    </tr>\n",
       "  </thead>\n",
       "  <tbody>\n",
       "    <tr>\n",
       "      <th>0</th>\n",
       "      <td>nm0000005</td>\n",
       "      <td>Ingmar Bergman</td>\n",
       "      <td>1918.0</td>\n",
       "      <td>2007</td>\n",
       "      <td>[/m/02r9cv1, /m/05nrqp, /m/05ppr_, /m/027yppr,...</td>\n",
       "      <td>[28.0, 28.0, 29.0, 30.0, 30.0, 31.0, 31.0, 32....</td>\n",
       "    </tr>\n",
       "    <tr>\n",
       "      <th>1</th>\n",
       "      <td>nm0000008</td>\n",
       "      <td>Marlon Brando</td>\n",
       "      <td>1924.0</td>\n",
       "      <td>2004</td>\n",
       "      <td>[/m/02616b]</td>\n",
       "      <td>[37.0]</td>\n",
       "    </tr>\n",
       "    <tr>\n",
       "      <th>2</th>\n",
       "      <td>nm0000009</td>\n",
       "      <td>Richard Burton</td>\n",
       "      <td>1925.0</td>\n",
       "      <td>1984</td>\n",
       "      <td>[/m/095s_p]</td>\n",
       "      <td>[42.0]</td>\n",
       "    </tr>\n",
       "    <tr>\n",
       "      <th>3</th>\n",
       "      <td>nm0000018</td>\n",
       "      <td>Kirk Douglas</td>\n",
       "      <td>1916.0</td>\n",
       "      <td>2020</td>\n",
       "      <td>[/m/04f5xbz, /m/0h3ph1j]</td>\n",
       "      <td>[59.0, 57.0]</td>\n",
       "    </tr>\n",
       "    <tr>\n",
       "      <th>4</th>\n",
       "      <td>nm0000019</td>\n",
       "      <td>Federico Fellini</td>\n",
       "      <td>1920.0</td>\n",
       "      <td>1993</td>\n",
       "      <td>[/m/09rwr0, /m/0b0gjq, /m/09sgmx, /m/074x3d, /...</td>\n",
       "      <td>[30.0, 33.0, 33.0, 34.0, 40.0, 42.0, 43.0, 45....</td>\n",
       "    </tr>\n",
       "  </tbody>\n",
       "</table>\n",
       "</div>"
      ],
      "text/plain": [
       "  IMDb_director_ID     director_name  birthYear_director deathYear_director  \\\n",
       "0        nm0000005    Ingmar Bergman              1918.0               2007   \n",
       "1        nm0000008     Marlon Brando              1924.0               2004   \n",
       "2        nm0000009    Richard Burton              1925.0               1984   \n",
       "3        nm0000018      Kirk Douglas              1916.0               2020   \n",
       "4        nm0000019  Federico Fellini              1920.0               1993   \n",
       "\n",
       "                                   Freebase_movie_ID  \\\n",
       "0  [/m/02r9cv1, /m/05nrqp, /m/05ppr_, /m/027yppr,...   \n",
       "1                                        [/m/02616b]   \n",
       "2                                        [/m/095s_p]   \n",
       "3                           [/m/04f5xbz, /m/0h3ph1j]   \n",
       "4  [/m/09rwr0, /m/0b0gjq, /m/09sgmx, /m/074x3d, /...   \n",
       "\n",
       "                                age_at_movie_release  \n",
       "0  [28.0, 28.0, 29.0, 30.0, 30.0, 31.0, 31.0, 32....  \n",
       "1                                             [37.0]  \n",
       "2                                             [42.0]  \n",
       "3                                       [59.0, 57.0]  \n",
       "4  [30.0, 33.0, 33.0, 34.0, 40.0, 42.0, 43.0, 45....  "
      ]
     },
     "execution_count": 6,
     "metadata": {},
     "output_type": "execute_result"
    }
   ],
   "source": [
    "Director = create_Director_profile(Movie)\n",
    "Director.head()"
   ]
  },
  {
   "cell_type": "markdown",
   "id": "38af8037-be6d-4314-bd8c-2f347867bec4",
   "metadata": {},
   "source": [
    "## 1. Pre-processing of the dataframe"
   ]
  },
  {
   "cell_type": "markdown",
   "id": "3c1d0ecc-5e13-4ab3-9337-38c14128e734",
   "metadata": {},
   "source": [
    "In this section, we will apply the previously defined function in order to gain more information about our dataframe. Information such as the starting age of the career or the number of films played per genre will be computed using others informations in the respective dataframe of the actors and directors.\n",
    "\n",
    "An important additional note is that throughout the notebook, the metrics related to actors will only be calculated for actors which played in at least 5 movies. This also applies for later when the bipartite network between actors and film for actors will be computed. This is justified and motivated by the following reasons :</br>\n",
    "Firstly, it is that being in at least 5 movies can be considered as a characterics that is common to successfull actors. Indeed, a \"true\" actor will not only participate in 2 or 3 movies if he plan on having a career. His goal would be to participate in multiple movies.</br>\n",
    "Secondly, an actor which only participate in one movie is pretty common. Adding an actor which only played in one movie is not relevant as this person may have been a figurant in a movie and hence is not really part of the film industry. This is not relevant with the aspect of our study.</br>\n",
    "Finally, it also reduce the necessary computing time of the code. Computing the network of all actors through their relation based on their movie can be rather long and if not information can be obtained for actors who only participate in one movie then it is not worth to add them to the network.\n",
    "\n",
    "Later on, as we determine what are the characteristics of a successful actor, this threshold may by updated and increased. This same process will not be applied to the directors because the purpose is to determine the successfull directors in function of the actors. Hence, the list of directors will be found from the remaining actors. "
   ]
  },
  {
   "cell_type": "code",
   "execution_count": 7,
   "id": "2c2a114f-45b8-4b85-bdc0-b83120e9f7b4",
   "metadata": {},
   "outputs": [],
   "source": [
    "# Applying different function to the actor in order to obtain new information \n",
    "\n",
    "# Computing the starting age of their career\n",
    "Actor = Actor_age_start(Actor)\n",
    "# Finding the ratings of all of their movies\n",
    "Actor = Actor_ratings(Actor,Movie)\n",
    "# Computing their mean rating based on their movies\n",
    "Actor = Actor_mean_rating(Actor)"
   ]
  },
  {
   "cell_type": "code",
   "execution_count": 8,
   "id": "129bda54-dfd4-421a-b6b5-4990c5d8d959",
   "metadata": {},
   "outputs": [
    {
     "name": "stdout",
     "output_type": "stream",
     "text": [
      "The total number of actors is : 135760\n",
      "The total number of missing values in each column is :\n"
     ]
    },
    {
     "data": {
      "text/plain": [
       "Freebase_actor_ID                0\n",
       "actor_name                     338\n",
       "actor_DOB                    77187\n",
       "actor_gender                 38377\n",
       "actor_height                122904\n",
       "ethnicity                   127865\n",
       "Freebase_movie_ID                0\n",
       "actor_age_atmovierelease         0\n",
       "Career_Start_age             83923\n",
       "Ratings                          0\n",
       "Mean_Rating                  40422\n",
       "dtype: int64"
      ]
     },
     "execution_count": 8,
     "metadata": {},
     "output_type": "execute_result"
    }
   ],
   "source": [
    "# Verifying the number of missing values\n",
    "print(f\"The total number of actors is : {Actor.shape[0]}\")\n",
    "print(f\"The total number of missing values in each column is :\")\n",
    "Actor.isna().sum()"
   ]
  },
  {
   "cell_type": "code",
   "execution_count": 9,
   "id": "4a54da30-4cd5-4a97-807b-fde36e81302c",
   "metadata": {},
   "outputs": [
    {
     "name": "stdout",
     "output_type": "stream",
     "text": [
      "The total number of actors which played in 5 films is : 19472\n",
      "This represents 14.34% of the total numbers of actors\n",
      "The total number of missing values in each column is for this new dataframe is :\n"
     ]
    },
    {
     "data": {
      "text/plain": [
       "Freebase_actor_ID               0\n",
       "actor_name                      6\n",
       "actor_DOB                    1607\n",
       "actor_gender                  217\n",
       "actor_height                12318\n",
       "ethnicity                   15149\n",
       "Freebase_movie_ID               0\n",
       "actor_age_atmovierelease        0\n",
       "Career_Start_age             3332\n",
       "Ratings                         0\n",
       "Mean_Rating                 13542\n",
       "dtype: int64"
      ]
     },
     "execution_count": 9,
     "metadata": {},
     "output_type": "execute_result"
    }
   ],
   "source": [
    "# Filter actors who have played in at least 5 films\n",
    "Actor_5 = Actor[Actor['actor_age_atmovierelease'].apply(len) >= 5]\n",
    "\n",
    "# Verifying the number of missing values\n",
    "print(f\"The total number of actors which played in 5 films is : {Actor_5.shape[0]}\")\n",
    "print(f\"This represents {Actor_5.shape[0]/Actor.shape[0]:.2%} of the total numbers of actors\")\n",
    "print(f\"The total number of missing values in each column is for this new dataframe is :\")\n",
    "Actor_5.isna().sum()"
   ]
  },
  {
   "cell_type": "markdown",
   "id": "1afd071c-8a41-4c27-9e3b-a17cf67b98c9",
   "metadata": {},
   "source": [
    "A lot of actors were dropped from the dataframe, as expected. As a comparaison, even by keeping only the actors which have played in at least two movies, the total proportion that is kept from the original dataframe is only 36%. As can be seen, by dropping actors which did not played in a lot of movies, a lot less values are missing from each of the columns meaning that the actors which played in more movies have more information about them available. This is good as doing analysis on empty columns would be less interesting and harder."
   ]
  },
  {
   "cell_type": "code",
   "execution_count": 10,
   "id": "4bccf4fd-c520-4c41-9159-7502de50cc5c",
   "metadata": {},
   "outputs": [],
   "source": [
    "# Applying different function to the director in order to obtain new information \n",
    "\n",
    "# Computing the starting age of their career\n",
    "Director = Director_age_start(Director)\n",
    "# Finding the ratings of all of their movies\n",
    "Director = Director_ratings(Director,Movie)\n",
    "# Computing their mean rating based on their movies\n",
    "Director = Director_mean_rating(Director)"
   ]
  },
  {
   "cell_type": "code",
   "execution_count": 11,
   "id": "e85ff3ac-3320-4ea1-a541-8cfa49f27ab7",
   "metadata": {},
   "outputs": [
    {
     "name": "stdout",
     "output_type": "stream",
     "text": [
      "The total number of directors is : 23518\n",
      "The total number of missing values in each column is :\n"
     ]
    },
    {
     "data": {
      "text/plain": [
       "IMDb_director_ID            0\n",
       "director_name               0\n",
       "birthYear_director       9884\n",
       "deathYear_director          0\n",
       "Freebase_movie_ID           0\n",
       "age_at_movie_release        0\n",
       "Career_Start_age        10340\n",
       "Ratings                     0\n",
       "Mean_Rating              2245\n",
       "dtype: int64"
      ]
     },
     "execution_count": 11,
     "metadata": {},
     "output_type": "execute_result"
    }
   ],
   "source": [
    "# Verifying the number of missing values\n",
    "print(f\"The total number of directors is : {Director.shape[0]}\")\n",
    "print(f\"The total number of missing values in each column is :\")\n",
    "Director.isna().sum()"
   ]
  },
  {
   "cell_type": "markdown",
   "id": "224a9ec7-b9d4-4e3f-bc9e-4f8d02fa8047",
   "metadata": {},
   "source": [
    "As can be seen there is less values missing in the director dataframe. This was expected as every directors is \"important\", on the oppostite, actors can be figurant and hence less informations are known about them.\n",
    "\n",
    "We will now compute the number of movies per genre and also their ratings as well as the number of movies per genre per actor and their ratings depending on the genre. This is motivated by the fact that depending on the genre, the average ratings may be below or above the total average (for example, comedic films tends to have lower ratings, nevertheless famous comedic actors can still be considered successfull despite a low ratings). Based on this fact, if we want to use the metrics of the ratings to determine the relative success of an actors with respect to its genre, we also need its ratings per genre. This will also help determine what specific genre of movies is an actor related to. Some actors only do action or drama or comedic movies. "
   ]
  },
  {
   "cell_type": "code",
   "execution_count": 12,
   "id": "6fe7f6e1-87f4-4c75-a728-9c8ec7efe408",
   "metadata": {},
   "outputs": [
    {
     "name": "stdout",
     "output_type": "stream",
     "text": [
      "The total number of genres is : 361\n",
      "The total number of movies is : 61042\n",
      "Computation time:32.32\n"
     ]
    }
   ],
   "source": [
    "# Computing the metrics related to the number of movie per genre and number of film per genre per actor\n",
    "start_time = time.time()\n",
    "Actor_genre = Actor_genre_count_ratings(Actor_5, Movie,min_movies=5)\n",
    "Genre_counts = Number_per_genre(Movie, Min_movie=0)\n",
    "print(f\"The total number of genres is : {Genre_counts.shape[0]}\")\n",
    "print(f\"The total number of movies is : {Movie.shape[0]}\")\n",
    "end_time = time.time()\n",
    "print(f\"Computation time:{time.time()-start_time:.2f}\")"
   ]
  },
  {
   "cell_type": "code",
   "execution_count": 13,
   "id": "3181ec20-a605-40df-9b2b-415fd8e93024",
   "metadata": {},
   "outputs": [
    {
     "data": {
      "text/html": [
       "<div>\n",
       "<style scoped>\n",
       "    .dataframe tbody tr th:only-of-type {\n",
       "        vertical-align: middle;\n",
       "    }\n",
       "\n",
       "    .dataframe tbody tr th {\n",
       "        vertical-align: top;\n",
       "    }\n",
       "\n",
       "    .dataframe thead th {\n",
       "        text-align: right;\n",
       "    }\n",
       "</style>\n",
       "<table border=\"1\" class=\"dataframe\">\n",
       "  <thead>\n",
       "    <tr style=\"text-align: right;\">\n",
       "      <th></th>\n",
       "      <th>Movie_genres</th>\n",
       "      <th>Count</th>\n",
       "      <th>Average rating</th>\n",
       "    </tr>\n",
       "  </thead>\n",
       "  <tbody>\n",
       "    <tr>\n",
       "      <th>0</th>\n",
       "      <td>Drama</td>\n",
       "      <td>28914</td>\n",
       "      <td>6.397012</td>\n",
       "    </tr>\n",
       "    <tr>\n",
       "      <th>1</th>\n",
       "      <td>Comedy</td>\n",
       "      <td>12561</td>\n",
       "      <td>6.085487</td>\n",
       "    </tr>\n",
       "    <tr>\n",
       "      <th>2</th>\n",
       "      <td>Romance Film</td>\n",
       "      <td>9255</td>\n",
       "      <td>6.235040</td>\n",
       "    </tr>\n",
       "    <tr>\n",
       "      <th>3</th>\n",
       "      <td>Action</td>\n",
       "      <td>7468</td>\n",
       "      <td>5.849952</td>\n",
       "    </tr>\n",
       "    <tr>\n",
       "      <th>4</th>\n",
       "      <td>Thriller</td>\n",
       "      <td>7333</td>\n",
       "      <td>5.950014</td>\n",
       "    </tr>\n",
       "  </tbody>\n",
       "</table>\n",
       "</div>"
      ],
      "text/plain": [
       "   Movie_genres  Count  Average rating\n",
       "0         Drama  28914        6.397012\n",
       "1        Comedy  12561        6.085487\n",
       "2  Romance Film   9255        6.235040\n",
       "3        Action   7468        5.849952\n",
       "4      Thriller   7333        5.950014"
      ]
     },
     "execution_count": 13,
     "metadata": {},
     "output_type": "execute_result"
    }
   ],
   "source": [
    "Genre_counts.head()"
   ]
  },
  {
   "cell_type": "code",
   "execution_count": 14,
   "id": "99fdb0f8-12fe-4245-82a9-895bea9b23d3",
   "metadata": {},
   "outputs": [
    {
     "data": {
      "text/html": [
       "<div>\n",
       "<style scoped>\n",
       "    .dataframe tbody tr th:only-of-type {\n",
       "        vertical-align: middle;\n",
       "    }\n",
       "\n",
       "    .dataframe tbody tr th {\n",
       "        vertical-align: top;\n",
       "    }\n",
       "\n",
       "    .dataframe thead th {\n",
       "        text-align: right;\n",
       "    }\n",
       "</style>\n",
       "<table border=\"1\" class=\"dataframe\">\n",
       "  <thead>\n",
       "    <tr style=\"text-align: right;\">\n",
       "      <th></th>\n",
       "      <th>Top_1_Genre</th>\n",
       "      <th>Top_1_Number</th>\n",
       "      <th>Top_1_Rating</th>\n",
       "    </tr>\n",
       "    <tr>\n",
       "      <th>Freebase_actor_ID</th>\n",
       "      <th></th>\n",
       "      <th></th>\n",
       "      <th></th>\n",
       "    </tr>\n",
       "  </thead>\n",
       "  <tbody>\n",
       "    <tr>\n",
       "      <th>/m/010p3</th>\n",
       "      <td>Romance Film</td>\n",
       "      <td>8</td>\n",
       "      <td>5.000000</td>\n",
       "    </tr>\n",
       "    <tr>\n",
       "      <th>/m/010xjr</th>\n",
       "      <td>Adventure</td>\n",
       "      <td>33</td>\n",
       "      <td>6.568421</td>\n",
       "    </tr>\n",
       "    <tr>\n",
       "      <th>/m/0112yl</th>\n",
       "      <td>Japanese Movies</td>\n",
       "      <td>36</td>\n",
       "      <td>7.476471</td>\n",
       "    </tr>\n",
       "    <tr>\n",
       "      <th>/m/011_3s</th>\n",
       "      <td>Drama</td>\n",
       "      <td>26</td>\n",
       "      <td>6.444444</td>\n",
       "    </tr>\n",
       "    <tr>\n",
       "      <th>/m/011_c4</th>\n",
       "      <td>Crime Fiction</td>\n",
       "      <td>7</td>\n",
       "      <td>6.666667</td>\n",
       "    </tr>\n",
       "  </tbody>\n",
       "</table>\n",
       "</div>"
      ],
      "text/plain": [
       "                       Top_1_Genre Top_1_Number  Top_1_Rating\n",
       "Freebase_actor_ID                                            \n",
       "/m/010p3              Romance Film            8      5.000000\n",
       "/m/010xjr                Adventure           33      6.568421\n",
       "/m/0112yl          Japanese Movies           36      7.476471\n",
       "/m/011_3s                    Drama           26      6.444444\n",
       "/m/011_c4            Crime Fiction            7      6.666667"
      ]
     },
     "execution_count": 14,
     "metadata": {},
     "output_type": "execute_result"
    }
   ],
   "source": [
    "Actor_genre.head()"
   ]
  },
  {
   "cell_type": "code",
   "execution_count": 15,
   "id": "64260b7c-b576-498c-9893-750c5d87bb9f",
   "metadata": {},
   "outputs": [
    {
     "data": {
      "text/plain": [
       "1894missjerry                       Short Film, Silent film, Indie, Black-and-white\n",
       "1897thecorbettfitzsimmonsfight                                               Sports\n",
       "1906thestoryofthekellygang        Crime Fiction, Silent film, Biography, Indie, ...\n",
       "1908hamlet                                                       Silent film, Drama\n",
       "1908thefairylogueandradioplays                         Silent film, Black-and-white\n",
       "Name: Movie_genres, dtype: object"
      ]
     },
     "execution_count": 15,
     "metadata": {},
     "output_type": "execute_result"
    }
   ],
   "source": [
    "Movie['Movie_genres'].head()"
   ]
  },
  {
   "cell_type": "markdown",
   "id": "02f23e8f-8113-42a2-8e6c-de77b87ef3f9",
   "metadata": {},
   "source": [
    "As can be seen from above, there is in 361 different genres of movies. This is quite large and some genre are quite specific (for example there is LGBTQ, Gay and Gay interest but all Gay and Gay interest are also labelled as LGBTQ). In addition to that, some movies possessed multiple genres, certain 5 others only 1. Due to these reasons, it was decided to only considers the genre where there was at least a specific number of movies.</br>\n",
    "By doing so, only the most relevant and \"common/basic\" genres will be kept. This will facilitate the analysis in order to determine the successfullness of an actor and the \"type of actor\" they are. Indeed, actor tends to play certain type of role and to stay in certain genre of movie. (mettre une source ou bien raf common sense ???) Due to that, only having relatively \"basic\" genre is useful as it is simpler to compare actors between them. In order to determine the right threshold, the elbow method was applied."
   ]
  },
  {
   "cell_type": "code",
   "execution_count": 16,
   "id": "22825452-56ad-4597-ad40-f4ea270153f0",
   "metadata": {},
   "outputs": [
    {
     "data": {
      "image/png": "[encoded data removed]",
      "text/plain": [
       "<Figure size 800x600 with 1 Axes>"
      ]
     },
     "metadata": {},
     "output_type": "display_data"
    }
   ],
   "source": [
    "# Elbow method to determine the best threshold for the number of movies per genre\n",
    "total_genres_per_number  = []\n",
    "Number_of_movies = []\n",
    "\n",
    "# Compute the number of genres of movies for a specific number and add the result to a list\n",
    "for i in range(20):\n",
    "    a = i*50\n",
    "    genre_counts = Number_per_genre(Movie, Min_movie=a)\n",
    "    total_genres_per_number.append(len(genre_counts))\n",
    "    Number_of_movies.append(a)\n",
    "\n",
    "# Plot of the elbow method\n",
    "plt.figure(figsize=(8, 6))\n",
    "plt.plot(Number_of_movies, total_genres_per_number, marker='o', linestyle='-', color='b', label='Total Genres')\n",
    "plt.title('Elbow method', fontsize=14)\n",
    "plt.xlabel('Minimum Movies per Genre', fontsize=12)\n",
    "plt.ylabel('Total Number of Genres still present', fontsize=12)\n",
    "plt.grid(True)\n",
    "plt.legend()\n",
    "plt.show()"
   ]
  },
  {
   "cell_type": "markdown",
   "id": "955a2593-445f-4690-b135-eeea3546adcc",
   "metadata": {},
   "source": [
    "As can be seen from the plot above, the elbow happens between 150 and 200 movies. Consequently, it was decided to only keep the genre with more than 200 movies"
   ]
  },
  {
   "cell_type": "code",
   "execution_count": 17,
   "id": "ffe3bc96-4001-4b91-891d-0478455f2849",
   "metadata": {},
   "outputs": [
    {
     "name": "stdout",
     "output_type": "stream",
     "text": [
      "There is 94 genres with at least 200 movies\n"
     ]
    },
    {
     "data": {
      "text/html": [
       "<div>\n",
       "<style scoped>\n",
       "    .dataframe tbody tr th:only-of-type {\n",
       "        vertical-align: middle;\n",
       "    }\n",
       "\n",
       "    .dataframe tbody tr th {\n",
       "        vertical-align: top;\n",
       "    }\n",
       "\n",
       "    .dataframe thead th {\n",
       "        text-align: right;\n",
       "    }\n",
       "</style>\n",
       "<table border=\"1\" class=\"dataframe\">\n",
       "  <thead>\n",
       "    <tr style=\"text-align: right;\">\n",
       "      <th></th>\n",
       "      <th>Movie_genres</th>\n",
       "      <th>Count</th>\n",
       "      <th>Average rating</th>\n",
       "    </tr>\n",
       "  </thead>\n",
       "  <tbody>\n",
       "    <tr>\n",
       "      <th>0</th>\n",
       "      <td>Drama</td>\n",
       "      <td>28914</td>\n",
       "      <td>6.397012</td>\n",
       "    </tr>\n",
       "    <tr>\n",
       "      <th>1</th>\n",
       "      <td>Comedy</td>\n",
       "      <td>12561</td>\n",
       "      <td>6.085487</td>\n",
       "    </tr>\n",
       "    <tr>\n",
       "      <th>2</th>\n",
       "      <td>Romance Film</td>\n",
       "      <td>9255</td>\n",
       "      <td>6.235040</td>\n",
       "    </tr>\n",
       "    <tr>\n",
       "      <th>3</th>\n",
       "      <td>Action</td>\n",
       "      <td>7468</td>\n",
       "      <td>5.849952</td>\n",
       "    </tr>\n",
       "    <tr>\n",
       "      <th>4</th>\n",
       "      <td>Thriller</td>\n",
       "      <td>7333</td>\n",
       "      <td>5.950014</td>\n",
       "    </tr>\n",
       "    <tr>\n",
       "      <th>5</th>\n",
       "      <td>World cinema</td>\n",
       "      <td>6759</td>\n",
       "      <td>6.470132</td>\n",
       "    </tr>\n",
       "    <tr>\n",
       "      <th>6</th>\n",
       "      <td>Black-and-white</td>\n",
       "      <td>6501</td>\n",
       "      <td>6.455730</td>\n",
       "    </tr>\n",
       "    <tr>\n",
       "      <th>7</th>\n",
       "      <td>Crime Fiction</td>\n",
       "      <td>6154</td>\n",
       "      <td>6.196113</td>\n",
       "    </tr>\n",
       "    <tr>\n",
       "      <th>8</th>\n",
       "      <td>Indie</td>\n",
       "      <td>4753</td>\n",
       "      <td>6.106063</td>\n",
       "    </tr>\n",
       "    <tr>\n",
       "      <th>9</th>\n",
       "      <td>Adventure</td>\n",
       "      <td>4096</td>\n",
       "      <td>5.979210</td>\n",
       "    </tr>\n",
       "  </tbody>\n",
       "</table>\n",
       "</div>"
      ],
      "text/plain": [
       "      Movie_genres  Count  Average rating\n",
       "0            Drama  28914        6.397012\n",
       "1           Comedy  12561        6.085487\n",
       "2     Romance Film   9255        6.235040\n",
       "3           Action   7468        5.849952\n",
       "4         Thriller   7333        5.950014\n",
       "5     World cinema   6759        6.470132\n",
       "6  Black-and-white   6501        6.455730\n",
       "7    Crime Fiction   6154        6.196113\n",
       "8            Indie   4753        6.106063\n",
       "9        Adventure   4096        5.979210"
      ]
     },
     "execution_count": 17,
     "metadata": {},
     "output_type": "execute_result"
    }
   ],
   "source": [
    "# Computing the final number of genres for 200 films\n",
    "Genre_counts_200 = Number_per_genre(Movie, Min_movie=200)\n",
    "print(f\"There is {Genre_counts_200.shape[0]} genres with at least 200 movies\")\n",
    "Genre_counts_200.head(10)"
   ]
  },
  {
   "cell_type": "markdown",
   "id": "76d82f2a-2145-4157-9b2e-a0221ef0a584",
   "metadata": {},
   "source": [
    "We must now compare the results of the ratings of actor by genre and verify that the same number of actor are present in `Actor_5` and `Actor_genre`. Then we must verify that all the primary genre of each actors is also in our list of genres. "
   ]
  },
  {
   "cell_type": "code",
   "execution_count": 18,
   "id": "b5048098-e8b9-4a8f-8f7e-f3a8aef39c45",
   "metadata": {},
   "outputs": [
    {
     "name": "stdout",
     "output_type": "stream",
     "text": [
      "Number of actor that have played 5 films an have their top 5 genre available : 19322\n",
      "Number of actor that have played 5 films : 19472\n",
      "Difference : 150\n"
     ]
    }
   ],
   "source": [
    "print(f\"Number of actor that have played 5 films an have their top 5 genre available : {Actor_genre.shape[0]}\")\n",
    "print(f\"Number of actor that have played 5 films : {Actor_5.shape[0]}\")\n",
    "print(f\"Difference : {Actor_5.shape[0] - Actor_genre.shape[0]}\")"
   ]
  },
  {
   "cell_type": "code",
   "execution_count": 19,
   "id": "3d5a9d92-c4fc-47cc-8c72-30741a12064a",
   "metadata": {},
   "outputs": [
    {
     "name": "stdout",
     "output_type": "stream",
     "text": [
      "Number of actors which their primary genre is not present : 121\n"
     ]
    }
   ],
   "source": [
    "# verify that each top genres is also in our genre with more than 200 movies\n",
    "df = pd.DataFrame(np.where(Actor_genre['Top_1_Genre'].isin(Genre_counts['Movie_genres']), Actor_genre['Top_1_Genre'], 'NO_MATCH'), index=Actor_genre.index)\n",
    "\n",
    "print(f\"Number of actors which their primary genre is not present : {df[df[0]=='NO_MATCH'].shape[0]}\")"
   ]
  },
  {
   "cell_type": "markdown",
   "id": "45bbb454-f137-48b8-8c4b-f50083ec76ef",
   "metadata": {},
   "source": [
    "We lost 150 actors because their genre was not determine and it seems that an additional 50 actors were lost as their top genre did not have at least 200 movies. We can now compute the final dataset of actors that will be used to determine wether or no they are successfull. "
   ]
  },
  {
   "cell_type": "code",
   "execution_count": 20,
   "id": "4e9060b9-94b7-4339-b66e-dd85465a19c0",
   "metadata": {},
   "outputs": [],
   "source": [
    "# Dropping the actor from which we do not know their top genres\n",
    "Actor_5_bis = Actor_5.set_index(Actor_5['Freebase_actor_ID'])\n",
    "Actor_final_1 = Actor_5_bis.loc[Actor_genre.index]\n",
    "\n",
    "# Dropping the actor from which their top genre is not in our list of top genres\n",
    "to_drop = df[df[0]=='NO_MATCH'].index\n",
    "Actor_final =  Actor_final_1.drop(to_drop)\n",
    "\n",
    "# Dropping in the actor_genre dataframe the actor which their top genre is not present in the genre counts\n",
    "Actor_genre_final =  Actor_genre.drop(to_drop)"
   ]
  },
  {
   "cell_type": "code",
   "execution_count": 21,
   "id": "c2acbb67-9baa-4c73-ae1c-ab117980974d",
   "metadata": {},
   "outputs": [
    {
     "name": "stdout",
     "output_type": "stream",
     "text": [
      "In the end, we have 19201 actors out of the 135760 at beginning, this represents 14.14% of the original dataset\n",
      "116288 were dropped because they did not participate in at least 5 movies, this represents 85.66% of the original dataset\n",
      "150 were dropped we did not know their genre, this represents 0.11% of the original dataset\n",
      "121 were dropped because their top genre did not have at least 200 movies, this represents 0.09% of the original dataset\n"
     ]
    }
   ],
   "source": [
    "print(f\"In the end, we have {Actor_final.shape[0]} actors out of the {Actor.shape[0]} at beginning, this represents {1-(Actor.shape[0] - Actor_final.shape[0])/Actor.shape[0]:.2%} of the original dataset\")\n",
    "print(f\"{Actor.shape[0] - Actor_5.shape[0]} were dropped because they did not participate in at least 5 movies, this represents {(Actor.shape[0] - Actor_5.shape[0])/Actor.shape[0]:.2%} of the original dataset\")\n",
    "print(f\"{Actor_5.shape[0] - Actor_final_1.shape[0]} were dropped we did not know their genre, this represents {(Actor_5.shape[0] - Actor_final_1.shape[0])/Actor.shape[0]:.2%} of the original dataset\")\n",
    "print(f\"{Actor_final_1.shape[0] - Actor_final.shape[0]} were dropped because their top genre did not have at least 200 movies, this represents {(Actor_final_1.shape[0] - Actor_final.shape[0])/Actor.shape[0]:.2%} of the original dataset\")"
   ]
  },
  {
   "cell_type": "markdown",
   "id": "02462375-c79c-4f78-9bba-15b32a7229d0",
   "metadata": {},
   "source": [
    "## 2. Computings metrics\n",
    "\n",
    "As mentionned previously, in order to determine when and how is an actor successful, multiple metrics will be computed in order to quantify this aspect. Here is a list of the metrics that we will be computing to help us determine the success of an actor : \n",
    "- Number of films played : the number of films played by the actor is important, a minimum threshold should be applied as an actor which only played in one movie is not relevant. The more an actor played means the more people are willing to work with him and also that he is good at what he does. In addition to that, it also prevents from taking into account actors which only participate in 2-3 movies as figurant and did not have a career nor were really part of the film industry. This was mostly done in the previous with taking into account only actors that have played in at least 5 movies, nevertheless it is possible that an even higher threshold is applied.\n",
    "\n",
    "- Number of edge (degree of a node) : potentially, a threshold should also be applied on the number of edge. This is important as a successfull actor should theoritically have a lot of relation due to the length of his career and the number of movies he played. Nevertheless, this value is linked with the number of movies in which the actor played. Indeed, the more the actor played in a movie, the more edge his node should have. Hence this constraints could overlap with the one on the number of films played. In addition to that, an actor could play in a lot of movies which do not contains a lot of actor, hence he would not have a lot of edge despite having played in quite a number of movies.\n",
    "\n",
    "- Centrality in a network : The centrality of a node in a network is quite an important metrics, it refers to the idea that a node in a graph is more central if it is connected to other important nodes. We will be using closeness centrality and eigenvector centrality in order to compute this metric. Eigenvector centrality is proportional to a location near the most significant nodes or communities in the graph. (https://www.sciencedirect.com/topics/computer-science/eigenvector-centrality)\n",
    "\n",
    "- Comparaison of the average rating of the actor and the average ratings global and per genre : the average rating of the actors as well as his rating depending of the genre of movie in which he played will also be analysed. If his average ratings per genre is superior to a certain proportion, then it can be assumed that he is a talented actor."
   ]
  },
  {
   "cell_type": "markdown",
   "id": "86f39ca6-cf14-4679-babc-052a138bb26b",
   "metadata": {},
   "source": [
    "### 2.1 Network for actors with at least 5 films\n",
    "\n",
    "We will now compute the network for actors which played in at least 5 movies. After that, different metrics of the network will be computed."
   ]
  },
  {
   "cell_type": "code",
   "execution_count": 22,
   "id": "1a91639b-86d9-40e1-9271-0b443115ab5e",
   "metadata": {},
   "outputs": [
    {
     "name": "stdout",
     "output_type": "stream",
     "text": [
      "Created graph with actors:\n"
     ]
    },
    {
     "name": "stderr",
     "output_type": "stream",
     "text": [
      "Creating network: 100%|████████████████| 58268/58268 [00:03<00:00, 16370.81it/s]\n",
      "Adding attributes: 283528it [00:12, 23293.96it/s]"
     ]
    },
    {
     "name": "stdout",
     "output_type": "stream",
     "text": [
      "Number of nodes (hence actor): 19181\n",
      "Number of edges: 817544\n",
      "Number of actor in total: 19201, hence we only have 99.90% of the total number of actors\n",
      "Computation time:16.57\n"
     ]
    },
    {
     "name": "stderr",
     "output_type": "stream",
     "text": [
      "\n"
     ]
    }
   ],
   "source": [
    "start_time = time.time()\n",
    "print(\"Created graph with actors:\")\n",
    "played_together = create_actor_network_2(Actor_final,Movie,5) \n",
    "\n",
    "#remove the nodes that are nans                \n",
    "nan_nodes = [node for node in played_together.nodes if pd.isna(node)] \n",
    "played_together.remove_nodes_from(nan_nodes)\n",
    "\n",
    "print(f\"Number of nodes (hence actor): {played_together.number_of_nodes()}\")\n",
    "print(f\"Number of edges: {played_together.number_of_edges()}\")\n",
    "print(f\"Number of actor in total: {Actor_final.shape[0]}, hence we only have {played_together.number_of_nodes()/Actor_final.shape[0]:.2%} of the total number of actors\")\n",
    "end_time = time.time()\n",
    "print(f\"Computation time:{time.time()-start_time:.2f}\")"
   ]
  },
  {
   "cell_type": "code",
   "execution_count": 23,
   "id": "b6139637-a0a5-40f9-811b-09ab40f9eb60",
   "metadata": {},
   "outputs": [
    {
     "name": "stdout",
     "output_type": "stream",
     "text": [
      "Computation time:0.01\n"
     ]
    }
   ],
   "source": [
    "start = time.time()\n",
    "degrees_actors = dict(played_together.degree())\n",
    "print(f\"Computation time:{time.time()-start:.2f}\")\n",
    "Actor_final[\"Degree_final\"] = Actor_final[\"Freebase_actor_ID\"].map(degrees_actors)"
   ]
  },
  {
   "cell_type": "markdown",
   "id": "78b62bb6-d485-4c2a-a789-2180205af048",
   "metadata": {},
   "source": [
    "La closeness centrality enfaite c'est degrees_actor, c'est assez marrant"
   ]
  },
  {
   "cell_type": "code",
   "execution_count": 24,
   "id": "d23e70d0-8f68-4861-add2-fc1f9fa96c27",
   "metadata": {},
   "outputs": [
    {
     "name": "stdout",
     "output_type": "stream",
     "text": [
      "Computation time:0.01\n"
     ]
    }
   ],
   "source": [
    "start = time.time()\n",
    "closeness_centrality = dict(played_together.degree())\n",
    "print(f\"Computation time:{time.time()-start:.2f}\")\n",
    "Actor_final[\"closeness_centrality_final\"] = Actor_final[\"Freebase_actor_ID\"].map(closeness_centrality)"
   ]
  },
  {
   "cell_type": "code",
   "execution_count": 25,
   "id": "a3e17e43-54c9-4c55-9a8f-2c942e0f36d0",
   "metadata": {},
   "outputs": [
    {
     "name": "stdout",
     "output_type": "stream",
     "text": [
      "Computation time:5.06\n"
     ]
    }
   ],
   "source": [
    "start = time.time()\n",
    "eigenvector_centrality_actors = nx.eigenvector_centrality(played_together) \n",
    "print(f\"Computation time:{time.time()-start:.2f}\")\n",
    "Actor_final[\"eigenvector_centrality_final\"] = Actor_final[\"Freebase_actor_ID\"].map(eigenvector_centrality_actors)"
   ]
  },
  {
   "cell_type": "markdown",
   "id": "1f851adf-306c-4dd3-af97-5f82c2ebe0ca",
   "metadata": {},
   "source": [
    "Les bails en-dessous ce serait cool des les calculer mais faut faire run durant toute la nuit => la Katz et Betweenness elle fonctionne pas même si on prend 50 (power iteration failed to converge after 1000)"
   ]
  },
  {
   "cell_type": "code",
   "execution_count": 26,
   "id": "17bb65c0-e959-4d1a-8715-5ad0bba1b1d4",
   "metadata": {},
   "outputs": [
    {
     "name": "stdout",
     "output_type": "stream",
     "text": [
      "Computation time:0.00\n"
     ]
    }
   ],
   "source": [
    "start = time.time()\n",
    "#harmonic_centrality_actors = nx.harmonic_centrality(played_together) \n",
    "print(f\"Computation time:{time.time()-start:.2f}\")\n",
    "#Actor_final[\"harmonic_centrality_final\"] = Actor_final[\"Freebase_actor_ID\"].map(harmonic_centrality_actors)"
   ]
  },
  {
   "cell_type": "markdown",
   "id": "0eb3e138-ebf2-4a64-8740-bbc1c8559cc5",
   "metadata": {},
   "source": [
    "## 3. What is a successfull actors\n",
    "\n",
    "Now that all the different metrics were computed, it is possible to determine what is a successfull actors and what are his characteristics. As explained previously, this will be done by comparing the metrics. First of all, it is necessary to compare the value of the metrics between the actors in order to determien threshold. The metrics : \n",
    "- Number of films played \n",
    "- Number of edge (degree of a node) \n",
    "- Centrality in a network (eigenvector, closeness, harmonic ???) \n",
    "- Comparaison of the average rating of the actor and the average ratings global and per genre\n",
    "\n",
    "It is important to keep in mind that some of the metrics below are only shown for actors that played at least in 5 movies. This means that the actor below are already in \"the top\" 15%, as actors with less than 5 movies represented 85% of the orginal dataset.\n",
    "\n",
    "Color code : \n",
    "- skyblue is for the actors with at least 5 films\n",
    "- lightcoral is for directors"
   ]
  },
  {
   "cell_type": "markdown",
   "id": "cd6b4813-d6df-4e86-b29d-748a9212f101",
   "metadata": {},
   "source": [
    "### 3.1 Degrees of an actor and number of films played"
   ]
  },
  {
   "cell_type": "code",
   "execution_count": 27,
   "id": "de8a0213-bb5e-4530-979f-c608b2abbae4",
   "metadata": {},
   "outputs": [
    {
     "data": {
      "image/png": "[encoded data removed]",
      "text/plain": [
       "<Figure size 1600x600 with 2 Axes>"
      ]
     },
     "metadata": {},
     "output_type": "display_data"
    }
   ],
   "source": [
    "data = Actor_final['Degree_final'].dropna()\n",
    "\n",
    "# mean and median\n",
    "mean_degree = np.mean(data)\n",
    "median_degree = np.median(data)\n",
    "\n",
    "fig, axes = plt.subplots(1, 2, figsize=(16, 6))\n",
    "\n",
    "# Actor Degree (linear scale)\n",
    "sns.histplot(data, bins=150, color='skyblue', ax=axes[0])\n",
    "axes[0].axvline(mean_degree, color='red', linestyle='--', linewidth=2, label='Mean')\n",
    "axes[0].axvline(median_degree, color='green', linestyle='-', linewidth=2, label='Median')\n",
    "axes[0].set_title('Degree Actor on Film', fontsize=14, fontweight=\"bold\")\n",
    "axes[0].set_xlabel('Degree', fontsize=12)\n",
    "axes[0].set_ylabel('Frequency', fontsize=12)\n",
    "axes[0].legend(fontsize=10)\n",
    "\n",
    "# Actor Degree (log scale)\n",
    "sns.histplot(data, bins=150, color='skyblue', ax=axes[1])\n",
    "axes[1].axvline(mean_degree, color='red', linestyle='--', linewidth=2, label='Mean')\n",
    "axes[1].axvline(median_degree, color='green', linestyle='-', linewidth=2, label='Median')\n",
    "axes[1].set_yscale('log')\n",
    "axes[1].set_title('Degree Actor on Film (Log Scale)', fontsize=14, fontweight=\"bold\")\n",
    "axes[1].set_xlabel('Degree', fontsize=12)\n",
    "axes[1].set_ylabel('Frequency', fontsize=12)\n",
    "axes[1].legend(fontsize=10)\n",
    "\n",
    "# Plot\n",
    "plt.tight_layout()\n",
    "plt.show()"
   ]
  },
  {
   "cell_type": "markdown",
   "id": "0bcde269-1b3a-4f6d-92c0-900a764cca66",
   "metadata": {},
   "source": [
    "As can be seen, the degree of actor when linked by the same is skewed to the right (positive skewed)."
   ]
  },
  {
   "cell_type": "code",
   "execution_count": 28,
   "id": "65f45692-bba9-4baf-9840-28971a7994a6",
   "metadata": {},
   "outputs": [
    {
     "name": "stdout",
     "output_type": "stream",
     "text": [
      "Describe of the degree of actor on film\n",
      "count    19181.000000\n",
      "mean        85.245191\n",
      "std         88.467410\n",
      "min          1.000000\n",
      "25%         32.000000\n",
      "50%         55.000000\n",
      "75%        104.000000\n",
      "max        888.000000\n",
      "Name: Degree_final, dtype: float64\n"
     ]
    }
   ],
   "source": [
    "# Computing and plotting some statistical values\n",
    "print('Describe of the degree of actor on film')\n",
    "print(Actor_final['Degree_final'].describe())"
   ]
  },
  {
   "cell_type": "markdown",
   "id": "f0e0f81b-f4b2-42ad-aaad-77507f5310f1",
   "metadata": {},
   "source": [
    "In order to put this number into perspective, we can compute the average number of actors per movies and then multiply this number by the number of films played by each actor and see if this values is similar or not to the degree of an actor. Theoritically, it should be, as an actor gains an edge with another actor for each movie they played together.  "
   ]
  },
  {
   "cell_type": "code",
   "execution_count": 29,
   "id": "4977f3bb-7690-44cd-8ee9-4a12a2c0a2d2",
   "metadata": {},
   "outputs": [
    {
     "data": {
      "image/png": "[encoded data removed]",
      "text/plain": [
       "<Figure size 1600x600 with 2 Axes>"
      ]
     },
     "metadata": {},
     "output_type": "display_data"
    }
   ],
   "source": [
    "Actor_bis = Actor_final.copy()\n",
    "Actor_bis_bis = Actor.copy()\n",
    "Director_bis = Director.copy()\n",
    "\n",
    "# Computing the number of films played (directed) by actors (directors)\n",
    "Actor_bis[\"Number_of_films\"] = Actor_bis[\"actor_age_atmovierelease\"].apply(len)\n",
    "Actor_bis_bis[\"Number_of_films\"] = Actor_bis_bis[\"actor_age_atmovierelease\"].apply(len)\n",
    "Director_bis[\"Number_of_films\"] = Director_bis[\"age_at_movie_release\"].apply(len)\n",
    "\n",
    "# mean and median\n",
    "mean_actor = np.mean(Actor_bis[\"Number_of_films\"])\n",
    "median_actor = np.median(Actor_bis[\"Number_of_films\"])\n",
    "\n",
    "mean_director = np.mean(Director_bis[\"Number_of_films\"])\n",
    "median_director = np.median(Director_bis[\"Number_of_films\"])\n",
    "\n",
    "# Plot\n",
    "fig, axes = plt.subplots(1, 2, figsize=(16, 6))\n",
    "\n",
    "# Actor age at movie release\n",
    "sns.histplot(Actor_bis[Actor_bis['Number_of_films']<200]['Number_of_films'], bins=200, color='skyblue', ax=axes[0])\n",
    "axes[0].set_yscale('log')\n",
    "axes[0].axvline(mean_actor, color='red', linestyle='--', linewidth=2, label='Mean')\n",
    "axes[0].axvline(median_actor, color='green', linestyle='-', linewidth=2, label='Median')\n",
    "axes[0].set_title('Distribution of number of films per actor',fontsize=14, fontweight=\"bold\")\n",
    "axes[0].set_xlabel('Number of movie',fontsize=12)\n",
    "axes[0].set_ylabel('Frequency',fontsize=12)\n",
    "axes[0].legend(fontsize=10)\n",
    "\n",
    "# Director age at movie release\n",
    "sns.histplot(Director_bis[Director_bis['Number_of_films']<200]['Number_of_films'], bins=175, color='lightcoral', ax=axes[1])\n",
    "axes[1].set_yscale('log')\n",
    "axes[1].axvline(mean_director, color='red', linestyle='--', linewidth=2, label='Mean')\n",
    "axes[1].axvline(median_director, color='green', linestyle='-', linewidth=2, label='Median')\n",
    "axes[1].set_title('Distribution of number of films per director', fontsize=14, fontweight=\"bold\")\n",
    "axes[1].set_xlabel('Number of movie', fontsize=12)\n",
    "axes[1].set_ylabel('Frequency', fontsize=12)\n",
    "axes[1].legend(fontsize=10)\n",
    "\n",
    "\n",
    "# Show the plot\n",
    "plt.tight_layout()\n",
    "plt.show()"
   ]
  },
  {
   "cell_type": "markdown",
   "id": "ca86a161-c8b0-4907-ab0c-e21b7f22b4cf",
   "metadata": {},
   "source": [
    "We only plot the people with less than 200 films played or directed as there are outliers with almost 800 movies played."
   ]
  },
  {
   "cell_type": "code",
   "execution_count": 30,
   "id": "c333a682-69df-44bb-aabc-b6e435bdb3e0",
   "metadata": {},
   "outputs": [
    {
     "name": "stdout",
     "output_type": "stream",
     "text": [
      "Describe of the degree of actor on film\n",
      "count    19181.000000\n",
      "mean        85.245191\n",
      "std         88.467410\n",
      "min          1.000000\n",
      "25%         32.000000\n",
      "50%         55.000000\n",
      "75%        104.000000\n",
      "max        888.000000\n",
      "Name: Degree_final, dtype: float64\n",
      "--------------\n",
      "Describe of the number of films per actor\n",
      "count    19201.000000\n",
      "mean        14.766314\n",
      "std         16.612596\n",
      "min          5.000000\n",
      "25%          6.000000\n",
      "50%          9.000000\n",
      "75%         17.000000\n",
      "max        791.000000\n",
      "Name: Number_of_films, dtype: float64\n",
      "--------------\n",
      "Describe of the number of films per director\n",
      "count    23518.000000\n",
      "mean         2.851050\n",
      "std          5.361242\n",
      "min          1.000000\n",
      "25%          1.000000\n",
      "50%          1.000000\n",
      "75%          2.000000\n",
      "max        167.000000\n",
      "Name: Number_of_films, dtype: float64\n"
     ]
    }
   ],
   "source": [
    "# Computing and plotting some statistical values\n",
    "print('Describe of the degree of actor on film')\n",
    "print(Actor_final['Degree_final'].describe())\n",
    "print('--------------')\n",
    "print('Describe of the number of films per actor')\n",
    "print(Actor_bis['Number_of_films'].describe())\n",
    "print('--------------')\n",
    "print('Describe of the number of films per director')\n",
    "print(Director_bis['Number_of_films'].describe())"
   ]
  },
  {
   "cell_type": "markdown",
   "id": "510ca01e-a6d2-444f-ab47-c184dc80a696",
   "metadata": {},
   "source": [
    "As can be seen from the describe of the actor above, the mean is is almost equal to 75 % quartile. This is due to the outliers (the maximum is 791) and the fact that the actors with less than 5 movies were not taken into account (they represented 85% of the original datasets). We can now analyse the relationship between degree of an actor and the mean number of movies per actor and the mean number of actors per movies."
   ]
  },
  {
   "cell_type": "code",
   "execution_count": 31,
   "id": "67c1f4cc-1255-4daa-b7f7-a3b1b41350da",
   "metadata": {},
   "outputs": [
    {
     "name": "stdout",
     "output_type": "stream",
     "text": [
      "A : Mean degree of actor : 85.25\n",
      "B : Mean number of actor per movie for all movies : 7.00\n",
      "C : Mean number of movies per actor for all actors : 3.31\n",
      "D : Mean number of movies per actor for actors that have played at least 5 movies : 14.77\n",
      "D : Median number of movies per actor for actors that have played at least 5 movies : 9\n",
      "------------\n",
      "Mean degree of actor divided by mean number of actor per movie for all movies : 12.19\n",
      "Mean number of actor per movie for all movies multiplied by the mean number of movies per actor (5 movies) : 103.29\n",
      "Mean number of actor per movie for all movies multiplied by the median of the number of movies per actor (5 movies) : 62.96\n"
     ]
    }
   ],
   "source": [
    "Mean_degree = Actor_final['Degree_final'].mean()\n",
    "\n",
    "# Computing different mean (per actor, per movie)\n",
    "print(f'A : Mean degree of actor : {Mean_degree:.2f}')\n",
    "print(f'B : Mean number of actor per movie for all movies : {Mean_actor_per_movie(Actor):.2f}')\n",
    "print(f'C : Mean number of movies per actor for all actors : {Mean_movie_per_actor(Actor):.2f}')\n",
    "print(f'D : Mean number of movies per actor for actors that have played at least 5 movies : {Mean_movie_per_actor(Actor_final):.2f}')\n",
    "print(f'D : Median number of movies per actor for actors that have played at least 5 movies : 9')\n",
    "\n",
    "print('------------')\n",
    "\n",
    "# Computing and printing statistical values from the describe above with the mean\n",
    "print(f'Mean degree of actor divided by mean number of actor per movie for all movies : {Mean_degree/Mean_actor_per_movie(Actor):.2f}')\n",
    "print(f'Mean number of actor per movie for all movies multiplied by the mean number of movies per actor (5 movies) : {Mean_actor_per_movie(Actor)*Mean_movie_per_actor(Actor_final):.2f}')\n",
    "print(f'Mean number of actor per movie for all movies multiplied by the median of the number of movies per actor (5 movies) : {Mean_actor_per_movie(Actor)*9:.2f}')"
   ]
  },
  {
   "cell_type": "markdown",
   "id": "c8a87560-37c0-4254-ad54-03bdb1e5d5ef",
   "metadata": {},
   "source": [
    "As can be seen from the results above,\n",
    "\n",
    "=> en gros faudrait au moins prendre au-dessus de la moyenne de 12.19 en tout cas, voir 14.79(mean tres exigente) (la median elle est vraiment basse par rapport au degree)\n",
    "\n",
    "=> pourrait faire un plot où on montre et on calcule la RMSE de la loi qu'on vient d'approximer et on voit à quel point on est à côté de la plaque ou pas aussi, ça pourrait être marrant"
   ]
  },
  {
   "cell_type": "markdown",
   "id": "fa2a918a-9241-4edf-9900-f67ab9d34668",
   "metadata": {},
   "source": [
    "### 3.2 Eigenvector centrality"
   ]
  },
  {
   "cell_type": "code",
   "execution_count": 32,
   "id": "a9ad0907-6940-441f-a05f-3c70d899419b",
   "metadata": {},
   "outputs": [
    {
     "data": {
      "image/png": "[encoded data removed]",
      "text/plain": [
       "<Figure size 1600x600 with 2 Axes>"
      ]
     },
     "metadata": {},
     "output_type": "display_data"
    }
   ],
   "source": [
    "# Set the figure and subplots layout\n",
    "fig, axes = plt.subplots(1, 2, figsize=(16, 6))\n",
    "\n",
    "# Eigenvector centrality \n",
    "sns.histplot(Actor_final['eigenvector_centrality_final'].dropna(), bins=150, color='skyblue', ax=axes[0])\n",
    "axes[0].set_title('Eigenvector centrality Actor on film',fontsize=14, fontweight=\"bold\")\n",
    "axes[0].set_xlabel('Eigenvector centrality',fontsize=12)\n",
    "axes[0].set_ylabel('Frequency',fontsize=12)\n",
    "\n",
    "# Eigenvector centrality log scale\n",
    "sns.histplot(Actor_final['eigenvector_centrality_final'].dropna(), bins=150, color='skyblue', ax=axes[1])\n",
    "axes[1].set_yscale('log')\n",
    "axes[1].set_title('Eigenvector centrality Actor on film',fontsize=14, fontweight=\"bold\")\n",
    "axes[1].set_xlabel('Eigenvector centrality',fontsize=12)\n",
    "axes[1].set_ylabel('Frequency',fontsize=12)\n",
    "\n",
    "# Plot\n",
    "plt.tight_layout()\n",
    "plt.show()"
   ]
  },
  {
   "cell_type": "code",
   "execution_count": 33,
   "id": "1b93ac1a-34fb-4efb-8c38-b6036e41d935",
   "metadata": {},
   "outputs": [
    {
     "name": "stdout",
     "output_type": "stream",
     "text": [
      "Describe of the eigenvector centrality of actor on film\n",
      "count    1.918100e+04\n",
      "mean     3.845203e-03\n",
      "std      6.111570e-03\n",
      "min      5.451052e-47\n",
      "25%      3.346270e-04\n",
      "50%      1.599332e-03\n",
      "75%      4.473047e-03\n",
      "max      6.130016e-02\n",
      "Name: eigenvector_centrality_final, dtype: float64\n"
     ]
    }
   ],
   "source": [
    "print('Describe of the eigenvector centrality of actor on film')\n",
    "print(Actor_final['eigenvector_centrality_final'].describe())"
   ]
  },
  {
   "cell_type": "markdown",
   "id": "086030b3-a39c-4d66-8d93-bb81f1bda196",
   "metadata": {},
   "source": [
    "The values of the eigenvector centrality are really small. The mean is almost 0.0038 and the median 0.00158 for actors with at least 5 movies. Even by taking into account only the actors which played in at least 50 movies, the values did not changed significantly. A potentiel explanation is the fact that, as seen previously from the adjacency matrix in section 2.1, the network is subdivided into two regions (dire as was seen dans la partie d'émile que ça peut être plusieurs clusters). This two regions are the European/American film industry and the Indian film industry. Both are communities that are large in size but never or rarely work together. Consequently, the overall eigenvector is low. \n",
    "\n",
    "\n",
    "A possible fix to this problem would be to separate the networks into multiple networks and compute the centrality of each of the networks and to keep the centrality above a certain value (relative to its network). Later on, the criteria on the eigenvector centrality would be applied separately on each region in order to determine which actor is successful.</br>\n",
    "This method was tried by separating the networks but was not successful, it was then decided to try Louvain method to determine communities among the networks."
   ]
  },
  {
   "cell_type": "code",
   "execution_count": 34,
   "id": "71580ddc-4c82-4bd2-8f92-a26f34124a67",
   "metadata": {},
   "outputs": [
    {
     "name": "stderr",
     "output_type": "stream",
     "text": [
      "Creating network: 100%|████████████████| 19189/19189 [00:01<00:00, 15623.91it/s]\n",
      "Adding attributes: 95928it [00:04, 23013.36it/s]\n",
      "Creating network: 100%|████████████████| 18006/18006 [00:00<00:00, 20191.08it/s]\n",
      "Adding attributes: 60306it [00:02, 22990.30it/s]\n",
      "Creating network: 100%|██████████████████| 8974/8974 [00:00<00:00, 22612.43it/s]\n",
      "Adding attributes: 23440it [00:01, 22758.68it/s]\n",
      "Creating network: 100%|██████████████████| 9014/9014 [00:00<00:00, 17793.23it/s]\n",
      "Adding attributes: 44347it [00:01, 23082.64it/s]\n",
      "Creating network: 100%|██████████████████| 7477/7477 [00:00<00:00, 23722.57it/s]\n",
      "Adding attributes: 18035it [00:00, 22946.40it/s]\n",
      "Creating network: 100%|██████████████████| 6148/6148 [00:00<00:00, 11177.90it/s]\n",
      "Adding attributes: 17573it [00:00, 22328.82it/s]\n",
      "Creating network: 100%|██████████████████| 3787/3787 [00:00<00:00, 22255.14it/s]\n",
      "Adding attributes: 11648it [00:00, 22376.97it/s]\n",
      "Creating network: 100%|██████████████████| 2822/2822 [00:00<00:00, 24382.02it/s]\n",
      "Adding attributes: 7389it [00:00, 23127.92it/s]\n",
      "Creating network: 100%|████████████████████| 514/514 [00:00<00:00, 19741.15it/s]\n",
      "Adding attributes: 1045it [00:00, 22094.87it/s]\n",
      "Creating network: 100%|████████████████████| 329/329 [00:00<00:00, 19028.21it/s]\n",
      "Adding attributes: 1231it [00:00, 22109.69it/s]\n",
      "Creating network: 100%|████████████████████| 410/410 [00:00<00:00, 20598.24it/s]\n",
      "Adding attributes: 975it [00:00, 21177.21it/s]\n",
      "Creating network: 100%|████████████████████| 357/357 [00:00<00:00, 22019.45it/s]\n",
      "Adding attributes: 763it [00:00, 19732.49it/s]\n",
      "Creating network: 100%|████████████████████| 118/118 [00:00<00:00, 21726.42it/s]\n",
      "Adding attributes: 193it [00:00, 22711.35it/s]\n",
      "Creating network: 100%|██████████████████████| 65/65 [00:00<00:00, 19636.25it/s]\n",
      "Adding attributes: 136it [00:00, 20819.96it/s]\n",
      "Creating network: 100%|██████████████████████| 52/52 [00:00<00:00, 18259.00it/s]\n",
      "Adding attributes: 93it [00:00, 22911.62it/s]\n",
      "Creating network: 100%|██████████████████████| 26/26 [00:00<00:00, 13000.94it/s]\n",
      "Adding attributes: 47it [00:00, 19510.32it/s]\n",
      "Creating network: 100%|██████████████████████| 17/17 [00:00<00:00, 13405.37it/s]\n",
      "Adding attributes: 38it [00:00, 20093.74it/s]\n",
      "Creating network: 100%|██████████████████████| 22/22 [00:00<00:00, 13731.35it/s]\n",
      "Adding attributes: 38it [00:00, 18095.32it/s]\n",
      "Creating network: 100%|██████████████████████| 16/16 [00:00<00:00, 11324.48it/s]\n",
      "Adding attributes: 57it [00:00, 19263.18it/s]\n",
      "Creating network: 100%|██████████████████████| 31/31 [00:00<00:00, 17929.32it/s]\n",
      "Adding attributes: 47it [00:00, 18432.19it/s]\n",
      "Creating network: 100%|██████████████████████| 10/10 [00:00<00:00, 12471.91it/s]\n",
      "Adding attributes: 35it [00:00, 18460.85it/s]\n",
      "Creating network: 100%|███████████████████████| 13/13 [00:00<00:00, 5933.18it/s]\n",
      "Adding attributes: 17it [00:00, 11797.35it/s]\n",
      "Creating network: 100%|███████████████████████| 10/10 [00:00<00:00, 8991.01it/s]\n",
      "Adding attributes: 12it [00:00, 8384.42it/s]\n",
      "Creating network: 100%|███████████████████████| 15/15 [00:00<00:00, 9516.65it/s]\n",
      "Adding attributes: 21it [00:00, 10610.82it/s]\n"
     ]
    }
   ],
   "source": [
    "actors_clustered, largest_clusters = Splitting_Louvain(played_together,Actor_final)\n",
    "Actors_Groups, Networks = Centrality_Louvain(actors_clustered,largest_clusters,Movie)"
   ]
  },
  {
   "cell_type": "code",
   "execution_count": 35,
   "id": "18fe93cf-9fec-4c1d-9384-cfc049f12eb9",
   "metadata": {},
   "outputs": [
    {
     "data": {
      "image/png": "[encoded data removed]",
      "text/plain": [
       "<Figure size 1600x600 with 2 Axes>"
      ]
     },
     "metadata": {},
     "output_type": "display_data"
    }
   ],
   "source": [
    "# Set the figure and subplots layout\n",
    "fig, axes = plt.subplots(1, 2, figsize=(16, 6))\n",
    "\n",
    "# Eigenvector centrality \n",
    "sns.histplot(Actors_Groups['cluster_1']['eigenvector_centrality_final'].dropna(), bins=40, color='skyblue', ax=axes[0])\n",
    "axes[0].set_title('Eigenvector centrality Actor on film (min 50 movies)',fontsize=14, fontweight=\"bold\")\n",
    "axes[0].set_xlabel('Eigenvector centrality',fontsize=12)\n",
    "axes[0].set_ylabel('Frequency',fontsize=12)\n",
    "\n",
    "# Eigenvector centrality log scale\n",
    "sns.histplot(Actors_Groups['cluster_12']['eigenvector_centrality_final'].dropna(), bins=50, color='skyblue', ax=axes[1])\n",
    "axes[1].set_title('Eigenvector centrality Actor on film (min 50 movies)',fontsize=14, fontweight=\"bold\")\n",
    "axes[1].set_xlabel('Eigenvector centrality',fontsize=12)\n",
    "axes[1].set_ylabel('Frequency',fontsize=12)\n",
    "\n",
    "# Plot\n",
    "plt.tight_layout()\n",
    "plt.show()"
   ]
  },
  {
   "cell_type": "markdown",
   "id": "d857f0a0-0a0b-46a3-a607-eb0903a99b15",
   "metadata": {},
   "source": [
    "As can be seen from above, the eigenvector centrality did change for some of the communities but not for all. This is still better than just taking the top 50% centrality or the values above the mean. Indeed, as we have a \"relative\" centrality, we take into account the people which are the best among their close circle of actors. Nevertheless, we should verify what actors will be dropped. If in the end, a community of only successful actors was build and we drop 50% of it, it does not make sense with our study. "
   ]
  },
  {
   "cell_type": "code",
   "execution_count": 36,
   "id": "71b5fb1d-3f2a-4c3a-ab3a-32f0035184d6",
   "metadata": {},
   "outputs": [],
   "source": [
    "def Eigenvector_Mean_Median(Actor):\n",
    "    Mean = Actor['eigenvector_centrality_final'].mean()\n",
    "    Median = Actor['eigenvector_centrality_final'].median()\n",
    "\n",
    "    keep_mean = Actor[Actor['eigenvector_centrality_final'] >= Mean].index\n",
    "    keep_median = Actor[Actor['eigenvector_centrality_final'] >= Median].index\n",
    "\n",
    "    return keep_mean, keep_median"
   ]
  },
  {
   "cell_type": "code",
   "execution_count": 37,
   "id": "5c68e93d-24ad-4204-8a44-bf1f1de2db37",
   "metadata": {},
   "outputs": [],
   "source": [
    "Mean, Median = Eigenvector_Mean_Median(Actor_final)"
   ]
  },
  {
   "cell_type": "code",
   "execution_count": 38,
   "id": "7ea9279f-83be-4ca8-918b-61fe0f379fdb",
   "metadata": {},
   "outputs": [],
   "source": [
    "Top_centrality = Top_centrality_Louvain(Actors_Groups)"
   ]
  },
  {
   "cell_type": "code",
   "execution_count": 39,
   "id": "8d5e0bf9-fe1f-4704-815a-0107b56dce99",
   "metadata": {},
   "outputs": [],
   "source": [
    "Louvain_method = 0\n",
    "keep_list_Louvain = []\n",
    "for cluster, actor in Top_centrality.items():\n",
    "    Louvain_method = actor.shape[0] + Louvain_method\n",
    "    keep_list_Louvain.extend(actor['Freebase_actor_ID'].tolist())\n",
    "\n",
    "# Comparing which actors have been taken for each method\n",
    "MeanVsMethod2 = pd.DataFrame(Mean.isin(keep_list_Louvain), columns=['count'])\n",
    "MedianVsMethod2 = pd.DataFrame(Median.isin(keep_list_Louvain), columns=['count'])\n",
    "keep_list_Louvain_df = pd.DataFrame(keep_list_Louvain,columns=['count'])\n",
    "Method2VsMedian = pd.DataFrame(keep_list_Louvain_df.isin(Median))"
   ]
  },
  {
   "cell_type": "code",
   "execution_count": 40,
   "id": "aea7fd3a-8c2a-452f-a71d-fb02833b639b",
   "metadata": {},
   "outputs": [
    {
     "name": "stdout",
     "output_type": "stream",
     "text": [
      "Number of actors which are above the global mean of the eigenvector centrality : 5534\n",
      "Number of actors which are above the global median of the eigenvector centrality : 9591\n",
      "Number of actors which are above the mean of their community eigenvector centrality : 6508\n",
      "------------\n",
      "Number of actors which are above the global mean but not above their community mean :\n",
      "count\n",
      "True     3345\n",
      "False    2189\n",
      "Name: count, dtype: int64\n",
      "------------\n",
      "Number of actors which are above the global median but not above their community mean :\n",
      "count\n",
      "False    5241\n",
      "True     4350\n",
      "Name: count, dtype: int64\n",
      "------------\n",
      "Number of actors which are above their community mean but not above the global median :\n",
      "count\n",
      "True     4350\n",
      "False    2158\n",
      "Name: count, dtype: int64\n"
     ]
    }
   ],
   "source": [
    "# Printing the result\n",
    "print(f\"Number of actors which are above the global mean of the eigenvector centrality : {Mean.shape[0]}\")\n",
    "print(f\"Number of actors which are above the global median of the eigenvector centrality : {Median.shape[0]}\")\n",
    "print(f\"Number of actors which are above the mean of their community eigenvector centrality : {Louvain_method}\")\n",
    "\n",
    "# Printing the comparaison\n",
    "print('------------')\n",
    "print(f\"Number of actors which are above the global mean but not above their community mean :\")\n",
    "print(f\"{MeanVsMethod2.value_counts()}\")\n",
    "print('------------')\n",
    "print(f\"Number of actors which are above the global median but not above their community mean :\")\n",
    "print(f\"{MedianVsMethod2.value_counts()}\")\n",
    "print('------------')\n",
    "print(f\"Number of actors which are above their community mean but not above the global median :\")\n",
    "print(f\"{Method2VsMedian.value_counts()}\")"
   ]
  },
  {
   "cell_type": "markdown",
   "id": "d8ac64af-6f00-4068-b46c-9aa04c8ac30e",
   "metadata": {},
   "source": [
    "As can be seen from the results above, around 40% of actors which were above the global mean of the centrality are not above the mean of their community. This is a problem, the Louvain method potentially created communities of \"succesful\" actors, hence half of those were drop in the process. Consequently, it was decided to take the global mean as a criteria, instead of the mean per communities."
   ]
  },
  {
   "cell_type": "markdown",
   "id": "32ba2cbb-ead7-480a-9770-258881cea8e7",
   "metadata": {},
   "source": [
    "### 3.3 Ratings and genres"
   ]
  },
  {
   "cell_type": "code",
   "execution_count": 41,
   "id": "05ae330e-742d-4d75-8ccd-9533d01603f1",
   "metadata": {},
   "outputs": [
    {
     "data": {
      "image/png": "[encoded data removed]",
      "text/plain": [
       "<Figure size 1600x1200 with 4 Axes>"
      ]
     },
     "metadata": {},
     "output_type": "display_data"
    }
   ],
   "source": [
    "# mean and median\n",
    "mean_actor = np.mean(Actor['Mean_Rating'].dropna())\n",
    "median_actor = np.median(Actor['Mean_Rating'].dropna())\n",
    "\n",
    "mean_actor_5 = np.mean(Actor_final['Mean_Rating'].dropna())\n",
    "median_actor_5 = np.median(Actor_final['Mean_Rating'].dropna())\n",
    "\n",
    "mean_director = np.mean(Director['Mean_Rating'].dropna())\n",
    "median_director = np.median(Director['Mean_Rating'].dropna())\n",
    "\n",
    "# Set the figure and subplots layout\n",
    "fig, axes = plt.subplots(2, 2, figsize=(16, 12))\n",
    "\n",
    "# Actor average rating per movie\n",
    "sns.histplot(Actor['Mean_Rating'].dropna(), bins=84, color='limegreen', ax=axes[0,0])\n",
    "axes[0,0].axvline(mean_actor, color='red', linestyle='--', linewidth=2, label='Mean')\n",
    "axes[0,0].axvline(median_actor, color='green', linestyle='-', linewidth=2, label='Median')\n",
    "axes[0,0].set_title('All actors',fontsize=14, fontweight=\"bold\")\n",
    "axes[0,0].set_xlabel('Average rating',fontsize=12)\n",
    "axes[0,0].set_ylabel('Frequency',fontsize=12)\n",
    "axes[0,0].legend(fontsize=10)\n",
    "\n",
    "# Actor with at lest 5 films average rating per movie\n",
    "sns.histplot(Actor_final['Mean_Rating'].dropna(), bins=85, color='skyblue', ax=axes[0,1])\n",
    "axes[0,1].axvline(mean_actor_5, color='red', linestyle='--', linewidth=2, label='Mean')\n",
    "axes[0,1].axvline(median_actor_5, color='green', linestyle='-', linewidth=2, label='Median')\n",
    "axes[0,1].set_title('actor with at least 5 films',fontsize=14, fontweight=\"bold\")\n",
    "axes[0,1].set_xlabel('Average rating',fontsize=12)\n",
    "axes[0,1].set_ylabel('Frequency',fontsize=12)\n",
    "axes[0,1].legend(fontsize=10)\n",
    "\n",
    "# Director average rating per movie\n",
    "sns.histplot(Director['Mean_Rating'].dropna(), bins=85, color='lightcoral', ax=axes[1,0])\n",
    "axes[1,0].axvline(mean_director, color='red', linestyle='--', linewidth=2, label='Mean')\n",
    "axes[1,0].axvline(median_director, color='green', linestyle='-', linewidth=2, label='Median')\n",
    "axes[1,0].set_title('actor with at least 5 films',fontsize=14, fontweight=\"bold\")\n",
    "axes[1,0].set_xlabel('Average rating',fontsize=12)\n",
    "axes[1,0].set_ylabel('Frequency',fontsize=12)\n",
    "axes[1,0].legend(fontsize=10)\n",
    "\n",
    "axes[1, 1].axis('off')\n",
    "plt.suptitle('Distribution of the average rating of the movie', fontsize=16, fontweight=\"bold\")\n",
    "\n",
    "# Plot\n",
    "plt.tight_layout()\n",
    "plt.show()"
   ]
  },
  {
   "cell_type": "code",
   "execution_count": 42,
   "id": "37af0a53-d5df-4dbb-b6bb-641b9e87b280",
   "metadata": {},
   "outputs": [
    {
     "name": "stdout",
     "output_type": "stream",
     "text": [
      "Describe of the actor rating for all actors\n",
      "count    95338.000000\n",
      "mean         6.193567\n",
      "std          1.107457\n",
      "min          1.100000\n",
      "25%          5.600000\n",
      "50%          6.366667\n",
      "75%          6.982955\n",
      "max          9.400000\n",
      "Name: Mean_Rating, dtype: float64\n",
      "------------\n",
      "Describe of the actor rating for actors with more than 5 movies\n",
      "count    5917.000000\n",
      "mean        6.270479\n",
      "std         0.565420\n",
      "min         2.640000\n",
      "25%         5.937500\n",
      "50%         6.316667\n",
      "75%         6.633333\n",
      "max         8.580000\n",
      "Name: Mean_Rating, dtype: float64\n",
      "------------\n",
      "Describe of the director rating\n",
      "count    21273.000000\n",
      "mean         6.110505\n",
      "std          1.174141\n",
      "min          1.100000\n",
      "25%          5.400000\n",
      "50%          6.212500\n",
      "75%          6.900000\n",
      "max          9.700000\n",
      "Name: Mean_Rating, dtype: float64\n"
     ]
    }
   ],
   "source": [
    "print('Describe of the actor rating for all actors')\n",
    "print(Actor['Mean_Rating'].describe())\n",
    "print('------------')\n",
    "print('Describe of the actor rating for actors with more than 5 movies')\n",
    "print(Actor_final['Mean_Rating'].describe())\n",
    "print('------------')\n",
    "print('Describe of the director rating')\n",
    "print(Director['Mean_Rating'].describe())"
   ]
  },
  {
   "cell_type": "code",
   "execution_count": 43,
   "id": "a28a8a99-8e86-4318-ae6a-088507b30a87",
   "metadata": {},
   "outputs": [
    {
     "name": "stdout",
     "output_type": "stream",
     "text": [
      "Describe of all genres : count    361.000000\n",
      "mean       6.392463\n",
      "std        0.646262\n",
      "min        4.000000\n",
      "25%        6.050000\n",
      "50%        6.420000\n",
      "75%        6.820000\n",
      "max        8.100000\n",
      "Name: Average rating, dtype: float64\n",
      "---------------\n",
      "Describe of genreswith more than 200 movies : count    94.000000\n",
      "mean      6.263484\n",
      "std       0.474508\n",
      "min       4.495300\n",
      "25%       6.031623\n",
      "50%       6.311633\n",
      "75%       6.521556\n",
      "max       7.285877\n",
      "Name: Average rating, dtype: float64\n"
     ]
    }
   ],
   "source": [
    "print(f\"Describe of all genres : {Genre_counts['Average rating'].describe()}\")\n",
    "print('---------------')\n",
    "print(f\"Describe of genreswith more than 200 movies : {Genre_counts_200['Average rating'].describe()}\")"
   ]
  },
  {
   "cell_type": "markdown",
   "id": "d8f7d37e-0731-4934-ac15-6ce86beb45b8",
   "metadata": {},
   "source": [
    "The mean and the median of the directors are lower than the one for actors which is interesting. What is also interesting is that by taking into account only the actors with at least 5 movies, the ratings concentrate their values around the mean as there are leass rating above 7 and especially almost none below 5. This suggest that actors throughout their career have up and downs. Indeed, as they have done more films, their average ratings \"stabilize\" around the mean/median, as expected from a large number of films.</br>\n",
    "Moreover, actors with longer careers, as expected, have better and more constant ratings. Indeed, 50% of the ratings are between 5.93 and 6.63. The mean and the median are closer also while only taking actors with more than 5 films. This motivate once more the fact to drop actors with less than a certain amounts of movies."
   ]
  },
  {
   "cell_type": "markdown",
   "id": "a1761ea5-e5c2-4053-8acc-270fa7681633",
   "metadata": {},
   "source": [
    "### 3.4 Determine the successfull actors"
   ]
  },
  {
   "cell_type": "markdown",
   "id": "99cfc5b4-be88-45b1-a6d0-5b535d223245",
   "metadata": {},
   "source": [
    "Now that the metrics were anaysed, we can finally determine the criteria that we will used to decide if an actor is successful or not. This criteria are of course arbitrary an if more/different information were available, they would potentially have changed. Here is the list :\n",
    "- Edge and number of films per actor : actors which played in at least 12 movies will be kept.\n",
    "- Ratings : actors wich are above the average ratings of their genre will be kept.\n",
    "- Centrality : actors wich are above the mean centrality of all actors will be kept.\n",
    "\n",
    "As a consequence, almost half of the actors, even more potentially, will be dropped. This was to be expected and necessary, as the successful actors shoudl theoritically only be among the top 5% of all actors. Indeed, at the beginning we dropped 85% of the actors that we originally had, hence only keeping 15%. By dropping more than half of the remaining actors, we will keep the top 5%. This top 5% is arbitrary, as explained previously, it depends on our expectations of what is successful. For our group, being successful means being in the top, even by taking 5% we may be laxist as we could only take the top 1%. However, as our dataset only contains 80'000 films and 135'000 which do not represent the millions of films that have been made, we can not be sure that we do not already have a pre-process dataset of \"successfull movies\", hence keeping more is a valid choice. In addition to that, the less actors we keep, the less data we have to analyse.\n",
    "\n",
    "\n",
    "=> faudrait modifier les fonctions afin qu'elles sortes des listes d'index, plutôt que direct la database modifier"
   ]
  },
  {
   "cell_type": "code",
   "execution_count": 44,
   "id": "15b9367d-f0e9-4233-a9c0-0fb66ccd6134",
   "metadata": {},
   "outputs": [
    {
     "name": "stderr",
     "output_type": "stream",
     "text": [
      "Checking their relative ranking: 19201it [01:08, 282.14it/s]"
     ]
    },
    {
     "name": "stdout",
     "output_type": "stream",
     "text": [
      "8472 actors are dropped\n"
     ]
    },
    {
     "name": "stderr",
     "output_type": "stream",
     "text": [
      "\n"
     ]
    }
   ],
   "source": [
    "# Applying the criteria on the Rating\n",
    "Actor_TOP_RATING, Actor_genre_TOP_RATING, keep_TOP_RATING = keep_above_mean_rating(Actor_final,Actor_genre_final,Genre_counts_200)\n",
    "print(f\"{Actor_final.shape[0]-Actor_TOP_RATING.shape[0]} actors are dropped due to their average rating\")"
   ]
  },
  {
   "cell_type": "code",
   "execution_count": 45,
   "id": "edbb7405-b85d-4215-a59e-df2682052871",
   "metadata": {},
   "outputs": [
    {
     "name": "stdout",
     "output_type": "stream",
     "text": [
      "11575 actors are dropped\n"
     ]
    }
   ],
   "source": [
    "# Applying the criteria on the number of film \n",
    "Actor_12_MOVIES = Actor_final[Actor_final['actor_age_atmovierelease'].apply(len) >= 12]\n",
    "print(f\"{Actor_final.shape[0]-Actor_12_MOVIES.shape[0]} actors are dropped due to the number of films played\")"
   ]
  },
  {
   "cell_type": "code",
   "execution_count": 46,
   "id": "baf736e0-4972-4cf3-8b05-045e1e22c1b2",
   "metadata": {},
   "outputs": [
    {
     "name": "stdout",
     "output_type": "stream",
     "text": [
      "13667 actors are dropped\n"
     ]
    }
   ],
   "source": [
    "# Applying the criteria on the centrality\n",
    "Actor_TOP_Mean_centraty, _ = Eigenvector_Mean_Median(Actor_final)\n",
    "print(f\"{Actor_final.shape[0]-Actor_TOP_Mean_centraty.shape[0]} actors are dropped due to their centrality\")"
   ]
  },
  {
   "cell_type": "code",
   "execution_count": 70,
   "id": "9c4d6160-f758-4bba-a0fd-ed7b54779cb2",
   "metadata": {},
   "outputs": [
    {
     "name": "stdout",
     "output_type": "stream",
     "text": [
      "Top 1% : 1920\n"
     ]
    }
   ],
   "source": [
    "# Applying the criteria on the centrality (keeping the top XXXX)\n",
    "print(f\"Top 1% : {Actor_final.shape[0]*0.1:.0f}\")\n",
    "Actor_TOP_2500_centraty = Actor_final.sort_values(by=['eigenvector_centrality_final'], ascending=False).head(2500)"
   ]
  },
  {
   "cell_type": "code",
   "execution_count": 51,
   "id": "44018a9d-496f-48a8-8c3e-e37cf5fa8ee5",
   "metadata": {},
   "outputs": [
    {
     "name": "stdout",
     "output_type": "stream",
     "text": [
      "Actors which have played 12 films and are (or not) above their genre average rating:\n",
      "count\n",
      "True     4475\n",
      "False    3151\n",
      "Name: count, dtype: int64\n",
      "------------\n",
      "Actors above the global mean average and are (or not) above their genre average rating:\n",
      "count\n",
      "True     3110\n",
      "False    2424\n",
      "Name: count, dtype: int64\n",
      "------------\n",
      "Actors above the global mean average and have (or not) played in at least 12 films:\n",
      "count\n",
      "True     3980\n",
      "False    1554\n",
      "Name: count, dtype: int64\n"
     ]
    }
   ],
   "source": [
    "# Comparing which actors have been droppped for each criteria\n",
    "NumberFilmsVsRating = pd.DataFrame(Actor_12_MOVIES.index.isin(Actor_TOP_RATING.index), columns=['count'])\n",
    "CentralityVsRating = pd.DataFrame(Actor_TOP_Mean_centraty.isin(Actor_TOP_RATING.index), columns=['count'])\n",
    "CentralityVsNumberFilms = pd.DataFrame(Actor_TOP_Mean_centraty.isin(Actor_12_MOVIES.index), columns=['count'])\n",
    "\n",
    "\n",
    "# Printing the comparaison\n",
    "print(f\"Actors which have played 12 films and are (or not) above their genre average rating:\")\n",
    "print(f\"{NumberFilmsVsRating.value_counts()}\")\n",
    "print('------------')\n",
    "print(f\"Actors above the global mean average and are (or not) above their genre average rating:\")\n",
    "print(f\"{CentralityVsRating.value_counts()}\")\n",
    "print('------------')\n",
    "print(f\"Actors above the global mean average and have (or not) played in at least 12 films:\")\n",
    "print(f\"{CentralityVsNumberFilms.value_counts()}\")"
   ]
  },
  {
   "cell_type": "code",
   "execution_count": 76,
   "id": "59887d2f-1de1-4880-ae26-cdb56d6e86b7",
   "metadata": {},
   "outputs": [
    {
     "name": "stdout",
     "output_type": "stream",
     "text": [
      "4475\n",
      "2316\n",
      "Actors above the global mean average and have (or not) played in at least 12 films:\n",
      "count\n",
      "True     1434\n",
      "False     882\n",
      "Name: count, dtype: int64\n"
     ]
    }
   ],
   "source": [
    "# Compiling each of the different criteria\n",
    "Actor_Success = Actor_12_MOVIES[Actor_12_MOVIES.index.isin(keep_TOP_RATING)]\n",
    "print(Actor_Success.shape[0])\n",
    "Actor_Success = Actor_Success[Actor_Success.index.isin(Actor_TOP_Mean_centraty)]\n",
    "print(Actor_Success.shape[0])\n",
    "\n",
    "Centrality2500VsSuccess = pd.DataFrame(Actor_Success.index.isin(Actor_TOP_2500_centraty.index), columns=['count'])\n",
    "print(f\"Actors above the global mean average and have (or not) played in at least 12 films:\")\n",
    "print(f\"{Centrality2500VsSuccess.value_counts()}\")"
   ]
  },
  {
   "cell_type": "markdown",
   "id": "b4cacabd-0f5f-4a2f-bc6f-60c8296fdc4b",
   "metadata": {},
   "source": [
    "## 4. Actors and directors networks"
   ]
  },
  {
   "cell_type": "markdown",
   "id": "d7850a0e-e4e9-4260-924c-405244ae6bca",
   "metadata": {},
   "source": [
    "expliquer que maintenant qu'on connaît les acteurs à succès on peut faire notre network bipartite directed => faire le network bipartite et peser les edges en mode il contiennent le nombre de film fait ensemble (regarder le cours et la série)\n",
    "\n",
    "\n",
    "to-do :\n",
    "- finir texte degree\n",
    "- changer les fonctions pour avoir les index des mecs a drop plutôt que les df déjà modifié\n",
    "- modifier top genre actor afin qu'elle ne fasse que le top genre car en vrai on s'en fiche des autres genres\n",
    "\n",
    "\n",
    "=> FAUDRA FAIRE GAFFE AUX ACTEURS QUI SONT DES REALISATEURS MDRRR\n",
    "=> Takeshi kitano par exemple"
   ]
  },
  {
   "cell_type": "code",
   "execution_count": 103,
   "id": "43e12c79-8a65-4459-aeb7-b421743de472",
   "metadata": {},
   "outputs": [],
   "source": [
    "from networkx.algorithms import bipartite \n",
    "\n",
    "def create_bipartite_network_actor_director(Actors, Directors, min_movies=50):\n",
    "    # Calculate the number of films for each actor\n",
    "    Actors[\"Number_of_films\"] = Actors[\"actor_age_atmovierelease\"].apply(len)\n",
    "    \n",
    "    # Filter actors with at least `min_movies` films\n",
    "    actors_with_min_x_movies = Actors[Actors[\"Number_of_films\"] >= min_movies]\n",
    "\n",
    "    # ça ce n'est pas bon, il faut que je prenne uniquement les directeurs des films des mecs célèbres, donc je peux faire ça\n",
    "    # mais ça veut dire qu'à la fin je drop les nodes sans edge => simple de faire\n",
    "    # Explode the DataFrame to have one row per film per director\n",
    "    director_df = Directors.explode('Freebase_movie_ID')\n",
    "    \n",
    "    # Explode the DataFrame to have one row per film per actor\n",
    "    actors_df = actors_with_min_x_movies.explode('Freebase_movie_ID')\n",
    "\n",
    "    # Merge actors with movies to include directors\n",
    "    actors_with_directors = actors_df.merge(Movie[['Freebase_movie_ID', 'IMDb_director_ID']], on='Freebase_movie_ID', how='left')\n",
    "    \n",
    "    # Explode the directors list to have one row per director per actor\n",
    "    actors_with_directors = actors_with_directors.explode('IMDb_director_ID')\n",
    "\n",
    "    B = nx.Graph()\n",
    "\n",
    "    # Create nodes for actors\n",
    "    for _, actor in tqdm(actors_with_min_x_movies.iterrows(), desc=\"Nodes for actors\"):\n",
    "        B.add_node(actor['Freebase_actor_ID'],bipartite = 0)\n",
    "\n",
    "    # Create nodes for directors\n",
    "    for _, director in tqdm(Directors.iterrows(), desc=\"Nodes for directors\"):\n",
    "        B.add_node(director['IMDb_director_ID'],bipartite = 1)\n",
    "\n",
    "    # Create edges\n",
    "    for _, actor in tqdm(actors_with_directors.iterrows(), desc =\"Edges of network\"):\n",
    "        # Skip rows without director information\n",
    "        if pd.isna(actor['IMDb_director_ID']): \n",
    "            continue\n",
    "        # Checking if edge already exists\n",
    "        if B.has_edge(actor['Freebase_actor_ID'], actor['IMDb_director_ID']):\n",
    "            B[actor['Freebase_actor_ID']][actor['IMDb_director_ID']]['weight'] += 1\n",
    "        else:\n",
    "            B.add_edge(actor['Freebase_actor_ID'], actor['IMDb_director_ID'], weight=1)\n",
    "\n",
    "    # Remove nodes wich have no edges\n",
    "    B.remove_nodes_from(list(nx.isolates(B)))\n",
    "    \n",
    "    # Add attributes to each actor node\n",
    "    for _, actor in tqdm(actors_with_min_x_movies.iterrows(), desc='adding actors attributes'):\n",
    "        actor_id = actor['Freebase_actor_ID']\n",
    "        if actor_id in B:\n",
    "            B.nodes[actor_id].update({\n",
    "                'name': actor['actor_name'],\n",
    "                'gender': actor.get('actor_gender', None),\n",
    "                'ethnicity': actor.get('ethnicity', None),\n",
    "                'height': actor.get('actor_height', None),\n",
    "            })\n",
    "    # Faudrait rajouter plein de bail, genre top genre, average rating, \n",
    "\n",
    "     # Add attributes to each director node\n",
    "    for _, director in tqdm(Directors.iterrows(), desc='adding directors attributes'):\n",
    "        director_id = director['IMDb_director_ID']\n",
    "        if director_id in B:\n",
    "            B.nodes[director_id].update({\n",
    "                'name': director['director_name']\n",
    "            })\n",
    "    \n",
    "    return B"
   ]
  },
  {
   "cell_type": "code",
   "execution_count": 104,
   "id": "0b0c0967-9e74-493c-9c70-6b4a35d80fc2",
   "metadata": {},
   "outputs": [
    {
     "name": "stderr",
     "output_type": "stream",
     "text": [
      "Nodes for actors: 2316it [00:00, 21440.22it/s]\n",
      "Nodes for directors: 23518it [00:00, 25196.86it/s]\n",
      "Edges of network: 68960it [00:03, 21887.30it/s]\n",
      "adding actors attributes: 2316it [00:00, 19170.59it/s]\n",
      "adding directors attributes: 23518it [00:00, 26720.20it/s]\n"
     ]
    }
   ],
   "source": [
    "B_network = create_bipartite_network_actor_director(Actor_Success, Director, min_movies=10)"
   ]
  },
  {
   "cell_type": "code",
   "execution_count": 105,
   "id": "36dc2faa-6cac-4d68-97a3-df33ce1c89d9",
   "metadata": {},
   "outputs": [],
   "source": [
    "#remove the nodes that are nans                \n",
    "nan_nodes = [node for node in B_network.nodes if pd.isna(node)] \n",
    "B_network.remove_nodes_from(nan_nodes)"
   ]
  },
  {
   "cell_type": "code",
   "execution_count": 106,
   "id": "33c1ffc0-61d5-436d-9038-e5f8d08a6b26",
   "metadata": {},
   "outputs": [
    {
     "data": {
      "image/png": "[encoded data removed]",
      "text/plain": [
       "<Figure size 640x480 with 1 Axes>"
      ]
     },
     "metadata": {},
     "output_type": "display_data"
    }
   ],
   "source": [
    "X, Y = bipartite.sets(B_network)\n",
    "pos = dict()\n",
    "pos.update( (n, (1, i)) for i, n in enumerate(X) ) # put nodes from X at x=1\n",
    "pos.update( (n, (2, i)) for i, n in enumerate(Y) ) # put nodes from Y at x=2\n",
    "nx.draw(B_network, pos=pos)\n",
    "plt.show()"
   ]
  }
 ],
 "metadata": {
  "kernelspec": {
   "display_name": "Python [conda env:ada] *",
   "language": "python",
   "name": "conda-env-ada-py"
  },
  "language_info": {
   "codemirror_mode": {
    "name": "ipython",
    "version": 3
   },
   "file_extension": ".py",
   "mimetype": "text/x-python",
   "name": "python",
   "nbconvert_exporter": "python",
   "pygments_lexer": "ipython3",
   "version": "3.11.9"
  }
 },
 "nbformat": 4,
 "nbformat_minor": 5
}
