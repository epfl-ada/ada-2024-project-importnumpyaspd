{
 "cells": [
  {
   "cell_type": "code",
   "execution_count": 1,
   "id": "d0c52910-8b7c-4f28-b3b9-413bbe83aa3d",
   "metadata": {},
   "outputs": [
    {
     "data": {
      "text/plain": [
       "'\\nFile name: read_data.py\\nAuthor: ImportNumpyAsPd\\nDate created: 31/10/2024\\nDate last modified: 31/10/2024\\n'"
      ]
     },
     "execution_count": 1,
     "metadata": {},
     "output_type": "execute_result"
    }
   ],
   "source": [
    "\"\"\"\n",
    "File name: read_data.py\n",
    "Author: ImportNumpyAsPd\n",
    "Date created: 31/10/2024\n",
    "Date last modified: 31/10/2024\n",
    "\"\"\""
   ]
  },
  {
   "cell_type": "code",
   "execution_count": 2,
   "id": "0505d298-12f2-4dad-a61c-57841a4f6c07",
   "metadata": {},
   "outputs": [],
   "source": [
    "# some basic imports\n",
    "import os\n",
    "import pandas as pd\n",
    "import numpy as np\n",
    "import matplotlib.pyplot as plt"
   ]
  },
  {
   "cell_type": "code",
   "execution_count": null,
   "id": "e20921e1-b72d-49ca-999f-1aea778bbe5b",
   "metadata": {},
   "outputs": [],
   "source": [
    "#path data \n",
    "data_path_CMU = './data/CMU/'\n",
    "data_path_IMDb = './data/IMDb/'\n",
    "\n",
    "#Names of columns for the data CMU\n",
    "NAMES_MOVIES = ['Wikipedia movie ID','Freebase movie ID','Movie name','Movie release date','Movie box office revenue','Movie runtime','Movie languages','Movie countries','Movie genres']\n",
    "NAMES_CHARACTER = ['Character Name','Actor DOB','Actor gender','Actor height','Actor ethnicity','Actor Name','Actor age at movie release','Freebase character/actor map ID', 'Freebase character ID', 'Freebase actor ID']\n",
    "\n",
    "#Names of columns for the data IMDb\n",
    "NAMES_BASICS = ['IMDb director ID', 'Name of the director']\n",
    "NAMES_BASICS_2 = ['IMDb title ID', 'Type', 'Primary title', 'Original title']\n",
    "NAMES_CREW = ['IMDb title ID','IMDb director ID', 'IMDb writers ID']\n",
    "\n",
    "#Read data CMU \n",
    "df_CMU_character = pd.read_csv(data_path_CMU+'character.metadata.tsv', sep='\\t', names = NAMES_CHARACTER, header = None)\n",
    "df_CMU_movies = pd.read_csv(data_path_CMU+'movie.metadata.tsv', sep='\\t', names = NAMES_MOVIES, header = None)\n",
    "\n",
    "#Read data IMDb\n",
    "df_IMDb_name = pd.read_csv(data_path_IMDb+'name.basics_Movie.tsv', sep='\\t', names = NAMES_BASICS, header = None)\n",
    "df_IMDb_basics = pd.read_csv(data_path_IMDb+'title.basics_Movie.tsv', sep='\\t', names = NAMES_BASICS_2, header = None)\n",
    "df_IMDb_crew = pd.read_csv(data_path_IMDb+'title.crew_Movie.tsv', sep='\\t', names = NAMES_CREW, header = None)\n",
    "df_IMDb_ratings = pd.read_csv(data_path_IMDb+'title.ratings.tsv', sep='\\t')\n",
    "df_IMDb_ratings.rename(columns={'tconst': 'IMDb title ID'}, inplace=True)\n",
    "\n",
    "#Name of the datasets\n",
    "datasets = ['df_CMU_character','df_CMU_movies','df_IMDb_name','df_IMDb_basics','df_IMDb_crew',\n",
    "            'df_IMDb_ratings']\n",
    "#Make it a dictionary\n",
    "df_all = {'df_CMU_character': df_CMU_character,'df_CMU_movies': df_CMU_movies,\n",
    "          'df_IMDb_name': df_IMDb_name,'df_IMDb_basics': df_IMDb_basics,\n",
    "          'df_IMDb_crew': df_IMDb_crew,'df_IMDb_ratings': df_IMDb_ratings}"
   ]
  },
  {
   "cell_type": "code",
   "execution_count": null,
   "id": "b4eba9d6-8061-4668-b23d-9c67e37cb956",
   "metadata": {},
   "outputs": [],
   "source": [
    "#note \n",
    "\n",
    "#y a des colonnes qui ont des entrées 'str', d'autre 'int', etc \n",
    "#a voir s'il faut clean up les datas, genre movie id wiki c'est en 'int' et peut etre \n",
    "#c'est mieux en 'str'\n",
    "\n",
    "#aussi on a des multi-index sur character dataset-> a voir si on veut les tejs ou pas\n",
    "#Si on veut tej\n",
    "#NAMES_CHARACTER = ['Wikipedia movie ID','Freebase movie ID','Movie release date','Character Name','Actor DOB','Actor gender','Actor height','Actor ethnicity','Actor Name','Actor age at movie release','Freebase character map', 'Unknown1', 'Unknown2']\n",
    "#df_character = pd.read_csv(data_path+'character.metadata.tsv', sep='\\t', names = NAMES_CHARACTER, index_col= False, header = None)"
   ]
  },
  {
   "cell_type": "code",
   "execution_count": null,
   "id": "ccc00804-62e1-4d42-8915-f97689b49650",
   "metadata": {},
   "outputs": [],
   "source": [
    "df_CMU_character.head()"
   ]
  },
  {
   "cell_type": "code",
   "execution_count": null,
   "id": "71615c1d-4f71-491e-a930-f8140164286a",
   "metadata": {},
   "outputs": [],
   "source": [
    "df_CMU_movies.head()"
   ]
  },
  {
   "cell_type": "code",
   "execution_count": null,
   "id": "5b73910e-bfd6-42af-87ef-ea99e82fc118",
   "metadata": {},
   "outputs": [],
   "source": [
    "df_IMDb_name.head()"
   ]
  },
  {
   "cell_type": "code",
   "execution_count": null,
   "id": "c98f85df-702c-4d42-8739-1f67976bc73c",
   "metadata": {},
   "outputs": [],
   "source": [
    "df_IMDb_basics.head()"
   ]
  },
  {
   "cell_type": "code",
   "execution_count": null,
   "id": "53ca5b3d-bf12-4602-9205-92cbdcf8a968",
   "metadata": {},
   "outputs": [],
   "source": [
    "df_IMDb_crew.head()"
   ]
  },
  {
   "cell_type": "code",
   "execution_count": null,
   "id": "e10954a0-fd30-4358-9f9c-deefe7016490",
   "metadata": {},
   "outputs": [],
   "source": [
    "df_IMDb_ratings.head()"
   ]
  },
  {
   "cell_type": "code",
   "execution_count": null,
   "id": "f64de2c2-038b-4a37-b502-83a47692d877",
   "metadata": {},
   "outputs": [],
   "source": [
    "# printing the size and shape of the different dataframes :\n",
    "for name, df_i in df_all.items():\n",
    "    print(f\"Name of the dataframe : {name}, its size : {df_i.size}, its shape : {df_i.shape}\")"
   ]
  },
  {
   "cell_type": "code",
   "execution_count": null,
   "id": "7dd86e58-6513-4dc3-9a6c-0ef23a340568",
   "metadata": {},
   "outputs": [],
   "source": [
    "#create a function to merge two dataset\n",
    "def merging(df1, df2, HOW ='inner') : \n",
    "    return pd.merge(df1, df2, how = HOW)"
   ]
  },
  {
   "cell_type": "code",
   "execution_count": null,
   "id": "d8fda40c-65a3-42aa-aac5-3bd71d3fa696",
   "metadata": {},
   "outputs": [],
   "source": [
    "first_merge = merging(df_IMDb_crew, df_IMDb_name)"
   ]
  },
  {
   "cell_type": "code",
   "execution_count": null,
   "id": "4eb380b7-7c43-45ee-86cc-c3985d408b40",
   "metadata": {},
   "outputs": [],
   "source": [
    "second_merge = merging(first_merge, df_IMDb_basics)"
   ]
  },
  {
   "cell_type": "code",
   "execution_count": null,
   "id": "12babb3a-d684-428c-a711-7e7cfe85563d",
   "metadata": {},
   "outputs": [],
   "source": [
    "third_merge = merging(second_merge, df_IMDb_ratings)"
   ]
  },
  {
   "cell_type": "code",
   "execution_count": null,
   "id": "f52f4759-d815-4c90-b95f-0064df8c1032",
   "metadata": {},
   "outputs": [],
   "source": [
    "third_merge['IMDb title ID'].is_unique"
   ]
  },
  {
   "cell_type": "code",
   "execution_count": null,
   "id": "db73ca07-8bf8-4a4e-9950-499663c59d9f",
   "metadata": {},
   "outputs": [],
   "source": [
    "third_merge.shape"
   ]
  },
  {
   "cell_type": "code",
   "execution_count": null,
   "id": "4e615574-fe02-4e24-ad17-227fdac7777c",
   "metadata": {},
   "outputs": [],
   "source": [
    "third_merge.head()"
   ]
  },
  {
   "cell_type": "code",
   "execution_count": null,
   "id": "fc08da3a-6bf9-4e5f-9973-2b1ba8833615",
   "metadata": {},
   "outputs": [],
   "source": [
    "df_CMU_movies[df_CMU_movies['Movie name']=='Mirage']"
   ]
  },
  {
   "cell_type": "code",
   "execution_count": null,
   "id": "20a5ba03-ee41-4ee9-bc16-d308288ec403",
   "metadata": {},
   "outputs": [],
   "source": [
    "#find if any duplicates movie names\n",
    "dup = df_CMU_movies[df_CMU_movies.duplicated(subset = 'Movie name', keep = False)]\n",
    "dup"
   ]
  },
  {
   "cell_type": "code",
   "execution_count": 33,
   "id": "5193c29e-26c5-4314-a394-454fcc7409d0",
   "metadata": {},
   "outputs": [
    {
     "data": {
      "text/plain": [
       "285031"
      ]
     },
     "execution_count": 33,
     "metadata": {},
     "output_type": "execute_result"
    }
   ],
   "source": [
    "third_merge['Original title'].eq(dup['Movie name']).shape[0]"
   ]
  },
  {
   "cell_type": "code",
   "execution_count": null,
   "id": "ad2107d9-4f24-4672-bd4b-4b12ac102954",
   "metadata": {},
   "outputs": [],
   "source": []
  }
 ],
 "metadata": {
  "kernelspec": {
   "display_name": "Python [conda env:base]",
   "language": "python",
   "name": "conda-base-py"
  },
  "language_info": {
   "codemirror_mode": {
    "name": "ipython",
    "version": 3
   },
   "file_extension": ".py",
   "mimetype": "text/x-python",
   "name": "python",
   "nbconvert_exporter": "python",
   "pygments_lexer": "ipython3",
   "version": "3.12.3"
  }
 },
 "nbformat": 4,
 "nbformat_minor": 5
}
