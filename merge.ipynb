{
 "cells": [
  {
   "cell_type": "code",
   "execution_count": 2,
   "id": "07b8049d-8ce2-46d6-a174-a8adc8c0fab9",
   "metadata": {},
   "outputs": [],
   "source": [
    "# pip install nbformat\n"
   ]
  },
  {
   "cell_type": "code",
   "execution_count": 3,
   "id": "8abf7041-3d5e-47b8-82bc-00ca26213cc6",
   "metadata": {},
   "outputs": [
    {
     "name": "stdout",
     "output_type": "stream",
     "text": [
      "Merged notebooks saved to merged_notebook.ipynb\n"
     ]
    }
   ],
   "source": [
    "import nbformat\n",
    "from nbformat.v4 import new_notebook\n",
    "\n",
    "def merge_notebooks(notebook_files, output_file):\n",
    "    # Create an empty notebook to hold merged content\n",
    "    merged_notebook = new_notebook()\n",
    "\n",
    "    # Loop through each notebook file\n",
    "    for file in notebook_files:\n",
    "        with open(file, 'r', encoding='utf-8') as f:\n",
    "            # Read the notebook\n",
    "            notebook = nbformat.read(f, as_version=4)\n",
    "            # Append cells from the current notebook to the merged notebook\n",
    "            merged_notebook.cells.extend(notebook.cells)\n",
    "\n",
    "    # Save the merged notebook\n",
    "    with open(output_file, 'w', encoding='utf-8') as f:\n",
    "        nbformat.write(merged_notebook, f)\n",
    "    print(f\"Merged notebooks saved to {output_file}\")\n",
    "\n",
    "# Example usage\n",
    "notebooks_to_merge = [\"cleaning_data.ipynb\", \"Director_Actor.ipynb\"]\n",
    "merge_notebooks(notebooks_to_merge, \"merged_notebook.ipynb\")\n"
   ]
  },
  {
   "cell_type": "code",
   "execution_count": null,
   "id": "f31c5fda-be6e-49ee-bede-98fafe4dd475",
   "metadata": {},
   "outputs": [],
   "source": []
  }
 ],
 "metadata": {
  "kernelspec": {
   "display_name": "Python [conda env:ada] *",
   "language": "python",
   "name": "conda-env-ada-py"
  },
  "language_info": {
   "codemirror_mode": {
    "name": "ipython",
    "version": 3
   },
   "file_extension": ".py",
   "mimetype": "text/x-python",
   "name": "python",
   "nbconvert_exporter": "python",
   "pygments_lexer": "ipython3",
   "version": "3.11.10"
  }
 },
 "nbformat": 4,
 "nbformat_minor": 5
}
