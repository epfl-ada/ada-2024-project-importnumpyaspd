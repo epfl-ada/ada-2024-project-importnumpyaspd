{
 "cells": [
  {
   "cell_type": "code",
   "execution_count": 50,
   "id": "1e2f5d75-42cc-4dfd-a8fb-68ffbffe4dd4",
   "metadata": {},
   "outputs": [],
   "source": [
    "import pickle \n",
    "import numpy as np \n",
    "import pandas as pd\n",
    "import networkx as nx\n",
    "from tqdm import tqdm\n",
    "import time\n",
    "import datetime"
   ]
  },
  {
   "cell_type": "code",
   "execution_count": 52,
   "id": "cfe6feef-fe74-4c28-ae47-244c6869c8cd",
   "metadata": {},
   "outputs": [],
   "source": [
    "movie_path = 'data/Movie.pkl'\n",
    "characters_path = 'data/Character.pkl'\n",
    "\n",
    "with open(movie_path, 'rb') as file:\n",
    "    Movie = pickle.load(file)\n",
    "\n",
    "with open(characters_path, 'rb') as file:\n",
    "    Characters = pickle.load(file)"
   ]
  },
  {
   "cell_type": "markdown",
   "id": "9067ff9a-36d7-405b-a5b0-0e3ce660d806",
   "metadata": {},
   "source": [
    "# Network analysis through time "
   ]
  },
  {
   "cell_type": "markdown",
   "id": "442c7159-47d7-4586-acd4-f36944c430cb",
   "metadata": {},
   "source": [
    "How is an actor network’s impacted during his career ?\n",
    "What impacts this evolution ? ethnicity, gender, genre of movie\n",
    "Impact of a specific movie on relation and network of actors ?"
   ]
  },
  {
   "cell_type": "markdown",
   "id": "bdd3d5cd-7497-4258-8db5-46a52c336777",
   "metadata": {},
   "source": [
    "Here is the global stategy that we will use to analyse the evolution of Networks between actors:\n",
    "\n",
    "1) Create networks using the list of actors that played in each film\n",
    "2) Extract metrics form the networks\n",
    "3) Do the same for each year\n",
    "4) Analyse the evolution of the metrics from the networks and compare them with other informatrion on the actor carrer evolution"
   ]
  },
  {
   "cell_type": "markdown",
   "id": "46a10b34-c2d1-4877-a940-8f3cc5540c69",
   "metadata": {},
   "source": [
    "### 1. Create Networks"
   ]
  },
  {
   "cell_type": "markdown",
   "id": "d47aa5ac-f765-4e7c-9874-552969280853",
   "metadata": {},
   "source": [
    "Use the `Characters` dataset to create new columns to the `Movie` dataset containing the list of the actors that played in each movie."
   ]
  },
  {
   "cell_type": "code",
   "execution_count": 54,
   "id": "16b4b3e9-7937-4f57-b5d7-345adf13cbdc",
   "metadata": {},
   "outputs": [],
   "source": [
    "grouped_actors = Characters.groupby('Freebase_movie_ID').agg({\n",
    "    'Actor_Name': list,\n",
    "    'Freebase_actor_ID': list\n",
    "}).reset_index()\n",
    "\n",
    "# Merge the grouped actors data with the movies data\n",
    "movies_with_actors = Movie.merge(grouped_actors, on='Freebase_movie_ID', how='left')\n",
    "\n",
    "movies_with_actors.rename(columns={'Actor_Name': 'Actors', 'Freebase_actor_ID': 'Actor_IDs'}, inplace=True)\n",
    "\n",
    "movies_with_actors = movies_with_actors[movies_with_actors.Actor_IDs.notna()]"
   ]
  },
  {
   "cell_type": "code",
   "execution_count": 55,
   "id": "51f5d725-7457-4674-b462-39e2bc92f38a",
   "metadata": {},
   "outputs": [
    {
     "data": {
      "text/html": [
       "<div>\n",
       "<style scoped>\n",
       "    .dataframe tbody tr th:only-of-type {\n",
       "        vertical-align: middle;\n",
       "    }\n",
       "\n",
       "    .dataframe tbody tr th {\n",
       "        vertical-align: top;\n",
       "    }\n",
       "\n",
       "    .dataframe thead th {\n",
       "        text-align: right;\n",
       "    }\n",
       "</style>\n",
       "<table border=\"1\" class=\"dataframe\">\n",
       "  <thead>\n",
       "    <tr style=\"text-align: right;\">\n",
       "      <th></th>\n",
       "      <th>IMDb_title_ID</th>\n",
       "      <th>release_date</th>\n",
       "      <th>runtime</th>\n",
       "      <th>Primary_title</th>\n",
       "      <th>Original_title</th>\n",
       "      <th>Average rating</th>\n",
       "      <th>number of votes</th>\n",
       "      <th>IMDb_director_ID</th>\n",
       "      <th>IMDb_writers_ID</th>\n",
       "      <th>modified_title_x</th>\n",
       "      <th>...</th>\n",
       "      <th>Movie_name</th>\n",
       "      <th>Movie_release_date</th>\n",
       "      <th>Movie_box_office_revenue</th>\n",
       "      <th>Movie_runtime</th>\n",
       "      <th>Movie_languages</th>\n",
       "      <th>Movie_countries</th>\n",
       "      <th>Movie_genres</th>\n",
       "      <th>modified_title_y</th>\n",
       "      <th>Actors</th>\n",
       "      <th>Actor_IDs</th>\n",
       "    </tr>\n",
       "  </thead>\n",
       "  <tbody>\n",
       "    <tr>\n",
       "      <th>1</th>\n",
       "      <td>tt0000147</td>\n",
       "      <td>1897</td>\n",
       "      <td>100</td>\n",
       "      <td>The Corbett-Fitzsimmons Fight</td>\n",
       "      <td>The Corbett-Fitzsimmons Fight</td>\n",
       "      <td>5.2</td>\n",
       "      <td>539.0</td>\n",
       "      <td>nm0714557</td>\n",
       "      <td>\\N</td>\n",
       "      <td>thecorbettfitzsimmonsfight</td>\n",
       "      <td>...</td>\n",
       "      <td>The Corbett-Fitzsimmons Fight</td>\n",
       "      <td>1897</td>\n",
       "      <td>100000.0</td>\n",
       "      <td>NaN</td>\n",
       "      <td>{}</td>\n",
       "      <td>{}</td>\n",
       "      <td>{\"/m/01z02hx\": \"Sports\"}</td>\n",
       "      <td>thecorbettfitzsimmonsfight</td>\n",
       "      <td>[James J. Corbett]</td>\n",
       "      <td>[/m/037fcq]</td>\n",
       "    </tr>\n",
       "    <tr>\n",
       "      <th>2</th>\n",
       "      <td>tt0000574</td>\n",
       "      <td>1906</td>\n",
       "      <td>70</td>\n",
       "      <td>The Story of the Kelly Gang</td>\n",
       "      <td>The Story of the Kelly Gang</td>\n",
       "      <td>6.0</td>\n",
       "      <td>938.0</td>\n",
       "      <td>nm0846879</td>\n",
       "      <td>nm0846879</td>\n",
       "      <td>thestoryofthekellygang</td>\n",
       "      <td>...</td>\n",
       "      <td>The Story of the Kelly Gang</td>\n",
       "      <td>1906</td>\n",
       "      <td>NaN</td>\n",
       "      <td>70.0</td>\n",
       "      <td>{\"/m/02h40lc\": \"English Language\"}</td>\n",
       "      <td>{\"/m/0chghy\": \"Australia\"}</td>\n",
       "      <td>{\"/m/0lsxr\": \"Crime Fiction\", \"/m/06ppq\": \"Sil...</td>\n",
       "      <td>thestoryofthekellygang</td>\n",
       "      <td>[Mr. Marshall, Vera Linden, John Tait, Elizabe...</td>\n",
       "      <td>[/m/0bxl506, /m/0bxl4__, /m/0k6ksg, /m/0k6ks8,...</td>\n",
       "    </tr>\n",
       "    <tr>\n",
       "      <th>3</th>\n",
       "      <td>tt0000630</td>\n",
       "      <td>1908</td>\n",
       "      <td>\\N</td>\n",
       "      <td>Hamlet</td>\n",
       "      <td>Amleto</td>\n",
       "      <td>3.0</td>\n",
       "      <td>29.0</td>\n",
       "      <td>nm0143333</td>\n",
       "      <td>nm0000636</td>\n",
       "      <td>hamlet</td>\n",
       "      <td>...</td>\n",
       "      <td>Hamlet</td>\n",
       "      <td>1908</td>\n",
       "      <td>NaN</td>\n",
       "      <td>NaN</td>\n",
       "      <td>{\"/m/064_8sq\": \"French Language\"}</td>\n",
       "      <td>{\"/m/0f8l9c\": \"France\"}</td>\n",
       "      <td>{\"/m/06ppq\": \"Silent film\", \"/m/07s9rl0\": \"Dra...</td>\n",
       "      <td>hamlet</td>\n",
       "      <td>[Jacques Grétillat, Gabrielle Colonna-Romano, ...</td>\n",
       "      <td>[/m/0j638jf, /m/03nrkh8, /m/03ns9y5, /m/0n647jr]</td>\n",
       "    </tr>\n",
       "    <tr>\n",
       "      <th>4</th>\n",
       "      <td>tt0000679</td>\n",
       "      <td>1908</td>\n",
       "      <td>120</td>\n",
       "      <td>The Fairylogue and Radio-Plays</td>\n",
       "      <td>The Fairylogue and Radio-Plays</td>\n",
       "      <td>5.2</td>\n",
       "      <td>76.0</td>\n",
       "      <td>nm0091767,nm0877783</td>\n",
       "      <td>nm0000875,nm0877783</td>\n",
       "      <td>thefairylogueandradioplays</td>\n",
       "      <td>...</td>\n",
       "      <td>The Fairylogue and Radio-Plays</td>\n",
       "      <td>1908</td>\n",
       "      <td>NaN</td>\n",
       "      <td>120.0</td>\n",
       "      <td>{\"/m/02h40lc\": \"English Language\"}</td>\n",
       "      <td>{\"/m/09c7w0\": \"United States of America\"}</td>\n",
       "      <td>{\"/m/06ppq\": \"Silent film\", \"/m/01g6gs\": \"Blac...</td>\n",
       "      <td>thefairylogueandradioplays</td>\n",
       "      <td>[Romola Remus, L. Frank Baum]</td>\n",
       "      <td>[/m/0g0907, /m/04mby]</td>\n",
       "    </tr>\n",
       "    <tr>\n",
       "      <th>6</th>\n",
       "      <td>tt0001230</td>\n",
       "      <td>1910</td>\n",
       "      <td>\\N</td>\n",
       "      <td>Gentleman Joe</td>\n",
       "      <td>Gentleman Joe</td>\n",
       "      <td>5.5</td>\n",
       "      <td>33.0</td>\n",
       "      <td>\\N</td>\n",
       "      <td>\\N</td>\n",
       "      <td>gentlemanjoe</td>\n",
       "      <td>...</td>\n",
       "      <td>Gentleman Joe</td>\n",
       "      <td>1910</td>\n",
       "      <td>NaN</td>\n",
       "      <td>NaN</td>\n",
       "      <td>{\"/m/06ppq\": \"Silent film\", \"/m/02h40lc\": \"Eng...</td>\n",
       "      <td>{\"/m/09c7w0\": \"United States of America\"}</td>\n",
       "      <td>{\"/m/02hmvc\": \"Short Film\", \"/m/06ppq\": \"Silen...</td>\n",
       "      <td>gentlemanjoe</td>\n",
       "      <td>[Harry Carey]</td>\n",
       "      <td>[/m/03fpwp]</td>\n",
       "    </tr>\n",
       "  </tbody>\n",
       "</table>\n",
       "<p>5 rows × 22 columns</p>\n",
       "</div>"
      ],
      "text/plain": [
       "  IMDb_title_ID  release_date runtime                   Primary_title  \\\n",
       "1     tt0000147          1897     100   The Corbett-Fitzsimmons Fight   \n",
       "2     tt0000574          1906      70     The Story of the Kelly Gang   \n",
       "3     tt0000630          1908      \\N                          Hamlet   \n",
       "4     tt0000679          1908     120  The Fairylogue and Radio-Plays   \n",
       "6     tt0001230          1910      \\N                   Gentleman Joe   \n",
       "\n",
       "                   Original_title  Average rating  number of votes  \\\n",
       "1   The Corbett-Fitzsimmons Fight             5.2            539.0   \n",
       "2     The Story of the Kelly Gang             6.0            938.0   \n",
       "3                          Amleto             3.0             29.0   \n",
       "4  The Fairylogue and Radio-Plays             5.2             76.0   \n",
       "6                   Gentleman Joe             5.5             33.0   \n",
       "\n",
       "      IMDb_director_ID      IMDb_writers_ID            modified_title_x  ...  \\\n",
       "1            nm0714557                   \\N  thecorbettfitzsimmonsfight  ...   \n",
       "2            nm0846879            nm0846879      thestoryofthekellygang  ...   \n",
       "3            nm0143333            nm0000636                      hamlet  ...   \n",
       "4  nm0091767,nm0877783  nm0000875,nm0877783  thefairylogueandradioplays  ...   \n",
       "6                   \\N                   \\N                gentlemanjoe  ...   \n",
       "\n",
       "                       Movie_name Movie_release_date Movie_box_office_revenue  \\\n",
       "1   The Corbett-Fitzsimmons Fight               1897                 100000.0   \n",
       "2     The Story of the Kelly Gang               1906                      NaN   \n",
       "3                          Hamlet               1908                      NaN   \n",
       "4  The Fairylogue and Radio-Plays               1908                      NaN   \n",
       "6                   Gentleman Joe               1910                      NaN   \n",
       "\n",
       "   Movie_runtime                                    Movie_languages  \\\n",
       "1            NaN                                                 {}   \n",
       "2           70.0                 {\"/m/02h40lc\": \"English Language\"}   \n",
       "3            NaN                  {\"/m/064_8sq\": \"French Language\"}   \n",
       "4          120.0                 {\"/m/02h40lc\": \"English Language\"}   \n",
       "6            NaN  {\"/m/06ppq\": \"Silent film\", \"/m/02h40lc\": \"Eng...   \n",
       "\n",
       "                             Movie_countries  \\\n",
       "1                                         {}   \n",
       "2                 {\"/m/0chghy\": \"Australia\"}   \n",
       "3                    {\"/m/0f8l9c\": \"France\"}   \n",
       "4  {\"/m/09c7w0\": \"United States of America\"}   \n",
       "6  {\"/m/09c7w0\": \"United States of America\"}   \n",
       "\n",
       "                                        Movie_genres  \\\n",
       "1                           {\"/m/01z02hx\": \"Sports\"}   \n",
       "2  {\"/m/0lsxr\": \"Crime Fiction\", \"/m/06ppq\": \"Sil...   \n",
       "3  {\"/m/06ppq\": \"Silent film\", \"/m/07s9rl0\": \"Dra...   \n",
       "4  {\"/m/06ppq\": \"Silent film\", \"/m/01g6gs\": \"Blac...   \n",
       "6  {\"/m/02hmvc\": \"Short Film\", \"/m/06ppq\": \"Silen...   \n",
       "\n",
       "             modified_title_y  \\\n",
       "1  thecorbettfitzsimmonsfight   \n",
       "2      thestoryofthekellygang   \n",
       "3                      hamlet   \n",
       "4  thefairylogueandradioplays   \n",
       "6                gentlemanjoe   \n",
       "\n",
       "                                              Actors  \\\n",
       "1                                 [James J. Corbett]   \n",
       "2  [Mr. Marshall, Vera Linden, John Tait, Elizabe...   \n",
       "3  [Jacques Grétillat, Gabrielle Colonna-Romano, ...   \n",
       "4                      [Romola Remus, L. Frank Baum]   \n",
       "6                                      [Harry Carey]   \n",
       "\n",
       "                                           Actor_IDs  \n",
       "1                                        [/m/037fcq]  \n",
       "2  [/m/0bxl506, /m/0bxl4__, /m/0k6ksg, /m/0k6ks8,...  \n",
       "3   [/m/0j638jf, /m/03nrkh8, /m/03ns9y5, /m/0n647jr]  \n",
       "4                              [/m/0g0907, /m/04mby]  \n",
       "6                                        [/m/03fpwp]  \n",
       "\n",
       "[5 rows x 22 columns]"
      ]
     },
     "execution_count": 55,
     "metadata": {},
     "output_type": "execute_result"
    }
   ],
   "source": [
    "movies_with_actors.head()"
   ]
  },
  {
   "cell_type": "markdown",
   "id": "e6076404-496b-4477-bc74-c28d6ab1096b",
   "metadata": {},
   "source": [
    "Use the `Characters` dataset to create an other dataset containing all the information for each actors"
   ]
  },
  {
   "cell_type": "code",
   "execution_count": 57,
   "id": "8d4bee50-6820-41cc-9e89-90046738d1e9",
   "metadata": {},
   "outputs": [],
   "source": [
    "Actors = (\n",
    "    Characters.groupby(\"Freebase_actor_ID\")\n",
    "    .agg({\n",
    "        \"Actor_Name\": \"first\",  \n",
    "        \"Actor_DOB\": \"first\",  \n",
    "        \"Actor_gender\": \"first\",  \n",
    "        \"Actor_height\": \"first\",\n",
    "        \"Actor_ethnicity\": \"first\", \n",
    "        \"Wikipedia_movie_ID\": list, \n",
    "        \"Freebase_movie_ID\": list, \n",
    "        \"Actor_age_at_movie_release\": list, \n",
    "    })\n",
    "    .reset_index() \n",
    ")"
   ]
  },
  {
   "cell_type": "code",
   "execution_count": 58,
   "id": "5d2f00b5-ed59-405c-af3e-7fa4d3283f00",
   "metadata": {},
   "outputs": [
    {
     "data": {
      "text/html": [
       "<div>\n",
       "<style scoped>\n",
       "    .dataframe tbody tr th:only-of-type {\n",
       "        vertical-align: middle;\n",
       "    }\n",
       "\n",
       "    .dataframe tbody tr th {\n",
       "        vertical-align: top;\n",
       "    }\n",
       "\n",
       "    .dataframe thead th {\n",
       "        text-align: right;\n",
       "    }\n",
       "</style>\n",
       "<table border=\"1\" class=\"dataframe\">\n",
       "  <thead>\n",
       "    <tr style=\"text-align: right;\">\n",
       "      <th></th>\n",
       "      <th>Freebase_actor_ID</th>\n",
       "      <th>Actor_Name</th>\n",
       "      <th>Actor_DOB</th>\n",
       "      <th>Actor_gender</th>\n",
       "      <th>Actor_height</th>\n",
       "      <th>Actor_ethnicity</th>\n",
       "      <th>Wikipedia_movie_ID</th>\n",
       "      <th>Freebase_movie_ID</th>\n",
       "      <th>Actor_age_at_movie_release</th>\n",
       "    </tr>\n",
       "  </thead>\n",
       "  <tbody>\n",
       "    <tr>\n",
       "      <th>0</th>\n",
       "      <td>/m/010p3</td>\n",
       "      <td>Adam Carolla</td>\n",
       "      <td>1964-05-27</td>\n",
       "      <td>M</td>\n",
       "      <td>1.88</td>\n",
       "      <td>/m/0xnvg</td>\n",
       "      <td>[4209429, 2981197, 23760243, 1988341, 1988341,...</td>\n",
       "      <td>[/m/0bq2wj, /m/08hjr9, /m/06zm9p7, /m/06c5z_, ...</td>\n",
       "      <td>[35.0, 35.0, 45.0, 33.0, 33.0, 34.0, 42.0, 35....</td>\n",
       "    </tr>\n",
       "    <tr>\n",
       "      <th>1</th>\n",
       "      <td>/m/010q36</td>\n",
       "      <td>Fred Rogers</td>\n",
       "      <td>1928-03-20</td>\n",
       "      <td>M</td>\n",
       "      <td>NaN</td>\n",
       "      <td>None</td>\n",
       "      <td>[21132353]</td>\n",
       "      <td>[/m/033pf1]</td>\n",
       "      <td>[67.0]</td>\n",
       "    </tr>\n",
       "    <tr>\n",
       "      <th>2</th>\n",
       "      <td>/m/010wx</td>\n",
       "      <td>Aria Giovanni</td>\n",
       "      <td>1977-11-03</td>\n",
       "      <td>F</td>\n",
       "      <td>1.68</td>\n",
       "      <td>/m/03q819</td>\n",
       "      <td>[2479658]</td>\n",
       "      <td>[/m/07gx0c]</td>\n",
       "      <td>[25.0]</td>\n",
       "    </tr>\n",
       "    <tr>\n",
       "      <th>3</th>\n",
       "      <td>/m/010xjr</td>\n",
       "      <td>Richard Harris</td>\n",
       "      <td>1930-10-01</td>\n",
       "      <td>M</td>\n",
       "      <td>1.85</td>\n",
       "      <td>/m/03bkbh</td>\n",
       "      <td>[5021678, 2390369, 924954, 28686989, 28192781,...</td>\n",
       "      <td>[/m/0c_6bf, /m/078mm1, /m/03qfyt, /m/0cz7_4w, ...</td>\n",
       "      <td>[66.0, 46.0, nan, 59.0, 48.0, 39.0, 66.0, 50.0...</td>\n",
       "    </tr>\n",
       "    <tr>\n",
       "      <th>4</th>\n",
       "      <td>/m/0112yl</td>\n",
       "      <td>Toshiro Mifune</td>\n",
       "      <td>1920-04-01</td>\n",
       "      <td>M</td>\n",
       "      <td>1.74</td>\n",
       "      <td>None</td>\n",
       "      <td>[1432855, 21144547, 1358704, 312498, 16083779,...</td>\n",
       "      <td>[/m/0513nd, /m/05c2g3q, /m/04wjg1, /m/01tch8, ...</td>\n",
       "      <td>[31.0, 42.0, 45.0, 41.0, 62.0, 29.0, 30.0, 38....</td>\n",
       "    </tr>\n",
       "  </tbody>\n",
       "</table>\n",
       "</div>"
      ],
      "text/plain": [
       "  Freebase_actor_ID      Actor_Name   Actor_DOB Actor_gender  Actor_height  \\\n",
       "0          /m/010p3    Adam Carolla  1964-05-27            M          1.88   \n",
       "1         /m/010q36     Fred Rogers  1928-03-20            M           NaN   \n",
       "2          /m/010wx   Aria Giovanni  1977-11-03            F          1.68   \n",
       "3         /m/010xjr  Richard Harris  1930-10-01            M          1.85   \n",
       "4         /m/0112yl  Toshiro Mifune  1920-04-01            M          1.74   \n",
       "\n",
       "  Actor_ethnicity                                 Wikipedia_movie_ID  \\\n",
       "0        /m/0xnvg  [4209429, 2981197, 23760243, 1988341, 1988341,...   \n",
       "1            None                                         [21132353]   \n",
       "2       /m/03q819                                          [2479658]   \n",
       "3       /m/03bkbh  [5021678, 2390369, 924954, 28686989, 28192781,...   \n",
       "4            None  [1432855, 21144547, 1358704, 312498, 16083779,...   \n",
       "\n",
       "                                   Freebase_movie_ID  \\\n",
       "0  [/m/0bq2wj, /m/08hjr9, /m/06zm9p7, /m/06c5z_, ...   \n",
       "1                                        [/m/033pf1]   \n",
       "2                                        [/m/07gx0c]   \n",
       "3  [/m/0c_6bf, /m/078mm1, /m/03qfyt, /m/0cz7_4w, ...   \n",
       "4  [/m/0513nd, /m/05c2g3q, /m/04wjg1, /m/01tch8, ...   \n",
       "\n",
       "                          Actor_age_at_movie_release  \n",
       "0  [35.0, 35.0, 45.0, 33.0, 33.0, 34.0, 42.0, 35....  \n",
       "1                                             [67.0]  \n",
       "2                                             [25.0]  \n",
       "3  [66.0, 46.0, nan, 59.0, 48.0, 39.0, 66.0, 50.0...  \n",
       "4  [31.0, 42.0, 45.0, 41.0, 62.0, 29.0, 30.0, 38....  "
      ]
     },
     "execution_count": 58,
     "metadata": {},
     "output_type": "execute_result"
    }
   ],
   "source": [
    "Actors.head()"
   ]
  },
  {
   "cell_type": "markdown",
   "id": "0780f45a-2469-4056-9a2b-8e70499a8251",
   "metadata": {},
   "source": [
    "Create a network where each node is an Actor ID and create edges between actors how played together"
   ]
  },
  {
   "cell_type": "code",
   "execution_count": 60,
   "id": "6abd2953-8946-41c5-a3a2-ea8acfc517ca",
   "metadata": {},
   "outputs": [
    {
     "name": "stderr",
     "output_type": "stream",
     "text": [
      "100%|██████████| 48643/48643 [00:19<00:00, 2520.10it/s]\n"
     ]
    }
   ],
   "source": [
    "played_together = nx.Graph()\n",
    "\n",
    "\n",
    "for _, row in tqdm(movies_with_actors.iterrows(), total=len(movies_with_actors)):\n",
    "    actors_IDs = row['Actor_IDs']  \n",
    "    release_date = row['Movie_release_date'] \n",
    "\n",
    "    for i in range(len(actors_IDs)):\n",
    "        for j in range(i + 1, len(actors_IDs)):\n",
    "            if actors_IDs[j] != actors_IDs[i]:  # Ensure no self-loops\n",
    "                played_together.add_edge(\n",
    "                    actors_IDs[i],\n",
    "                    actors_IDs[j],\n",
    "                    Release_date=release_date  \n",
    "                )\n"
   ]
  },
  {
   "cell_type": "markdown",
   "id": "203aec46-a441-4543-ac65-1067b029c3ed",
   "metadata": {},
   "source": [
    "### 2. Extract metrics from the network"
   ]
  },
  {
   "cell_type": "code",
   "execution_count": 62,
   "id": "5a24c537-489a-40c5-a675-049921df39a6",
   "metadata": {},
   "outputs": [
    {
     "name": "stdout",
     "output_type": "stream",
     "text": [
      "Computation time:0.17\n"
     ]
    }
   ],
   "source": [
    "start = time.time()\n",
    "degrees = dict(played_together.degree())\n",
    "print(f\"Computation time:{time.time()-start:.2f}\")"
   ]
  },
  {
   "cell_type": "markdown",
   "id": "b6a505bb-369a-48bf-96d9-d96b3d874acd",
   "metadata": {},
   "source": [
    "This is too expensive to compute. Maybe try an other library ?\n",
    "\n",
    "start = time.time()\n",
    "betweenness_centrality= nx.betweenness_centrality(played_together)\n",
    "print(f\"Computation time:{time.time()-start:.2f}\")"
   ]
  },
  {
   "cell_type": "code",
   "execution_count": 128,
   "id": "2b5d8228-f55e-4857-98fc-cd179eaba501",
   "metadata": {},
   "outputs": [
    {
     "name": "stdout",
     "output_type": "stream",
     "text": [
      "Computation time:29.53\n"
     ]
    }
   ],
   "source": [
    "start = time.time()\n",
    "eigenvector_centrality = nx.eigenvector_centrality(played_together) \n",
    "print(f\"Computation time:{time.time()-start:.2f}\")"
   ]
  },
  {
   "cell_type": "markdown",
   "id": "8188a3b6-ab28-4698-96f7-b0f619f9e831",
   "metadata": {},
   "source": [
    "### 3. Do the same for each year"
   ]
  },
  {
   "cell_type": "markdown",
   "id": "d83080cd-0040-43e7-9cad-ef700c75f2e3",
   "metadata": {},
   "source": [
    "Create sub graphs by keeping the edges that correspond to films that appears after a specific date"
   ]
  },
  {
   "cell_type": "code",
   "execution_count": 129,
   "id": "497429d5-95b3-4b62-9383-5d6d5b7b0d58",
   "metadata": {},
   "outputs": [
    {
     "name": "stdout",
     "output_type": "stream",
     "text": [
      "The network for films before 2000 contains 71122 with a total of 997504 connections.\n",
      "Computation time:14.34\n"
     ]
    }
   ],
   "source": [
    "start = time.time()\n",
    "cutoff_date = 2000\n",
    "\n",
    "edges_to_keep = [\n",
    "    (u, v) for u, v, data in played_together.edges(data=True)\n",
    "    if data[\"Release_date\"] < cutoff_date\n",
    "]\n",
    "\n",
    "# Create a subgraph with the filtered edges\n",
    "played_together_2000 = played_together.edge_subgraph(edges_to_keep).copy()\n",
    "print(f\"The network for films before 2000 contains {played_together_2000.number_of_nodes()} with a total of {played_together_2000.number_of_edges()} connections.\")\n",
    "print(f\"Computation time:{time.time()-start:.2f}\")"
   ]
  },
  {
   "cell_type": "code",
   "execution_count": 130,
   "id": "d3b11783-dc95-489d-8fb4-3313014ea1cc",
   "metadata": {},
   "outputs": [
    {
     "name": "stdout",
     "output_type": "stream",
     "text": [
      "Computation time:0.10\n"
     ]
    }
   ],
   "source": [
    "start = time.time()\n",
    "degrees_2000 = dict(played_together.degree())\n",
    "print(f\"Computation time:{time.time()-start:.2f}\")"
   ]
  },
  {
   "cell_type": "code",
   "execution_count": null,
   "id": "662d7ba5-190a-432c-8b2c-bb2b017f8d5e",
   "metadata": {},
   "outputs": [],
   "source": []
  }
 ],
 "metadata": {
  "kernelspec": {
   "display_name": "Python 3 (ipykernel)",
   "language": "python",
   "name": "python3"
  },
  "language_info": {
   "codemirror_mode": {
    "name": "ipython",
    "version": 3
   },
   "file_extension": ".py",
   "mimetype": "text/x-python",
   "name": "python",
   "nbconvert_exporter": "python",
   "pygments_lexer": "ipython3",
   "version": "3.11.10"
  }
 },
 "nbformat": 4,
 "nbformat_minor": 5
}
