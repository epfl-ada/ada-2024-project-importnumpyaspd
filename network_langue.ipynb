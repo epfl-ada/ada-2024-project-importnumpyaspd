{
 "cells": [
  {
   "cell_type": "code",
   "execution_count": 1,
   "id": "1e2f5d75-42cc-4dfd-a8fb-68ffbffe4dd4",
   "metadata": {},
   "outputs": [],
   "source": [
    "import pickle \n",
    "import numpy as np \n",
    "import pandas as pd\n",
    "import networkx as nx\n",
    "from tqdm import tqdm\n",
    "import time\n",
    "import datetime\n",
    "import seaborn as sns\n",
    "import matplotlib.pyplot as plt\n",
    "from itertools import combinations\n",
    "import community\n",
    "import collections\n",
    "\n",
    "from src.utils.data_utils import *\n",
    "from src.utils.general_utils import *\n",
    "from src.utils.mapping import *\n",
    "from src.utils.langue import *"
   ]
  },
  {
   "cell_type": "code",
   "execution_count": 2,
   "id": "cfe6feef-fe74-4c28-ae47-244c6869c8cd",
   "metadata": {},
   "outputs": [
    {
     "name": "stderr",
     "output_type": "stream",
     "text": [
      "C:\\Users\\Thibault Schiesser\\AppData\\Local\\Temp\\ipykernel_23900\\2668311966.py:5: DeprecationWarning: numpy.core.numeric is deprecated and has been renamed to numpy._core.numeric. The numpy._core namespace contains private NumPy internals and its use is discouraged, as NumPy internals can change without warning in any release. In practice, most real-world usage of numpy.core is to access functionality in the public NumPy API. If that is the case, use the public NumPy API. If not, you are using NumPy internals. If you would still like to access an internal attribute, use numpy._core.numeric._frombuffer.\n",
      "  Movie = pickle.load(file)\n"
     ]
    }
   ],
   "source": [
    "movie_path = 'data/Movie.pkl'\n",
    "actors_path = 'data/Actor.pkl'\n",
    "\n",
    "with open(movie_path, 'rb') as file:\n",
    "    Movie = pickle.load(file)\n",
    "Movie = Movie.reset_index()\n",
    "with open(actors_path, 'rb') as file:\n",
    "    Actor = pickle.load(file)"
   ]
  },
  {
   "cell_type": "code",
   "execution_count": 3,
   "id": "e1d3de54-1130-4b8a-98c4-f4f0af0746bd",
   "metadata": {},
   "outputs": [],
   "source": [
    "nombre_entrees = Movie.Movie_languages.str.contains(',', na=False).sum()"
   ]
  },
  {
   "cell_type": "code",
   "execution_count": 4,
   "id": "ab94df08-a2d2-45e5-915a-852bfbc7e767",
   "metadata": {},
   "outputs": [
    {
     "data": {
      "text/plain": [
       "np.int64(7888)"
      ]
     },
     "execution_count": 4,
     "metadata": {},
     "output_type": "execute_result"
    }
   ],
   "source": [
    "nombre_entrees"
   ]
  },
  {
   "cell_type": "code",
   "execution_count": 5,
   "id": "0198d961-4073-44e0-9f17-1d4efffb92da",
   "metadata": {},
   "outputs": [
    {
     "data": {
      "text/plain": [
       "(61042,)"
      ]
     },
     "execution_count": 5,
     "metadata": {},
     "output_type": "execute_result"
    }
   ],
   "source": [
    "Movie.Movie_languages.shape"
   ]
  },
  {
   "cell_type": "code",
   "execution_count": 6,
   "id": "15339a5e-d748-4002-af6d-ec9e881ba7a7",
   "metadata": {},
   "outputs": [
    {
     "name": "stdout",
     "output_type": "stream",
     "text": [
      "We lose 13.58% of the dataset of movies with this operation.\n"
     ]
    }
   ],
   "source": [
    "a = create_actor_language_dataset(Movie, Actor, 5)"
   ]
  },
  {
   "cell_type": "code",
   "execution_count": 7,
   "id": "82743ef0-9bb2-42a7-826f-ef58e7799a97",
   "metadata": {},
   "outputs": [],
   "source": [
    "presence = create_cross_language(a)\n",
    "compte = create_cross_language_count(a)"
   ]
  },
  {
   "cell_type": "markdown",
   "id": "2a9a1948-25ac-444a-9800-964b5b8fdae6",
   "metadata": {},
   "source": [
    "regardons si nous avons la même proportion de language de langue pour chaque nb_movie <br> on considère 4 groupes :\n",
    "- 1 <= nb_film <= 2\n",
    "- 3 <= nb_film <= 5\n",
    "- 5 < nb_movie <= 10\n",
    "- nb_movie > 10\n",
    " \n",
    "<br> h0 : la proportion des langues est la même dans chaque groupe"
   ]
  },
  {
   "cell_type": "code",
   "execution_count": 25,
   "id": "ed87b3f4-f5e8-49e2-a456-f5d5f881c9fe",
   "metadata": {},
   "outputs": [],
   "source": [
    "a[\"nb_movie\"]= a.sum(axis=1)"
   ]
  },
  {
   "cell_type": "code",
   "execution_count": 51,
   "id": "2e35574e-d027-494f-9d82-80a6d12db577",
   "metadata": {},
   "outputs": [
    {
     "name": "stdout",
     "output_type": "stream",
     "text": [
      "True\n"
     ]
    }
   ],
   "source": [
    "dict_group = {}\n",
    "group1 = a[a[\"nb_movie\"]<3]\n",
    "dict_group[1] = group1\n",
    "group2 = a[(a[\"nb_movie\"]>2) & (a[\"nb_movie\"]<6)]\n",
    "dict_group[2] = group2\n",
    "group3 = a[(a[\"nb_movie\"]<11) & (a[\"nb_movie\"]>5)]\n",
    "dict_group[3] = group3\n",
    "group4 = a[a[\"nb_movie\"]>10]\n",
    "dict_group[4] = group4\n",
    "print(group1.shape[0] + group2.shape[0] + group3.shape[0] + group4.shape[0] == a.shape[0])"
   ]
  },
  {
   "cell_type": "code",
   "execution_count": 78,
   "id": "f6f790db-cb6f-4b42-9cee-aecda127fd08",
   "metadata": {},
   "outputs": [
    {
     "name": "stdout",
     "output_type": "stream",
     "text": [
      "{'English Language': [0.7979323866674588, 0.8204991087344029, 0.8393774903274239, 0.8215969535783365], 'Hindi Language': [0.028073198265106056, 0.042572786690433746, 0.06406998902812265, 0.1378949065119278], 'Spanish Language': [0.060543045570673165, 0.0421865715983363, 0.021568400993243635, 0.007464941972920696], 'Italian Language': [0.04310498484938506, 0.03933452168746286, 0.03049026967719582, 0.01606826241134752], 'French Language': [0.07034638464737686, 0.05540701128936423, 0.044493849974013976, 0.01697493552546744]}\n"
     ]
    }
   ],
   "source": [
    "nb_group = 4\n",
    "dict_total = {}\n",
    "\n",
    "for g in range(1, nb_group + 1):\n",
    "    group = dict_group[g]\n",
    "    total_movie = group.nb_movie.sum()\n",
    "    \n",
    "    for i in group.columns:\n",
    "        if i != \"nb_movie\":\n",
    "            ratio = float(group[i].sum() / total_movie)\n",
    "    \n",
    "            if i in dict_total:\n",
    "                dict_total[i].append(ratio)\n",
    "            else:\n",
    "                dict_total[i] = [ratio]\n",
    "\n",
    "print(dict_total)"
   ]
  },
  {
   "cell_type": "code",
   "execution_count": 69,
   "id": "5ba2353a-4000-4ba0-87fa-204f39d482aa",
   "metadata": {},
   "outputs": [],
   "source": [
    "from scipy.stats import chi2_contingency"
   ]
  },
  {
   "cell_type": "code",
   "execution_count": 79,
   "id": "3b738613-5fe5-4ccc-9626-65bf02972d68",
   "metadata": {},
   "outputs": [],
   "source": [
    "df = pd.DataFrame(dict_total, index=[1,2,3,4])"
   ]
  },
  {
   "cell_type": "code",
   "execution_count": 88,
   "id": "9209b254-2512-45fd-85e4-756be633a3bc",
   "metadata": {},
   "outputs": [],
   "source": [
    "chi2, p_value, dof, expected = chi2_contingency(df)"
   ]
  },
  {
   "cell_type": "code",
   "execution_count": 89,
   "id": "8ddd6b47-b4c5-4739-ab65-1299bdde111f",
   "metadata": {},
   "outputs": [
    {
     "name": "stdout",
     "output_type": "stream",
     "text": [
      "Statistique du Chi-2 : 0.20116474096698686\n",
      "P-value : 0.9999999986805574\n",
      "Degrés de liberté : 12\n",
      "Tableau attendu théorique :\n",
      " [[0.81985148 0.06815272 0.03294074 0.03224951 0.04680555]\n",
      " [0.81985148 0.06815272 0.03294074 0.03224951 0.04680555]\n",
      " [0.81985148 0.06815272 0.03294074 0.03224951 0.04680555]\n",
      " [0.81985148 0.06815272 0.03294074 0.03224951 0.04680555]]\n",
      "Aucune différence significative entre les distributions (p >= 0.05).\n"
     ]
    }
   ],
   "source": [
    "# Résultats\n",
    "print(\"Statistique du Chi-2 :\", chi2)\n",
    "print(\"P-value :\", p_value)\n",
    "print(\"Degrés de liberté :\", dof)\n",
    "print(\"Tableau attendu théorique :\\n\", expected)\n",
    "\n",
    "# Conclusion\n",
    "if p_value < 0.05:\n",
    "    print(\"Les distributions sont statistiquement différentes (p < 0.05).\")\n",
    "else:\n",
    "    print(\"Aucune différence significative entre les distributions (p >= 0.05).\")"
   ]
  },
  {
   "cell_type": "markdown",
   "id": "46516346-22ae-40c7-80eb-1072d36f4dc2",
   "metadata": {},
   "source": [
    "balance dataset ???"
   ]
  },
  {
   "cell_type": "markdown",
   "id": "40f286e6-d815-4578-9695-56c40845cb49",
   "metadata": {},
   "source": [
    "plot :"
   ]
  },
  {
   "cell_type": "code",
   "execution_count": 91,
   "id": "26c9f508-40a6-4390-b97e-025f53799286",
   "metadata": {},
   "outputs": [],
   "source": [
    "import seaborn.objects as so"
   ]
  },
  {
   "cell_type": "code",
   "execution_count": 93,
   "id": "36c4042a-40b2-4118-bdac-d0b1abdfc33b",
   "metadata": {},
   "outputs": [
    {
     "data": {
      "text/plain": [
       "array([0.81985148, 0.06815272, 0.03294074, 0.03224951, 0.04680555])"
      ]
     },
     "execution_count": 93,
     "metadata": {},
     "output_type": "execute_result"
    }
   ],
   "source": [
    " expected[0]"
   ]
  },
  {
   "cell_type": "code",
   "execution_count": 98,
   "id": "6d3735f9-7775-48a6-9fac-cfd8c3599f81",
   "metadata": {},
   "outputs": [
    {
     "data": {
      "text/plain": [
       "array([0.79793239, 0.0280732 , 0.06054305, 0.04310498, 0.07034638])"
      ]
     },
     "execution_count": 98,
     "metadata": {},
     "output_type": "execute_result"
    }
   ],
   "source": [
    "df.iloc[0,:].values"
   ]
  },
  {
   "cell_type": "code",
   "execution_count": 102,
   "id": "a6b67a8b-4f0d-4cb9-a6e4-cf66063e2152",
   "metadata": {},
   "outputs": [
    {
     "data": {
      "image/png": "[encoded data removed]",
      "text/plain": [
       "<Figure size 1000x600 with 1 Axes>"
      ]
     },
     "metadata": {},
     "output_type": "display_data"
    }
   ],
   "source": [
    "languages = ['English Language', 'Hindi Language', 'Spanish Language', 'Italian Language', 'French Language']\n",
    "expected_means = pd.DataFrame({\n",
    "    'Language': languages,\n",
    "    'Value':  expected[0],\n",
    "    'Type': 'Expected'\n",
    "})\n",
    "g1 = pd.DataFrame({\n",
    "    'Language': languages,\n",
    "    'Value': df.iloc[0,:].values,\n",
    "    'Type': 'group1'\n",
    "})\n",
    "g2 = pd.DataFrame({\n",
    "    'Language': languages,\n",
    "    'Value': df.iloc[1,:].values,\n",
    "    'Type': 'group2'\n",
    "})\n",
    "g3 = pd.DataFrame({\n",
    "    'Language': languages,\n",
    "    'Value': df.iloc[2,:].values,\n",
    "    'Type': 'group3'\n",
    "})\n",
    "g4 = pd.DataFrame({\n",
    "    'Language': languages,\n",
    "    'Value': df.iloc[3,:].values,\n",
    "    'Type': 'group4'\n",
    "})\n",
    "combined_df = pd.concat([g1,g2,g3,g4, expected_means])\n",
    "p = (\n",
    "    so.Plot(combined_df, x=\"Language\", y=\"Value\", color=\"Type\")  # Type pour la couleur\n",
    "    .add(so.Bar(), so.Dodge())  # Barres avec un décalage pour les deux types\n",
    "    .layout(size=(10, 6))  # Taille du graphique\n",
    "    .label(title=\"Comparaison des valeurs Observées et Attendues\", \n",
    "           x=\"Langue\", \n",
    "           y=\"Proportion\")\n",
    ")\n",
    "\n",
    "p.show()"
   ]
  },
  {
   "cell_type": "code",
   "execution_count": null,
   "id": "717ad6e8-c622-41f1-8113-4f8c87f23d19",
   "metadata": {},
   "outputs": [],
   "source": []
  }
 ],
 "metadata": {
  "kernelspec": {
   "display_name": "Python 3 (ipykernel)",
   "language": "python",
   "name": "python3"
  },
  "language_info": {
   "codemirror_mode": {
    "name": "ipython",
    "version": 3
   },
   "file_extension": ".py",
   "mimetype": "text/x-python",
   "name": "python",
   "nbconvert_exporter": "python",
   "pygments_lexer": "ipython3",
   "version": "3.9.20"
  }
 },
 "nbformat": 4,
 "nbformat_minor": 5
}
