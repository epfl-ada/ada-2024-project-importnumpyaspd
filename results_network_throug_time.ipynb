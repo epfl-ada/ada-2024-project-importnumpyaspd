{
 "cells": [
  {
   "cell_type": "code",
   "execution_count": 1,
   "id": "c1329e0f-fddc-4608-b031-820efc996276",
   "metadata": {},
   "outputs": [],
   "source": [
    "import pickle \n",
    "import numpy as np \n",
    "import pandas as pd\n",
    "import networkx as nx\n",
    "from tqdm import tqdm\n",
    "import time\n",
    "import seaborn as sns\n",
    "import matplotlib.pyplot as plt\n",
    "from itertools import combinations\n",
    "\n",
    "from src.utils.data_utils import *\n",
    "from src.utils.general_utils import *"
   ]
  },
  {
   "cell_type": "code",
   "execution_count": 2,
   "id": "30060211-c564-4f14-85a0-73c70badbe87",
   "metadata": {},
   "outputs": [],
   "source": [
    "import pandas as pd\n",
    "import numpy as np\n",
    "import matplotlib.pyplot as plt\n",
    "from sklearn.preprocessing import StandardScaler\n",
    "from sklearn.cluster import KMeans\n",
    "from sklearn.manifold import TSNE\n"
   ]
  },
  {
   "cell_type": "code",
   "execution_count": 101,
   "id": "cf3ea1bb-baeb-4912-9d62-3a12c81cf956",
   "metadata": {},
   "outputs": [
    {
     "name": "stderr",
     "output_type": "stream",
     "text": [
      "C:\\Users\\pierr\\AppData\\Local\\Temp\\ipykernel_21344\\2221900138.py:6: DeprecationWarning: numpy.core.numeric is deprecated and has been renamed to numpy._core.numeric. The numpy._core namespace contains private NumPy internals and its use is discouraged, as NumPy internals can change without warning in any release. In practice, most real-world usage of numpy.core is to access functionality in the public NumPy API. If that is the case, use the public NumPy API. If not, you are using NumPy internals. If you would still like to access an internal attribute, use numpy._core.numeric._frombuffer.\n",
      "  Movie = pickle.load(file)\n"
     ]
    }
   ],
   "source": [
    "movie_path = 'data/Movie.pkl'\n",
    "actors_path = 'data/Actor.pkl'\n",
    "actors_career_path = 'data/Actor_career.pkl'\n",
    "\n",
    "with open(movie_path, 'rb') as file:\n",
    "    Movie = pickle.load(file)\n",
    "\n",
    "with open(actors_path, 'rb') as file:\n",
    "    Actor = pickle.load(file)\n",
    "\n",
    "with open(actors_career_path, 'rb') as file:\n",
    "    Actor_career = pickle.load(file)"
   ]
  },
  {
   "cell_type": "code",
   "execution_count": 102,
   "id": "bf919e5f-c8af-4b40-9927-9f8b9944c4d9",
   "metadata": {},
   "outputs": [],
   "source": [
    "Actor[\"actor_age_atmovierelease\"] = Actor[\"actor_age_atmovierelease\"].apply(\n",
    "    lambda x: [pd.NA if pd.isna(age) else int(age) for age in x]\n",
    ")\n",
    "\n",
    "Actor[\"actor_age_atmovierelease\"] = Actor[\"actor_age_atmovierelease\"].apply(\n",
    "    lambda x: [-1 if (pd.isna(val) or val < 0) else val for val in x]\n",
    ")\n",
    "\n",
    "Actor[\"Career_Start_age\"] = Actor.apply(\n",
    "    lambda row: min([val for val in row[\"actor_age_atmovierelease\"] if val > 0], default=-1),\n",
    "    axis=1,\n",
    ")\n",
    "\n",
    "\n",
    "max_career_years = int(max(Actor.apply(lambda row: max(row[\"actor_age_atmovierelease\"]),axis=1)-Actor[\"Career_Start_age\"]))\n",
    "\n",
    "Nbr_films = [f\"Nbr_films_{i+1}\" for i in range(100)]\n",
    "Degree = [f\"Degree_{i+1}\" for i in range(100)]\n",
    "Centrality = [f\"Centrality_{i+1}\" for i in range(100)]\n",
    "\n",
    "\n",
    "Actor_career = pd.concat(\n",
    "    [Actor.copy(), pd.DataFrame(0.0, index=Actor.index, columns=Nbr_films), pd.DataFrame(0.0, index=Actor.index, columns=Degree), pd.DataFrame(0.0, index=Actor.index, columns=Centrality)], axis=1)"
   ]
  },
  {
   "cell_type": "code",
   "execution_count": 237,
   "id": "56923b16-00d8-4f5a-b823-f6ab67306231",
   "metadata": {},
   "outputs": [],
   "source": [
    "def fill_career_years(row):\n",
    "\n",
    "    age_at_release = np.array(row[\"actor_age_atmovierelease\"])\n",
    "    counts = np.zeros(max_career_years+1)\n",
    "    \n",
    "    if len(age_at_release) != 0:\n",
    "        for year in age_at_release:\n",
    "            if year >= 0 and row[\"Career_Start_age\"]>=0:\n",
    "                counts[year-row[\"Career_Start_age\"]] += 1\n",
    "                    \n",
    "    return counts"
   ]
  },
  {
   "cell_type": "code",
   "execution_count": 238,
   "id": "d1314be7-eea4-4190-87c9-c607f390121b",
   "metadata": {},
   "outputs": [
    {
     "name": "stderr",
     "output_type": "stream",
     "text": [
<<<<<<< HEAD
      " 45%|████▌     | 45/100 [07:55<17:17, 18.86s/it]"
=======
      "C:\\Users\\pierr\\AppData\\Local\\Temp\\ipykernel_10352\\2840603769.py:8: PerformanceWarning: DataFrame is highly fragmented.  This is usually the result of calling `frame.insert` many times, which has poor performance.  Consider joining all columns at once using pd.concat(axis=1) instead. To get a de-fragmented frame, use `newframe = frame.copy()`\n",
      "  Actor_career[f\"Year_{i+1}\"] = career_counts[:, i]\n",
      "C:\\Users\\pierr\\AppData\\Local\\Temp\\ipykernel_10352\\2840603769.py:8: PerformanceWarning: DataFrame is highly fragmented.  This is usually the result of calling `frame.insert` many times, which has poor performance.  Consider joining all columns at once using pd.concat(axis=1) instead. To get a de-fragmented frame, use `newframe = frame.copy()`\n",
      "  Actor_career[f\"Year_{i+1}\"] = career_counts[:, i]\n",
      "C:\\Users\\pierr\\AppData\\Local\\Temp\\ipykernel_10352\\2840603769.py:8: PerformanceWarning: DataFrame is highly fragmented.  This is usually the result of calling `frame.insert` many times, which has poor performance.  Consider joining all columns at once using pd.concat(axis=1) instead. To get a de-fragmented frame, use `newframe = frame.copy()`\n",
      "  Actor_career[f\"Year_{i+1}\"] = career_counts[:, i]\n",
      "C:\\Users\\pierr\\AppData\\Local\\Temp\\ipykernel_10352\\2840603769.py:8: PerformanceWarning: DataFrame is highly fragmented.  This is usually the result of calling `frame.insert` many times, which has poor performance.  Consider joining all columns at once using pd.concat(axis=1) instead. To get a de-fragmented frame, use `newframe = frame.copy()`\n",
      "  Actor_career[f\"Year_{i+1}\"] = career_counts[:, i]\n",
      "C:\\Users\\pierr\\AppData\\Local\\Temp\\ipykernel_10352\\2840603769.py:8: PerformanceWarning: DataFrame is highly fragmented.  This is usually the result of calling `frame.insert` many times, which has poor performance.  Consider joining all columns at once using pd.concat(axis=1) instead. To get a de-fragmented frame, use `newframe = frame.copy()`\n",
      "  Actor_career[f\"Year_{i+1}\"] = career_counts[:, i]\n",
      "C:\\Users\\pierr\\AppData\\Local\\Temp\\ipykernel_10352\\2840603769.py:8: PerformanceWarning: DataFrame is highly fragmented.  This is usually the result of calling `frame.insert` many times, which has poor performance.  Consider joining all columns at once using pd.concat(axis=1) instead. To get a de-fragmented frame, use `newframe = frame.copy()`\n",
      "  Actor_career[f\"Year_{i+1}\"] = career_counts[:, i]\n",
      "C:\\Users\\pierr\\AppData\\Local\\Temp\\ipykernel_10352\\2840603769.py:8: PerformanceWarning: DataFrame is highly fragmented.  This is usually the result of calling `frame.insert` many times, which has poor performance.  Consider joining all columns at once using pd.concat(axis=1) instead. To get a de-fragmented frame, use `newframe = frame.copy()`\n",
      "  Actor_career[f\"Year_{i+1}\"] = career_counts[:, i]\n",
      "C:\\Users\\pierr\\AppData\\Local\\Temp\\ipykernel_10352\\2840603769.py:8: PerformanceWarning: DataFrame is highly fragmented.  This is usually the result of calling `frame.insert` many times, which has poor performance.  Consider joining all columns at once using pd.concat(axis=1) instead. To get a de-fragmented frame, use `newframe = frame.copy()`\n",
      "  Actor_career[f\"Year_{i+1}\"] = career_counts[:, i]\n",
      "C:\\Users\\pierr\\AppData\\Local\\Temp\\ipykernel_10352\\2840603769.py:8: PerformanceWarning: DataFrame is highly fragmented.  This is usually the result of calling `frame.insert` many times, which has poor performance.  Consider joining all columns at once using pd.concat(axis=1) instead. To get a de-fragmented frame, use `newframe = frame.copy()`\n",
      "  Actor_career[f\"Year_{i+1}\"] = career_counts[:, i]\n",
      "C:\\Users\\pierr\\AppData\\Local\\Temp\\ipykernel_10352\\2840603769.py:8: PerformanceWarning: DataFrame is highly fragmented.  This is usually the result of calling `frame.insert` many times, which has poor performance.  Consider joining all columns at once using pd.concat(axis=1) instead. To get a de-fragmented frame, use `newframe = frame.copy()`\n",
      "  Actor_career[f\"Year_{i+1}\"] = career_counts[:, i]\n",
      "C:\\Users\\pierr\\AppData\\Local\\Temp\\ipykernel_10352\\2840603769.py:8: PerformanceWarning: DataFrame is highly fragmented.  This is usually the result of calling `frame.insert` many times, which has poor performance.  Consider joining all columns at once using pd.concat(axis=1) instead. To get a de-fragmented frame, use `newframe = frame.copy()`\n",
      "  Actor_career[f\"Year_{i+1}\"] = career_counts[:, i]\n",
      "C:\\Users\\pierr\\AppData\\Local\\Temp\\ipykernel_10352\\2840603769.py:8: PerformanceWarning: DataFrame is highly fragmented.  This is usually the result of calling `frame.insert` many times, which has poor performance.  Consider joining all columns at once using pd.concat(axis=1) instead. To get a de-fragmented frame, use `newframe = frame.copy()`\n",
      "  Actor_career[f\"Year_{i+1}\"] = career_counts[:, i]\n",
      "C:\\Users\\pierr\\AppData\\Local\\Temp\\ipykernel_10352\\2840603769.py:8: PerformanceWarning: DataFrame is highly fragmented.  This is usually the result of calling `frame.insert` many times, which has poor performance.  Consider joining all columns at once using pd.concat(axis=1) instead. To get a de-fragmented frame, use `newframe = frame.copy()`\n",
      "  Actor_career[f\"Year_{i+1}\"] = career_counts[:, i]\n",
      "C:\\Users\\pierr\\AppData\\Local\\Temp\\ipykernel_10352\\2840603769.py:8: PerformanceWarning: DataFrame is highly fragmented.  This is usually the result of calling `frame.insert` many times, which has poor performance.  Consider joining all columns at once using pd.concat(axis=1) instead. To get a de-fragmented frame, use `newframe = frame.copy()`\n",
      "  Actor_career[f\"Year_{i+1}\"] = career_counts[:, i]\n",
      "C:\\Users\\pierr\\AppData\\Local\\Temp\\ipykernel_10352\\2840603769.py:8: PerformanceWarning: DataFrame is highly fragmented.  This is usually the result of calling `frame.insert` many times, which has poor performance.  Consider joining all columns at once using pd.concat(axis=1) instead. To get a de-fragmented frame, use `newframe = frame.copy()`\n",
      "  Actor_career[f\"Year_{i+1}\"] = career_counts[:, i]\n",
      "C:\\Users\\pierr\\AppData\\Local\\Temp\\ipykernel_10352\\2840603769.py:8: PerformanceWarning: DataFrame is highly fragmented.  This is usually the result of calling `frame.insert` many times, which has poor performance.  Consider joining all columns at once using pd.concat(axis=1) instead. To get a de-fragmented frame, use `newframe = frame.copy()`\n",
      "  Actor_career[f\"Year_{i+1}\"] = career_counts[:, i]\n",
      "C:\\Users\\pierr\\AppData\\Local\\Temp\\ipykernel_10352\\2840603769.py:8: PerformanceWarning: DataFrame is highly fragmented.  This is usually the result of calling `frame.insert` many times, which has poor performance.  Consider joining all columns at once using pd.concat(axis=1) instead. To get a de-fragmented frame, use `newframe = frame.copy()`\n",
      "  Actor_career[f\"Year_{i+1}\"] = career_counts[:, i]\n",
      "C:\\Users\\pierr\\AppData\\Local\\Temp\\ipykernel_10352\\2840603769.py:8: PerformanceWarning: DataFrame is highly fragmented.  This is usually the result of calling `frame.insert` many times, which has poor performance.  Consider joining all columns at once using pd.concat(axis=1) instead. To get a de-fragmented frame, use `newframe = frame.copy()`\n",
      "  Actor_career[f\"Year_{i+1}\"] = career_counts[:, i]\n",
      "C:\\Users\\pierr\\AppData\\Local\\Temp\\ipykernel_10352\\2840603769.py:8: PerformanceWarning: DataFrame is highly fragmented.  This is usually the result of calling `frame.insert` many times, which has poor performance.  Consider joining all columns at once using pd.concat(axis=1) instead. To get a de-fragmented frame, use `newframe = frame.copy()`\n",
      "  Actor_career[f\"Year_{i+1}\"] = career_counts[:, i]\n",
      "C:\\Users\\pierr\\AppData\\Local\\Temp\\ipykernel_10352\\2840603769.py:8: PerformanceWarning: DataFrame is highly fragmented.  This is usually the result of calling `frame.insert` many times, which has poor performance.  Consider joining all columns at once using pd.concat(axis=1) instead. To get a de-fragmented frame, use `newframe = frame.copy()`\n",
      "  Actor_career[f\"Year_{i+1}\"] = career_counts[:, i]\n",
      "C:\\Users\\pierr\\AppData\\Local\\Temp\\ipykernel_10352\\2840603769.py:8: PerformanceWarning: DataFrame is highly fragmented.  This is usually the result of calling `frame.insert` many times, which has poor performance.  Consider joining all columns at once using pd.concat(axis=1) instead. To get a de-fragmented frame, use `newframe = frame.copy()`\n",
      "  Actor_career[f\"Year_{i+1}\"] = career_counts[:, i]\n",
      "C:\\Users\\pierr\\AppData\\Local\\Temp\\ipykernel_10352\\2840603769.py:8: PerformanceWarning: DataFrame is highly fragmented.  This is usually the result of calling `frame.insert` many times, which has poor performance.  Consider joining all columns at once using pd.concat(axis=1) instead. To get a de-fragmented frame, use `newframe = frame.copy()`\n",
      "  Actor_career[f\"Year_{i+1}\"] = career_counts[:, i]\n",
      "C:\\Users\\pierr\\AppData\\Local\\Temp\\ipykernel_10352\\2840603769.py:8: PerformanceWarning: DataFrame is highly fragmented.  This is usually the result of calling `frame.insert` many times, which has poor performance.  Consider joining all columns at once using pd.concat(axis=1) instead. To get a de-fragmented frame, use `newframe = frame.copy()`\n",
      "  Actor_career[f\"Year_{i+1}\"] = career_counts[:, i]\n",
      "C:\\Users\\pierr\\AppData\\Local\\Temp\\ipykernel_10352\\2840603769.py:8: PerformanceWarning: DataFrame is highly fragmented.  This is usually the result of calling `frame.insert` many times, which has poor performance.  Consider joining all columns at once using pd.concat(axis=1) instead. To get a de-fragmented frame, use `newframe = frame.copy()`\n",
      "  Actor_career[f\"Year_{i+1}\"] = career_counts[:, i]\n",
      "C:\\Users\\pierr\\AppData\\Local\\Temp\\ipykernel_10352\\2840603769.py:8: PerformanceWarning: DataFrame is highly fragmented.  This is usually the result of calling `frame.insert` many times, which has poor performance.  Consider joining all columns at once using pd.concat(axis=1) instead. To get a de-fragmented frame, use `newframe = frame.copy()`\n",
      "  Actor_career[f\"Year_{i+1}\"] = career_counts[:, i]\n",
      "C:\\Users\\pierr\\AppData\\Local\\Temp\\ipykernel_10352\\2840603769.py:8: PerformanceWarning: DataFrame is highly fragmented.  This is usually the result of calling `frame.insert` many times, which has poor performance.  Consider joining all columns at once using pd.concat(axis=1) instead. To get a de-fragmented frame, use `newframe = frame.copy()`\n",
      "  Actor_career[f\"Year_{i+1}\"] = career_counts[:, i]\n",
      "C:\\Users\\pierr\\AppData\\Local\\Temp\\ipykernel_10352\\2840603769.py:8: PerformanceWarning: DataFrame is highly fragmented.  This is usually the result of calling `frame.insert` many times, which has poor performance.  Consider joining all columns at once using pd.concat(axis=1) instead. To get a de-fragmented frame, use `newframe = frame.copy()`\n",
      "  Actor_career[f\"Year_{i+1}\"] = career_counts[:, i]\n",
      "C:\\Users\\pierr\\AppData\\Local\\Temp\\ipykernel_10352\\2840603769.py:8: PerformanceWarning: DataFrame is highly fragmented.  This is usually the result of calling `frame.insert` many times, which has poor performance.  Consider joining all columns at once using pd.concat(axis=1) instead. To get a de-fragmented frame, use `newframe = frame.copy()`\n",
      "  Actor_career[f\"Year_{i+1}\"] = career_counts[:, i]\n",
      "C:\\Users\\pierr\\AppData\\Local\\Temp\\ipykernel_10352\\2840603769.py:8: PerformanceWarning: DataFrame is highly fragmented.  This is usually the result of calling `frame.insert` many times, which has poor performance.  Consider joining all columns at once using pd.concat(axis=1) instead. To get a de-fragmented frame, use `newframe = frame.copy()`\n",
      "  Actor_career[f\"Year_{i+1}\"] = career_counts[:, i]\n",
      "C:\\Users\\pierr\\AppData\\Local\\Temp\\ipykernel_10352\\2840603769.py:8: PerformanceWarning: DataFrame is highly fragmented.  This is usually the result of calling `frame.insert` many times, which has poor performance.  Consider joining all columns at once using pd.concat(axis=1) instead. To get a de-fragmented frame, use `newframe = frame.copy()`\n",
      "  Actor_career[f\"Year_{i+1}\"] = career_counts[:, i]\n",
      "C:\\Users\\pierr\\AppData\\Local\\Temp\\ipykernel_10352\\2840603769.py:8: PerformanceWarning: DataFrame is highly fragmented.  This is usually the result of calling `frame.insert` many times, which has poor performance.  Consider joining all columns at once using pd.concat(axis=1) instead. To get a de-fragmented frame, use `newframe = frame.copy()`\n",
      "  Actor_career[f\"Year_{i+1}\"] = career_counts[:, i]\n",
      "C:\\Users\\pierr\\AppData\\Local\\Temp\\ipykernel_10352\\2840603769.py:8: PerformanceWarning: DataFrame is highly fragmented.  This is usually the result of calling `frame.insert` many times, which has poor performance.  Consider joining all columns at once using pd.concat(axis=1) instead. To get a de-fragmented frame, use `newframe = frame.copy()`\n",
      "  Actor_career[f\"Year_{i+1}\"] = career_counts[:, i]\n",
      "C:\\Users\\pierr\\AppData\\Local\\Temp\\ipykernel_10352\\2840603769.py:8: PerformanceWarning: DataFrame is highly fragmented.  This is usually the result of calling `frame.insert` many times, which has poor performance.  Consider joining all columns at once using pd.concat(axis=1) instead. To get a de-fragmented frame, use `newframe = frame.copy()`\n",
      "  Actor_career[f\"Year_{i+1}\"] = career_counts[:, i]\n",
      "C:\\Users\\pierr\\AppData\\Local\\Temp\\ipykernel_10352\\2840603769.py:8: PerformanceWarning: DataFrame is highly fragmented.  This is usually the result of calling `frame.insert` many times, which has poor performance.  Consider joining all columns at once using pd.concat(axis=1) instead. To get a de-fragmented frame, use `newframe = frame.copy()`\n",
      "  Actor_career[f\"Year_{i+1}\"] = career_counts[:, i]\n",
      "C:\\Users\\pierr\\AppData\\Local\\Temp\\ipykernel_10352\\2840603769.py:8: PerformanceWarning: DataFrame is highly fragmented.  This is usually the result of calling `frame.insert` many times, which has poor performance.  Consider joining all columns at once using pd.concat(axis=1) instead. To get a de-fragmented frame, use `newframe = frame.copy()`\n",
      "  Actor_career[f\"Year_{i+1}\"] = career_counts[:, i]\n",
      "C:\\Users\\pierr\\AppData\\Local\\Temp\\ipykernel_10352\\2840603769.py:8: PerformanceWarning: DataFrame is highly fragmented.  This is usually the result of calling `frame.insert` many times, which has poor performance.  Consider joining all columns at once using pd.concat(axis=1) instead. To get a de-fragmented frame, use `newframe = frame.copy()`\n",
      "  Actor_career[f\"Year_{i+1}\"] = career_counts[:, i]\n",
      "C:\\Users\\pierr\\AppData\\Local\\Temp\\ipykernel_10352\\2840603769.py:8: PerformanceWarning: DataFrame is highly fragmented.  This is usually the result of calling `frame.insert` many times, which has poor performance.  Consider joining all columns at once using pd.concat(axis=1) instead. To get a de-fragmented frame, use `newframe = frame.copy()`\n",
      "  Actor_career[f\"Year_{i+1}\"] = career_counts[:, i]\n",
      "C:\\Users\\pierr\\AppData\\Local\\Temp\\ipykernel_10352\\2840603769.py:8: PerformanceWarning: DataFrame is highly fragmented.  This is usually the result of calling `frame.insert` many times, which has poor performance.  Consider joining all columns at once using pd.concat(axis=1) instead. To get a de-fragmented frame, use `newframe = frame.copy()`\n",
      "  Actor_career[f\"Year_{i+1}\"] = career_counts[:, i]\n",
      "C:\\Users\\pierr\\AppData\\Local\\Temp\\ipykernel_10352\\2840603769.py:8: PerformanceWarning: DataFrame is highly fragmented.  This is usually the result of calling `frame.insert` many times, which has poor performance.  Consider joining all columns at once using pd.concat(axis=1) instead. To get a de-fragmented frame, use `newframe = frame.copy()`\n",
      "  Actor_career[f\"Year_{i+1}\"] = career_counts[:, i]\n",
      "C:\\Users\\pierr\\AppData\\Local\\Temp\\ipykernel_10352\\2840603769.py:8: PerformanceWarning: DataFrame is highly fragmented.  This is usually the result of calling `frame.insert` many times, which has poor performance.  Consider joining all columns at once using pd.concat(axis=1) instead. To get a de-fragmented frame, use `newframe = frame.copy()`\n",
      "  Actor_career[f\"Year_{i+1}\"] = career_counts[:, i]\n",
      "C:\\Users\\pierr\\AppData\\Local\\Temp\\ipykernel_10352\\2840603769.py:8: PerformanceWarning: DataFrame is highly fragmented.  This is usually the result of calling `frame.insert` many times, which has poor performance.  Consider joining all columns at once using pd.concat(axis=1) instead. To get a de-fragmented frame, use `newframe = frame.copy()`\n",
      "  Actor_career[f\"Year_{i+1}\"] = career_counts[:, i]\n",
      "C:\\Users\\pierr\\AppData\\Local\\Temp\\ipykernel_10352\\2840603769.py:8: PerformanceWarning: DataFrame is highly fragmented.  This is usually the result of calling `frame.insert` many times, which has poor performance.  Consider joining all columns at once using pd.concat(axis=1) instead. To get a de-fragmented frame, use `newframe = frame.copy()`\n",
      "  Actor_career[f\"Year_{i+1}\"] = career_counts[:, i]\n",
      "C:\\Users\\pierr\\AppData\\Local\\Temp\\ipykernel_10352\\2840603769.py:8: PerformanceWarning: DataFrame is highly fragmented.  This is usually the result of calling `frame.insert` many times, which has poor performance.  Consider joining all columns at once using pd.concat(axis=1) instead. To get a de-fragmented frame, use `newframe = frame.copy()`\n",
      "  Actor_career[f\"Year_{i+1}\"] = career_counts[:, i]\n",
      "Creating network: 100%|██████████| 64308/64308 [00:04<00:00, 13293.44it/s]\n"
     ]
    },
    {
     "name": "stdout",
     "output_type": "stream",
     "text": [
      "Network (1907/2024) of 11 nodes.\n"
     ]
    },
    {
     "name": "stderr",
     "output_type": "stream",
     "text": [
      "Fill the dataset: 100%|██████████| 11/11 [00:00<00:00, 4967.95it/s]\n",
      "Creating network: 100%|██████████| 64308/64308 [00:04<00:00, 13625.15it/s]\n"
     ]
    },
    {
     "name": "stdout",
     "output_type": "stream",
     "text": [
      "Network (1908/2024) of 15 nodes.\n"
     ]
    },
    {
     "name": "stderr",
     "output_type": "stream",
     "text": [
      "Fill the dataset: 100%|██████████| 15/15 [00:00<00:00, 5005.93it/s]\n",
      "Creating network: 100%|██████████| 64308/64308 [00:04<00:00, 15566.69it/s]\n"
     ]
    },
    {
     "name": "stdout",
     "output_type": "stream",
     "text": [
      "Network (1909/2024) of 21 nodes.\n"
     ]
    },
    {
     "name": "stderr",
     "output_type": "stream",
     "text": [
      "Fill the dataset: 100%|██████████| 21/21 [00:00<00:00, 4901.25it/s]\n",
      "Creating network: 100%|██████████| 64308/64308 [00:03<00:00, 16494.91it/s]\n"
     ]
    },
    {
     "name": "stdout",
     "output_type": "stream",
     "text": [
      "Network (1910/2024) of 28 nodes.\n"
     ]
    },
    {
     "name": "stderr",
     "output_type": "stream",
     "text": [
      "Fill the dataset: 100%|██████████| 28/28 [00:00<00:00, 7002.18it/s]\n",
      "Creating network: 100%|██████████| 64308/64308 [00:04<00:00, 13018.02it/s]\n"
     ]
    },
    {
     "name": "stdout",
     "output_type": "stream",
     "text": [
      "Network (1911/2024) of 47 nodes.\n"
     ]
    },
    {
     "name": "stderr",
     "output_type": "stream",
     "text": [
      "Fill the dataset: 100%|██████████| 47/47 [00:00<00:00, 7819.61it/s]\n",
      "Creating network: 100%|██████████| 64308/64308 [00:05<00:00, 12476.39it/s]\n"
     ]
    },
    {
     "name": "stdout",
     "output_type": "stream",
     "text": [
      "Network (1912/2024) of 94 nodes.\n"
     ]
    },
    {
     "name": "stderr",
     "output_type": "stream",
     "text": [
      "Fill the dataset: 100%|██████████| 94/94 [00:00<00:00, 6268.22it/s]\n",
      "Creating network: 100%|██████████| 64308/64308 [00:03<00:00, 16196.89it/s]\n"
     ]
    },
    {
     "name": "stdout",
     "output_type": "stream",
     "text": [
      "Network (1913/2024) of 157 nodes.\n"
     ]
    },
    {
     "name": "stderr",
     "output_type": "stream",
     "text": [
      "Fill the dataset: 100%|██████████| 157/157 [00:00<00:00, 6281.41it/s]\n",
      "Creating network: 100%|██████████| 64308/64308 [00:05<00:00, 12554.37it/s]\n"
     ]
    },
    {
     "name": "stdout",
     "output_type": "stream",
     "text": [
      "Network (1914/2024) of 231 nodes.\n"
     ]
    },
    {
     "name": "stderr",
     "output_type": "stream",
     "text": [
      "Fill the dataset: 100%|██████████| 231/231 [00:00<00:00, 6966.18it/s]\n",
      "Creating network: 100%|██████████| 64308/64308 [00:04<00:00, 16005.82it/s]\n"
     ]
    },
    {
     "name": "stdout",
     "output_type": "stream",
     "text": [
      "Network (1915/2024) of 397 nodes.\n"
     ]
    },
    {
     "name": "stderr",
     "output_type": "stream",
     "text": [
      "Fill the dataset: 100%|██████████| 397/397 [00:00<00:00, 6884.64it/s]\n",
      "Creating network: 100%|██████████| 64308/64308 [00:05<00:00, 12342.75it/s]\n"
     ]
    },
    {
     "name": "stdout",
     "output_type": "stream",
     "text": [
      "Network (1916/2024) of 644 nodes.\n"
     ]
    },
    {
     "name": "stderr",
     "output_type": "stream",
     "text": [
      "Fill the dataset: 100%|██████████| 644/644 [00:00<00:00, 7198.87it/s]\n",
      "Creating network: 100%|██████████| 64308/64308 [00:05<00:00, 12434.02it/s]\n"
     ]
    },
    {
     "name": "stdout",
     "output_type": "stream",
     "text": [
      "Network (1917/2024) of 881 nodes.\n"
     ]
    },
    {
     "name": "stderr",
     "output_type": "stream",
     "text": [
      "Fill the dataset: 100%|██████████| 881/881 [00:00<00:00, 7394.79it/s]\n",
      "Creating network: 100%|██████████| 64308/64308 [00:03<00:00, 16382.64it/s]\n"
     ]
    },
    {
     "name": "stdout",
     "output_type": "stream",
     "text": [
      "Network (1918/2024) of 1103 nodes.\n"
     ]
    },
    {
     "name": "stderr",
     "output_type": "stream",
     "text": [
      "Fill the dataset: 100%|██████████| 1103/1103 [00:00<00:00, 7560.84it/s]\n",
      "Creating network: 100%|██████████| 64308/64308 [00:04<00:00, 14856.83it/s]\n"
     ]
    },
    {
     "name": "stdout",
     "output_type": "stream",
     "text": [
      "Network (1919/2024) of 1332 nodes.\n"
     ]
    },
    {
     "name": "stderr",
     "output_type": "stream",
     "text": [
      "Fill the dataset: 100%|██████████| 1332/1332 [00:00<00:00, 6689.36it/s]\n",
      "Creating network: 100%|██████████| 64308/64308 [00:05<00:00, 12398.24it/s]\n"
     ]
    },
    {
     "name": "stdout",
     "output_type": "stream",
     "text": [
      "Network (1920/2024) of 1532 nodes.\n"
     ]
    },
    {
     "name": "stderr",
     "output_type": "stream",
     "text": [
      "Fill the dataset: 100%|██████████| 1532/1532 [00:00<00:00, 7187.67it/s]\n",
      "Creating network: 100%|██████████| 64308/64308 [00:03<00:00, 16189.18it/s]\n"
     ]
    },
    {
     "name": "stdout",
     "output_type": "stream",
     "text": [
      "Network (1921/2024) of 1831 nodes.\n"
     ]
    },
    {
     "name": "stderr",
     "output_type": "stream",
     "text": [
      "Fill the dataset: 100%|██████████| 1831/1831 [00:00<00:00, 6471.94it/s]\n",
      "Creating network: 100%|██████████| 64308/64308 [00:04<00:00, 15714.63it/s]\n"
     ]
    },
    {
     "name": "stdout",
     "output_type": "stream",
     "text": [
      "Network (1922/2024) of 2114 nodes.\n"
     ]
    },
    {
     "name": "stderr",
     "output_type": "stream",
     "text": [
      "Fill the dataset: 100%|██████████| 2114/2114 [00:00<00:00, 6860.15it/s]\n",
      "Creating network: 100%|██████████| 64308/64308 [00:05<00:00, 12429.96it/s]\n"
     ]
    },
    {
     "name": "stdout",
     "output_type": "stream",
     "text": [
      "Network (1923/2024) of 2348 nodes.\n"
     ]
    },
    {
     "name": "stderr",
     "output_type": "stream",
     "text": [
      "Fill the dataset: 100%|██████████| 2348/2348 [00:00<00:00, 7394.56it/s]\n",
      "Creating network: 100%|██████████| 64308/64308 [00:04<00:00, 14436.27it/s]\n"
     ]
    },
    {
     "name": "stdout",
     "output_type": "stream",
     "text": [
      "Network (1924/2024) of 2652 nodes.\n"
     ]
    },
    {
     "name": "stderr",
     "output_type": "stream",
     "text": [
      "Fill the dataset: 100%|██████████| 2652/2652 [00:00<00:00, 3790.83it/s]\n",
      "Creating network: 100%|██████████| 64308/64308 [00:04<00:00, 13516.88it/s]\n"
     ]
    },
    {
     "name": "stdout",
     "output_type": "stream",
     "text": [
      "Network (1925/2024) of 2884 nodes.\n"
     ]
    },
    {
     "name": "stderr",
     "output_type": "stream",
     "text": [
      "Fill the dataset: 100%|██████████| 2884/2884 [00:00<00:00, 8078.86it/s]\n",
      "Creating network: 100%|██████████| 64308/64308 [00:05<00:00, 11254.62it/s]\n"
     ]
    },
    {
     "name": "stdout",
     "output_type": "stream",
     "text": [
      "Network (1926/2024) of 3147 nodes.\n"
     ]
    },
    {
     "name": "stderr",
     "output_type": "stream",
     "text": [
      "Fill the dataset: 100%|██████████| 3147/3147 [00:00<00:00, 4971.46it/s]\n",
      "Creating network: 100%|██████████| 64308/64308 [00:04<00:00, 13780.89it/s]\n"
     ]
    },
    {
     "name": "stdout",
     "output_type": "stream",
     "text": [
      "Network (1927/2024) of 3384 nodes.\n"
     ]
    },
    {
     "name": "stderr",
     "output_type": "stream",
     "text": [
      "Fill the dataset: 100%|██████████| 3384/3384 [00:00<00:00, 8246.26it/s]\n",
      "Creating network: 100%|██████████| 64308/64308 [00:06<00:00, 9600.61it/s] \n"
     ]
    },
    {
     "name": "stdout",
     "output_type": "stream",
     "text": [
      "Network (1928/2024) of 3704 nodes.\n"
     ]
    },
    {
     "name": "stderr",
     "output_type": "stream",
     "text": [
      "Fill the dataset: 100%|██████████| 3704/3704 [00:00<00:00, 7915.94it/s]\n",
      "Creating network: 100%|██████████| 64308/64308 [00:05<00:00, 12688.91it/s]\n"
     ]
    },
    {
     "name": "stdout",
     "output_type": "stream",
     "text": [
      "Network (1929/2024) of 4003 nodes.\n"
     ]
    },
    {
     "name": "stderr",
     "output_type": "stream",
     "text": [
      "Fill the dataset: 100%|██████████| 4003/4003 [00:00<00:00, 8485.17it/s]\n",
      "Creating network: 100%|██████████| 64308/64308 [00:04<00:00, 13178.92it/s]\n"
     ]
    },
    {
     "name": "stdout",
     "output_type": "stream",
     "text": [
      "Network (1930/2024) of 4424 nodes.\n"
     ]
    },
    {
     "name": "stderr",
     "output_type": "stream",
     "text": [
      "Fill the dataset: 100%|██████████| 4424/4424 [00:00<00:00, 8094.12it/s]\n",
      "Creating network: 100%|██████████| 64308/64308 [00:05<00:00, 11963.30it/s]\n"
     ]
    },
    {
     "name": "stdout",
     "output_type": "stream",
     "text": [
      "Network (1931/2024) of 4917 nodes.\n"
     ]
    },
    {
     "name": "stderr",
     "output_type": "stream",
     "text": [
      "Fill the dataset: 100%|██████████| 4917/4917 [00:00<00:00, 7838.66it/s]\n",
      "Creating network: 100%|██████████| 64308/64308 [00:05<00:00, 12389.24it/s]\n"
     ]
    },
    {
     "name": "stdout",
     "output_type": "stream",
     "text": [
      "Network (1932/2024) of 5387 nodes.\n"
     ]
    },
    {
     "name": "stderr",
     "output_type": "stream",
     "text": [
      "Fill the dataset: 100%|██████████| 5387/5387 [00:00<00:00, 8383.57it/s]\n",
      "Creating network: 100%|██████████| 64308/64308 [00:04<00:00, 14330.50it/s]\n"
     ]
    },
    {
     "name": "stdout",
     "output_type": "stream",
     "text": [
      "Network (1933/2024) of 5785 nodes.\n"
     ]
    },
    {
     "name": "stderr",
     "output_type": "stream",
     "text": [
      "Fill the dataset: 100%|██████████| 5785/5785 [00:00<00:00, 5901.55it/s]\n",
      "Creating network: 100%|██████████| 64308/64308 [00:04<00:00, 13439.72it/s]\n"
     ]
    },
    {
     "name": "stdout",
     "output_type": "stream",
     "text": [
      "Network (1934/2024) of 6131 nodes.\n"
     ]
    },
    {
     "name": "stderr",
     "output_type": "stream",
     "text": [
      "Fill the dataset: 100%|██████████| 6131/6131 [00:00<00:00, 6561.15it/s]\n",
      "Creating network: 100%|██████████| 64308/64308 [00:07<00:00, 8777.68it/s] \n"
     ]
    },
    {
     "name": "stdout",
     "output_type": "stream",
     "text": [
      "Network (1935/2024) of 6656 nodes.\n"
     ]
    },
    {
     "name": "stderr",
     "output_type": "stream",
     "text": [
      "Fill the dataset: 100%|██████████| 6656/6656 [00:01<00:00, 5059.99it/s]\n",
      "Creating network: 100%|██████████| 64308/64308 [00:13<00:00, 4757.90it/s]\n"
     ]
    },
    {
     "name": "stdout",
     "output_type": "stream",
     "text": [
      "Network (1936/2024) of 7131 nodes.\n"
     ]
    },
    {
     "name": "stderr",
     "output_type": "stream",
     "text": [
      "Fill the dataset: 100%|██████████| 7131/7131 [00:02<00:00, 2869.76it/s]\n",
      "Creating network: 100%|██████████| 64308/64308 [00:09<00:00, 6576.87it/s] \n"
     ]
    },
    {
     "name": "stdout",
     "output_type": "stream",
     "text": [
      "Network (1937/2024) of 7735 nodes.\n"
     ]
    },
    {
     "name": "stderr",
     "output_type": "stream",
     "text": [
      "Fill the dataset: 100%|██████████| 7735/7735 [00:03<00:00, 2178.55it/s]\n",
      "Creating network: 100%|██████████| 64308/64308 [00:09<00:00, 6971.55it/s] \n"
     ]
    },
    {
     "name": "stdout",
     "output_type": "stream",
     "text": [
      "Network (1938/2024) of 8264 nodes.\n"
     ]
    },
    {
     "name": "stderr",
     "output_type": "stream",
     "text": [
      "Fill the dataset: 100%|██████████| 8264/8264 [00:02<00:00, 2846.35it/s]\n",
      "Creating network: 100%|██████████| 64308/64308 [00:13<00:00, 4794.77it/s] \n"
     ]
    },
    {
     "name": "stdout",
     "output_type": "stream",
     "text": [
      "Network (1939/2024) of 8704 nodes.\n"
     ]
    },
    {
     "name": "stderr",
     "output_type": "stream",
     "text": [
      "Fill the dataset: 100%|██████████| 8704/8704 [00:04<00:00, 2103.87it/s]\n",
      "Creating network: 100%|██████████| 64308/64308 [00:10<00:00, 6089.14it/s] \n"
     ]
    },
    {
     "name": "stdout",
     "output_type": "stream",
     "text": [
      "Network (1940/2024) of 9125 nodes.\n"
     ]
    },
    {
     "name": "stderr",
     "output_type": "stream",
     "text": [
      "Fill the dataset: 100%|██████████| 9125/9125 [00:03<00:00, 2896.99it/s]\n",
      "Creating network: 100%|██████████| 64308/64308 [00:11<00:00, 5640.30it/s] \n"
     ]
    },
    {
     "name": "stdout",
     "output_type": "stream",
     "text": [
      "Network (1941/2024) of 9531 nodes.\n"
     ]
    },
    {
     "name": "stderr",
     "output_type": "stream",
     "text": [
      "Fill the dataset: 100%|██████████| 9531/9531 [00:02<00:00, 3255.98it/s]\n",
      "Creating network: 100%|██████████| 64308/64308 [00:10<00:00, 5850.86it/s] \n"
     ]
    },
    {
     "name": "stdout",
     "output_type": "stream",
     "text": [
      "Network (1942/2024) of 9923 nodes.\n"
     ]
    },
    {
     "name": "stderr",
     "output_type": "stream",
     "text": [
      "Fill the dataset: 100%|██████████| 9923/9923 [00:07<00:00, 1404.60it/s]\n",
      "Creating network: 100%|██████████| 64308/64308 [00:10<00:00, 6320.85it/s] \n"
     ]
    },
    {
     "name": "stdout",
     "output_type": "stream",
     "text": [
      "Network (1943/2024) of 10267 nodes.\n"
     ]
    },
    {
     "name": "stderr",
     "output_type": "stream",
     "text": [
      "Fill the dataset: 100%|██████████| 10267/10267 [00:01<00:00, 6147.66it/s]\n",
      "Creating network: 100%|██████████| 64308/64308 [00:04<00:00, 13097.83it/s]\n"
     ]
    },
    {
     "name": "stdout",
     "output_type": "stream",
     "text": [
      "Network (1944/2024) of 10652 nodes.\n"
     ]
    },
    {
     "name": "stderr",
     "output_type": "stream",
     "text": [
      "Fill the dataset: 100%|██████████| 10652/10652 [00:01<00:00, 6896.59it/s]\n",
      "Creating network: 100%|██████████| 64308/64308 [00:06<00:00, 9515.36it/s] \n"
     ]
    },
    {
     "name": "stdout",
     "output_type": "stream",
     "text": [
      "Network (1945/2024) of 11051 nodes.\n"
     ]
    },
    {
     "name": "stderr",
     "output_type": "stream",
     "text": [
      "Fill the dataset: 100%|██████████| 11051/11051 [00:03<00:00, 3453.27it/s]\n",
      "Creating network: 100%|██████████| 64308/64308 [00:09<00:00, 6866.42it/s] \n"
     ]
    },
    {
     "name": "stdout",
     "output_type": "stream",
     "text": [
      "Network (1946/2024) of 11380 nodes.\n"
     ]
    },
    {
     "name": "stderr",
     "output_type": "stream",
     "text": [
      "Fill the dataset: 100%|██████████| 11380/11380 [00:01<00:00, 7885.27it/s]\n",
      "Creating network: 100%|██████████| 64308/64308 [00:06<00:00, 9558.64it/s] \n"
     ]
    },
    {
     "name": "stdout",
     "output_type": "stream",
     "text": [
      "Network (1947/2024) of 11785 nodes.\n"
     ]
    },
    {
     "name": "stderr",
     "output_type": "stream",
     "text": [
      "Fill the dataset: 100%|██████████| 11785/11785 [00:01<00:00, 8272.33it/s]\n",
      "Creating network: 100%|██████████| 64308/64308 [00:07<00:00, 8309.44it/s] \n"
     ]
    },
    {
     "name": "stdout",
     "output_type": "stream",
     "text": [
      "Network (1948/2024) of 12188 nodes.\n"
     ]
    },
    {
     "name": "stderr",
     "output_type": "stream",
     "text": [
      "Fill the dataset: 100%|██████████| 12188/12188 [00:01<00:00, 7713.53it/s]\n",
      "Creating network: 100%|██████████| 64308/64308 [00:05<00:00, 11584.23it/s]\n"
     ]
    },
    {
     "name": "stdout",
     "output_type": "stream",
     "text": [
      "Network (1949/2024) of 12649 nodes.\n"
     ]
    },
    {
     "name": "stderr",
     "output_type": "stream",
     "text": [
      "Fill the dataset: 100%|██████████| 12649/12649 [00:02<00:00, 6238.89it/s]\n",
      "Creating network: 100%|██████████| 64308/64308 [00:05<00:00, 11700.76it/s]\n"
     ]
    },
    {
     "name": "stdout",
     "output_type": "stream",
     "text": [
      "Network (1950/2024) of 13284 nodes.\n"
     ]
    },
    {
     "name": "stderr",
     "output_type": "stream",
     "text": [
      "Fill the dataset: 100%|██████████| 13284/13284 [00:01<00:00, 7855.11it/s]\n",
      "Creating network: 100%|██████████| 64308/64308 [00:05<00:00, 11901.87it/s]\n"
     ]
    },
    {
     "name": "stdout",
     "output_type": "stream",
     "text": [
      "Network (1951/2024) of 13962 nodes.\n"
     ]
    },
    {
     "name": "stderr",
     "output_type": "stream",
     "text": [
      "Fill the dataset: 100%|██████████| 13962/13962 [00:01<00:00, 7973.27it/s]\n",
      "Creating network: 100%|██████████| 64308/64308 [00:05<00:00, 12037.50it/s]\n"
     ]
    },
    {
     "name": "stdout",
     "output_type": "stream",
     "text": [
      "Network (1952/2024) of 14650 nodes.\n"
     ]
    },
    {
     "name": "stderr",
     "output_type": "stream",
     "text": [
      "Fill the dataset: 100%|██████████| 14650/14650 [00:02<00:00, 6847.57it/s]\n",
      "Creating network: 100%|██████████| 64308/64308 [00:05<00:00, 11917.01it/s]\n"
     ]
    },
    {
     "name": "stdout",
     "output_type": "stream",
     "text": [
      "Network (1953/2024) of 15348 nodes.\n"
     ]
    },
    {
     "name": "stderr",
     "output_type": "stream",
     "text": [
      "Fill the dataset: 100%|██████████| 15348/15348 [00:02<00:00, 6315.72it/s]\n",
      "Creating network: 100%|██████████| 64308/64308 [00:05<00:00, 11573.32it/s]\n"
     ]
    },
    {
     "name": "stdout",
     "output_type": "stream",
     "text": [
      "Network (1954/2024) of 16025 nodes.\n"
     ]
    },
    {
     "name": "stderr",
     "output_type": "stream",
     "text": [
      "Fill the dataset: 100%|██████████| 16025/16025 [00:02<00:00, 6251.28it/s]\n",
      "Creating network: 100%|██████████| 64308/64308 [00:05<00:00, 11613.52it/s]\n"
     ]
    },
    {
     "name": "stdout",
     "output_type": "stream",
     "text": [
      "Network (1955/2024) of 16644 nodes.\n"
     ]
    },
    {
     "name": "stderr",
     "output_type": "stream",
     "text": [
      "Fill the dataset: 100%|██████████| 16644/16644 [00:02<00:00, 6465.16it/s]\n",
      "Creating network: 100%|██████████| 64308/64308 [00:06<00:00, 10434.22it/s]\n"
     ]
    },
    {
     "name": "stdout",
     "output_type": "stream",
     "text": [
      "Network (1956/2024) of 17331 nodes.\n"
     ]
    },
    {
     "name": "stderr",
     "output_type": "stream",
     "text": [
      "Fill the dataset: 100%|██████████| 17331/17331 [00:03<00:00, 4919.10it/s]\n",
      "Creating network: 100%|██████████| 64308/64308 [00:06<00:00, 9875.96it/s] \n"
     ]
    },
    {
     "name": "stdout",
     "output_type": "stream",
     "text": [
      "Network (1957/2024) of 18071 nodes.\n"
     ]
    },
    {
     "name": "stderr",
     "output_type": "stream",
     "text": [
      "Fill the dataset: 100%|██████████| 18071/18071 [00:02<00:00, 7927.03it/s]\n",
      "Creating network: 100%|██████████| 64308/64308 [00:05<00:00, 10915.27it/s]\n"
     ]
    },
    {
     "name": "stdout",
     "output_type": "stream",
     "text": [
      "Network (1958/2024) of 18844 nodes.\n"
     ]
    },
    {
     "name": "stderr",
     "output_type": "stream",
     "text": [
      "Fill the dataset: 100%|██████████| 18844/18844 [00:03<00:00, 6146.61it/s]\n",
      "Creating network: 100%|██████████| 64308/64308 [00:05<00:00, 10884.68it/s]\n"
     ]
    },
    {
     "name": "stdout",
     "output_type": "stream",
     "text": [
      "Network (1959/2024) of 19545 nodes.\n"
     ]
    },
    {
     "name": "stderr",
     "output_type": "stream",
     "text": [
      "Fill the dataset: 100%|██████████| 19545/19545 [00:02<00:00, 6904.17it/s]\n",
      "Creating network: 100%|██████████| 64308/64308 [00:07<00:00, 8388.79it/s] \n"
     ]
    },
    {
     "name": "stdout",
     "output_type": "stream",
     "text": [
      "Network (1960/2024) of 20294 nodes.\n"
     ]
    },
    {
     "name": "stderr",
     "output_type": "stream",
     "text": [
      "Fill the dataset: 100%|██████████| 20294/20294 [00:02<00:00, 7924.16it/s]\n",
      "Creating network: 100%|██████████| 64308/64308 [00:07<00:00, 9034.85it/s] \n"
     ]
    },
    {
     "name": "stdout",
     "output_type": "stream",
     "text": [
      "Network (1961/2024) of 21066 nodes.\n"
     ]
    },
    {
     "name": "stderr",
     "output_type": "stream",
     "text": [
      "Fill the dataset: 100%|██████████| 21066/21066 [00:02<00:00, 7880.02it/s]\n",
      "Creating network: 100%|██████████| 64308/64308 [00:07<00:00, 8857.19it/s] \n"
     ]
    },
    {
     "name": "stdout",
     "output_type": "stream",
     "text": [
      "Network (1962/2024) of 21855 nodes.\n"
     ]
    },
    {
     "name": "stderr",
     "output_type": "stream",
     "text": [
      "Fill the dataset: 100%|██████████| 21855/21855 [00:04<00:00, 4733.90it/s]\n",
      "Creating network: 100%|██████████| 64308/64308 [00:07<00:00, 8703.44it/s] \n"
     ]
    },
    {
     "name": "stdout",
     "output_type": "stream",
     "text": [
      "Network (1963/2024) of 22703 nodes.\n"
     ]
    },
    {
     "name": "stderr",
     "output_type": "stream",
     "text": [
      "Fill the dataset: 100%|██████████| 22703/22703 [00:03<00:00, 7488.01it/s]\n",
      "Creating network: 100%|██████████| 64308/64308 [00:08<00:00, 7925.09it/s] \n"
     ]
    },
    {
     "name": "stdout",
     "output_type": "stream",
     "text": [
      "Network (1964/2024) of 23391 nodes.\n"
     ]
    },
    {
     "name": "stderr",
     "output_type": "stream",
     "text": [
      "Fill the dataset: 100%|██████████| 23391/23391 [00:03<00:00, 7510.52it/s]\n",
      "Creating network: 100%|██████████| 64308/64308 [00:07<00:00, 8211.85it/s] \n"
     ]
    },
    {
     "name": "stdout",
     "output_type": "stream",
     "text": [
      "Network (1965/2024) of 24278 nodes.\n"
     ]
    },
    {
     "name": "stderr",
     "output_type": "stream",
     "text": [
      "Fill the dataset: 100%|██████████| 24278/24278 [00:03<00:00, 7925.17it/s]\n",
      "Creating network: 100%|██████████| 64308/64308 [00:08<00:00, 7644.38it/s] \n"
     ]
    },
    {
     "name": "stdout",
     "output_type": "stream",
     "text": [
      "Network (1966/2024) of 25195 nodes.\n"
     ]
    },
    {
     "name": "stderr",
     "output_type": "stream",
     "text": [
      "Fill the dataset: 100%|██████████| 25195/25195 [00:03<00:00, 7748.60it/s]\n",
      "Creating network: 100%|██████████| 64308/64308 [00:07<00:00, 8266.99it/s] \n"
     ]
    },
    {
     "name": "stdout",
     "output_type": "stream",
     "text": [
      "Network (1967/2024) of 25980 nodes.\n"
     ]
    },
    {
     "name": "stderr",
     "output_type": "stream",
     "text": [
      "Fill the dataset: 100%|██████████| 25980/25980 [00:05<00:00, 4977.03it/s]\n",
      "Creating network: 100%|██████████| 64308/64308 [00:08<00:00, 7734.65it/s] \n"
     ]
    },
    {
     "name": "stdout",
     "output_type": "stream",
     "text": [
      "Network (1968/2024) of 26873 nodes.\n"
     ]
    },
    {
     "name": "stderr",
     "output_type": "stream",
     "text": [
      "Fill the dataset: 100%|██████████| 26873/26873 [00:03<00:00, 7910.49it/s]\n",
      "Creating network: 100%|██████████| 64308/64308 [00:07<00:00, 9119.77it/s] \n"
     ]
    },
    {
     "name": "stdout",
     "output_type": "stream",
     "text": [
      "Network (1969/2024) of 27872 nodes.\n"
     ]
    },
    {
     "name": "stderr",
     "output_type": "stream",
     "text": [
      "Fill the dataset: 100%|██████████| 27872/27872 [00:04<00:00, 6421.54it/s]\n",
      "Creating network: 100%|██████████| 64308/64308 [00:07<00:00, 8095.15it/s] \n"
     ]
    },
    {
     "name": "stdout",
     "output_type": "stream",
     "text": [
      "Network (1970/2024) of 28921 nodes.\n"
     ]
    },
    {
     "name": "stderr",
     "output_type": "stream",
     "text": [
      "Fill the dataset: 100%|██████████| 28921/28921 [00:04<00:00, 6226.08it/s]\n",
      "Creating network: 100%|██████████| 64308/64308 [00:06<00:00, 9518.76it/s] \n"
     ]
    },
    {
     "name": "stdout",
     "output_type": "stream",
     "text": [
      "Network (1971/2024) of 30179 nodes.\n"
     ]
    },
    {
     "name": "stderr",
     "output_type": "stream",
     "text": [
      "Fill the dataset: 100%|██████████| 30179/30179 [00:03<00:00, 7845.41it/s]\n",
      "Creating network: 100%|██████████| 64308/64308 [00:10<00:00, 6253.35it/s] \n"
     ]
    },
    {
     "name": "stdout",
     "output_type": "stream",
     "text": [
      "Network (1972/2024) of 31394 nodes.\n"
     ]
    },
    {
     "name": "stderr",
     "output_type": "stream",
     "text": [
      "Fill the dataset: 100%|██████████| 31394/31394 [00:03<00:00, 7995.52it/s]\n",
      "Creating network: 100%|██████████| 64308/64308 [00:07<00:00, 8606.35it/s] \n"
     ]
    },
    {
     "name": "stdout",
     "output_type": "stream",
     "text": [
      "Network (1973/2024) of 32604 nodes.\n"
     ]
    },
    {
     "name": "stderr",
     "output_type": "stream",
     "text": [
      "Fill the dataset: 100%|██████████| 32604/32604 [00:04<00:00, 6947.39it/s]\n",
      "Creating network: 100%|██████████| 64308/64308 [00:09<00:00, 6718.09it/s] \n"
     ]
    },
    {
     "name": "stdout",
     "output_type": "stream",
     "text": [
      "Network (1974/2024) of 33763 nodes.\n"
     ]
    },
    {
     "name": "stderr",
     "output_type": "stream",
     "text": [
      "Fill the dataset: 100%|██████████| 33763/33763 [00:05<00:00, 6321.85it/s]\n",
      "Creating network: 100%|██████████| 64308/64308 [00:10<00:00, 5901.04it/s] \n"
     ]
    },
    {
     "name": "stdout",
     "output_type": "stream",
     "text": [
      "Network (1975/2024) of 34852 nodes.\n"
     ]
    },
    {
     "name": "stderr",
     "output_type": "stream",
     "text": [
      "Fill the dataset: 100%|██████████| 34852/34852 [00:05<00:00, 6128.92it/s]\n",
      "Creating network: 100%|██████████| 64308/64308 [00:10<00:00, 5942.22it/s] \n"
     ]
    },
    {
     "name": "stdout",
     "output_type": "stream",
     "text": [
      "Network (1976/2024) of 35779 nodes.\n"
     ]
    },
    {
     "name": "stderr",
     "output_type": "stream",
     "text": [
      "Fill the dataset: 100%|██████████| 35779/35779 [00:05<00:00, 6065.78it/s]\n",
      "Creating network: 100%|██████████| 64308/64308 [00:08<00:00, 7375.94it/s] \n"
     ]
    },
    {
     "name": "stdout",
     "output_type": "stream",
     "text": [
      "Network (1977/2024) of 36833 nodes.\n"
     ]
    },
    {
     "name": "stderr",
     "output_type": "stream",
     "text": [
      "Fill the dataset: 100%|██████████| 36833/36833 [00:05<00:00, 6301.53it/s]\n",
      "Creating network: 100%|██████████| 64308/64308 [00:08<00:00, 7455.12it/s] \n"
     ]
    },
    {
     "name": "stdout",
     "output_type": "stream",
     "text": [
      "Network (1978/2024) of 37888 nodes.\n"
     ]
    },
    {
     "name": "stderr",
     "output_type": "stream",
     "text": [
      "Fill the dataset: 100%|██████████| 37888/37888 [00:05<00:00, 6455.08it/s]\n",
      "Creating network: 100%|██████████| 64308/64308 [00:08<00:00, 7419.92it/s] \n"
     ]
    },
    {
     "name": "stdout",
     "output_type": "stream",
     "text": [
      "Network (1979/2024) of 38980 nodes.\n"
     ]
    },
    {
     "name": "stderr",
     "output_type": "stream",
     "text": [
      "Fill the dataset: 100%|██████████| 38980/38980 [00:09<00:00, 4204.38it/s]\n",
      "Creating network: 100%|██████████| 64308/64308 [00:07<00:00, 8133.71it/s] \n"
     ]
    },
    {
     "name": "stdout",
     "output_type": "stream",
     "text": [
      "Network (1980/2024) of 40239 nodes.\n"
     ]
    },
    {
     "name": "stderr",
     "output_type": "stream",
     "text": [
      "Fill the dataset: 100%|██████████| 40239/40239 [00:05<00:00, 7623.77it/s]\n",
      "Creating network: 100%|██████████| 64308/64308 [00:07<00:00, 8282.52it/s] \n"
     ]
    },
    {
     "name": "stdout",
     "output_type": "stream",
     "text": [
      "Network (1981/2024) of 41563 nodes.\n"
     ]
    },
    {
     "name": "stderr",
     "output_type": "stream",
     "text": [
      "Fill the dataset: 100%|██████████| 41563/41563 [00:05<00:00, 7804.00it/s]\n",
      "Creating network: 100%|██████████| 64308/64308 [00:07<00:00, 8240.39it/s] \n"
     ]
    },
    {
     "name": "stdout",
     "output_type": "stream",
     "text": [
      "Network (1982/2024) of 42885 nodes.\n"
     ]
    },
    {
     "name": "stderr",
     "output_type": "stream",
     "text": [
      "Fill the dataset: 100%|██████████| 42885/42885 [00:06<00:00, 6656.21it/s]\n",
      "Creating network: 100%|██████████| 64308/64308 [00:13<00:00, 4688.18it/s] \n"
     ]
    },
    {
     "name": "stdout",
     "output_type": "stream",
     "text": [
      "Network (1983/2024) of 44201 nodes.\n"
     ]
    },
    {
     "name": "stderr",
     "output_type": "stream",
     "text": [
      "Fill the dataset: 100%|██████████| 44201/44201 [00:06<00:00, 7347.88it/s]\n",
      "Creating network: 100%|██████████| 64308/64308 [00:08<00:00, 7827.61it/s] \n"
     ]
    },
    {
     "name": "stdout",
     "output_type": "stream",
     "text": [
      "Network (1984/2024) of 45392 nodes.\n"
     ]
    },
    {
     "name": "stderr",
     "output_type": "stream",
     "text": [
      "Fill the dataset: 100%|██████████| 45392/45392 [00:06<00:00, 6712.77it/s]\n",
      "Creating network: 100%|██████████| 64308/64308 [00:09<00:00, 6979.78it/s] \n"
     ]
    },
    {
     "name": "stdout",
     "output_type": "stream",
     "text": [
      "Network (1985/2024) of 46831 nodes.\n"
     ]
    },
    {
     "name": "stderr",
     "output_type": "stream",
     "text": [
      "Fill the dataset: 100%|██████████| 46831/46831 [00:06<00:00, 7041.68it/s]\n",
      "Creating network: 100%|██████████| 64308/64308 [00:13<00:00, 4919.56it/s] \n"
     ]
    },
    {
     "name": "stdout",
     "output_type": "stream",
     "text": [
      "Network (1986/2024) of 48265 nodes.\n"
     ]
    },
    {
     "name": "stderr",
     "output_type": "stream",
     "text": [
      "Fill the dataset: 100%|██████████| 48265/48265 [00:08<00:00, 6005.22it/s]\n",
      "Creating network: 100%|██████████| 64308/64308 [00:09<00:00, 6846.75it/s] \n"
     ]
    },
    {
     "name": "stdout",
     "output_type": "stream",
     "text": [
      "Network (1987/2024) of 49670 nodes.\n"
     ]
    },
    {
     "name": "stderr",
     "output_type": "stream",
     "text": [
      "Fill the dataset: 100%|██████████| 49670/49670 [00:06<00:00, 7363.88it/s]\n",
      "Creating network: 100%|██████████| 64308/64308 [00:11<00:00, 5499.03it/s] \n"
     ]
    },
    {
     "name": "stdout",
     "output_type": "stream",
     "text": [
      "Network (1988/2024) of 51357 nodes.\n"
     ]
    },
    {
     "name": "stderr",
     "output_type": "stream",
     "text": [
      "Fill the dataset: 100%|██████████| 51357/51357 [00:08<00:00, 6207.60it/s]\n",
      "Creating network: 100%|██████████| 64308/64308 [00:09<00:00, 6527.90it/s] \n"
     ]
    },
    {
     "name": "stdout",
     "output_type": "stream",
     "text": [
      "Network (1989/2024) of 52831 nodes.\n"
     ]
    },
    {
     "name": "stderr",
     "output_type": "stream",
     "text": [
      "Fill the dataset: 100%|██████████| 52831/52831 [00:06<00:00, 7763.76it/s]\n",
      "Creating network: 100%|██████████| 64308/64308 [00:09<00:00, 6786.66it/s] \n"
     ]
    },
    {
     "name": "stdout",
     "output_type": "stream",
     "text": [
      "Network (1990/2024) of 54217 nodes.\n"
     ]
    },
    {
     "name": "stderr",
     "output_type": "stream",
     "text": [
      "Fill the dataset: 100%|██████████| 54217/54217 [00:07<00:00, 6855.24it/s]\n",
      "Creating network: 100%|██████████| 64308/64308 [00:09<00:00, 6490.68it/s]\n"
     ]
    },
    {
     "name": "stdout",
     "output_type": "stream",
     "text": [
      "Network (1991/2024) of 55580 nodes.\n"
     ]
    },
    {
     "name": "stderr",
     "output_type": "stream",
     "text": [
      "Fill the dataset: 100%|██████████| 55580/55580 [00:07<00:00, 7358.41it/s]\n",
      "Creating network: 100%|██████████| 64308/64308 [00:10<00:00, 6358.11it/s] \n"
     ]
    },
    {
     "name": "stdout",
     "output_type": "stream",
     "text": [
      "Network (1992/2024) of 57024 nodes.\n"
     ]
    },
    {
     "name": "stderr",
     "output_type": "stream",
     "text": [
      "Fill the dataset: 100%|██████████| 57024/57024 [00:08<00:00, 6721.47it/s]\n",
      "Creating network: 100%|██████████| 64308/64308 [00:11<00:00, 5568.55it/s] \n"
     ]
    },
    {
     "name": "stdout",
     "output_type": "stream",
     "text": [
      "Network (1993/2024) of 58466 nodes.\n"
     ]
    },
    {
     "name": "stderr",
     "output_type": "stream",
     "text": [
      "Fill the dataset: 100%|██████████| 58466/58466 [00:10<00:00, 5487.56it/s]\n",
      "Creating network: 100%|██████████| 64308/64308 [00:13<00:00, 4829.50it/s]\n"
     ]
    },
    {
     "name": "stdout",
     "output_type": "stream",
     "text": [
      "Network (1994/2024) of 59902 nodes.\n"
     ]
    },
    {
     "name": "stderr",
     "output_type": "stream",
     "text": [
      "Fill the dataset: 100%|██████████| 59902/59902 [00:08<00:00, 6843.52it/s]\n",
      "Creating network: 100%|██████████| 64308/64308 [00:10<00:00, 6369.52it/s] \n"
     ]
    },
    {
     "name": "stdout",
     "output_type": "stream",
     "text": [
      "Network (1995/2024) of 61555 nodes.\n"
     ]
    },
    {
     "name": "stderr",
     "output_type": "stream",
     "text": [
      "Fill the dataset: 100%|██████████| 61555/61555 [00:11<00:00, 5355.88it/s]\n",
      "Creating network: 100%|██████████| 64308/64308 [00:12<00:00, 5091.51it/s] \n"
     ]
    },
    {
     "name": "stdout",
     "output_type": "stream",
     "text": [
      "Network (1996/2024) of 63148 nodes.\n"
     ]
    },
    {
     "name": "stderr",
     "output_type": "stream",
     "text": [
      "Fill the dataset: 100%|██████████| 63148/63148 [00:08<00:00, 7758.08it/s]\n",
      "Creating network: 100%|██████████| 64308/64308 [00:10<00:00, 5946.54it/s]\n"
     ]
    },
    {
     "name": "stdout",
     "output_type": "stream",
     "text": [
      "Network (1997/2024) of 64958 nodes.\n"
     ]
    },
    {
     "name": "stderr",
     "output_type": "stream",
     "text": [
      "Fill the dataset: 100%|██████████| 64958/64958 [00:13<00:00, 4805.59it/s]\n",
      "Creating network: 100%|██████████| 64308/64308 [00:11<00:00, 5702.54it/s]\n"
     ]
    },
    {
     "name": "stdout",
     "output_type": "stream",
     "text": [
      "Network (1998/2024) of 66848 nodes.\n"
     ]
    },
    {
     "name": "stderr",
     "output_type": "stream",
     "text": [
      "Fill the dataset: 100%|██████████| 66848/66848 [00:08<00:00, 7811.64it/s]\n",
      "C:\\Users\\pierr\\AppData\\Local\\Temp\\ipykernel_10352\\2840603769.py:51: PerformanceWarning: DataFrame is highly fragmented.  This is usually the result of calling `frame.insert` many times, which has poor performance.  Consider joining all columns at once using pd.concat(axis=1) instead. To get a de-fragmented frame, use `newframe = frame.copy()`\n",
      "  Actor_career.at[actor_idx, f\"Degree_{career_year}\"] = degree_updates[actor_idx]\n",
      "C:\\Users\\pierr\\AppData\\Local\\Temp\\ipykernel_10352\\2840603769.py:52: PerformanceWarning: DataFrame is highly fragmented.  This is usually the result of calling `frame.insert` many times, which has poor performance.  Consider joining all columns at once using pd.concat(axis=1) instead. To get a de-fragmented frame, use `newframe = frame.copy()`\n",
      "  Actor_career.at[actor_idx, f\"Centrality_{career_year}\"] = centrality_updates[actor_idx]\n",
      "Creating network: 100%|██████████| 64308/64308 [00:13<00:00, 4864.97it/s]\n"
     ]
    },
    {
     "name": "stdout",
     "output_type": "stream",
     "text": [
      "Network (1999/2024) of 68922 nodes.\n"
     ]
    },
    {
     "name": "stderr",
     "output_type": "stream",
     "text": [
      "Fill the dataset: 100%|██████████| 68922/68922 [00:09<00:00, 7461.31it/s]\n",
      "C:\\Users\\pierr\\AppData\\Local\\Temp\\ipykernel_10352\\2840603769.py:51: PerformanceWarning: DataFrame is highly fragmented.  This is usually the result of calling `frame.insert` many times, which has poor performance.  Consider joining all columns at once using pd.concat(axis=1) instead. To get a de-fragmented frame, use `newframe = frame.copy()`\n",
      "  Actor_career.at[actor_idx, f\"Degree_{career_year}\"] = degree_updates[actor_idx]\n",
      "C:\\Users\\pierr\\AppData\\Local\\Temp\\ipykernel_10352\\2840603769.py:52: PerformanceWarning: DataFrame is highly fragmented.  This is usually the result of calling `frame.insert` many times, which has poor performance.  Consider joining all columns at once using pd.concat(axis=1) instead. To get a de-fragmented frame, use `newframe = frame.copy()`\n",
      "  Actor_career.at[actor_idx, f\"Centrality_{career_year}\"] = centrality_updates[actor_idx]\n",
      "Creating network: 100%|██████████| 64308/64308 [00:11<00:00, 5487.68it/s] \n"
     ]
    },
    {
     "name": "stdout",
     "output_type": "stream",
     "text": [
      "Network (2000/2024) of 71179 nodes.\n"
     ]
    },
    {
     "name": "stderr",
     "output_type": "stream",
     "text": [
      "Fill the dataset: 100%|██████████| 71179/71179 [00:12<00:00, 5678.44it/s]\n",
      "C:\\Users\\pierr\\AppData\\Local\\Temp\\ipykernel_10352\\2840603769.py:51: PerformanceWarning: DataFrame is highly fragmented.  This is usually the result of calling `frame.insert` many times, which has poor performance.  Consider joining all columns at once using pd.concat(axis=1) instead. To get a de-fragmented frame, use `newframe = frame.copy()`\n",
      "  Actor_career.at[actor_idx, f\"Degree_{career_year}\"] = degree_updates[actor_idx]\n",
      "C:\\Users\\pierr\\AppData\\Local\\Temp\\ipykernel_10352\\2840603769.py:52: PerformanceWarning: DataFrame is highly fragmented.  This is usually the result of calling `frame.insert` many times, which has poor performance.  Consider joining all columns at once using pd.concat(axis=1) instead. To get a de-fragmented frame, use `newframe = frame.copy()`\n",
      "  Actor_career.at[actor_idx, f\"Centrality_{career_year}\"] = centrality_updates[actor_idx]\n",
      "Creating network: 100%|██████████| 64308/64308 [00:11<00:00, 5399.30it/s]\n"
     ]
    },
    {
     "name": "stdout",
     "output_type": "stream",
     "text": [
      "Network (2001/2024) of 73793 nodes.\n"
     ]
    },
    {
     "name": "stderr",
     "output_type": "stream",
     "text": [
      "Fill the dataset: 100%|██████████| 73793/73793 [00:10<00:00, 7020.81it/s]\n",
      "C:\\Users\\pierr\\AppData\\Local\\Temp\\ipykernel_10352\\2840603769.py:51: PerformanceWarning: DataFrame is highly fragmented.  This is usually the result of calling `frame.insert` many times, which has poor performance.  Consider joining all columns at once using pd.concat(axis=1) instead. To get a de-fragmented frame, use `newframe = frame.copy()`\n",
      "  Actor_career.at[actor_idx, f\"Degree_{career_year}\"] = degree_updates[actor_idx]\n",
      "C:\\Users\\pierr\\AppData\\Local\\Temp\\ipykernel_10352\\2840603769.py:52: PerformanceWarning: DataFrame is highly fragmented.  This is usually the result of calling `frame.insert` many times, which has poor performance.  Consider joining all columns at once using pd.concat(axis=1) instead. To get a de-fragmented frame, use `newframe = frame.copy()`\n",
      "  Actor_career.at[actor_idx, f\"Centrality_{career_year}\"] = centrality_updates[actor_idx]\n",
      "Creating network: 100%|██████████| 64308/64308 [00:13<00:00, 4639.79it/s]\n"
     ]
    },
    {
     "name": "stdout",
     "output_type": "stream",
     "text": [
      "Network (2002/2024) of 76784 nodes.\n"
     ]
    },
    {
     "name": "stderr",
     "output_type": "stream",
     "text": [
      "Fill the dataset: 100%|██████████| 76784/76784 [00:09<00:00, 7745.00it/s]\n",
      "C:\\Users\\pierr\\AppData\\Local\\Temp\\ipykernel_10352\\2840603769.py:51: PerformanceWarning: DataFrame is highly fragmented.  This is usually the result of calling `frame.insert` many times, which has poor performance.  Consider joining all columns at once using pd.concat(axis=1) instead. To get a de-fragmented frame, use `newframe = frame.copy()`\n",
      "  Actor_career.at[actor_idx, f\"Degree_{career_year}\"] = degree_updates[actor_idx]\n",
      "C:\\Users\\pierr\\AppData\\Local\\Temp\\ipykernel_10352\\2840603769.py:52: PerformanceWarning: DataFrame is highly fragmented.  This is usually the result of calling `frame.insert` many times, which has poor performance.  Consider joining all columns at once using pd.concat(axis=1) instead. To get a de-fragmented frame, use `newframe = frame.copy()`\n",
      "  Actor_career.at[actor_idx, f\"Centrality_{career_year}\"] = centrality_updates[actor_idx]\n",
      "Creating network: 100%|██████████| 64308/64308 [00:18<00:00, 3551.86it/s] \n"
     ]
    },
    {
     "name": "stdout",
     "output_type": "stream",
     "text": [
      "Network (2003/2024) of 79860 nodes.\n"
     ]
    },
    {
     "name": "stderr",
     "output_type": "stream",
     "text": [
      "Fill the dataset: 100%|██████████| 79860/79860 [00:11<00:00, 6718.68it/s]\n",
      "C:\\Users\\pierr\\AppData\\Local\\Temp\\ipykernel_10352\\2840603769.py:51: PerformanceWarning: DataFrame is highly fragmented.  This is usually the result of calling `frame.insert` many times, which has poor performance.  Consider joining all columns at once using pd.concat(axis=1) instead. To get a de-fragmented frame, use `newframe = frame.copy()`\n",
      "  Actor_career.at[actor_idx, f\"Degree_{career_year}\"] = degree_updates[actor_idx]\n",
      "C:\\Users\\pierr\\AppData\\Local\\Temp\\ipykernel_10352\\2840603769.py:52: PerformanceWarning: DataFrame is highly fragmented.  This is usually the result of calling `frame.insert` many times, which has poor performance.  Consider joining all columns at once using pd.concat(axis=1) instead. To get a de-fragmented frame, use `newframe = frame.copy()`\n",
      "  Actor_career.at[actor_idx, f\"Centrality_{career_year}\"] = centrality_updates[actor_idx]\n",
      "Creating network: 100%|██████████| 64308/64308 [00:11<00:00, 5468.58it/s] \n"
     ]
    },
    {
     "name": "stdout",
     "output_type": "stream",
     "text": [
      "Network (2004/2024) of 82934 nodes.\n"
     ]
    },
    {
     "name": "stderr",
     "output_type": "stream",
     "text": [
      "Fill the dataset: 100%|██████████| 82934/82934 [00:15<00:00, 5295.25it/s]\n",
      "C:\\Users\\pierr\\AppData\\Local\\Temp\\ipykernel_10352\\2840603769.py:51: PerformanceWarning: DataFrame is highly fragmented.  This is usually the result of calling `frame.insert` many times, which has poor performance.  Consider joining all columns at once using pd.concat(axis=1) instead. To get a de-fragmented frame, use `newframe = frame.copy()`\n",
      "  Actor_career.at[actor_idx, f\"Degree_{career_year}\"] = degree_updates[actor_idx]\n",
      "C:\\Users\\pierr\\AppData\\Local\\Temp\\ipykernel_10352\\2840603769.py:52: PerformanceWarning: DataFrame is highly fragmented.  This is usually the result of calling `frame.insert` many times, which has poor performance.  Consider joining all columns at once using pd.concat(axis=1) instead. To get a de-fragmented frame, use `newframe = frame.copy()`\n",
      "  Actor_career.at[actor_idx, f\"Centrality_{career_year}\"] = centrality_updates[actor_idx]\n",
      "Creating network: 100%|██████████| 64308/64308 [00:13<00:00, 4678.36it/s] \n"
     ]
    },
    {
     "name": "stdout",
     "output_type": "stream",
     "text": [
      "Network (2005/2024) of 86847 nodes.\n"
     ]
    },
    {
     "name": "stderr",
     "output_type": "stream",
     "text": [
      "Fill the dataset: 100%|██████████| 86847/86847 [00:11<00:00, 7563.55it/s]\n",
      "C:\\Users\\pierr\\AppData\\Local\\Temp\\ipykernel_10352\\2840603769.py:51: PerformanceWarning: DataFrame is highly fragmented.  This is usually the result of calling `frame.insert` many times, which has poor performance.  Consider joining all columns at once using pd.concat(axis=1) instead. To get a de-fragmented frame, use `newframe = frame.copy()`\n",
      "  Actor_career.at[actor_idx, f\"Degree_{career_year}\"] = degree_updates[actor_idx]\n",
      "C:\\Users\\pierr\\AppData\\Local\\Temp\\ipykernel_10352\\2840603769.py:52: PerformanceWarning: DataFrame is highly fragmented.  This is usually the result of calling `frame.insert` many times, which has poor performance.  Consider joining all columns at once using pd.concat(axis=1) instead. To get a de-fragmented frame, use `newframe = frame.copy()`\n",
      "  Actor_career.at[actor_idx, f\"Centrality_{career_year}\"] = centrality_updates[actor_idx]\n",
      "Creating network: 100%|██████████| 64308/64308 [00:15<00:00, 4253.73it/s]\n"
     ]
    },
    {
     "name": "stdout",
     "output_type": "stream",
     "text": [
      "Network (2006/2024) of 90696 nodes.\n"
     ]
    },
    {
     "name": "stderr",
     "output_type": "stream",
     "text": [
      "Fill the dataset: 100%|██████████| 90696/90696 [00:12<00:00, 7096.57it/s]\n",
      "C:\\Users\\pierr\\AppData\\Local\\Temp\\ipykernel_10352\\2840603769.py:51: PerformanceWarning: DataFrame is highly fragmented.  This is usually the result of calling `frame.insert` many times, which has poor performance.  Consider joining all columns at once using pd.concat(axis=1) instead. To get a de-fragmented frame, use `newframe = frame.copy()`\n",
      "  Actor_career.at[actor_idx, f\"Degree_{career_year}\"] = degree_updates[actor_idx]\n",
      "C:\\Users\\pierr\\AppData\\Local\\Temp\\ipykernel_10352\\2840603769.py:52: PerformanceWarning: DataFrame is highly fragmented.  This is usually the result of calling `frame.insert` many times, which has poor performance.  Consider joining all columns at once using pd.concat(axis=1) instead. To get a de-fragmented frame, use `newframe = frame.copy()`\n",
      "  Actor_career.at[actor_idx, f\"Centrality_{career_year}\"] = centrality_updates[actor_idx]\n",
      "Creating network: 100%|██████████| 64308/64308 [00:15<00:00, 4128.82it/s]\n"
     ]
    },
    {
     "name": "stdout",
     "output_type": "stream",
     "text": [
      "Network (2007/2024) of 95608 nodes.\n"
     ]
    },
    {
     "name": "stderr",
     "output_type": "stream",
     "text": [
      "Fill the dataset: 100%|██████████| 95608/95608 [00:16<00:00, 5761.62it/s]\n",
      "C:\\Users\\pierr\\AppData\\Local\\Temp\\ipykernel_10352\\2840603769.py:51: PerformanceWarning: DataFrame is highly fragmented.  This is usually the result of calling `frame.insert` many times, which has poor performance.  Consider joining all columns at once using pd.concat(axis=1) instead. To get a de-fragmented frame, use `newframe = frame.copy()`\n",
      "  Actor_career.at[actor_idx, f\"Degree_{career_year}\"] = degree_updates[actor_idx]\n",
      "C:\\Users\\pierr\\AppData\\Local\\Temp\\ipykernel_10352\\2840603769.py:52: PerformanceWarning: DataFrame is highly fragmented.  This is usually the result of calling `frame.insert` many times, which has poor performance.  Consider joining all columns at once using pd.concat(axis=1) instead. To get a de-fragmented frame, use `newframe = frame.copy()`\n",
      "  Actor_career.at[actor_idx, f\"Centrality_{career_year}\"] = centrality_updates[actor_idx]\n",
      "Creating network: 100%|██████████| 64308/64308 [00:13<00:00, 4653.63it/s]\n"
     ]
    },
    {
     "name": "stdout",
     "output_type": "stream",
     "text": [
      "Network (2008/2024) of 100226 nodes.\n"
     ]
    },
    {
     "name": "stderr",
     "output_type": "stream",
     "text": [
      "Fill the dataset: 100%|██████████| 100226/100226 [00:14<00:00, 7007.57it/s]\n",
      "C:\\Users\\pierr\\AppData\\Local\\Temp\\ipykernel_10352\\2840603769.py:51: PerformanceWarning: DataFrame is highly fragmented.  This is usually the result of calling `frame.insert` many times, which has poor performance.  Consider joining all columns at once using pd.concat(axis=1) instead. To get a de-fragmented frame, use `newframe = frame.copy()`\n",
      "  Actor_career.at[actor_idx, f\"Degree_{career_year}\"] = degree_updates[actor_idx]\n",
      "C:\\Users\\pierr\\AppData\\Local\\Temp\\ipykernel_10352\\2840603769.py:52: PerformanceWarning: DataFrame is highly fragmented.  This is usually the result of calling `frame.insert` many times, which has poor performance.  Consider joining all columns at once using pd.concat(axis=1) instead. To get a de-fragmented frame, use `newframe = frame.copy()`\n",
      "  Actor_career.at[actor_idx, f\"Centrality_{career_year}\"] = centrality_updates[actor_idx]\n",
      "Creating network: 100%|██████████| 64308/64308 [00:16<00:00, 3835.25it/s]\n"
     ]
    },
    {
     "name": "stdout",
     "output_type": "stream",
     "text": [
      "Network (2009/2024) of 105001 nodes.\n"
     ]
    },
    {
     "name": "stderr",
     "output_type": "stream",
     "text": [
      "Fill the dataset: 100%|██████████| 105001/105001 [00:14<00:00, 7179.97it/s]\n",
      "C:\\Users\\pierr\\AppData\\Local\\Temp\\ipykernel_10352\\2840603769.py:51: PerformanceWarning: DataFrame is highly fragmented.  This is usually the result of calling `frame.insert` many times, which has poor performance.  Consider joining all columns at once using pd.concat(axis=1) instead. To get a de-fragmented frame, use `newframe = frame.copy()`\n",
      "  Actor_career.at[actor_idx, f\"Degree_{career_year}\"] = degree_updates[actor_idx]\n",
      "C:\\Users\\pierr\\AppData\\Local\\Temp\\ipykernel_10352\\2840603769.py:52: PerformanceWarning: DataFrame is highly fragmented.  This is usually the result of calling `frame.insert` many times, which has poor performance.  Consider joining all columns at once using pd.concat(axis=1) instead. To get a de-fragmented frame, use `newframe = frame.copy()`\n",
      "  Actor_career.at[actor_idx, f\"Centrality_{career_year}\"] = centrality_updates[actor_idx]\n",
      "Creating network: 100%|██████████| 64308/64308 [00:14<00:00, 4379.50it/s]\n"
     ]
    },
    {
     "name": "stdout",
     "output_type": "stream",
     "text": [
      "Network (2010/2024) of 109676 nodes.\n"
     ]
    },
    {
     "name": "stderr",
     "output_type": "stream",
     "text": [
      "Fill the dataset: 100%|██████████| 109676/109676 [00:16<00:00, 6759.03it/s]\n",
      "C:\\Users\\pierr\\AppData\\Local\\Temp\\ipykernel_10352\\2840603769.py:51: PerformanceWarning: DataFrame is highly fragmented.  This is usually the result of calling `frame.insert` many times, which has poor performance.  Consider joining all columns at once using pd.concat(axis=1) instead. To get a de-fragmented frame, use `newframe = frame.copy()`\n",
      "  Actor_career.at[actor_idx, f\"Degree_{career_year}\"] = degree_updates[actor_idx]\n",
      "C:\\Users\\pierr\\AppData\\Local\\Temp\\ipykernel_10352\\2840603769.py:52: PerformanceWarning: DataFrame is highly fragmented.  This is usually the result of calling `frame.insert` many times, which has poor performance.  Consider joining all columns at once using pd.concat(axis=1) instead. To get a de-fragmented frame, use `newframe = frame.copy()`\n",
      "  Actor_career.at[actor_idx, f\"Centrality_{career_year}\"] = centrality_updates[actor_idx]\n",
      "Creating network: 100%|██████████| 64308/64308 [00:15<00:00, 4225.94it/s]\n"
     ]
    },
    {
     "name": "stdout",
     "output_type": "stream",
     "text": [
      "Network (2011/2024) of 113918 nodes.\n"
     ]
    },
    {
     "name": "stderr",
     "output_type": "stream",
     "text": [
      "Fill the dataset: 100%|██████████| 113918/113918 [00:19<00:00, 5806.00it/s]\n",
      "C:\\Users\\pierr\\AppData\\Local\\Temp\\ipykernel_10352\\2840603769.py:51: PerformanceWarning: DataFrame is highly fragmented.  This is usually the result of calling `frame.insert` many times, which has poor performance.  Consider joining all columns at once using pd.concat(axis=1) instead. To get a de-fragmented frame, use `newframe = frame.copy()`\n",
      "  Actor_career.at[actor_idx, f\"Degree_{career_year}\"] = degree_updates[actor_idx]\n",
      "C:\\Users\\pierr\\AppData\\Local\\Temp\\ipykernel_10352\\2840603769.py:52: PerformanceWarning: DataFrame is highly fragmented.  This is usually the result of calling `frame.insert` many times, which has poor performance.  Consider joining all columns at once using pd.concat(axis=1) instead. To get a de-fragmented frame, use `newframe = frame.copy()`\n",
      "  Actor_career.at[actor_idx, f\"Centrality_{career_year}\"] = centrality_updates[actor_idx]\n",
      "Creating network: 100%|██████████| 64308/64308 [00:18<00:00, 3564.95it/s]\n"
     ]
    },
    {
     "name": "stdout",
     "output_type": "stream",
     "text": [
      "Network (2012/2024) of 117717 nodes.\n"
     ]
    },
    {
     "name": "stderr",
     "output_type": "stream",
     "text": [
      "Fill the dataset: 100%|██████████| 117717/117717 [00:17<00:00, 6729.88it/s]\n",
      "C:\\Users\\pierr\\AppData\\Local\\Temp\\ipykernel_10352\\2840603769.py:51: PerformanceWarning: DataFrame is highly fragmented.  This is usually the result of calling `frame.insert` many times, which has poor performance.  Consider joining all columns at once using pd.concat(axis=1) instead. To get a de-fragmented frame, use `newframe = frame.copy()`\n",
      "  Actor_career.at[actor_idx, f\"Degree_{career_year}\"] = degree_updates[actor_idx]\n",
      "C:\\Users\\pierr\\AppData\\Local\\Temp\\ipykernel_10352\\2840603769.py:52: PerformanceWarning: DataFrame is highly fragmented.  This is usually the result of calling `frame.insert` many times, which has poor performance.  Consider joining all columns at once using pd.concat(axis=1) instead. To get a de-fragmented frame, use `newframe = frame.copy()`\n",
      "  Actor_career.at[actor_idx, f\"Centrality_{career_year}\"] = centrality_updates[actor_idx]\n",
      "Creating network: 100%|██████████| 64308/64308 [00:18<00:00, 3571.06it/s]\n"
     ]
    },
    {
     "name": "stdout",
     "output_type": "stream",
     "text": [
      "Network (2013/2024) of 119113 nodes.\n"
     ]
    },
    {
     "name": "stderr",
     "output_type": "stream",
     "text": [
      "Fill the dataset: 100%|██████████| 119113/119113 [00:16<00:00, 7115.29it/s]\n",
      "C:\\Users\\pierr\\AppData\\Local\\Temp\\ipykernel_10352\\2840603769.py:51: PerformanceWarning: DataFrame is highly fragmented.  This is usually the result of calling `frame.insert` many times, which has poor performance.  Consider joining all columns at once using pd.concat(axis=1) instead. To get a de-fragmented frame, use `newframe = frame.copy()`\n",
      "  Actor_career.at[actor_idx, f\"Degree_{career_year}\"] = degree_updates[actor_idx]\n",
      "C:\\Users\\pierr\\AppData\\Local\\Temp\\ipykernel_10352\\2840603769.py:52: PerformanceWarning: DataFrame is highly fragmented.  This is usually the result of calling `frame.insert` many times, which has poor performance.  Consider joining all columns at once using pd.concat(axis=1) instead. To get a de-fragmented frame, use `newframe = frame.copy()`\n",
      "  Actor_career.at[actor_idx, f\"Centrality_{career_year}\"] = centrality_updates[actor_idx]\n",
      "Creating network: 100%|██████████| 64308/64308 [00:22<00:00, 2920.31it/s]\n"
     ]
    },
    {
     "name": "stdout",
     "output_type": "stream",
     "text": [
      "Network (2014/2024) of 119251 nodes.\n"
     ]
    },
    {
     "name": "stderr",
     "output_type": "stream",
     "text": [
      "Fill the dataset: 100%|██████████| 119251/119251 [00:18<00:00, 6338.51it/s]\n",
      "C:\\Users\\pierr\\AppData\\Local\\Temp\\ipykernel_10352\\2840603769.py:51: PerformanceWarning: DataFrame is highly fragmented.  This is usually the result of calling `frame.insert` many times, which has poor performance.  Consider joining all columns at once using pd.concat(axis=1) instead. To get a de-fragmented frame, use `newframe = frame.copy()`\n",
      "  Actor_career.at[actor_idx, f\"Degree_{career_year}\"] = degree_updates[actor_idx]\n",
      "C:\\Users\\pierr\\AppData\\Local\\Temp\\ipykernel_10352\\2840603769.py:52: PerformanceWarning: DataFrame is highly fragmented.  This is usually the result of calling `frame.insert` many times, which has poor performance.  Consider joining all columns at once using pd.concat(axis=1) instead. To get a de-fragmented frame, use `newframe = frame.copy()`\n",
      "  Actor_career.at[actor_idx, f\"Centrality_{career_year}\"] = centrality_updates[actor_idx]\n",
      "Creating network: 100%|██████████| 64308/64308 [00:16<00:00, 3842.75it/s]\n"
     ]
    },
    {
     "name": "stdout",
     "output_type": "stream",
     "text": [
      "Network (2015/2024) of 119320 nodes.\n"
     ]
    },
    {
     "name": "stderr",
     "output_type": "stream",
     "text": [
      "Fill the dataset: 100%|██████████| 119320/119320 [00:16<00:00, 7019.26it/s]\n",
      "C:\\Users\\pierr\\AppData\\Local\\Temp\\ipykernel_10352\\2840603769.py:51: PerformanceWarning: DataFrame is highly fragmented.  This is usually the result of calling `frame.insert` many times, which has poor performance.  Consider joining all columns at once using pd.concat(axis=1) instead. To get a de-fragmented frame, use `newframe = frame.copy()`\n",
      "  Actor_career.at[actor_idx, f\"Degree_{career_year}\"] = degree_updates[actor_idx]\n",
      "C:\\Users\\pierr\\AppData\\Local\\Temp\\ipykernel_10352\\2840603769.py:52: PerformanceWarning: DataFrame is highly fragmented.  This is usually the result of calling `frame.insert` many times, which has poor performance.  Consider joining all columns at once using pd.concat(axis=1) instead. To get a de-fragmented frame, use `newframe = frame.copy()`\n",
      "  Actor_career.at[actor_idx, f\"Centrality_{career_year}\"] = centrality_updates[actor_idx]\n",
      "Creating network: 100%|██████████| 64308/64308 [00:16<00:00, 4005.51it/s]\n"
     ]
    },
    {
     "name": "stdout",
     "output_type": "stream",
     "text": [
      "Network (2016/2024) of 119339 nodes.\n"
     ]
    },
    {
     "name": "stderr",
     "output_type": "stream",
     "text": [
      "Fill the dataset: 100%|██████████| 119339/119339 [00:17<00:00, 6915.95it/s]\n",
      "C:\\Users\\pierr\\AppData\\Local\\Temp\\ipykernel_10352\\2840603769.py:51: PerformanceWarning: DataFrame is highly fragmented.  This is usually the result of calling `frame.insert` many times, which has poor performance.  Consider joining all columns at once using pd.concat(axis=1) instead. To get a de-fragmented frame, use `newframe = frame.copy()`\n",
      "  Actor_career.at[actor_idx, f\"Degree_{career_year}\"] = degree_updates[actor_idx]\n",
      "C:\\Users\\pierr\\AppData\\Local\\Temp\\ipykernel_10352\\2840603769.py:52: PerformanceWarning: DataFrame is highly fragmented.  This is usually the result of calling `frame.insert` many times, which has poor performance.  Consider joining all columns at once using pd.concat(axis=1) instead. To get a de-fragmented frame, use `newframe = frame.copy()`\n",
      "  Actor_career.at[actor_idx, f\"Centrality_{career_year}\"] = centrality_updates[actor_idx]\n",
      "Creating network: 100%|██████████| 64308/64308 [00:16<00:00, 3966.44it/s]\n"
     ]
    },
    {
     "name": "stdout",
     "output_type": "stream",
     "text": [
      "Network (2017/2024) of 119348 nodes.\n"
     ]
    },
    {
     "name": "stderr",
     "output_type": "stream",
     "text": [
      "Fill the dataset: 100%|██████████| 119348/119348 [00:22<00:00, 5417.17it/s]\n",
      "C:\\Users\\pierr\\AppData\\Local\\Temp\\ipykernel_10352\\2840603769.py:51: PerformanceWarning: DataFrame is highly fragmented.  This is usually the result of calling `frame.insert` many times, which has poor performance.  Consider joining all columns at once using pd.concat(axis=1) instead. To get a de-fragmented frame, use `newframe = frame.copy()`\n",
      "  Actor_career.at[actor_idx, f\"Degree_{career_year}\"] = degree_updates[actor_idx]\n",
      "C:\\Users\\pierr\\AppData\\Local\\Temp\\ipykernel_10352\\2840603769.py:52: PerformanceWarning: DataFrame is highly fragmented.  This is usually the result of calling `frame.insert` many times, which has poor performance.  Consider joining all columns at once using pd.concat(axis=1) instead. To get a de-fragmented frame, use `newframe = frame.copy()`\n",
      "  Actor_career.at[actor_idx, f\"Centrality_{career_year}\"] = centrality_updates[actor_idx]\n",
      "Creating network: 100%|██████████| 64308/64308 [00:16<00:00, 3939.60it/s]\n"
     ]
    },
    {
     "name": "stdout",
     "output_type": "stream",
     "text": [
      "Network (2018/2024) of 119353 nodes.\n"
     ]
    },
    {
     "name": "stderr",
     "output_type": "stream",
     "text": [
      "Fill the dataset: 100%|██████████| 119353/119353 [00:18<00:00, 6602.09it/s]\n",
      "C:\\Users\\pierr\\AppData\\Local\\Temp\\ipykernel_10352\\2840603769.py:51: PerformanceWarning: DataFrame is highly fragmented.  This is usually the result of calling `frame.insert` many times, which has poor performance.  Consider joining all columns at once using pd.concat(axis=1) instead. To get a de-fragmented frame, use `newframe = frame.copy()`\n",
      "  Actor_career.at[actor_idx, f\"Degree_{career_year}\"] = degree_updates[actor_idx]\n",
      "C:\\Users\\pierr\\AppData\\Local\\Temp\\ipykernel_10352\\2840603769.py:52: PerformanceWarning: DataFrame is highly fragmented.  This is usually the result of calling `frame.insert` many times, which has poor performance.  Consider joining all columns at once using pd.concat(axis=1) instead. To get a de-fragmented frame, use `newframe = frame.copy()`\n",
      "  Actor_career.at[actor_idx, f\"Centrality_{career_year}\"] = centrality_updates[actor_idx]\n",
      "Creating network: 100%|██████████| 64308/64308 [00:18<00:00, 3472.47it/s]\n"
     ]
    },
    {
     "name": "stdout",
     "output_type": "stream",
     "text": [
      "Network (2019/2024) of 119364 nodes.\n"
     ]
    },
    {
     "name": "stderr",
     "output_type": "stream",
     "text": [
      "Fill the dataset: 100%|██████████| 119364/119364 [00:16<00:00, 7196.23it/s]\n",
      "C:\\Users\\pierr\\AppData\\Local\\Temp\\ipykernel_10352\\2840603769.py:51: PerformanceWarning: DataFrame is highly fragmented.  This is usually the result of calling `frame.insert` many times, which has poor performance.  Consider joining all columns at once using pd.concat(axis=1) instead. To get a de-fragmented frame, use `newframe = frame.copy()`\n",
      "  Actor_career.at[actor_idx, f\"Degree_{career_year}\"] = degree_updates[actor_idx]\n",
      "C:\\Users\\pierr\\AppData\\Local\\Temp\\ipykernel_10352\\2840603769.py:52: PerformanceWarning: DataFrame is highly fragmented.  This is usually the result of calling `frame.insert` many times, which has poor performance.  Consider joining all columns at once using pd.concat(axis=1) instead. To get a de-fragmented frame, use `newframe = frame.copy()`\n",
      "  Actor_career.at[actor_idx, f\"Centrality_{career_year}\"] = centrality_updates[actor_idx]\n",
      "Creating network: 100%|██████████| 64308/64308 [00:21<00:00, 2949.66it/s]\n"
     ]
    },
    {
     "name": "stdout",
     "output_type": "stream",
     "text": [
      "Network (2020/2024) of 119365 nodes.\n"
     ]
    },
    {
     "name": "stderr",
     "output_type": "stream",
     "text": [
      "Fill the dataset: 100%|██████████| 119365/119365 [00:19<00:00, 6170.42it/s]\n",
      "C:\\Users\\pierr\\AppData\\Local\\Temp\\ipykernel_10352\\2840603769.py:51: PerformanceWarning: DataFrame is highly fragmented.  This is usually the result of calling `frame.insert` many times, which has poor performance.  Consider joining all columns at once using pd.concat(axis=1) instead. To get a de-fragmented frame, use `newframe = frame.copy()`\n",
      "  Actor_career.at[actor_idx, f\"Degree_{career_year}\"] = degree_updates[actor_idx]\n",
      "C:\\Users\\pierr\\AppData\\Local\\Temp\\ipykernel_10352\\2840603769.py:52: PerformanceWarning: DataFrame is highly fragmented.  This is usually the result of calling `frame.insert` many times, which has poor performance.  Consider joining all columns at once using pd.concat(axis=1) instead. To get a de-fragmented frame, use `newframe = frame.copy()`\n",
      "  Actor_career.at[actor_idx, f\"Centrality_{career_year}\"] = centrality_updates[actor_idx]\n"
     ]
    },
    {
     "name": "stdout",
     "output_type": "stream",
     "text": [
      "Computation time: 4317.73s\n"
>>>>>>> parent of 5b6d541 (Merge branch 'main' of https://github.com/epfl-ada/ada-2024-project-importnumpyaspd)
     ]
    }
   ],
   "source": [
    "start = time.time()\n",
    "\n",
    "movie_releasedates = range(1920,2020) \n",
    "Actor_career['carrer_year'] = 0\n",
    "career_counts = np.array(Actor_career.apply(fill_career_years, axis=1).tolist())\n",
    "\n",
    "for i in range(max_career_years):\n",
    "    Actor_career[f\"Year_{i+1}\"] = career_counts[:, i]\n",
    "    Actor_career[f\"Nbr_films_{i+1}\"] = career_counts[:, i]\n",
    "\n",
    "\n",
    "for date in tqdm(movie_releasedates):\n",
    "\n",
    "    played_together = create_actor_network(Actor_career, Movie, 1, min_releasedate=date)\n",
    "\n",
    "    nan_nodes = [node for node in played_together.nodes if pd.isna(node)]\n",
    "    played_together.remove_nodes_from(nan_nodes)\n",
    "\n",
    "    degrees = dict(played_together.degree())\n",
    "    eigenvector_centrality = nx.eigenvector_centrality(played_together, max_iter=1000)\n",
    "    eigenvector_values = np.array(list(eigenvector_centrality.values()))\n",
    "\n",
    "    mean = np.mean(eigenvector_values)\n",
    "    std = np.std(eigenvector_values)\n",
    "    standardized_eigenvector_centrality = {node: (val - mean) / std for node, val in eigenvector_centrality.items()}\n",
    "\n",
    "\n",
    "    actor_id_to_idx = pd.Series(Actor_career.index, index=Actor_career[\"Freebase_actor_ID\"]).to_dict()\n",
    "    num_actors = len(Actor_career)\n",
    "    degree_updates = np.zeros(num_actors, dtype=np.float32)\n",
    "    centrality_updates = np.zeros(num_actors, dtype=np.float32)\n",
    "    career_year_updates = np.zeros(num_actors, dtype=np.int32)\n",
    "\n",
    "\n",
    "    for actor_id in played_together.nodes():\n",
    "        if actor_id in actor_id_to_idx:\n",
    "            actor_idx = actor_id_to_idx[actor_id]\n",
    "            career_year = Actor_career.at[actor_idx, \"carrer_year\"]\n",
    "            \n",
    "            degree_updates[actor_idx] = degrees.get(actor_id, 0)\n",
    "            centrality_updates[actor_idx] = standardized_eigenvector_centrality.get(actor_id, 0.0)\n",
    "            career_year_updates[actor_idx] = career_year\n",
    "\n",
    "            Actor_career.at[actor_idx, \"carrer_year\"] += 1\n",
    "\n",
    "\n",
    "    for actor_idx, career_year in enumerate(career_year_updates):\n",
    "        if career_year > 0:  # Only update valid career years\n",
    "            Actor_career.at[actor_idx, f\"Degree_{career_year}\"] = degree_updates[actor_idx]\n",
    "            Actor_career.at[actor_idx, f\"Centrality_{career_year}\"] = centrality_updates[actor_idx]\n",
    "\n",
    "\n",
    "Actor_career.to_pickle('data/Actor_career.pkl')\n",
    "print(f\"Computation time: {time.time()-start:.2f}s\")\n",
    "\n"
   ]
  },
  {
   "cell_type": "code",
   "execution_count": 28,
   "id": "e1df5e0e-f50c-43f4-ba8f-18c240ee0aa2",
   "metadata": {
    "scrolled": true
   },
   "outputs": [],
   "source": [
    "columns_to_drop = [\n",
    "    'Freebase_actor_ID', 'actor_name', 'actor_DOB', 'actor_gender',\n",
    "    'actor_height', 'ethnicity', 'Freebase_movie_ID',\n",
    "    'actor_age_atmovierelease', 'Career_Start_age'\n",
    "]\n",
    "\n",
    "Career_dataset = Actor_career.drop(columns=columns_to_drop, errors='ignore')\n",
    "\n",
    "\n",
    "Career_dataset = Career_dataset.fillna(0)\n",
    "\n",
    "\n",
    "means = Career_dataset.mean()\n",
    "stddevs = Career_dataset.std()\n",
    "\n",
    "Career_dataset_std = pd.DataFrame()\n",
    "\n",
    "for c in Career_dataset.columns:\n",
    "    Career_dataset[c] = (Career_dataset[c]-means[c])/stddevs[c]\n",
    "\n",
    "Career_dataset = Career_dataset.fillna(0)\n"
   ]
  },
  {
   "cell_type": "code",
   "execution_count": 30,
   "id": "992a9cf3-d5b0-4506-be22-5322d20eee9c",
   "metadata": {},
   "outputs": [
    {
     "name": "stdout",
     "output_type": "stream",
     "text": [
      "1\n",
      "2\n",
      "3\n",
      "4\n",
      "5\n",
      "6\n",
      "7\n",
      "8\n",
      "9\n",
      "10\n"
     ]
    },
    {
     "data": {
      "image/png": "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",
      "text/plain": [
       "<Figure size 600x400 with 1 Axes>"
      ]
     },
     "metadata": {},
     "output_type": "display_data"
    }
   ],
   "source": [
    "# Elbow method to determine the optimal number of clusters\n",
    "sse = []\n",
    "for k in range(1, 11):  # Test cluster numbers from 1 to 10\n",
    "    kmeans = KMeans(n_clusters=k, random_state=0)\n",
    "    kmeans.fit(Career_dataset)\n",
    "    sse.append(kmeans.inertia_)\n",
    "    print(k)\n",
    "\n",
    "# Plot SSE\n",
    "plt.figure(figsize=(6, 4))\n",
    "plt.plot(range(1, 11), sse, marker=\"o\")\n",
    "plt.xlabel(\"Number of Clusters\")\n",
    "plt.ylabel(\"SSE (Sum of Squared Errors)\")\n",
    "plt.title(\"Elbow Method for Optimal Clusters\")\n",
    "plt.show()\n"
   ]
  },
  {
   "cell_type": "code",
   "execution_count": 91,
   "id": "4c16c09e-deee-4bbe-8df3-000ee48bf0aa",
   "metadata": {},
   "outputs": [],
   "source": [
    "kmeans = KMeans(n_clusters=5, random_state=0)\n",
    "labels = kmeans.fit_predict(Career_dataset)"
   ]
  },
  {
   "cell_type": "code",
   "execution_count": 104,
   "id": "b1e5ecc5-0e2d-4345-ae2d-ce7758d847f6",
   "metadata": {},
   "outputs": [],
   "source": [
    "Actor_career['Labels'] = labels"
   ]
  },
  {
   "cell_type": "code",
   "execution_count": 105,
   "id": "394c5850-30e5-47a4-8157-9f2537f8511a",
   "metadata": {},
   "outputs": [],
   "source": [
    "Actors_0 = Actor_career[Actor_career['Labels']==0]\n",
    "Actors_1 = Actor_career[Actor_career['Labels']==1]\n",
    "Actors_2 = Actor_career[Actor_career['Labels']==2]\n",
    "Actors_3 = Actor_career[Actor_career['Labels']==3]\n",
    "Actors_4 = Actor_career[Actor_career['Labels']==4]"
   ]
  }
 ],
 "metadata": {
  "kernelspec": {
   "display_name": "Python 3 (ipykernel)",
   "language": "python",
   "name": "python3"
  },
  "language_info": {
   "codemirror_mode": {
    "name": "ipython",
    "version": 3
   },
   "file_extension": ".py",
   "mimetype": "text/x-python",
   "name": "python",
   "nbconvert_exporter": "python",
   "pygments_lexer": "ipython3",
   "version": "3.11.11"
  }
 },
 "nbformat": 4,
 "nbformat_minor": 5
}
