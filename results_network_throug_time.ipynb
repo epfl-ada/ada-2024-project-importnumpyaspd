{
 "cells": [
  {
   "cell_type": "code",
   "execution_count": 1,
   "id": "c1329e0f-fddc-4608-b031-820efc996276",
   "metadata": {},
   "outputs": [
    {
     "name": "stderr",
     "output_type": "stream",
     "text": [
      "C:\\Users\\pierr\\AppData\\Roaming\\Python\\Python311\\site-packages\\pandas\\core\\arrays\\masked.py:60: UserWarning: Pandas requires version '1.3.6' or newer of 'bottleneck' (version '1.3.5' currently installed).\n",
      "  from pandas.core import (\n"
     ]
    }
   ],
   "source": [
    "import pickle \n",
    "import numpy as np \n",
    "import pandas as pd\n",
    "import networkx as nx\n",
    "from tqdm import tqdm\n",
    "import time\n",
    "import datetime\n",
    "import seaborn as sns\n",
    "import matplotlib.pyplot as plt\n",
    "from itertools import combinations\n",
    "import collections\n",
    "\n",
    "from src.utils.data_utils import *\n",
    "from src.utils.general_utils import *"
   ]
  },
  {
   "cell_type": "code",
   "execution_count": 2,
   "id": "cf3ea1bb-baeb-4912-9d62-3a12c81cf956",
   "metadata": {},
   "outputs": [
    {
     "name": "stderr",
     "output_type": "stream",
     "text": [
      "C:\\Users\\pierr\\AppData\\Local\\Temp\\ipykernel_1608\\4209001929.py:5: DeprecationWarning: numpy.core.numeric is deprecated and has been renamed to numpy._core.numeric. The numpy._core namespace contains private NumPy internals and its use is discouraged, as NumPy internals can change without warning in any release. In practice, most real-world usage of numpy.core is to access functionality in the public NumPy API. If that is the case, use the public NumPy API. If not, you are using NumPy internals. If you would still like to access an internal attribute, use numpy._core.numeric._frombuffer.\n",
      "  Movie = pickle.load(file)\n"
     ]
    }
   ],
   "source": [
    "movie_path = 'data/Movie.pkl'\n",
    "actors_path = 'data/Actor.pkl'\n",
    "\n",
    "with open(movie_path, 'rb') as file:\n",
    "    Movie = pickle.load(file)\n",
    "\n",
    "with open(actors_path, 'rb') as file:\n",
    "    Actor = pickle.load(file)"
   ]
  },
  {
   "cell_type": "code",
   "execution_count": 25,
   "id": "bf919e5f-c8af-4b40-9927-9f8b9944c4d9",
   "metadata": {},
   "outputs": [],
   "source": [
    "Actor[\"actor_age_atmovierelease\"] = Actor[\"actor_age_atmovierelease\"].apply(\n",
    "    lambda x: [pd.NA if pd.isna(age) else int(age) for age in x]\n",
    ")\n",
    "\n",
    "Actor[\"actor_age_atmovierelease\"] = Actor[\"actor_age_atmovierelease\"].apply(\n",
    "    lambda x: [-1 if (pd.isna(val) or val < 0) else val for val in x]\n",
    ")\n",
    "\n",
    "Actor[\"Career_Start_age\"] = Actor.apply(\n",
    "    lambda row: min([val for val in row[\"actor_age_atmovierelease\"] if val > 0], default=-1),\n",
    "    axis=1,\n",
    ")\n",
    "\n",
    "max_career_years = int(max(Actor.apply(lambda row: max(row[\"actor_age_atmovierelease\"]),axis=1)-Actor[\"Career_Start_age\"]))\n",
    "\n",
    "year_columns = [f\"Year_{i}\" for i in range(max_career_years)]\n",
    "Actor_career = pd.concat(\n",
    "    [Actor.copy(), pd.DataFrame(0, index=Actor.index, columns=year_columns)], axis=1)\n"
   ]
  },
  {
   "cell_type": "code",
   "execution_count": 26,
   "id": "56923b16-00d8-4f5a-b823-f6ab67306231",
   "metadata": {},
   "outputs": [],
   "source": [
    "def fill_career_years(row):\n",
    "\n",
    "    age_at_release = np.array(row[\"actor_age_atmovierelease\"])\n",
    "    counts = np.zeros(max_career_years+1)\n",
    "    \n",
    "    if len(age_at_release) != 0:\n",
    "        for year in age_at_release:\n",
    "            if year >= 0 and row[\"Career_Start_age\"]>=0:\n",
    "                counts[year-row[\"Career_Start_age\"]] += 1\n",
    "                    \n",
    "    return counts"
   ]
  },
  {
   "cell_type": "code",
   "execution_count": 51,
   "id": "d1314be7-eea4-4190-87c9-c607f390121b",
   "metadata": {},
   "outputs": [
    {
     "name": "stdout",
     "output_type": "stream",
     "text": [
      "Created graph with actors:\n"
     ]
    },
    {
     "name": "stderr",
     "output_type": "stream",
     "text": [
      "Creating network: 100%|██████████| 64308/64308 [00:01<00:00, 32536.47it/s]\n"
     ]
    },
    {
     "name": "stdout",
     "output_type": "stream",
     "text": [
      "Network (1906/2024) of 11 nodes.\n",
      "max degree: 10.0\n",
      "max centrality: 0.30151134457776363\n"
     ]
    },
    {
     "name": "stderr",
     "output_type": "stream",
     "text": [
      "Creating network: 100%|██████████| 64308/64308 [00:01<00:00, 37325.88it/s]\n"
     ]
    },
    {
     "name": "stdout",
     "output_type": "stream",
     "text": [
      "Network (1907/2024) of 15 nodes.\n",
      "max degree: 10.0\n",
      "max centrality: 0.301511344576197\n"
     ]
    },
    {
     "name": "stderr",
     "output_type": "stream",
     "text": [
      "Creating network: 100%|██████████| 64308/64308 [00:02<00:00, 29473.78it/s]\n"
     ]
    },
    {
     "name": "stdout",
     "output_type": "stream",
     "text": [
      "Network (1908/2024) of 21 nodes.\n",
      "max degree: 10.0\n",
      "max centrality: 0.30151134457734935\n"
     ]
    },
    {
     "name": "stderr",
     "output_type": "stream",
     "text": [
      "Creating network: 100%|██████████| 64308/64308 [00:02<00:00, 27965.26it/s]\n"
     ]
    },
    {
     "name": "stdout",
     "output_type": "stream",
     "text": [
      "Network (1909/2024) of 28 nodes.\n",
      "max degree: 10.0\n",
      "max centrality: 0.30151134454146955\n"
     ]
    },
    {
     "name": "stderr",
     "output_type": "stream",
     "text": [
      "Creating network: 100%|██████████| 64308/64308 [00:02<00:00, 29701.94it/s]\n"
     ]
    },
    {
     "name": "stdout",
     "output_type": "stream",
     "text": [
      "Network (1910/2024) of 47 nodes.\n",
      "max degree: 13.0\n",
      "max centrality: 0.29288591026856986\n"
     ]
    },
    {
     "name": "stderr",
     "output_type": "stream",
     "text": [
      "Creating network: 100%|██████████| 64308/64308 [00:01<00:00, 36381.67it/s]\n"
     ]
    },
    {
     "name": "stdout",
     "output_type": "stream",
     "text": [
      "Network (1911/2024) of 94 nodes.\n",
      "max degree: 16.0\n",
      "max centrality: 0.2425356238525785\n"
     ]
    },
    {
     "name": "stderr",
     "output_type": "stream",
     "text": [
      "Creating network: 100%|██████████| 64308/64308 [00:02<00:00, 25659.70it/s]\n"
     ]
    },
    {
     "name": "stdout",
     "output_type": "stream",
     "text": [
      "Network (1912/2024) of 157 nodes.\n",
      "max degree: 16.0\n",
      "max centrality: 0.24253562214175645\n"
     ]
    },
    {
     "name": "stderr",
     "output_type": "stream",
     "text": [
      "Creating network: 100%|██████████| 64308/64308 [00:02<00:00, 28887.25it/s]\n"
     ]
    },
    {
     "name": "stdout",
     "output_type": "stream",
     "text": [
      "Network (1913/2024) of 231 nodes.\n",
      "max degree: 33.0\n",
      "max centrality: 0.28943636163548236\n"
     ]
    },
    {
     "name": "stderr",
     "output_type": "stream",
     "text": [
      "Creating network: 100%|██████████| 64308/64308 [00:01<00:00, 35617.92it/s]\n"
     ]
    },
    {
     "name": "stdout",
     "output_type": "stream",
     "text": [
      "Network (1914/2024) of 397 nodes.\n",
      "max degree: 47.0\n",
      "max centrality: 0.30116848069721813\n"
     ]
    },
    {
     "name": "stderr",
     "output_type": "stream",
     "text": [
      "Creating network: 100%|██████████| 64308/64308 [00:01<00:00, 36490.12it/s]\n"
     ]
    },
    {
     "name": "stdout",
     "output_type": "stream",
     "text": [
      "Network (1915/2024) of 644 nodes.\n",
      "max degree: 63.0\n",
      "max centrality: 0.2971209402631953\n"
     ]
    },
    {
     "name": "stderr",
     "output_type": "stream",
     "text": [
      "Creating network: 100%|██████████| 64308/64308 [00:02<00:00, 22506.15it/s]\n"
     ]
    },
    {
     "name": "stdout",
     "output_type": "stream",
     "text": [
      "Network (1916/2024) of 881 nodes.\n",
      "max degree: 75.0\n",
      "max centrality: 0.2904352245861276\n"
     ]
    },
    {
     "name": "stderr",
     "output_type": "stream",
     "text": [
      "Creating network: 100%|██████████| 64308/64308 [00:02<00:00, 31956.15it/s]\n"
     ]
    },
    {
     "name": "stdout",
     "output_type": "stream",
     "text": [
      "Network (1917/2024) of 1103 nodes.\n",
      "max degree: 84.0\n",
      "max centrality: 0.29300649964218406\n"
     ]
    },
    {
     "name": "stderr",
     "output_type": "stream",
     "text": [
      "Creating network: 100%|██████████| 64308/64308 [00:02<00:00, 25079.48it/s]\n"
     ]
    },
    {
     "name": "stdout",
     "output_type": "stream",
     "text": [
      "Network (1918/2024) of 1332 nodes.\n",
      "max degree: 99.0\n",
      "max centrality: 0.2776965523650614\n"
     ]
    },
    {
     "name": "stderr",
     "output_type": "stream",
     "text": [
      "Creating network: 100%|██████████| 64308/64308 [00:02<00:00, 28187.39it/s]\n"
     ]
    },
    {
     "name": "stdout",
     "output_type": "stream",
     "text": [
      "Network (1919/2024) of 1532 nodes.\n",
      "max degree: 100.0\n",
      "max centrality: 0.2682568992814517\n"
     ]
    },
    {
     "name": "stderr",
     "output_type": "stream",
     "text": [
      "Creating network: 100%|██████████| 64308/64308 [00:01<00:00, 34846.63it/s]\n"
     ]
    },
    {
     "name": "stdout",
     "output_type": "stream",
     "text": [
      "Network (1920/2024) of 1831 nodes.\n",
      "max degree: 100.0\n",
      "max centrality: 0.2578812687315832\n"
     ]
    },
    {
     "name": "stderr",
     "output_type": "stream",
     "text": [
      "Creating network: 100%|██████████| 64308/64308 [00:01<00:00, 35082.67it/s]\n"
     ]
    },
    {
     "name": "stdout",
     "output_type": "stream",
     "text": [
      "Network (1921/2024) of 2114 nodes.\n",
      "max degree: 117.0\n",
      "max centrality: 0.23165020481239446\n"
     ]
    },
    {
     "name": "stderr",
     "output_type": "stream",
     "text": [
      "Creating network: 100%|██████████| 64308/64308 [00:02<00:00, 28613.65it/s]\n"
     ]
    },
    {
     "name": "stdout",
     "output_type": "stream",
     "text": [
      "Network (1922/2024) of 2348 nodes.\n",
      "max degree: 120.0\n",
      "max centrality: 0.22058015325305622\n"
     ]
    },
    {
     "name": "stderr",
     "output_type": "stream",
     "text": [
      "Creating network: 100%|██████████| 64308/64308 [00:02<00:00, 24538.27it/s]\n"
     ]
    },
    {
     "name": "stdout",
     "output_type": "stream",
     "text": [
      "Network (1923/2024) of 2652 nodes.\n",
      "max degree: 129.0\n",
      "max centrality: 0.22995897907027152\n"
     ]
    },
    {
     "name": "stderr",
     "output_type": "stream",
     "text": [
      "Creating network: 100%|██████████| 64308/64308 [00:01<00:00, 32557.62it/s]\n"
     ]
    },
    {
     "name": "stdout",
     "output_type": "stream",
     "text": [
      "Network (1924/2024) of 2884 nodes.\n",
      "max degree: 129.0\n",
      "max centrality: 0.22949892685759282\n"
     ]
    },
    {
     "name": "stderr",
     "output_type": "stream",
     "text": [
      "Creating network: 100%|██████████| 64308/64308 [00:01<00:00, 34273.25it/s]\n"
     ]
    },
    {
     "name": "stdout",
     "output_type": "stream",
     "text": [
      "Network (1925/2024) of 3147 nodes.\n",
      "max degree: 149.0\n",
      "max centrality: 0.22517932533335058\n"
     ]
    },
    {
     "name": "stderr",
     "output_type": "stream",
     "text": [
      "Creating network: 100%|██████████| 64308/64308 [00:02<00:00, 25305.56it/s]\n"
     ]
    },
    {
     "name": "stdout",
     "output_type": "stream",
     "text": [
      "Network (1926/2024) of 3384 nodes.\n",
      "max degree: 161.0\n",
      "max centrality: 0.23411250546999254\n"
     ]
    },
    {
     "name": "stderr",
     "output_type": "stream",
     "text": [
      "Creating network: 100%|██████████| 64308/64308 [00:02<00:00, 24999.07it/s]\n"
     ]
    },
    {
     "name": "stdout",
     "output_type": "stream",
     "text": [
      "Network (1927/2024) of 3704 nodes.\n",
      "max degree: 179.0\n",
      "max centrality: 0.23401123790169867\n"
     ]
    },
    {
     "name": "stderr",
     "output_type": "stream",
     "text": [
      "Creating network: 100%|██████████| 64308/64308 [00:02<00:00, 24712.48it/s]\n"
     ]
    },
    {
     "name": "stdout",
     "output_type": "stream",
     "text": [
      "Network (1928/2024) of 4003 nodes.\n",
      "max degree: 179.0\n",
      "max centrality: 0.23331478905918124\n"
     ]
    },
    {
     "name": "stderr",
     "output_type": "stream",
     "text": [
      "Creating network: 100%|██████████| 64308/64308 [00:02<00:00, 29091.02it/s]\n"
     ]
    },
    {
     "name": "stdout",
     "output_type": "stream",
     "text": [
      "Network (1929/2024) of 4424 nodes.\n",
      "max degree: 189.0\n",
      "max centrality: 0.1598527690279959\n"
     ]
    },
    {
     "name": "stderr",
     "output_type": "stream",
     "text": [
      "Creating network: 100%|██████████| 64308/64308 [00:02<00:00, 24992.16it/s]\n"
     ]
    },
    {
     "name": "stdout",
     "output_type": "stream",
     "text": [
      "Network (1930/2024) of 4917 nodes.\n",
      "max degree: 189.0\n",
      "max centrality: 0.14643103875063876\n"
     ]
    },
    {
     "name": "stderr",
     "output_type": "stream",
     "text": [
      "Creating network: 100%|██████████| 64308/64308 [00:02<00:00, 28900.80it/s]\n"
     ]
    },
    {
     "name": "stdout",
     "output_type": "stream",
     "text": [
      "Network (1931/2024) of 5387 nodes.\n",
      "max degree: 191.0\n",
      "max centrality: 0.13963441835229737\n"
     ]
    },
    {
     "name": "stderr",
     "output_type": "stream",
     "text": [
      "Creating network: 100%|██████████| 64308/64308 [00:02<00:00, 26974.52it/s]\n"
     ]
    },
    {
     "name": "stdout",
     "output_type": "stream",
     "text": [
      "Network (1932/2024) of 5785 nodes.\n",
      "max degree: 194.0\n",
      "max centrality: 0.14920114203032214\n"
     ]
    },
    {
     "name": "stderr",
     "output_type": "stream",
     "text": [
      "Creating network: 100%|██████████| 64308/64308 [00:02<00:00, 29072.42it/s]\n"
     ]
    },
    {
     "name": "stdout",
     "output_type": "stream",
     "text": [
      "Network (1933/2024) of 6131 nodes.\n",
      "max degree: 212.0\n",
      "max centrality: 0.1445141701928741\n"
     ]
    },
    {
     "name": "stderr",
     "output_type": "stream",
     "text": [
      "Creating network: 100%|██████████| 64308/64308 [00:02<00:00, 24505.23it/s]\n"
     ]
    },
    {
     "name": "stdout",
     "output_type": "stream",
     "text": [
      "Network (1934/2024) of 6656 nodes.\n",
      "max degree: 251.0\n",
      "max centrality: 0.1339834475918931\n"
     ]
    },
    {
     "name": "stderr",
     "output_type": "stream",
     "text": [
      "Creating network: 100%|██████████| 64308/64308 [00:02<00:00, 31650.27it/s]\n"
     ]
    },
    {
     "name": "stdout",
     "output_type": "stream",
     "text": [
      "Network (1935/2024) of 7131 nodes.\n",
      "max degree: 263.0\n",
      "max centrality: 0.12290458493822388\n"
     ]
    },
    {
     "name": "stderr",
     "output_type": "stream",
     "text": [
      "Creating network: 100%|██████████| 64308/64308 [00:02<00:00, 25392.99it/s]\n"
     ]
    },
    {
     "name": "stdout",
     "output_type": "stream",
     "text": [
      "Network (1936/2024) of 7735 nodes.\n",
      "max degree: 296.0\n",
      "max centrality: 0.12483248674559008\n"
     ]
    },
    {
     "name": "stderr",
     "output_type": "stream",
     "text": [
      "Creating network: 100%|██████████| 64308/64308 [00:02<00:00, 27420.74it/s]\n"
     ]
    },
    {
     "name": "stdout",
     "output_type": "stream",
     "text": [
      "Network (1937/2024) of 8264 nodes.\n",
      "max degree: 315.0\n",
      "max centrality: 0.12643886461064624\n"
     ]
    },
    {
     "name": "stderr",
     "output_type": "stream",
     "text": [
      "Creating network: 100%|██████████| 64308/64308 [00:02<00:00, 25328.13it/s]\n"
     ]
    },
    {
     "name": "stdout",
     "output_type": "stream",
     "text": [
      "Network (1938/2024) of 8704 nodes.\n",
      "max degree: 332.0\n",
      "max centrality: 0.1250574472142369\n"
     ]
    },
    {
     "name": "stderr",
     "output_type": "stream",
     "text": [
      "Creating network: 100%|██████████| 64308/64308 [00:02<00:00, 21802.75it/s]\n"
     ]
    },
    {
     "name": "stdout",
     "output_type": "stream",
     "text": [
      "Network (1939/2024) of 9125 nodes.\n",
      "max degree: 348.0\n",
      "max centrality: 0.1191996563260034\n"
     ]
    },
    {
     "name": "stderr",
     "output_type": "stream",
     "text": [
      "Creating network: 100%|██████████| 64308/64308 [00:02<00:00, 22167.43it/s]\n"
     ]
    },
    {
     "name": "stdout",
     "output_type": "stream",
     "text": [
      "Network (1940/2024) of 9531 nodes.\n",
      "max degree: 357.0\n",
      "max centrality: 0.11431359173401422\n"
     ]
    },
    {
     "name": "stderr",
     "output_type": "stream",
     "text": [
      "Creating network: 100%|██████████| 64308/64308 [00:02<00:00, 24184.48it/s]\n"
     ]
    },
    {
     "name": "stdout",
     "output_type": "stream",
     "text": [
      "Network (1941/2024) of 9923 nodes.\n",
      "max degree: 373.0\n",
      "max centrality: 0.10765887226956254\n"
     ]
    },
    {
     "name": "stderr",
     "output_type": "stream",
     "text": [
      "Creating network: 100%|██████████| 64308/64308 [00:06<00:00, 9483.45it/s] \n"
     ]
    },
    {
     "name": "stdout",
     "output_type": "stream",
     "text": [
      "Network (1942/2024) of 10267 nodes.\n",
      "max degree: 373.0\n",
      "max centrality: 0.10032090317926337\n"
     ]
    },
    {
     "name": "stderr",
     "output_type": "stream",
     "text": [
      "Creating network: 100%|██████████| 64308/64308 [00:03<00:00, 16501.48it/s]\n"
     ]
    },
    {
     "name": "stdout",
     "output_type": "stream",
     "text": [
      "Network (1943/2024) of 10652 nodes.\n",
      "max degree: 373.0\n",
      "max centrality: 0.09579808191335792\n"
     ]
    },
    {
     "name": "stderr",
     "output_type": "stream",
     "text": [
      "Creating network: 100%|██████████| 64308/64308 [00:03<00:00, 19463.83it/s]\n"
     ]
    },
    {
     "name": "stdout",
     "output_type": "stream",
     "text": [
      "Network (1944/2024) of 11051 nodes.\n",
      "max degree: 378.0\n",
      "max centrality: 0.09336436971494418\n"
     ]
    },
    {
     "name": "stderr",
     "output_type": "stream",
     "text": [
      "Creating network: 100%|██████████| 64308/64308 [00:03<00:00, 17362.46it/s]\n"
     ]
    },
    {
     "name": "stdout",
     "output_type": "stream",
     "text": [
      "Network (1945/2024) of 11380 nodes.\n",
      "max degree: 378.0\n",
      "max centrality: 0.09032164622266457\n"
     ]
    },
    {
     "name": "stderr",
     "output_type": "stream",
     "text": [
      "Creating network: 100%|██████████| 64308/64308 [00:04<00:00, 15582.77it/s]\n"
     ]
    },
    {
     "name": "stdout",
     "output_type": "stream",
     "text": [
      "Network (1946/2024) of 11785 nodes.\n",
      "max degree: 392.0\n",
      "max centrality: 0.08942861470864825\n"
     ]
    },
    {
     "name": "stderr",
     "output_type": "stream",
     "text": [
      "Creating network: 100%|██████████| 64308/64308 [00:03<00:00, 19319.51it/s]\n"
     ]
    },
    {
     "name": "stdout",
     "output_type": "stream",
     "text": [
      "Network (1947/2024) of 12188 nodes.\n",
      "max degree: 405.0\n",
      "max centrality: 0.08807880037348144\n"
     ]
    },
    {
     "name": "stderr",
     "output_type": "stream",
     "text": [
      "Creating network: 100%|██████████| 64308/64308 [00:04<00:00, 15651.66it/s]\n"
     ]
    },
    {
     "name": "stdout",
     "output_type": "stream",
     "text": [
      "Network (1948/2024) of 12649 nodes.\n",
      "max degree: 414.0\n",
      "max centrality: 0.08681687930146326\n"
     ]
    },
    {
     "name": "stderr",
     "output_type": "stream",
     "text": [
      "Creating network: 100%|██████████| 64308/64308 [00:03<00:00, 17040.03it/s]\n"
     ]
    },
    {
     "name": "stdout",
     "output_type": "stream",
     "text": [
      "Network (1949/2024) of 13284 nodes.\n",
      "max degree: 426.0\n",
      "max centrality: 0.08604571955161358\n"
     ]
    },
    {
     "name": "stderr",
     "output_type": "stream",
     "text": [
      "Creating network: 100%|██████████| 64308/64308 [00:04<00:00, 14142.33it/s]\n"
     ]
    },
    {
     "name": "stdout",
     "output_type": "stream",
     "text": [
      "Network (1950/2024) of 13962 nodes.\n",
      "max degree: 438.0\n",
      "max centrality: 0.08509008672248194\n"
     ]
    },
    {
     "name": "stderr",
     "output_type": "stream",
     "text": [
      "Creating network: 100%|██████████| 64308/64308 [00:03<00:00, 18009.00it/s]\n"
     ]
    },
    {
     "name": "stdout",
     "output_type": "stream",
     "text": [
      "Network (1951/2024) of 14650 nodes.\n",
      "max degree: 449.0\n",
      "max centrality: 0.08396981039173383\n"
     ]
    },
    {
     "name": "stderr",
     "output_type": "stream",
     "text": [
      "Creating network: 100%|██████████| 64308/64308 [00:06<00:00, 10685.02it/s]\n"
     ]
    },
    {
     "name": "stdout",
     "output_type": "stream",
     "text": [
      "Network (1952/2024) of 15348 nodes.\n",
      "max degree: 460.0\n",
      "max centrality: 0.08280771088442383\n"
     ]
    },
    {
     "name": "stderr",
     "output_type": "stream",
     "text": [
      "Creating network: 100%|██████████| 64308/64308 [00:04<00:00, 12894.33it/s]\n"
     ]
    },
    {
     "name": "stdout",
     "output_type": "stream",
     "text": [
      "Network (1953/2024) of 16025 nodes.\n",
      "max degree: 482.0\n",
      "max centrality: 0.08180566304465549\n"
     ]
    },
    {
     "name": "stderr",
     "output_type": "stream",
     "text": [
      "Creating network: 100%|██████████| 64308/64308 [00:06<00:00, 10618.55it/s]\n",
      "C:\\Users\\pierr\\AppData\\Local\\Temp\\ipykernel_1608\\109354668.py:17: PerformanceWarning: DataFrame is highly fragmented.  This is usually the result of calling `frame.insert` many times, which has poor performance.  Consider joining all columns at once using pd.concat(axis=1) instead. To get a de-fragmented frame, use `newframe = frame.copy()`\n",
      "  Actor_career[f\"Degree_{date}\"] = Actor_career[\"Freebase_actor_ID\"].map(degrees)\n"
     ]
    },
    {
     "name": "stdout",
     "output_type": "stream",
     "text": [
      "Network (1954/2024) of 16644 nodes.\n"
     ]
    },
    {
     "name": "stderr",
     "output_type": "stream",
     "text": [
      "C:\\Users\\pierr\\AppData\\Local\\Temp\\ipykernel_1608\\109354668.py:20: PerformanceWarning: DataFrame is highly fragmented.  This is usually the result of calling `frame.insert` many times, which has poor performance.  Consider joining all columns at once using pd.concat(axis=1) instead. To get a de-fragmented frame, use `newframe = frame.copy()`\n",
      "  Actor_career[f\"eigenvector_centrality_{date}\"] = Actor_career[\"Freebase_actor_ID\"].map(eigenvector_centrality)\n"
     ]
    },
    {
     "name": "stdout",
     "output_type": "stream",
     "text": [
      "max degree: 488.0\n",
      "max centrality: 0.08290125079010531\n"
     ]
    },
    {
     "name": "stderr",
     "output_type": "stream",
     "text": [
      "Creating network: 100%|██████████| 64308/64308 [00:07<00:00, 8713.47it/s] \n",
      "C:\\Users\\pierr\\AppData\\Local\\Temp\\ipykernel_1608\\109354668.py:17: PerformanceWarning: DataFrame is highly fragmented.  This is usually the result of calling `frame.insert` many times, which has poor performance.  Consider joining all columns at once using pd.concat(axis=1) instead. To get a de-fragmented frame, use `newframe = frame.copy()`\n",
      "  Actor_career[f\"Degree_{date}\"] = Actor_career[\"Freebase_actor_ID\"].map(degrees)\n"
     ]
    },
    {
     "name": "stdout",
     "output_type": "stream",
     "text": [
      "Network (1955/2024) of 17331 nodes.\n"
     ]
    },
    {
     "name": "stderr",
     "output_type": "stream",
     "text": [
      "C:\\Users\\pierr\\AppData\\Local\\Temp\\ipykernel_1608\\109354668.py:20: PerformanceWarning: DataFrame is highly fragmented.  This is usually the result of calling `frame.insert` many times, which has poor performance.  Consider joining all columns at once using pd.concat(axis=1) instead. To get a de-fragmented frame, use `newframe = frame.copy()`\n",
      "  Actor_career[f\"eigenvector_centrality_{date}\"] = Actor_career[\"Freebase_actor_ID\"].map(eigenvector_centrality)\n"
     ]
    },
    {
     "name": "stdout",
     "output_type": "stream",
     "text": [
      "max degree: 503.0\n",
      "max centrality: 0.08206786270300062\n"
     ]
    },
    {
     "name": "stderr",
     "output_type": "stream",
     "text": [
      "Creating network: 100%|██████████| 64308/64308 [00:04<00:00, 15430.75it/s]\n",
      "C:\\Users\\pierr\\AppData\\Local\\Temp\\ipykernel_1608\\109354668.py:17: PerformanceWarning: DataFrame is highly fragmented.  This is usually the result of calling `frame.insert` many times, which has poor performance.  Consider joining all columns at once using pd.concat(axis=1) instead. To get a de-fragmented frame, use `newframe = frame.copy()`\n",
      "  Actor_career[f\"Degree_{date}\"] = Actor_career[\"Freebase_actor_ID\"].map(degrees)\n"
     ]
    },
    {
     "name": "stdout",
     "output_type": "stream",
     "text": [
      "Network (1956/2024) of 18071 nodes.\n"
     ]
    },
    {
     "name": "stderr",
     "output_type": "stream",
     "text": [
      "C:\\Users\\pierr\\AppData\\Local\\Temp\\ipykernel_1608\\109354668.py:20: PerformanceWarning: DataFrame is highly fragmented.  This is usually the result of calling `frame.insert` many times, which has poor performance.  Consider joining all columns at once using pd.concat(axis=1) instead. To get a de-fragmented frame, use `newframe = frame.copy()`\n",
      "  Actor_career[f\"eigenvector_centrality_{date}\"] = Actor_career[\"Freebase_actor_ID\"].map(eigenvector_centrality)\n"
     ]
    },
    {
     "name": "stdout",
     "output_type": "stream",
     "text": [
      "max degree: 512.0\n",
      "max centrality: 0.08107174458365939\n"
     ]
    },
    {
     "name": "stderr",
     "output_type": "stream",
     "text": [
      "Creating network: 100%|██████████| 64308/64308 [00:03<00:00, 18849.98it/s]\n",
      "C:\\Users\\pierr\\AppData\\Local\\Temp\\ipykernel_1608\\109354668.py:17: PerformanceWarning: DataFrame is highly fragmented.  This is usually the result of calling `frame.insert` many times, which has poor performance.  Consider joining all columns at once using pd.concat(axis=1) instead. To get a de-fragmented frame, use `newframe = frame.copy()`\n",
      "  Actor_career[f\"Degree_{date}\"] = Actor_career[\"Freebase_actor_ID\"].map(degrees)\n"
     ]
    },
    {
     "name": "stdout",
     "output_type": "stream",
     "text": [
      "Network (1957/2024) of 18844 nodes.\n"
     ]
    },
    {
     "name": "stderr",
     "output_type": "stream",
     "text": [
      "C:\\Users\\pierr\\AppData\\Local\\Temp\\ipykernel_1608\\109354668.py:20: PerformanceWarning: DataFrame is highly fragmented.  This is usually the result of calling `frame.insert` many times, which has poor performance.  Consider joining all columns at once using pd.concat(axis=1) instead. To get a de-fragmented frame, use `newframe = frame.copy()`\n",
      "  Actor_career[f\"eigenvector_centrality_{date}\"] = Actor_career[\"Freebase_actor_ID\"].map(eigenvector_centrality)\n"
     ]
    },
    {
     "name": "stdout",
     "output_type": "stream",
     "text": [
      "max degree: 527.0\n",
      "max centrality: 0.08028563659748077\n"
     ]
    },
    {
     "name": "stderr",
     "output_type": "stream",
     "text": [
      "Creating network: 100%|██████████| 64308/64308 [00:04<00:00, 15362.98it/s]\n",
      "C:\\Users\\pierr\\AppData\\Local\\Temp\\ipykernel_1608\\109354668.py:17: PerformanceWarning: DataFrame is highly fragmented.  This is usually the result of calling `frame.insert` many times, which has poor performance.  Consider joining all columns at once using pd.concat(axis=1) instead. To get a de-fragmented frame, use `newframe = frame.copy()`\n",
      "  Actor_career[f\"Degree_{date}\"] = Actor_career[\"Freebase_actor_ID\"].map(degrees)\n"
     ]
    },
    {
     "name": "stdout",
     "output_type": "stream",
     "text": [
      "Network (1958/2024) of 19545 nodes.\n"
     ]
    },
    {
     "name": "stderr",
     "output_type": "stream",
     "text": [
      "C:\\Users\\pierr\\AppData\\Local\\Temp\\ipykernel_1608\\109354668.py:20: PerformanceWarning: DataFrame is highly fragmented.  This is usually the result of calling `frame.insert` many times, which has poor performance.  Consider joining all columns at once using pd.concat(axis=1) instead. To get a de-fragmented frame, use `newframe = frame.copy()`\n",
      "  Actor_career[f\"eigenvector_centrality_{date}\"] = Actor_career[\"Freebase_actor_ID\"].map(eigenvector_centrality)\n"
     ]
    },
    {
     "name": "stdout",
     "output_type": "stream",
     "text": [
      "max degree: 531.0\n",
      "max centrality: 0.08109696379289585\n"
     ]
    },
    {
     "name": "stderr",
     "output_type": "stream",
     "text": [
      "Creating network: 100%|██████████| 64308/64308 [00:04<00:00, 15538.94it/s]\n",
      "C:\\Users\\pierr\\AppData\\Local\\Temp\\ipykernel_1608\\109354668.py:17: PerformanceWarning: DataFrame is highly fragmented.  This is usually the result of calling `frame.insert` many times, which has poor performance.  Consider joining all columns at once using pd.concat(axis=1) instead. To get a de-fragmented frame, use `newframe = frame.copy()`\n",
      "  Actor_career[f\"Degree_{date}\"] = Actor_career[\"Freebase_actor_ID\"].map(degrees)\n"
     ]
    },
    {
     "name": "stdout",
     "output_type": "stream",
     "text": [
      "Network (1959/2024) of 20294 nodes.\n"
     ]
    },
    {
     "name": "stderr",
     "output_type": "stream",
     "text": [
      "C:\\Users\\pierr\\AppData\\Local\\Temp\\ipykernel_1608\\109354668.py:20: PerformanceWarning: DataFrame is highly fragmented.  This is usually the result of calling `frame.insert` many times, which has poor performance.  Consider joining all columns at once using pd.concat(axis=1) instead. To get a de-fragmented frame, use `newframe = frame.copy()`\n",
      "  Actor_career[f\"eigenvector_centrality_{date}\"] = Actor_career[\"Freebase_actor_ID\"].map(eigenvector_centrality)\n"
     ]
    },
    {
     "name": "stdout",
     "output_type": "stream",
     "text": [
      "max degree: 559.0\n",
      "max centrality: 0.08468847593147784\n"
     ]
    },
    {
     "name": "stderr",
     "output_type": "stream",
     "text": [
      "Creating network: 100%|██████████| 64308/64308 [00:04<00:00, 15715.18it/s]\n",
      "C:\\Users\\pierr\\AppData\\Local\\Temp\\ipykernel_1608\\109354668.py:17: PerformanceWarning: DataFrame is highly fragmented.  This is usually the result of calling `frame.insert` many times, which has poor performance.  Consider joining all columns at once using pd.concat(axis=1) instead. To get a de-fragmented frame, use `newframe = frame.copy()`\n",
      "  Actor_career[f\"Degree_{date}\"] = Actor_career[\"Freebase_actor_ID\"].map(degrees)\n"
     ]
    },
    {
     "name": "stdout",
     "output_type": "stream",
     "text": [
      "Network (1960/2024) of 21066 nodes.\n"
     ]
    },
    {
     "name": "stderr",
     "output_type": "stream",
     "text": [
      "C:\\Users\\pierr\\AppData\\Local\\Temp\\ipykernel_1608\\109354668.py:20: PerformanceWarning: DataFrame is highly fragmented.  This is usually the result of calling `frame.insert` many times, which has poor performance.  Consider joining all columns at once using pd.concat(axis=1) instead. To get a de-fragmented frame, use `newframe = frame.copy()`\n",
      "  Actor_career[f\"eigenvector_centrality_{date}\"] = Actor_career[\"Freebase_actor_ID\"].map(eigenvector_centrality)\n"
     ]
    },
    {
     "name": "stdout",
     "output_type": "stream",
     "text": [
      "max degree: 576.0\n",
      "max centrality: 0.08403499636741332\n"
     ]
    },
    {
     "name": "stderr",
     "output_type": "stream",
     "text": [
      "Creating network: 100%|██████████| 64308/64308 [00:05<00:00, 11735.64it/s]\n",
      "C:\\Users\\pierr\\AppData\\Local\\Temp\\ipykernel_1608\\109354668.py:17: PerformanceWarning: DataFrame is highly fragmented.  This is usually the result of calling `frame.insert` many times, which has poor performance.  Consider joining all columns at once using pd.concat(axis=1) instead. To get a de-fragmented frame, use `newframe = frame.copy()`\n",
      "  Actor_career[f\"Degree_{date}\"] = Actor_career[\"Freebase_actor_ID\"].map(degrees)\n"
     ]
    },
    {
     "name": "stdout",
     "output_type": "stream",
     "text": [
      "Network (1961/2024) of 21855 nodes.\n"
     ]
    },
    {
     "name": "stderr",
     "output_type": "stream",
     "text": [
      "C:\\Users\\pierr\\AppData\\Local\\Temp\\ipykernel_1608\\109354668.py:20: PerformanceWarning: DataFrame is highly fragmented.  This is usually the result of calling `frame.insert` many times, which has poor performance.  Consider joining all columns at once using pd.concat(axis=1) instead. To get a de-fragmented frame, use `newframe = frame.copy()`\n",
      "  Actor_career[f\"eigenvector_centrality_{date}\"] = Actor_career[\"Freebase_actor_ID\"].map(eigenvector_centrality)\n"
     ]
    },
    {
     "name": "stdout",
     "output_type": "stream",
     "text": [
      "max degree: 584.0\n",
      "max centrality: 0.08371267970902496\n"
     ]
    },
    {
     "name": "stderr",
     "output_type": "stream",
     "text": [
      "Creating network: 100%|██████████| 64308/64308 [00:12<00:00, 5217.37it/s] \n",
      "C:\\Users\\pierr\\AppData\\Local\\Temp\\ipykernel_1608\\109354668.py:17: PerformanceWarning: DataFrame is highly fragmented.  This is usually the result of calling `frame.insert` many times, which has poor performance.  Consider joining all columns at once using pd.concat(axis=1) instead. To get a de-fragmented frame, use `newframe = frame.copy()`\n",
      "  Actor_career[f\"Degree_{date}\"] = Actor_career[\"Freebase_actor_ID\"].map(degrees)\n"
     ]
    },
    {
     "name": "stdout",
     "output_type": "stream",
     "text": [
      "Network (1962/2024) of 22703 nodes.\n"
     ]
    },
    {
     "name": "stderr",
     "output_type": "stream",
     "text": [
      "C:\\Users\\pierr\\AppData\\Local\\Temp\\ipykernel_1608\\109354668.py:20: PerformanceWarning: DataFrame is highly fragmented.  This is usually the result of calling `frame.insert` many times, which has poor performance.  Consider joining all columns at once using pd.concat(axis=1) instead. To get a de-fragmented frame, use `newframe = frame.copy()`\n",
      "  Actor_career[f\"eigenvector_centrality_{date}\"] = Actor_career[\"Freebase_actor_ID\"].map(eigenvector_centrality)\n"
     ]
    },
    {
     "name": "stdout",
     "output_type": "stream",
     "text": [
      "max degree: 641.0\n",
      "max centrality: 0.08344182562289493\n"
     ]
    },
    {
     "name": "stderr",
     "output_type": "stream",
     "text": [
      "Creating network: 100%|██████████| 64308/64308 [00:04<00:00, 14837.41it/s]\n",
      "C:\\Users\\pierr\\AppData\\Local\\Temp\\ipykernel_1608\\109354668.py:17: PerformanceWarning: DataFrame is highly fragmented.  This is usually the result of calling `frame.insert` many times, which has poor performance.  Consider joining all columns at once using pd.concat(axis=1) instead. To get a de-fragmented frame, use `newframe = frame.copy()`\n",
      "  Actor_career[f\"Degree_{date}\"] = Actor_career[\"Freebase_actor_ID\"].map(degrees)\n"
     ]
    },
    {
     "name": "stdout",
     "output_type": "stream",
     "text": [
      "Network (1963/2024) of 23391 nodes.\n"
     ]
    },
    {
     "name": "stderr",
     "output_type": "stream",
     "text": [
      "C:\\Users\\pierr\\AppData\\Local\\Temp\\ipykernel_1608\\109354668.py:20: PerformanceWarning: DataFrame is highly fragmented.  This is usually the result of calling `frame.insert` many times, which has poor performance.  Consider joining all columns at once using pd.concat(axis=1) instead. To get a de-fragmented frame, use `newframe = frame.copy()`\n",
      "  Actor_career[f\"eigenvector_centrality_{date}\"] = Actor_career[\"Freebase_actor_ID\"].map(eigenvector_centrality)\n"
     ]
    },
    {
     "name": "stdout",
     "output_type": "stream",
     "text": [
      "max degree: 650.0\n",
      "max centrality: 0.084098754403172\n"
     ]
    },
    {
     "name": "stderr",
     "output_type": "stream",
     "text": [
      "Creating network: 100%|██████████| 64308/64308 [00:03<00:00, 16305.24it/s]\n",
      "C:\\Users\\pierr\\AppData\\Local\\Temp\\ipykernel_1608\\109354668.py:17: PerformanceWarning: DataFrame is highly fragmented.  This is usually the result of calling `frame.insert` many times, which has poor performance.  Consider joining all columns at once using pd.concat(axis=1) instead. To get a de-fragmented frame, use `newframe = frame.copy()`\n",
      "  Actor_career[f\"Degree_{date}\"] = Actor_career[\"Freebase_actor_ID\"].map(degrees)\n"
     ]
    },
    {
     "name": "stdout",
     "output_type": "stream",
     "text": [
      "Network (1964/2024) of 24278 nodes.\n"
     ]
    },
    {
     "name": "stderr",
     "output_type": "stream",
     "text": [
      "C:\\Users\\pierr\\AppData\\Local\\Temp\\ipykernel_1608\\109354668.py:20: PerformanceWarning: DataFrame is highly fragmented.  This is usually the result of calling `frame.insert` many times, which has poor performance.  Consider joining all columns at once using pd.concat(axis=1) instead. To get a de-fragmented frame, use `newframe = frame.copy()`\n",
      "  Actor_career[f\"eigenvector_centrality_{date}\"] = Actor_career[\"Freebase_actor_ID\"].map(eigenvector_centrality)\n"
     ]
    },
    {
     "name": "stdout",
     "output_type": "stream",
     "text": [
      "max degree: 657.0\n",
      "max centrality: 0.08446580263856135\n"
     ]
    },
    {
     "name": "stderr",
     "output_type": "stream",
     "text": [
      "Creating network: 100%|██████████| 64308/64308 [00:03<00:00, 17551.23it/s]\n",
      "C:\\Users\\pierr\\AppData\\Local\\Temp\\ipykernel_1608\\109354668.py:17: PerformanceWarning: DataFrame is highly fragmented.  This is usually the result of calling `frame.insert` many times, which has poor performance.  Consider joining all columns at once using pd.concat(axis=1) instead. To get a de-fragmented frame, use `newframe = frame.copy()`\n",
      "  Actor_career[f\"Degree_{date}\"] = Actor_career[\"Freebase_actor_ID\"].map(degrees)\n"
     ]
    },
    {
     "name": "stdout",
     "output_type": "stream",
     "text": [
      "Network (1965/2024) of 25195 nodes.\n"
     ]
    },
    {
     "name": "stderr",
     "output_type": "stream",
     "text": [
      "C:\\Users\\pierr\\AppData\\Local\\Temp\\ipykernel_1608\\109354668.py:20: PerformanceWarning: DataFrame is highly fragmented.  This is usually the result of calling `frame.insert` many times, which has poor performance.  Consider joining all columns at once using pd.concat(axis=1) instead. To get a de-fragmented frame, use `newframe = frame.copy()`\n",
      "  Actor_career[f\"eigenvector_centrality_{date}\"] = Actor_career[\"Freebase_actor_ID\"].map(eigenvector_centrality)\n"
     ]
    },
    {
     "name": "stdout",
     "output_type": "stream",
     "text": [
      "max degree: 716.0\n",
      "max centrality: 0.09151704861427935\n"
     ]
    },
    {
     "name": "stderr",
     "output_type": "stream",
     "text": [
      "Creating network: 100%|██████████| 64308/64308 [00:04<00:00, 14967.08it/s]\n",
      "C:\\Users\\pierr\\AppData\\Local\\Temp\\ipykernel_1608\\109354668.py:17: PerformanceWarning: DataFrame is highly fragmented.  This is usually the result of calling `frame.insert` many times, which has poor performance.  Consider joining all columns at once using pd.concat(axis=1) instead. To get a de-fragmented frame, use `newframe = frame.copy()`\n",
      "  Actor_career[f\"Degree_{date}\"] = Actor_career[\"Freebase_actor_ID\"].map(degrees)\n"
     ]
    },
    {
     "name": "stdout",
     "output_type": "stream",
     "text": [
      "Network (1966/2024) of 25980 nodes.\n"
     ]
    },
    {
     "name": "stderr",
     "output_type": "stream",
     "text": [
      "C:\\Users\\pierr\\AppData\\Local\\Temp\\ipykernel_1608\\109354668.py:20: PerformanceWarning: DataFrame is highly fragmented.  This is usually the result of calling `frame.insert` many times, which has poor performance.  Consider joining all columns at once using pd.concat(axis=1) instead. To get a de-fragmented frame, use `newframe = frame.copy()`\n",
      "  Actor_career[f\"eigenvector_centrality_{date}\"] = Actor_career[\"Freebase_actor_ID\"].map(eigenvector_centrality)\n"
     ]
    },
    {
     "name": "stdout",
     "output_type": "stream",
     "text": [
      "max degree: 739.0\n",
      "max centrality: 0.09272635678575897\n"
     ]
    },
    {
     "name": "stderr",
     "output_type": "stream",
     "text": [
      "Creating network: 100%|██████████| 64308/64308 [00:05<00:00, 12847.57it/s]\n",
      "C:\\Users\\pierr\\AppData\\Local\\Temp\\ipykernel_1608\\109354668.py:17: PerformanceWarning: DataFrame is highly fragmented.  This is usually the result of calling `frame.insert` many times, which has poor performance.  Consider joining all columns at once using pd.concat(axis=1) instead. To get a de-fragmented frame, use `newframe = frame.copy()`\n",
      "  Actor_career[f\"Degree_{date}\"] = Actor_career[\"Freebase_actor_ID\"].map(degrees)\n"
     ]
    },
    {
     "name": "stdout",
     "output_type": "stream",
     "text": [
      "Network (1967/2024) of 26873 nodes.\n"
     ]
    },
    {
     "name": "stderr",
     "output_type": "stream",
     "text": [
      "C:\\Users\\pierr\\AppData\\Local\\Temp\\ipykernel_1608\\109354668.py:20: PerformanceWarning: DataFrame is highly fragmented.  This is usually the result of calling `frame.insert` many times, which has poor performance.  Consider joining all columns at once using pd.concat(axis=1) instead. To get a de-fragmented frame, use `newframe = frame.copy()`\n",
      "  Actor_career[f\"eigenvector_centrality_{date}\"] = Actor_career[\"Freebase_actor_ID\"].map(eigenvector_centrality)\n"
     ]
    },
    {
     "name": "stdout",
     "output_type": "stream",
     "text": [
      "max degree: 747.0\n",
      "max centrality: 0.09345201760544412\n"
     ]
    },
    {
     "name": "stderr",
     "output_type": "stream",
     "text": [
      "Creating network: 100%|██████████| 64308/64308 [00:03<00:00, 17551.83it/s]\n",
      "C:\\Users\\pierr\\AppData\\Local\\Temp\\ipykernel_1608\\109354668.py:17: PerformanceWarning: DataFrame is highly fragmented.  This is usually the result of calling `frame.insert` many times, which has poor performance.  Consider joining all columns at once using pd.concat(axis=1) instead. To get a de-fragmented frame, use `newframe = frame.copy()`\n",
      "  Actor_career[f\"Degree_{date}\"] = Actor_career[\"Freebase_actor_ID\"].map(degrees)\n"
     ]
    },
    {
     "name": "stdout",
     "output_type": "stream",
     "text": [
      "Network (1968/2024) of 27872 nodes.\n"
     ]
    },
    {
     "name": "stderr",
     "output_type": "stream",
     "text": [
      "C:\\Users\\pierr\\AppData\\Local\\Temp\\ipykernel_1608\\109354668.py:20: PerformanceWarning: DataFrame is highly fragmented.  This is usually the result of calling `frame.insert` many times, which has poor performance.  Consider joining all columns at once using pd.concat(axis=1) instead. To get a de-fragmented frame, use `newframe = frame.copy()`\n",
      "  Actor_career[f\"eigenvector_centrality_{date}\"] = Actor_career[\"Freebase_actor_ID\"].map(eigenvector_centrality)\n"
     ]
    },
    {
     "name": "stdout",
     "output_type": "stream",
     "text": [
      "max degree: 757.0\n",
      "max centrality: 0.09363009730531016\n"
     ]
    },
    {
     "name": "stderr",
     "output_type": "stream",
     "text": [
      "Creating network: 100%|██████████| 64308/64308 [00:03<00:00, 17038.54it/s]\n",
      "C:\\Users\\pierr\\AppData\\Local\\Temp\\ipykernel_1608\\109354668.py:17: PerformanceWarning: DataFrame is highly fragmented.  This is usually the result of calling `frame.insert` many times, which has poor performance.  Consider joining all columns at once using pd.concat(axis=1) instead. To get a de-fragmented frame, use `newframe = frame.copy()`\n",
      "  Actor_career[f\"Degree_{date}\"] = Actor_career[\"Freebase_actor_ID\"].map(degrees)\n"
     ]
    },
    {
     "name": "stdout",
     "output_type": "stream",
     "text": [
      "Network (1969/2024) of 28921 nodes.\n"
     ]
    },
    {
     "name": "stderr",
     "output_type": "stream",
     "text": [
      "C:\\Users\\pierr\\AppData\\Local\\Temp\\ipykernel_1608\\109354668.py:20: PerformanceWarning: DataFrame is highly fragmented.  This is usually the result of calling `frame.insert` many times, which has poor performance.  Consider joining all columns at once using pd.concat(axis=1) instead. To get a de-fragmented frame, use `newframe = frame.copy()`\n",
      "  Actor_career[f\"eigenvector_centrality_{date}\"] = Actor_career[\"Freebase_actor_ID\"].map(eigenvector_centrality)\n"
     ]
    },
    {
     "name": "stdout",
     "output_type": "stream",
     "text": [
      "max degree: 781.0\n",
      "max centrality: 0.09525786795400644\n"
     ]
    },
    {
     "name": "stderr",
     "output_type": "stream",
     "text": [
      "Creating network: 100%|██████████| 64308/64308 [00:05<00:00, 12473.85it/s]\n",
      "C:\\Users\\pierr\\AppData\\Local\\Temp\\ipykernel_1608\\109354668.py:17: PerformanceWarning: DataFrame is highly fragmented.  This is usually the result of calling `frame.insert` many times, which has poor performance.  Consider joining all columns at once using pd.concat(axis=1) instead. To get a de-fragmented frame, use `newframe = frame.copy()`\n",
      "  Actor_career[f\"Degree_{date}\"] = Actor_career[\"Freebase_actor_ID\"].map(degrees)\n"
     ]
    },
    {
     "name": "stdout",
     "output_type": "stream",
     "text": [
      "Network (1970/2024) of 30179 nodes.\n"
     ]
    },
    {
     "name": "stderr",
     "output_type": "stream",
     "text": [
      "C:\\Users\\pierr\\AppData\\Local\\Temp\\ipykernel_1608\\109354668.py:20: PerformanceWarning: DataFrame is highly fragmented.  This is usually the result of calling `frame.insert` many times, which has poor performance.  Consider joining all columns at once using pd.concat(axis=1) instead. To get a de-fragmented frame, use `newframe = frame.copy()`\n",
      "  Actor_career[f\"eigenvector_centrality_{date}\"] = Actor_career[\"Freebase_actor_ID\"].map(eigenvector_centrality)\n"
     ]
    },
    {
     "name": "stdout",
     "output_type": "stream",
     "text": [
      "max degree: 797.0\n",
      "max centrality: 0.0960675217985564\n"
     ]
    },
    {
     "name": "stderr",
     "output_type": "stream",
     "text": [
      "Creating network: 100%|██████████| 64308/64308 [00:06<00:00, 9461.61it/s] \n",
      "C:\\Users\\pierr\\AppData\\Local\\Temp\\ipykernel_1608\\109354668.py:17: PerformanceWarning: DataFrame is highly fragmented.  This is usually the result of calling `frame.insert` many times, which has poor performance.  Consider joining all columns at once using pd.concat(axis=1) instead. To get a de-fragmented frame, use `newframe = frame.copy()`\n",
      "  Actor_career[f\"Degree_{date}\"] = Actor_career[\"Freebase_actor_ID\"].map(degrees)\n"
     ]
    },
    {
     "name": "stdout",
     "output_type": "stream",
     "text": [
      "Network (1971/2024) of 31394 nodes.\n"
     ]
    },
    {
     "name": "stderr",
     "output_type": "stream",
     "text": [
      "C:\\Users\\pierr\\AppData\\Local\\Temp\\ipykernel_1608\\109354668.py:20: PerformanceWarning: DataFrame is highly fragmented.  This is usually the result of calling `frame.insert` many times, which has poor performance.  Consider joining all columns at once using pd.concat(axis=1) instead. To get a de-fragmented frame, use `newframe = frame.copy()`\n",
      "  Actor_career[f\"eigenvector_centrality_{date}\"] = Actor_career[\"Freebase_actor_ID\"].map(eigenvector_centrality)\n"
     ]
    },
    {
     "name": "stdout",
     "output_type": "stream",
     "text": [
      "max degree: 805.0\n",
      "max centrality: 0.09655348894568885\n"
     ]
    },
    {
     "name": "stderr",
     "output_type": "stream",
     "text": [
      "Creating network: 100%|██████████| 64308/64308 [00:05<00:00, 11768.56it/s]\n",
      "C:\\Users\\pierr\\AppData\\Local\\Temp\\ipykernel_1608\\109354668.py:17: PerformanceWarning: DataFrame is highly fragmented.  This is usually the result of calling `frame.insert` many times, which has poor performance.  Consider joining all columns at once using pd.concat(axis=1) instead. To get a de-fragmented frame, use `newframe = frame.copy()`\n",
      "  Actor_career[f\"Degree_{date}\"] = Actor_career[\"Freebase_actor_ID\"].map(degrees)\n"
     ]
    },
    {
     "name": "stdout",
     "output_type": "stream",
     "text": [
      "Network (1972/2024) of 32604 nodes.\n"
     ]
    },
    {
     "name": "stderr",
     "output_type": "stream",
     "text": [
      "C:\\Users\\pierr\\AppData\\Local\\Temp\\ipykernel_1608\\109354668.py:20: PerformanceWarning: DataFrame is highly fragmented.  This is usually the result of calling `frame.insert` many times, which has poor performance.  Consider joining all columns at once using pd.concat(axis=1) instead. To get a de-fragmented frame, use `newframe = frame.copy()`\n",
      "  Actor_career[f\"eigenvector_centrality_{date}\"] = Actor_career[\"Freebase_actor_ID\"].map(eigenvector_centrality)\n"
     ]
    },
    {
     "name": "stdout",
     "output_type": "stream",
     "text": [
      "max degree: 809.0\n",
      "max centrality: 0.0964917866573261\n"
     ]
    },
    {
     "name": "stderr",
     "output_type": "stream",
     "text": [
      "Creating network: 100%|██████████| 64308/64308 [00:04<00:00, 15940.67it/s]\n",
      "C:\\Users\\pierr\\AppData\\Local\\Temp\\ipykernel_1608\\109354668.py:17: PerformanceWarning: DataFrame is highly fragmented.  This is usually the result of calling `frame.insert` many times, which has poor performance.  Consider joining all columns at once using pd.concat(axis=1) instead. To get a de-fragmented frame, use `newframe = frame.copy()`\n",
      "  Actor_career[f\"Degree_{date}\"] = Actor_career[\"Freebase_actor_ID\"].map(degrees)\n"
     ]
    },
    {
     "name": "stdout",
     "output_type": "stream",
     "text": [
      "Network (1973/2024) of 33763 nodes.\n"
     ]
    },
    {
     "name": "stderr",
     "output_type": "stream",
     "text": [
      "C:\\Users\\pierr\\AppData\\Local\\Temp\\ipykernel_1608\\109354668.py:20: PerformanceWarning: DataFrame is highly fragmented.  This is usually the result of calling `frame.insert` many times, which has poor performance.  Consider joining all columns at once using pd.concat(axis=1) instead. To get a de-fragmented frame, use `newframe = frame.copy()`\n",
      "  Actor_career[f\"eigenvector_centrality_{date}\"] = Actor_career[\"Freebase_actor_ID\"].map(eigenvector_centrality)\n"
     ]
    },
    {
     "name": "stdout",
     "output_type": "stream",
     "text": [
      "max degree: 821.0\n",
      "max centrality: 0.09732196523123565\n"
     ]
    },
    {
     "name": "stderr",
     "output_type": "stream",
     "text": [
      "Creating network: 100%|██████████| 64308/64308 [00:06<00:00, 9648.02it/s] \n",
      "C:\\Users\\pierr\\AppData\\Local\\Temp\\ipykernel_1608\\109354668.py:17: PerformanceWarning: DataFrame is highly fragmented.  This is usually the result of calling `frame.insert` many times, which has poor performance.  Consider joining all columns at once using pd.concat(axis=1) instead. To get a de-fragmented frame, use `newframe = frame.copy()`\n",
      "  Actor_career[f\"Degree_{date}\"] = Actor_career[\"Freebase_actor_ID\"].map(degrees)\n"
     ]
    },
    {
     "name": "stdout",
     "output_type": "stream",
     "text": [
      "Network (1974/2024) of 34852 nodes.\n"
     ]
    },
    {
     "name": "stderr",
     "output_type": "stream",
     "text": [
      "C:\\Users\\pierr\\AppData\\Local\\Temp\\ipykernel_1608\\109354668.py:20: PerformanceWarning: DataFrame is highly fragmented.  This is usually the result of calling `frame.insert` many times, which has poor performance.  Consider joining all columns at once using pd.concat(axis=1) instead. To get a de-fragmented frame, use `newframe = frame.copy()`\n",
      "  Actor_career[f\"eigenvector_centrality_{date}\"] = Actor_career[\"Freebase_actor_ID\"].map(eigenvector_centrality)\n"
     ]
    },
    {
     "name": "stdout",
     "output_type": "stream",
     "text": [
      "max degree: 829.0\n",
      "max centrality: 0.09734409143145992\n"
     ]
    },
    {
     "name": "stderr",
     "output_type": "stream",
     "text": [
      "Creating network: 100%|██████████| 64308/64308 [00:05<00:00, 12284.50it/s]\n",
      "C:\\Users\\pierr\\AppData\\Local\\Temp\\ipykernel_1608\\109354668.py:17: PerformanceWarning: DataFrame is highly fragmented.  This is usually the result of calling `frame.insert` many times, which has poor performance.  Consider joining all columns at once using pd.concat(axis=1) instead. To get a de-fragmented frame, use `newframe = frame.copy()`\n",
      "  Actor_career[f\"Degree_{date}\"] = Actor_career[\"Freebase_actor_ID\"].map(degrees)\n"
     ]
    },
    {
     "name": "stdout",
     "output_type": "stream",
     "text": [
      "Network (1975/2024) of 35779 nodes.\n"
     ]
    },
    {
     "name": "stderr",
     "output_type": "stream",
     "text": [
      "C:\\Users\\pierr\\AppData\\Local\\Temp\\ipykernel_1608\\109354668.py:20: PerformanceWarning: DataFrame is highly fragmented.  This is usually the result of calling `frame.insert` many times, which has poor performance.  Consider joining all columns at once using pd.concat(axis=1) instead. To get a de-fragmented frame, use `newframe = frame.copy()`\n",
      "  Actor_career[f\"eigenvector_centrality_{date}\"] = Actor_career[\"Freebase_actor_ID\"].map(eigenvector_centrality)\n"
     ]
    },
    {
     "name": "stdout",
     "output_type": "stream",
     "text": [
      "max degree: 850.0\n",
      "max centrality: 0.0985708510655616\n"
     ]
    },
    {
     "name": "stderr",
     "output_type": "stream",
     "text": [
      "Creating network: 100%|██████████| 64308/64308 [00:05<00:00, 12448.56it/s]\n",
      "C:\\Users\\pierr\\AppData\\Local\\Temp\\ipykernel_1608\\109354668.py:17: PerformanceWarning: DataFrame is highly fragmented.  This is usually the result of calling `frame.insert` many times, which has poor performance.  Consider joining all columns at once using pd.concat(axis=1) instead. To get a de-fragmented frame, use `newframe = frame.copy()`\n",
      "  Actor_career[f\"Degree_{date}\"] = Actor_career[\"Freebase_actor_ID\"].map(degrees)\n"
     ]
    },
    {
     "name": "stdout",
     "output_type": "stream",
     "text": [
      "Network (1976/2024) of 36833 nodes.\n"
     ]
    },
    {
     "name": "stderr",
     "output_type": "stream",
     "text": [
      "C:\\Users\\pierr\\AppData\\Local\\Temp\\ipykernel_1608\\109354668.py:20: PerformanceWarning: DataFrame is highly fragmented.  This is usually the result of calling `frame.insert` many times, which has poor performance.  Consider joining all columns at once using pd.concat(axis=1) instead. To get a de-fragmented frame, use `newframe = frame.copy()`\n",
      "  Actor_career[f\"eigenvector_centrality_{date}\"] = Actor_career[\"Freebase_actor_ID\"].map(eigenvector_centrality)\n"
     ]
    },
    {
     "name": "stdout",
     "output_type": "stream",
     "text": [
      "max degree: 852.0\n",
      "max centrality: 0.09842813189675988\n"
     ]
    },
    {
     "name": "stderr",
     "output_type": "stream",
     "text": [
      "Creating network: 100%|██████████| 64308/64308 [00:04<00:00, 14939.19it/s]\n",
      "C:\\Users\\pierr\\AppData\\Local\\Temp\\ipykernel_1608\\109354668.py:17: PerformanceWarning: DataFrame is highly fragmented.  This is usually the result of calling `frame.insert` many times, which has poor performance.  Consider joining all columns at once using pd.concat(axis=1) instead. To get a de-fragmented frame, use `newframe = frame.copy()`\n",
      "  Actor_career[f\"Degree_{date}\"] = Actor_career[\"Freebase_actor_ID\"].map(degrees)\n"
     ]
    },
    {
     "name": "stdout",
     "output_type": "stream",
     "text": [
      "Network (1977/2024) of 37888 nodes.\n"
     ]
    },
    {
     "name": "stderr",
     "output_type": "stream",
     "text": [
      "C:\\Users\\pierr\\AppData\\Local\\Temp\\ipykernel_1608\\109354668.py:20: PerformanceWarning: DataFrame is highly fragmented.  This is usually the result of calling `frame.insert` many times, which has poor performance.  Consider joining all columns at once using pd.concat(axis=1) instead. To get a de-fragmented frame, use `newframe = frame.copy()`\n",
      "  Actor_career[f\"eigenvector_centrality_{date}\"] = Actor_career[\"Freebase_actor_ID\"].map(eigenvector_centrality)\n"
     ]
    },
    {
     "name": "stdout",
     "output_type": "stream",
     "text": [
      "max degree: 863.0\n",
      "max centrality: 0.09904172870515691\n"
     ]
    },
    {
     "name": "stderr",
     "output_type": "stream",
     "text": [
      "Creating network: 100%|██████████| 64308/64308 [00:05<00:00, 11943.90it/s]\n",
      "C:\\Users\\pierr\\AppData\\Local\\Temp\\ipykernel_1608\\109354668.py:17: PerformanceWarning: DataFrame is highly fragmented.  This is usually the result of calling `frame.insert` many times, which has poor performance.  Consider joining all columns at once using pd.concat(axis=1) instead. To get a de-fragmented frame, use `newframe = frame.copy()`\n",
      "  Actor_career[f\"Degree_{date}\"] = Actor_career[\"Freebase_actor_ID\"].map(degrees)\n"
     ]
    },
    {
     "name": "stdout",
     "output_type": "stream",
     "text": [
      "Network (1978/2024) of 38980 nodes.\n"
     ]
    },
    {
     "name": "stderr",
     "output_type": "stream",
     "text": [
      "C:\\Users\\pierr\\AppData\\Local\\Temp\\ipykernel_1608\\109354668.py:20: PerformanceWarning: DataFrame is highly fragmented.  This is usually the result of calling `frame.insert` many times, which has poor performance.  Consider joining all columns at once using pd.concat(axis=1) instead. To get a de-fragmented frame, use `newframe = frame.copy()`\n",
      "  Actor_career[f\"eigenvector_centrality_{date}\"] = Actor_career[\"Freebase_actor_ID\"].map(eigenvector_centrality)\n"
     ]
    },
    {
     "name": "stdout",
     "output_type": "stream",
     "text": [
      "max degree: 863.0\n",
      "max centrality: 0.0986930861989393\n"
     ]
    },
    {
     "name": "stderr",
     "output_type": "stream",
     "text": [
      "Creating network: 100%|██████████| 64308/64308 [00:05<00:00, 12236.01it/s]\n",
      "C:\\Users\\pierr\\AppData\\Local\\Temp\\ipykernel_1608\\109354668.py:17: PerformanceWarning: DataFrame is highly fragmented.  This is usually the result of calling `frame.insert` many times, which has poor performance.  Consider joining all columns at once using pd.concat(axis=1) instead. To get a de-fragmented frame, use `newframe = frame.copy()`\n",
      "  Actor_career[f\"Degree_{date}\"] = Actor_career[\"Freebase_actor_ID\"].map(degrees)\n"
     ]
    },
    {
     "name": "stdout",
     "output_type": "stream",
     "text": [
      "Network (1979/2024) of 40239 nodes.\n"
     ]
    },
    {
     "name": "stderr",
     "output_type": "stream",
     "text": [
      "C:\\Users\\pierr\\AppData\\Local\\Temp\\ipykernel_1608\\109354668.py:20: PerformanceWarning: DataFrame is highly fragmented.  This is usually the result of calling `frame.insert` many times, which has poor performance.  Consider joining all columns at once using pd.concat(axis=1) instead. To get a de-fragmented frame, use `newframe = frame.copy()`\n",
      "  Actor_career[f\"eigenvector_centrality_{date}\"] = Actor_career[\"Freebase_actor_ID\"].map(eigenvector_centrality)\n"
     ]
    },
    {
     "name": "stdout",
     "output_type": "stream",
     "text": [
      "max degree: 863.0\n",
      "max centrality: 0.0982557087308975\n"
     ]
    },
    {
     "name": "stderr",
     "output_type": "stream",
     "text": [
      "Creating network: 100%|██████████| 64308/64308 [00:05<00:00, 11574.92it/s]\n",
      "C:\\Users\\pierr\\AppData\\Local\\Temp\\ipykernel_1608\\109354668.py:17: PerformanceWarning: DataFrame is highly fragmented.  This is usually the result of calling `frame.insert` many times, which has poor performance.  Consider joining all columns at once using pd.concat(axis=1) instead. To get a de-fragmented frame, use `newframe = frame.copy()`\n",
      "  Actor_career[f\"Degree_{date}\"] = Actor_career[\"Freebase_actor_ID\"].map(degrees)\n"
     ]
    },
    {
     "name": "stdout",
     "output_type": "stream",
     "text": [
      "Network (1980/2024) of 41563 nodes.\n"
     ]
    },
    {
     "name": "stderr",
     "output_type": "stream",
     "text": [
      "C:\\Users\\pierr\\AppData\\Local\\Temp\\ipykernel_1608\\109354668.py:20: PerformanceWarning: DataFrame is highly fragmented.  This is usually the result of calling `frame.insert` many times, which has poor performance.  Consider joining all columns at once using pd.concat(axis=1) instead. To get a de-fragmented frame, use `newframe = frame.copy()`\n",
      "  Actor_career[f\"eigenvector_centrality_{date}\"] = Actor_career[\"Freebase_actor_ID\"].map(eigenvector_centrality)\n"
     ]
    },
    {
     "name": "stdout",
     "output_type": "stream",
     "text": [
      "max degree: 863.0\n",
      "max centrality: 0.09795580005782031\n"
     ]
    },
    {
     "name": "stderr",
     "output_type": "stream",
     "text": [
      "Creating network: 100%|██████████| 64308/64308 [00:04<00:00, 13611.49it/s]\n",
      "C:\\Users\\pierr\\AppData\\Local\\Temp\\ipykernel_1608\\109354668.py:17: PerformanceWarning: DataFrame is highly fragmented.  This is usually the result of calling `frame.insert` many times, which has poor performance.  Consider joining all columns at once using pd.concat(axis=1) instead. To get a de-fragmented frame, use `newframe = frame.copy()`\n",
      "  Actor_career[f\"Degree_{date}\"] = Actor_career[\"Freebase_actor_ID\"].map(degrees)\n"
     ]
    },
    {
     "name": "stdout",
     "output_type": "stream",
     "text": [
      "Network (1981/2024) of 42885 nodes.\n"
     ]
    },
    {
     "name": "stderr",
     "output_type": "stream",
     "text": [
      "C:\\Users\\pierr\\AppData\\Local\\Temp\\ipykernel_1608\\109354668.py:20: PerformanceWarning: DataFrame is highly fragmented.  This is usually the result of calling `frame.insert` many times, which has poor performance.  Consider joining all columns at once using pd.concat(axis=1) instead. To get a de-fragmented frame, use `newframe = frame.copy()`\n",
      "  Actor_career[f\"eigenvector_centrality_{date}\"] = Actor_career[\"Freebase_actor_ID\"].map(eigenvector_centrality)\n"
     ]
    },
    {
     "name": "stdout",
     "output_type": "stream",
     "text": [
      "max degree: 863.0\n",
      "max centrality: 0.09768349361703559\n"
     ]
    },
    {
     "name": "stderr",
     "output_type": "stream",
     "text": [
      "Creating network: 100%|██████████| 64308/64308 [00:05<00:00, 11431.67it/s]\n",
      "C:\\Users\\pierr\\AppData\\Local\\Temp\\ipykernel_1608\\109354668.py:17: PerformanceWarning: DataFrame is highly fragmented.  This is usually the result of calling `frame.insert` many times, which has poor performance.  Consider joining all columns at once using pd.concat(axis=1) instead. To get a de-fragmented frame, use `newframe = frame.copy()`\n",
      "  Actor_career[f\"Degree_{date}\"] = Actor_career[\"Freebase_actor_ID\"].map(degrees)\n"
     ]
    },
    {
     "name": "stdout",
     "output_type": "stream",
     "text": [
      "Network (1982/2024) of 44201 nodes.\n"
     ]
    },
    {
     "name": "stderr",
     "output_type": "stream",
     "text": [
      "C:\\Users\\pierr\\AppData\\Local\\Temp\\ipykernel_1608\\109354668.py:20: PerformanceWarning: DataFrame is highly fragmented.  This is usually the result of calling `frame.insert` many times, which has poor performance.  Consider joining all columns at once using pd.concat(axis=1) instead. To get a de-fragmented frame, use `newframe = frame.copy()`\n",
      "  Actor_career[f\"eigenvector_centrality_{date}\"] = Actor_career[\"Freebase_actor_ID\"].map(eigenvector_centrality)\n"
     ]
    },
    {
     "name": "stdout",
     "output_type": "stream",
     "text": [
      "max degree: 863.0\n",
      "max centrality: 0.09721995781849116\n"
     ]
    },
    {
     "name": "stderr",
     "output_type": "stream",
     "text": [
      "Creating network: 100%|██████████| 64308/64308 [00:06<00:00, 10214.32it/s]\n",
      "C:\\Users\\pierr\\AppData\\Local\\Temp\\ipykernel_1608\\109354668.py:17: PerformanceWarning: DataFrame is highly fragmented.  This is usually the result of calling `frame.insert` many times, which has poor performance.  Consider joining all columns at once using pd.concat(axis=1) instead. To get a de-fragmented frame, use `newframe = frame.copy()`\n",
      "  Actor_career[f\"Degree_{date}\"] = Actor_career[\"Freebase_actor_ID\"].map(degrees)\n"
     ]
    },
    {
     "name": "stdout",
     "output_type": "stream",
     "text": [
      "Network (1983/2024) of 45392 nodes.\n"
     ]
    },
    {
     "name": "stderr",
     "output_type": "stream",
     "text": [
      "C:\\Users\\pierr\\AppData\\Local\\Temp\\ipykernel_1608\\109354668.py:20: PerformanceWarning: DataFrame is highly fragmented.  This is usually the result of calling `frame.insert` many times, which has poor performance.  Consider joining all columns at once using pd.concat(axis=1) instead. To get a de-fragmented frame, use `newframe = frame.copy()`\n",
      "  Actor_career[f\"eigenvector_centrality_{date}\"] = Actor_career[\"Freebase_actor_ID\"].map(eigenvector_centrality)\n"
     ]
    },
    {
     "name": "stdout",
     "output_type": "stream",
     "text": [
      "max degree: 863.0\n",
      "max centrality: 0.0970301614002751\n"
     ]
    },
    {
     "name": "stderr",
     "output_type": "stream",
     "text": [
      "Creating network: 100%|██████████| 64308/64308 [00:05<00:00, 10947.14it/s]\n",
      "C:\\Users\\pierr\\AppData\\Local\\Temp\\ipykernel_1608\\109354668.py:17: PerformanceWarning: DataFrame is highly fragmented.  This is usually the result of calling `frame.insert` many times, which has poor performance.  Consider joining all columns at once using pd.concat(axis=1) instead. To get a de-fragmented frame, use `newframe = frame.copy()`\n",
      "  Actor_career[f\"Degree_{date}\"] = Actor_career[\"Freebase_actor_ID\"].map(degrees)\n"
     ]
    },
    {
     "name": "stdout",
     "output_type": "stream",
     "text": [
      "Network (1984/2024) of 46831 nodes.\n"
     ]
    },
    {
     "name": "stderr",
     "output_type": "stream",
     "text": [
      "C:\\Users\\pierr\\AppData\\Local\\Temp\\ipykernel_1608\\109354668.py:20: PerformanceWarning: DataFrame is highly fragmented.  This is usually the result of calling `frame.insert` many times, which has poor performance.  Consider joining all columns at once using pd.concat(axis=1) instead. To get a de-fragmented frame, use `newframe = frame.copy()`\n",
      "  Actor_career[f\"eigenvector_centrality_{date}\"] = Actor_career[\"Freebase_actor_ID\"].map(eigenvector_centrality)\n"
     ]
    },
    {
     "name": "stdout",
     "output_type": "stream",
     "text": [
      "max degree: 863.0\n",
      "max centrality: 0.09517127172562606\n"
     ]
    },
    {
     "name": "stderr",
     "output_type": "stream",
     "text": [
      "Creating network: 100%|██████████| 64308/64308 [00:05<00:00, 10814.69it/s]\n",
      "C:\\Users\\pierr\\AppData\\Local\\Temp\\ipykernel_1608\\109354668.py:17: PerformanceWarning: DataFrame is highly fragmented.  This is usually the result of calling `frame.insert` many times, which has poor performance.  Consider joining all columns at once using pd.concat(axis=1) instead. To get a de-fragmented frame, use `newframe = frame.copy()`\n",
      "  Actor_career[f\"Degree_{date}\"] = Actor_career[\"Freebase_actor_ID\"].map(degrees)\n"
     ]
    },
    {
     "name": "stdout",
     "output_type": "stream",
     "text": [
      "Network (1985/2024) of 48265 nodes.\n"
     ]
    },
    {
     "name": "stderr",
     "output_type": "stream",
     "text": [
      "C:\\Users\\pierr\\AppData\\Local\\Temp\\ipykernel_1608\\109354668.py:20: PerformanceWarning: DataFrame is highly fragmented.  This is usually the result of calling `frame.insert` many times, which has poor performance.  Consider joining all columns at once using pd.concat(axis=1) instead. To get a de-fragmented frame, use `newframe = frame.copy()`\n",
      "  Actor_career[f\"eigenvector_centrality_{date}\"] = Actor_career[\"Freebase_actor_ID\"].map(eigenvector_centrality)\n"
     ]
    },
    {
     "name": "stdout",
     "output_type": "stream",
     "text": [
      "max degree: 863.0\n",
      "max centrality: 0.09491727161068232\n"
     ]
    },
    {
     "name": "stderr",
     "output_type": "stream",
     "text": [
      "Creating network: 100%|██████████| 64308/64308 [00:05<00:00, 12449.73it/s]\n",
      "C:\\Users\\pierr\\AppData\\Local\\Temp\\ipykernel_1608\\109354668.py:17: PerformanceWarning: DataFrame is highly fragmented.  This is usually the result of calling `frame.insert` many times, which has poor performance.  Consider joining all columns at once using pd.concat(axis=1) instead. To get a de-fragmented frame, use `newframe = frame.copy()`\n",
      "  Actor_career[f\"Degree_{date}\"] = Actor_career[\"Freebase_actor_ID\"].map(degrees)\n"
     ]
    },
    {
     "name": "stdout",
     "output_type": "stream",
     "text": [
      "Network (1986/2024) of 49670 nodes.\n"
     ]
    },
    {
     "name": "stderr",
     "output_type": "stream",
     "text": [
      "C:\\Users\\pierr\\AppData\\Local\\Temp\\ipykernel_1608\\109354668.py:20: PerformanceWarning: DataFrame is highly fragmented.  This is usually the result of calling `frame.insert` many times, which has poor performance.  Consider joining all columns at once using pd.concat(axis=1) instead. To get a de-fragmented frame, use `newframe = frame.copy()`\n",
      "  Actor_career[f\"eigenvector_centrality_{date}\"] = Actor_career[\"Freebase_actor_ID\"].map(eigenvector_centrality)\n"
     ]
    },
    {
     "name": "stdout",
     "output_type": "stream",
     "text": [
      "max degree: 863.0\n",
      "max centrality: 0.09462759179832622\n"
     ]
    },
    {
     "name": "stderr",
     "output_type": "stream",
     "text": [
      "Creating network: 100%|██████████| 64308/64308 [00:05<00:00, 11291.48it/s]\n",
      "C:\\Users\\pierr\\AppData\\Local\\Temp\\ipykernel_1608\\109354668.py:17: PerformanceWarning: DataFrame is highly fragmented.  This is usually the result of calling `frame.insert` many times, which has poor performance.  Consider joining all columns at once using pd.concat(axis=1) instead. To get a de-fragmented frame, use `newframe = frame.copy()`\n",
      "  Actor_career[f\"Degree_{date}\"] = Actor_career[\"Freebase_actor_ID\"].map(degrees)\n"
     ]
    },
    {
     "name": "stdout",
     "output_type": "stream",
     "text": [
      "Network (1987/2024) of 51357 nodes.\n"
     ]
    },
    {
     "name": "stderr",
     "output_type": "stream",
     "text": [
      "C:\\Users\\pierr\\AppData\\Local\\Temp\\ipykernel_1608\\109354668.py:20: PerformanceWarning: DataFrame is highly fragmented.  This is usually the result of calling `frame.insert` many times, which has poor performance.  Consider joining all columns at once using pd.concat(axis=1) instead. To get a de-fragmented frame, use `newframe = frame.copy()`\n",
      "  Actor_career[f\"eigenvector_centrality_{date}\"] = Actor_career[\"Freebase_actor_ID\"].map(eigenvector_centrality)\n"
     ]
    },
    {
     "name": "stdout",
     "output_type": "stream",
     "text": [
      "max degree: 863.0\n",
      "max centrality: 0.09425115552724997\n"
     ]
    },
    {
     "name": "stderr",
     "output_type": "stream",
     "text": [
      "Creating network: 100%|██████████| 64308/64308 [00:07<00:00, 8671.18it/s] \n",
      "C:\\Users\\pierr\\AppData\\Local\\Temp\\ipykernel_1608\\109354668.py:17: PerformanceWarning: DataFrame is highly fragmented.  This is usually the result of calling `frame.insert` many times, which has poor performance.  Consider joining all columns at once using pd.concat(axis=1) instead. To get a de-fragmented frame, use `newframe = frame.copy()`\n",
      "  Actor_career[f\"Degree_{date}\"] = Actor_career[\"Freebase_actor_ID\"].map(degrees)\n"
     ]
    },
    {
     "name": "stdout",
     "output_type": "stream",
     "text": [
      "Network (1988/2024) of 52831 nodes.\n"
     ]
    },
    {
     "name": "stderr",
     "output_type": "stream",
     "text": [
      "C:\\Users\\pierr\\AppData\\Local\\Temp\\ipykernel_1608\\109354668.py:20: PerformanceWarning: DataFrame is highly fragmented.  This is usually the result of calling `frame.insert` many times, which has poor performance.  Consider joining all columns at once using pd.concat(axis=1) instead. To get a de-fragmented frame, use `newframe = frame.copy()`\n",
      "  Actor_career[f\"eigenvector_centrality_{date}\"] = Actor_career[\"Freebase_actor_ID\"].map(eigenvector_centrality)\n"
     ]
    },
    {
     "name": "stdout",
     "output_type": "stream",
     "text": [
      "max degree: 863.0\n",
      "max centrality: 0.09391059525021137\n"
     ]
    },
    {
     "name": "stderr",
     "output_type": "stream",
     "text": [
      "Creating network: 100%|██████████| 64308/64308 [00:05<00:00, 11493.58it/s]\n",
      "C:\\Users\\pierr\\AppData\\Local\\Temp\\ipykernel_1608\\109354668.py:17: PerformanceWarning: DataFrame is highly fragmented.  This is usually the result of calling `frame.insert` many times, which has poor performance.  Consider joining all columns at once using pd.concat(axis=1) instead. To get a de-fragmented frame, use `newframe = frame.copy()`\n",
      "  Actor_career[f\"Degree_{date}\"] = Actor_career[\"Freebase_actor_ID\"].map(degrees)\n"
     ]
    },
    {
     "name": "stdout",
     "output_type": "stream",
     "text": [
      "Network (1989/2024) of 54217 nodes.\n"
     ]
    },
    {
     "name": "stderr",
     "output_type": "stream",
     "text": [
      "C:\\Users\\pierr\\AppData\\Local\\Temp\\ipykernel_1608\\109354668.py:20: PerformanceWarning: DataFrame is highly fragmented.  This is usually the result of calling `frame.insert` many times, which has poor performance.  Consider joining all columns at once using pd.concat(axis=1) instead. To get a de-fragmented frame, use `newframe = frame.copy()`\n",
      "  Actor_career[f\"eigenvector_centrality_{date}\"] = Actor_career[\"Freebase_actor_ID\"].map(eigenvector_centrality)\n"
     ]
    },
    {
     "name": "stdout",
     "output_type": "stream",
     "text": [
      "max degree: 863.0\n",
      "max centrality: 0.09345520862417142\n"
     ]
    },
    {
     "name": "stderr",
     "output_type": "stream",
     "text": [
      "Creating network: 100%|██████████| 64308/64308 [00:06<00:00, 9352.40it/s] \n",
      "C:\\Users\\pierr\\AppData\\Local\\Temp\\ipykernel_1608\\109354668.py:17: PerformanceWarning: DataFrame is highly fragmented.  This is usually the result of calling `frame.insert` many times, which has poor performance.  Consider joining all columns at once using pd.concat(axis=1) instead. To get a de-fragmented frame, use `newframe = frame.copy()`\n",
      "  Actor_career[f\"Degree_{date}\"] = Actor_career[\"Freebase_actor_ID\"].map(degrees)\n"
     ]
    },
    {
     "name": "stdout",
     "output_type": "stream",
     "text": [
      "Network (1990/2024) of 55580 nodes.\n"
     ]
    },
    {
     "name": "stderr",
     "output_type": "stream",
     "text": [
      "C:\\Users\\pierr\\AppData\\Local\\Temp\\ipykernel_1608\\109354668.py:20: PerformanceWarning: DataFrame is highly fragmented.  This is usually the result of calling `frame.insert` many times, which has poor performance.  Consider joining all columns at once using pd.concat(axis=1) instead. To get a de-fragmented frame, use `newframe = frame.copy()`\n",
      "  Actor_career[f\"eigenvector_centrality_{date}\"] = Actor_career[\"Freebase_actor_ID\"].map(eigenvector_centrality)\n"
     ]
    },
    {
     "name": "stdout",
     "output_type": "stream",
     "text": [
      "max degree: 863.0\n",
      "max centrality: 0.09289884322646068\n"
     ]
    },
    {
     "name": "stderr",
     "output_type": "stream",
     "text": [
      "Creating network: 100%|██████████| 64308/64308 [00:06<00:00, 9930.34it/s] \n",
      "C:\\Users\\pierr\\AppData\\Local\\Temp\\ipykernel_1608\\109354668.py:17: PerformanceWarning: DataFrame is highly fragmented.  This is usually the result of calling `frame.insert` many times, which has poor performance.  Consider joining all columns at once using pd.concat(axis=1) instead. To get a de-fragmented frame, use `newframe = frame.copy()`\n",
      "  Actor_career[f\"Degree_{date}\"] = Actor_career[\"Freebase_actor_ID\"].map(degrees)\n"
     ]
    },
    {
     "name": "stdout",
     "output_type": "stream",
     "text": [
      "Network (1991/2024) of 57024 nodes.\n"
     ]
    },
    {
     "name": "stderr",
     "output_type": "stream",
     "text": [
      "C:\\Users\\pierr\\AppData\\Local\\Temp\\ipykernel_1608\\109354668.py:20: PerformanceWarning: DataFrame is highly fragmented.  This is usually the result of calling `frame.insert` many times, which has poor performance.  Consider joining all columns at once using pd.concat(axis=1) instead. To get a de-fragmented frame, use `newframe = frame.copy()`\n",
      "  Actor_career[f\"eigenvector_centrality_{date}\"] = Actor_career[\"Freebase_actor_ID\"].map(eigenvector_centrality)\n"
     ]
    },
    {
     "name": "stdout",
     "output_type": "stream",
     "text": [
      "max degree: 863.0\n",
      "max centrality: 0.09238265782799152\n"
     ]
    },
    {
     "name": "stderr",
     "output_type": "stream",
     "text": [
      "Creating network: 100%|██████████| 64308/64308 [00:07<00:00, 8948.73it/s] \n",
      "C:\\Users\\pierr\\AppData\\Local\\Temp\\ipykernel_1608\\109354668.py:17: PerformanceWarning: DataFrame is highly fragmented.  This is usually the result of calling `frame.insert` many times, which has poor performance.  Consider joining all columns at once using pd.concat(axis=1) instead. To get a de-fragmented frame, use `newframe = frame.copy()`\n",
      "  Actor_career[f\"Degree_{date}\"] = Actor_career[\"Freebase_actor_ID\"].map(degrees)\n"
     ]
    },
    {
     "name": "stdout",
     "output_type": "stream",
     "text": [
      "Network (1992/2024) of 58466 nodes.\n"
     ]
    },
    {
     "name": "stderr",
     "output_type": "stream",
     "text": [
      "C:\\Users\\pierr\\AppData\\Local\\Temp\\ipykernel_1608\\109354668.py:20: PerformanceWarning: DataFrame is highly fragmented.  This is usually the result of calling `frame.insert` many times, which has poor performance.  Consider joining all columns at once using pd.concat(axis=1) instead. To get a de-fragmented frame, use `newframe = frame.copy()`\n",
      "  Actor_career[f\"eigenvector_centrality_{date}\"] = Actor_career[\"Freebase_actor_ID\"].map(eigenvector_centrality)\n"
     ]
    },
    {
     "name": "stdout",
     "output_type": "stream",
     "text": [
      "max degree: 863.0\n",
      "max centrality: 0.09182327177810266\n"
     ]
    },
    {
     "name": "stderr",
     "output_type": "stream",
     "text": [
      "Creating network: 100%|██████████| 64308/64308 [00:07<00:00, 9049.03it/s] \n",
      "C:\\Users\\pierr\\AppData\\Local\\Temp\\ipykernel_1608\\109354668.py:17: PerformanceWarning: DataFrame is highly fragmented.  This is usually the result of calling `frame.insert` many times, which has poor performance.  Consider joining all columns at once using pd.concat(axis=1) instead. To get a de-fragmented frame, use `newframe = frame.copy()`\n",
      "  Actor_career[f\"Degree_{date}\"] = Actor_career[\"Freebase_actor_ID\"].map(degrees)\n"
     ]
    },
    {
     "name": "stdout",
     "output_type": "stream",
     "text": [
      "Network (1993/2024) of 59902 nodes.\n"
     ]
    },
    {
     "name": "stderr",
     "output_type": "stream",
     "text": [
      "C:\\Users\\pierr\\AppData\\Local\\Temp\\ipykernel_1608\\109354668.py:20: PerformanceWarning: DataFrame is highly fragmented.  This is usually the result of calling `frame.insert` many times, which has poor performance.  Consider joining all columns at once using pd.concat(axis=1) instead. To get a de-fragmented frame, use `newframe = frame.copy()`\n",
      "  Actor_career[f\"eigenvector_centrality_{date}\"] = Actor_career[\"Freebase_actor_ID\"].map(eigenvector_centrality)\n"
     ]
    },
    {
     "name": "stdout",
     "output_type": "stream",
     "text": [
      "max degree: 863.0\n",
      "max centrality: 0.0909731652361131\n"
     ]
    },
    {
     "name": "stderr",
     "output_type": "stream",
     "text": [
      "Creating network: 100%|██████████| 64308/64308 [00:11<00:00, 5596.64it/s] \n"
     ]
    },
    {
     "name": "stdout",
     "output_type": "stream",
     "text": [
      "Network (1994/2024) of 61555 nodes.\n"
     ]
    },
    {
     "name": "stderr",
     "output_type": "stream",
     "text": [
      "C:\\Users\\pierr\\AppData\\Local\\Temp\\ipykernel_1608\\109354668.py:17: PerformanceWarning: DataFrame is highly fragmented.  This is usually the result of calling `frame.insert` many times, which has poor performance.  Consider joining all columns at once using pd.concat(axis=1) instead. To get a de-fragmented frame, use `newframe = frame.copy()`\n",
      "  Actor_career[f\"Degree_{date}\"] = Actor_career[\"Freebase_actor_ID\"].map(degrees)\n",
      "C:\\Users\\pierr\\AppData\\Local\\Temp\\ipykernel_1608\\109354668.py:20: PerformanceWarning: DataFrame is highly fragmented.  This is usually the result of calling `frame.insert` many times, which has poor performance.  Consider joining all columns at once using pd.concat(axis=1) instead. To get a de-fragmented frame, use `newframe = frame.copy()`\n",
      "  Actor_career[f\"eigenvector_centrality_{date}\"] = Actor_career[\"Freebase_actor_ID\"].map(eigenvector_centrality)\n"
     ]
    },
    {
     "name": "stdout",
     "output_type": "stream",
     "text": [
      "max degree: 863.0\n",
      "max centrality: 0.08996221449102251\n"
     ]
    },
    {
     "name": "stderr",
     "output_type": "stream",
     "text": [
      "Creating network: 100%|██████████| 64308/64308 [00:08<00:00, 7161.43it/s] \n",
      "C:\\Users\\pierr\\AppData\\Local\\Temp\\ipykernel_1608\\109354668.py:17: PerformanceWarning: DataFrame is highly fragmented.  This is usually the result of calling `frame.insert` many times, which has poor performance.  Consider joining all columns at once using pd.concat(axis=1) instead. To get a de-fragmented frame, use `newframe = frame.copy()`\n",
      "  Actor_career[f\"Degree_{date}\"] = Actor_career[\"Freebase_actor_ID\"].map(degrees)\n"
     ]
    },
    {
     "name": "stdout",
     "output_type": "stream",
     "text": [
      "Network (1995/2024) of 63148 nodes.\n"
     ]
    },
    {
     "name": "stderr",
     "output_type": "stream",
     "text": [
      "C:\\Users\\pierr\\AppData\\Local\\Temp\\ipykernel_1608\\109354668.py:20: PerformanceWarning: DataFrame is highly fragmented.  This is usually the result of calling `frame.insert` many times, which has poor performance.  Consider joining all columns at once using pd.concat(axis=1) instead. To get a de-fragmented frame, use `newframe = frame.copy()`\n",
      "  Actor_career[f\"eigenvector_centrality_{date}\"] = Actor_career[\"Freebase_actor_ID\"].map(eigenvector_centrality)\n"
     ]
    },
    {
     "name": "stdout",
     "output_type": "stream",
     "text": [
      "max degree: 863.0\n",
      "max centrality: 0.08868876076600571\n"
     ]
    },
    {
     "name": "stderr",
     "output_type": "stream",
     "text": [
      "Creating network: 100%|██████████| 64308/64308 [00:07<00:00, 8577.17it/s] \n",
      "C:\\Users\\pierr\\AppData\\Local\\Temp\\ipykernel_1608\\109354668.py:17: PerformanceWarning: DataFrame is highly fragmented.  This is usually the result of calling `frame.insert` many times, which has poor performance.  Consider joining all columns at once using pd.concat(axis=1) instead. To get a de-fragmented frame, use `newframe = frame.copy()`\n",
      "  Actor_career[f\"Degree_{date}\"] = Actor_career[\"Freebase_actor_ID\"].map(degrees)\n"
     ]
    },
    {
     "name": "stdout",
     "output_type": "stream",
     "text": [
      "Network (1996/2024) of 64958 nodes.\n"
     ]
    },
    {
     "name": "stderr",
     "output_type": "stream",
     "text": [
      "C:\\Users\\pierr\\AppData\\Local\\Temp\\ipykernel_1608\\109354668.py:20: PerformanceWarning: DataFrame is highly fragmented.  This is usually the result of calling `frame.insert` many times, which has poor performance.  Consider joining all columns at once using pd.concat(axis=1) instead. To get a de-fragmented frame, use `newframe = frame.copy()`\n",
      "  Actor_career[f\"eigenvector_centrality_{date}\"] = Actor_career[\"Freebase_actor_ID\"].map(eigenvector_centrality)\n"
     ]
    },
    {
     "name": "stdout",
     "output_type": "stream",
     "text": [
      "max degree: 863.0\n",
      "max centrality: 0.0866461233231674\n"
     ]
    },
    {
     "name": "stderr",
     "output_type": "stream",
     "text": [
      "Creating network: 100%|██████████| 64308/64308 [00:07<00:00, 8822.12it/s] \n",
      "C:\\Users\\pierr\\AppData\\Local\\Temp\\ipykernel_1608\\109354668.py:17: PerformanceWarning: DataFrame is highly fragmented.  This is usually the result of calling `frame.insert` many times, which has poor performance.  Consider joining all columns at once using pd.concat(axis=1) instead. To get a de-fragmented frame, use `newframe = frame.copy()`\n",
      "  Actor_career[f\"Degree_{date}\"] = Actor_career[\"Freebase_actor_ID\"].map(degrees)\n"
     ]
    },
    {
     "name": "stdout",
     "output_type": "stream",
     "text": [
      "Network (1997/2024) of 66848 nodes.\n"
     ]
    },
    {
     "name": "stderr",
     "output_type": "stream",
     "text": [
      "C:\\Users\\pierr\\AppData\\Local\\Temp\\ipykernel_1608\\109354668.py:20: PerformanceWarning: DataFrame is highly fragmented.  This is usually the result of calling `frame.insert` many times, which has poor performance.  Consider joining all columns at once using pd.concat(axis=1) instead. To get a de-fragmented frame, use `newframe = frame.copy()`\n",
      "  Actor_career[f\"eigenvector_centrality_{date}\"] = Actor_career[\"Freebase_actor_ID\"].map(eigenvector_centrality)\n"
     ]
    },
    {
     "name": "stdout",
     "output_type": "stream",
     "text": [
      "max degree: 863.0\n",
      "max centrality: 0.0843784082523243\n"
     ]
    },
    {
     "name": "stderr",
     "output_type": "stream",
     "text": [
      "Creating network: 100%|██████████| 64308/64308 [00:06<00:00, 9188.13it/s] \n",
      "C:\\Users\\pierr\\AppData\\Local\\Temp\\ipykernel_1608\\109354668.py:17: PerformanceWarning: DataFrame is highly fragmented.  This is usually the result of calling `frame.insert` many times, which has poor performance.  Consider joining all columns at once using pd.concat(axis=1) instead. To get a de-fragmented frame, use `newframe = frame.copy()`\n",
      "  Actor_career[f\"Degree_{date}\"] = Actor_career[\"Freebase_actor_ID\"].map(degrees)\n"
     ]
    },
    {
     "name": "stdout",
     "output_type": "stream",
     "text": [
      "Network (1998/2024) of 68922 nodes.\n"
     ]
    },
    {
     "name": "stderr",
     "output_type": "stream",
     "text": [
      "C:\\Users\\pierr\\AppData\\Local\\Temp\\ipykernel_1608\\109354668.py:20: PerformanceWarning: DataFrame is highly fragmented.  This is usually the result of calling `frame.insert` many times, which has poor performance.  Consider joining all columns at once using pd.concat(axis=1) instead. To get a de-fragmented frame, use `newframe = frame.copy()`\n",
      "  Actor_career[f\"eigenvector_centrality_{date}\"] = Actor_career[\"Freebase_actor_ID\"].map(eigenvector_centrality)\n"
     ]
    },
    {
     "name": "stdout",
     "output_type": "stream",
     "text": [
      "max degree: 863.0\n",
      "max centrality: 0.08115862030746084\n"
     ]
    },
    {
     "name": "stderr",
     "output_type": "stream",
     "text": [
      "Creating network: 100%|██████████| 64308/64308 [00:07<00:00, 9173.18it/s] \n",
      "C:\\Users\\pierr\\AppData\\Local\\Temp\\ipykernel_1608\\109354668.py:17: PerformanceWarning: DataFrame is highly fragmented.  This is usually the result of calling `frame.insert` many times, which has poor performance.  Consider joining all columns at once using pd.concat(axis=1) instead. To get a de-fragmented frame, use `newframe = frame.copy()`\n",
      "  Actor_career[f\"Degree_{date}\"] = Actor_career[\"Freebase_actor_ID\"].map(degrees)\n"
     ]
    },
    {
     "name": "stdout",
     "output_type": "stream",
     "text": [
      "Network (1999/2024) of 71179 nodes.\n"
     ]
    },
    {
     "name": "stderr",
     "output_type": "stream",
     "text": [
      "C:\\Users\\pierr\\AppData\\Local\\Temp\\ipykernel_1608\\109354668.py:20: PerformanceWarning: DataFrame is highly fragmented.  This is usually the result of calling `frame.insert` many times, which has poor performance.  Consider joining all columns at once using pd.concat(axis=1) instead. To get a de-fragmented frame, use `newframe = frame.copy()`\n",
      "  Actor_career[f\"eigenvector_centrality_{date}\"] = Actor_career[\"Freebase_actor_ID\"].map(eigenvector_centrality)\n"
     ]
    },
    {
     "name": "stdout",
     "output_type": "stream",
     "text": [
      "max degree: 863.0\n",
      "max centrality: 0.07737795405730388\n"
     ]
    },
    {
     "name": "stderr",
     "output_type": "stream",
     "text": [
      "Creating network: 100%|██████████| 64308/64308 [00:06<00:00, 10389.70it/s]\n",
      "C:\\Users\\pierr\\AppData\\Local\\Temp\\ipykernel_1608\\109354668.py:17: PerformanceWarning: DataFrame is highly fragmented.  This is usually the result of calling `frame.insert` many times, which has poor performance.  Consider joining all columns at once using pd.concat(axis=1) instead. To get a de-fragmented frame, use `newframe = frame.copy()`\n",
      "  Actor_career[f\"Degree_{date}\"] = Actor_career[\"Freebase_actor_ID\"].map(degrees)\n"
     ]
    },
    {
     "name": "stdout",
     "output_type": "stream",
     "text": [
      "Network (2000/2024) of 73793 nodes.\n"
     ]
    },
    {
     "name": "stderr",
     "output_type": "stream",
     "text": [
      "C:\\Users\\pierr\\AppData\\Local\\Temp\\ipykernel_1608\\109354668.py:20: PerformanceWarning: DataFrame is highly fragmented.  This is usually the result of calling `frame.insert` many times, which has poor performance.  Consider joining all columns at once using pd.concat(axis=1) instead. To get a de-fragmented frame, use `newframe = frame.copy()`\n",
      "  Actor_career[f\"eigenvector_centrality_{date}\"] = Actor_career[\"Freebase_actor_ID\"].map(eigenvector_centrality)\n"
     ]
    },
    {
     "name": "stdout",
     "output_type": "stream",
     "text": [
      "max degree: 863.0\n",
      "max centrality: 0.07272231431248194\n"
     ]
    },
    {
     "name": "stderr",
     "output_type": "stream",
     "text": [
      "Creating network: 100%|██████████| 64308/64308 [00:06<00:00, 9388.38it/s] \n",
      "C:\\Users\\pierr\\AppData\\Local\\Temp\\ipykernel_1608\\109354668.py:17: PerformanceWarning: DataFrame is highly fragmented.  This is usually the result of calling `frame.insert` many times, which has poor performance.  Consider joining all columns at once using pd.concat(axis=1) instead. To get a de-fragmented frame, use `newframe = frame.copy()`\n",
      "  Actor_career[f\"Degree_{date}\"] = Actor_career[\"Freebase_actor_ID\"].map(degrees)\n"
     ]
    },
    {
     "name": "stdout",
     "output_type": "stream",
     "text": [
      "Network (2001/2024) of 76784 nodes.\n"
     ]
    },
    {
     "name": "stderr",
     "output_type": "stream",
     "text": [
      "C:\\Users\\pierr\\AppData\\Local\\Temp\\ipykernel_1608\\109354668.py:20: PerformanceWarning: DataFrame is highly fragmented.  This is usually the result of calling `frame.insert` many times, which has poor performance.  Consider joining all columns at once using pd.concat(axis=1) instead. To get a de-fragmented frame, use `newframe = frame.copy()`\n",
      "  Actor_career[f\"eigenvector_centrality_{date}\"] = Actor_career[\"Freebase_actor_ID\"].map(eigenvector_centrality)\n"
     ]
    },
    {
     "name": "stdout",
     "output_type": "stream",
     "text": [
      "max degree: 863.0\n",
      "max centrality: 0.06673889648630364\n"
     ]
    },
    {
     "name": "stderr",
     "output_type": "stream",
     "text": [
      "Creating network: 100%|██████████| 64308/64308 [00:06<00:00, 9926.81it/s] \n",
      "C:\\Users\\pierr\\AppData\\Local\\Temp\\ipykernel_1608\\109354668.py:17: PerformanceWarning: DataFrame is highly fragmented.  This is usually the result of calling `frame.insert` many times, which has poor performance.  Consider joining all columns at once using pd.concat(axis=1) instead. To get a de-fragmented frame, use `newframe = frame.copy()`\n",
      "  Actor_career[f\"Degree_{date}\"] = Actor_career[\"Freebase_actor_ID\"].map(degrees)\n"
     ]
    },
    {
     "name": "stdout",
     "output_type": "stream",
     "text": [
      "Network (2002/2024) of 79860 nodes.\n"
     ]
    },
    {
     "name": "stderr",
     "output_type": "stream",
     "text": [
      "C:\\Users\\pierr\\AppData\\Local\\Temp\\ipykernel_1608\\109354668.py:20: PerformanceWarning: DataFrame is highly fragmented.  This is usually the result of calling `frame.insert` many times, which has poor performance.  Consider joining all columns at once using pd.concat(axis=1) instead. To get a de-fragmented frame, use `newframe = frame.copy()`\n",
      "  Actor_career[f\"eigenvector_centrality_{date}\"] = Actor_career[\"Freebase_actor_ID\"].map(eigenvector_centrality)\n"
     ]
    },
    {
     "name": "stdout",
     "output_type": "stream",
     "text": [
      "max degree: 863.0\n",
      "max centrality: 0.0611037684303687\n"
     ]
    },
    {
     "name": "stderr",
     "output_type": "stream",
     "text": [
      "Creating network: 100%|██████████| 64308/64308 [00:09<00:00, 6855.19it/s] \n",
      "C:\\Users\\pierr\\AppData\\Local\\Temp\\ipykernel_1608\\109354668.py:17: PerformanceWarning: DataFrame is highly fragmented.  This is usually the result of calling `frame.insert` many times, which has poor performance.  Consider joining all columns at once using pd.concat(axis=1) instead. To get a de-fragmented frame, use `newframe = frame.copy()`\n",
      "  Actor_career[f\"Degree_{date}\"] = Actor_career[\"Freebase_actor_ID\"].map(degrees)\n"
     ]
    },
    {
     "name": "stdout",
     "output_type": "stream",
     "text": [
      "Network (2003/2024) of 82934 nodes.\n"
     ]
    },
    {
     "name": "stderr",
     "output_type": "stream",
     "text": [
      "C:\\Users\\pierr\\AppData\\Local\\Temp\\ipykernel_1608\\109354668.py:20: PerformanceWarning: DataFrame is highly fragmented.  This is usually the result of calling `frame.insert` many times, which has poor performance.  Consider joining all columns at once using pd.concat(axis=1) instead. To get a de-fragmented frame, use `newframe = frame.copy()`\n",
      "  Actor_career[f\"eigenvector_centrality_{date}\"] = Actor_career[\"Freebase_actor_ID\"].map(eigenvector_centrality)\n"
     ]
    },
    {
     "name": "stdout",
     "output_type": "stream",
     "text": [
      "max degree: 863.0\n",
      "max centrality: 0.06216633552961445\n"
     ]
    },
    {
     "name": "stderr",
     "output_type": "stream",
     "text": [
      "Creating network: 100%|██████████| 64308/64308 [00:07<00:00, 8161.94it/s] \n",
      "C:\\Users\\pierr\\AppData\\Local\\Temp\\ipykernel_1608\\109354668.py:17: PerformanceWarning: DataFrame is highly fragmented.  This is usually the result of calling `frame.insert` many times, which has poor performance.  Consider joining all columns at once using pd.concat(axis=1) instead. To get a de-fragmented frame, use `newframe = frame.copy()`\n",
      "  Actor_career[f\"Degree_{date}\"] = Actor_career[\"Freebase_actor_ID\"].map(degrees)\n"
     ]
    },
    {
     "name": "stdout",
     "output_type": "stream",
     "text": [
      "Network (2004/2024) of 86847 nodes.\n"
     ]
    },
    {
     "name": "stderr",
     "output_type": "stream",
     "text": [
      "C:\\Users\\pierr\\AppData\\Local\\Temp\\ipykernel_1608\\109354668.py:20: PerformanceWarning: DataFrame is highly fragmented.  This is usually the result of calling `frame.insert` many times, which has poor performance.  Consider joining all columns at once using pd.concat(axis=1) instead. To get a de-fragmented frame, use `newframe = frame.copy()`\n",
      "  Actor_career[f\"eigenvector_centrality_{date}\"] = Actor_career[\"Freebase_actor_ID\"].map(eigenvector_centrality)\n"
     ]
    },
    {
     "name": "stdout",
     "output_type": "stream",
     "text": [
      "max degree: 863.0\n",
      "max centrality: 0.06253744295850062\n"
     ]
    },
    {
     "name": "stderr",
     "output_type": "stream",
     "text": [
      "Creating network: 100%|██████████| 64308/64308 [00:08<00:00, 7700.94it/s] \n",
      "C:\\Users\\pierr\\AppData\\Local\\Temp\\ipykernel_1608\\109354668.py:17: PerformanceWarning: DataFrame is highly fragmented.  This is usually the result of calling `frame.insert` many times, which has poor performance.  Consider joining all columns at once using pd.concat(axis=1) instead. To get a de-fragmented frame, use `newframe = frame.copy()`\n",
      "  Actor_career[f\"Degree_{date}\"] = Actor_career[\"Freebase_actor_ID\"].map(degrees)\n"
     ]
    },
    {
     "name": "stdout",
     "output_type": "stream",
     "text": [
      "Network (2005/2024) of 90696 nodes.\n"
     ]
    },
    {
     "name": "stderr",
     "output_type": "stream",
     "text": [
      "C:\\Users\\pierr\\AppData\\Local\\Temp\\ipykernel_1608\\109354668.py:20: PerformanceWarning: DataFrame is highly fragmented.  This is usually the result of calling `frame.insert` many times, which has poor performance.  Consider joining all columns at once using pd.concat(axis=1) instead. To get a de-fragmented frame, use `newframe = frame.copy()`\n",
      "  Actor_career[f\"eigenvector_centrality_{date}\"] = Actor_career[\"Freebase_actor_ID\"].map(eigenvector_centrality)\n"
     ]
    },
    {
     "name": "stdout",
     "output_type": "stream",
     "text": [
      "max degree: 866.0\n",
      "max centrality: 0.06202119943205325\n"
     ]
    },
    {
     "name": "stderr",
     "output_type": "stream",
     "text": [
      "Creating network: 100%|██████████| 64308/64308 [00:09<00:00, 6981.46it/s] \n",
      "C:\\Users\\pierr\\AppData\\Local\\Temp\\ipykernel_1608\\109354668.py:17: PerformanceWarning: DataFrame is highly fragmented.  This is usually the result of calling `frame.insert` many times, which has poor performance.  Consider joining all columns at once using pd.concat(axis=1) instead. To get a de-fragmented frame, use `newframe = frame.copy()`\n",
      "  Actor_career[f\"Degree_{date}\"] = Actor_career[\"Freebase_actor_ID\"].map(degrees)\n"
     ]
    },
    {
     "name": "stdout",
     "output_type": "stream",
     "text": [
      "Network (2006/2024) of 95608 nodes.\n"
     ]
    },
    {
     "name": "stderr",
     "output_type": "stream",
     "text": [
      "C:\\Users\\pierr\\AppData\\Local\\Temp\\ipykernel_1608\\109354668.py:20: PerformanceWarning: DataFrame is highly fragmented.  This is usually the result of calling `frame.insert` many times, which has poor performance.  Consider joining all columns at once using pd.concat(axis=1) instead. To get a de-fragmented frame, use `newframe = frame.copy()`\n",
      "  Actor_career[f\"eigenvector_centrality_{date}\"] = Actor_career[\"Freebase_actor_ID\"].map(eigenvector_centrality)\n"
     ]
    },
    {
     "name": "stdout",
     "output_type": "stream",
     "text": [
      "max degree: 889.0\n",
      "max centrality: 0.06154679441882189\n"
     ]
    },
    {
     "name": "stderr",
     "output_type": "stream",
     "text": [
      "Creating network: 100%|██████████| 64308/64308 [00:09<00:00, 6738.77it/s] \n",
      "C:\\Users\\pierr\\AppData\\Local\\Temp\\ipykernel_1608\\109354668.py:17: PerformanceWarning: DataFrame is highly fragmented.  This is usually the result of calling `frame.insert` many times, which has poor performance.  Consider joining all columns at once using pd.concat(axis=1) instead. To get a de-fragmented frame, use `newframe = frame.copy()`\n",
      "  Actor_career[f\"Degree_{date}\"] = Actor_career[\"Freebase_actor_ID\"].map(degrees)\n"
     ]
    },
    {
     "name": "stdout",
     "output_type": "stream",
     "text": [
      "Network (2007/2024) of 100226 nodes.\n"
     ]
    },
    {
     "name": "stderr",
     "output_type": "stream",
     "text": [
      "C:\\Users\\pierr\\AppData\\Local\\Temp\\ipykernel_1608\\109354668.py:20: PerformanceWarning: DataFrame is highly fragmented.  This is usually the result of calling `frame.insert` many times, which has poor performance.  Consider joining all columns at once using pd.concat(axis=1) instead. To get a de-fragmented frame, use `newframe = frame.copy()`\n",
      "  Actor_career[f\"eigenvector_centrality_{date}\"] = Actor_career[\"Freebase_actor_ID\"].map(eigenvector_centrality)\n"
     ]
    },
    {
     "name": "stdout",
     "output_type": "stream",
     "text": [
      "max degree: 907.0\n",
      "max centrality: 0.06005619311390144\n"
     ]
    },
    {
     "name": "stderr",
     "output_type": "stream",
     "text": [
      "Creating network: 100%|██████████| 64308/64308 [00:10<00:00, 6236.11it/s] \n"
     ]
    },
    {
     "name": "stdout",
     "output_type": "stream",
     "text": [
      "Network (2008/2024) of 105001 nodes.\n"
     ]
    },
    {
     "name": "stderr",
     "output_type": "stream",
     "text": [
      "C:\\Users\\pierr\\AppData\\Local\\Temp\\ipykernel_1608\\109354668.py:17: PerformanceWarning: DataFrame is highly fragmented.  This is usually the result of calling `frame.insert` many times, which has poor performance.  Consider joining all columns at once using pd.concat(axis=1) instead. To get a de-fragmented frame, use `newframe = frame.copy()`\n",
      "  Actor_career[f\"Degree_{date}\"] = Actor_career[\"Freebase_actor_ID\"].map(degrees)\n",
      "C:\\Users\\pierr\\AppData\\Local\\Temp\\ipykernel_1608\\109354668.py:20: PerformanceWarning: DataFrame is highly fragmented.  This is usually the result of calling `frame.insert` many times, which has poor performance.  Consider joining all columns at once using pd.concat(axis=1) instead. To get a de-fragmented frame, use `newframe = frame.copy()`\n",
      "  Actor_career[f\"eigenvector_centrality_{date}\"] = Actor_career[\"Freebase_actor_ID\"].map(eigenvector_centrality)\n"
     ]
    },
    {
     "name": "stdout",
     "output_type": "stream",
     "text": [
      "max degree: 982.0\n",
      "max centrality: 0.06120706053176284\n"
     ]
    },
    {
     "name": "stderr",
     "output_type": "stream",
     "text": [
      "Creating network: 100%|██████████| 64308/64308 [00:08<00:00, 7373.27it/s] \n"
     ]
    },
    {
     "name": "stdout",
     "output_type": "stream",
     "text": [
      "Network (2009/2024) of 109676 nodes.\n"
     ]
    },
    {
     "name": "stderr",
     "output_type": "stream",
     "text": [
      "C:\\Users\\pierr\\AppData\\Local\\Temp\\ipykernel_1608\\109354668.py:17: PerformanceWarning: DataFrame is highly fragmented.  This is usually the result of calling `frame.insert` many times, which has poor performance.  Consider joining all columns at once using pd.concat(axis=1) instead. To get a de-fragmented frame, use `newframe = frame.copy()`\n",
      "  Actor_career[f\"Degree_{date}\"] = Actor_career[\"Freebase_actor_ID\"].map(degrees)\n",
      "C:\\Users\\pierr\\AppData\\Local\\Temp\\ipykernel_1608\\109354668.py:20: PerformanceWarning: DataFrame is highly fragmented.  This is usually the result of calling `frame.insert` many times, which has poor performance.  Consider joining all columns at once using pd.concat(axis=1) instead. To get a de-fragmented frame, use `newframe = frame.copy()`\n",
      "  Actor_career[f\"eigenvector_centrality_{date}\"] = Actor_career[\"Freebase_actor_ID\"].map(eigenvector_centrality)\n"
     ]
    },
    {
     "name": "stdout",
     "output_type": "stream",
     "text": [
      "max degree: 1027.0\n",
      "max centrality: 0.06228497312672153\n"
     ]
    },
    {
     "name": "stderr",
     "output_type": "stream",
     "text": [
      "Creating network: 100%|██████████| 64308/64308 [00:08<00:00, 7407.20it/s] \n"
     ]
    },
    {
     "name": "stdout",
     "output_type": "stream",
     "text": [
      "Network (2010/2024) of 113918 nodes.\n"
     ]
    },
    {
     "name": "stderr",
     "output_type": "stream",
     "text": [
      "C:\\Users\\pierr\\AppData\\Local\\Temp\\ipykernel_1608\\109354668.py:17: PerformanceWarning: DataFrame is highly fragmented.  This is usually the result of calling `frame.insert` many times, which has poor performance.  Consider joining all columns at once using pd.concat(axis=1) instead. To get a de-fragmented frame, use `newframe = frame.copy()`\n",
      "  Actor_career[f\"Degree_{date}\"] = Actor_career[\"Freebase_actor_ID\"].map(degrees)\n",
      "C:\\Users\\pierr\\AppData\\Local\\Temp\\ipykernel_1608\\109354668.py:20: PerformanceWarning: DataFrame is highly fragmented.  This is usually the result of calling `frame.insert` many times, which has poor performance.  Consider joining all columns at once using pd.concat(axis=1) instead. To get a de-fragmented frame, use `newframe = frame.copy()`\n",
      "  Actor_career[f\"eigenvector_centrality_{date}\"] = Actor_career[\"Freebase_actor_ID\"].map(eigenvector_centrality)\n"
     ]
    },
    {
     "name": "stdout",
     "output_type": "stream",
     "text": [
      "max degree: 1076.0\n",
      "max centrality: 0.0636605261494941\n"
     ]
    },
    {
     "name": "stderr",
     "output_type": "stream",
     "text": [
      "Creating network: 100%|██████████| 64308/64308 [00:12<00:00, 5251.73it/s] \n"
     ]
    },
    {
     "name": "stdout",
     "output_type": "stream",
     "text": [
      "Network (2011/2024) of 117717 nodes.\n"
     ]
    },
    {
     "name": "stderr",
     "output_type": "stream",
     "text": [
      "C:\\Users\\pierr\\AppData\\Local\\Temp\\ipykernel_1608\\109354668.py:17: PerformanceWarning: DataFrame is highly fragmented.  This is usually the result of calling `frame.insert` many times, which has poor performance.  Consider joining all columns at once using pd.concat(axis=1) instead. To get a de-fragmented frame, use `newframe = frame.copy()`\n",
      "  Actor_career[f\"Degree_{date}\"] = Actor_career[\"Freebase_actor_ID\"].map(degrees)\n",
      "C:\\Users\\pierr\\AppData\\Local\\Temp\\ipykernel_1608\\109354668.py:20: PerformanceWarning: DataFrame is highly fragmented.  This is usually the result of calling `frame.insert` many times, which has poor performance.  Consider joining all columns at once using pd.concat(axis=1) instead. To get a de-fragmented frame, use `newframe = frame.copy()`\n",
      "  Actor_career[f\"eigenvector_centrality_{date}\"] = Actor_career[\"Freebase_actor_ID\"].map(eigenvector_centrality)\n"
     ]
    },
    {
     "name": "stdout",
     "output_type": "stream",
     "text": [
      "max degree: 1106.0\n",
      "max centrality: 0.06357612059812799\n"
     ]
    },
    {
     "name": "stderr",
     "output_type": "stream",
     "text": [
      "Creating network: 100%|██████████| 64308/64308 [00:08<00:00, 7190.40it/s] \n"
     ]
    },
    {
     "name": "stdout",
     "output_type": "stream",
     "text": [
      "Network (2012/2024) of 119113 nodes.\n"
     ]
    },
    {
     "name": "stderr",
     "output_type": "stream",
     "text": [
      "C:\\Users\\pierr\\AppData\\Local\\Temp\\ipykernel_1608\\109354668.py:17: PerformanceWarning: DataFrame is highly fragmented.  This is usually the result of calling `frame.insert` many times, which has poor performance.  Consider joining all columns at once using pd.concat(axis=1) instead. To get a de-fragmented frame, use `newframe = frame.copy()`\n",
      "  Actor_career[f\"Degree_{date}\"] = Actor_career[\"Freebase_actor_ID\"].map(degrees)\n",
      "C:\\Users\\pierr\\AppData\\Local\\Temp\\ipykernel_1608\\109354668.py:20: PerformanceWarning: DataFrame is highly fragmented.  This is usually the result of calling `frame.insert` many times, which has poor performance.  Consider joining all columns at once using pd.concat(axis=1) instead. To get a de-fragmented frame, use `newframe = frame.copy()`\n",
      "  Actor_career[f\"eigenvector_centrality_{date}\"] = Actor_career[\"Freebase_actor_ID\"].map(eigenvector_centrality)\n"
     ]
    },
    {
     "name": "stdout",
     "output_type": "stream",
     "text": [
      "max degree: 1140.0\n",
      "max centrality: 0.06448651973771027\n"
     ]
    },
    {
     "name": "stderr",
     "output_type": "stream",
     "text": [
      "Creating network: 100%|██████████| 64308/64308 [00:08<00:00, 7458.59it/s] \n"
     ]
    },
    {
     "name": "stdout",
     "output_type": "stream",
     "text": [
      "Network (2013/2024) of 119251 nodes.\n"
     ]
    },
    {
     "name": "stderr",
     "output_type": "stream",
     "text": [
      "C:\\Users\\pierr\\AppData\\Local\\Temp\\ipykernel_1608\\109354668.py:17: PerformanceWarning: DataFrame is highly fragmented.  This is usually the result of calling `frame.insert` many times, which has poor performance.  Consider joining all columns at once using pd.concat(axis=1) instead. To get a de-fragmented frame, use `newframe = frame.copy()`\n",
      "  Actor_career[f\"Degree_{date}\"] = Actor_career[\"Freebase_actor_ID\"].map(degrees)\n",
      "C:\\Users\\pierr\\AppData\\Local\\Temp\\ipykernel_1608\\109354668.py:20: PerformanceWarning: DataFrame is highly fragmented.  This is usually the result of calling `frame.insert` many times, which has poor performance.  Consider joining all columns at once using pd.concat(axis=1) instead. To get a de-fragmented frame, use `newframe = frame.copy()`\n",
      "  Actor_career[f\"eigenvector_centrality_{date}\"] = Actor_career[\"Freebase_actor_ID\"].map(eigenvector_centrality)\n"
     ]
    },
    {
     "name": "stdout",
     "output_type": "stream",
     "text": [
      "max degree: 1147.0\n",
      "max centrality: 0.06486693330113652\n"
     ]
    },
    {
     "name": "stderr",
     "output_type": "stream",
     "text": [
      "Creating network: 100%|██████████| 64308/64308 [00:11<00:00, 5703.92it/s] \n"
     ]
    },
    {
     "name": "stdout",
     "output_type": "stream",
     "text": [
      "Network (2014/2024) of 119320 nodes.\n"
     ]
    },
    {
     "name": "stderr",
     "output_type": "stream",
     "text": [
      "C:\\Users\\pierr\\AppData\\Local\\Temp\\ipykernel_1608\\109354668.py:17: PerformanceWarning: DataFrame is highly fragmented.  This is usually the result of calling `frame.insert` many times, which has poor performance.  Consider joining all columns at once using pd.concat(axis=1) instead. To get a de-fragmented frame, use `newframe = frame.copy()`\n",
      "  Actor_career[f\"Degree_{date}\"] = Actor_career[\"Freebase_actor_ID\"].map(degrees)\n",
      "C:\\Users\\pierr\\AppData\\Local\\Temp\\ipykernel_1608\\109354668.py:20: PerformanceWarning: DataFrame is highly fragmented.  This is usually the result of calling `frame.insert` many times, which has poor performance.  Consider joining all columns at once using pd.concat(axis=1) instead. To get a de-fragmented frame, use `newframe = frame.copy()`\n",
      "  Actor_career[f\"eigenvector_centrality_{date}\"] = Actor_career[\"Freebase_actor_ID\"].map(eigenvector_centrality)\n"
     ]
    },
    {
     "name": "stdout",
     "output_type": "stream",
     "text": [
      "max degree: 1147.0\n",
      "max centrality: 0.06484717102342662\n"
     ]
    },
    {
     "name": "stderr",
     "output_type": "stream",
     "text": [
      "Creating network: 100%|██████████| 64308/64308 [00:09<00:00, 7027.17it/s] \n"
     ]
    },
    {
     "name": "stdout",
     "output_type": "stream",
     "text": [
      "Network (2015/2024) of 119339 nodes.\n"
     ]
    },
    {
     "name": "stderr",
     "output_type": "stream",
     "text": [
      "C:\\Users\\pierr\\AppData\\Local\\Temp\\ipykernel_1608\\109354668.py:17: PerformanceWarning: DataFrame is highly fragmented.  This is usually the result of calling `frame.insert` many times, which has poor performance.  Consider joining all columns at once using pd.concat(axis=1) instead. To get a de-fragmented frame, use `newframe = frame.copy()`\n",
      "  Actor_career[f\"Degree_{date}\"] = Actor_career[\"Freebase_actor_ID\"].map(degrees)\n",
      "C:\\Users\\pierr\\AppData\\Local\\Temp\\ipykernel_1608\\109354668.py:20: PerformanceWarning: DataFrame is highly fragmented.  This is usually the result of calling `frame.insert` many times, which has poor performance.  Consider joining all columns at once using pd.concat(axis=1) instead. To get a de-fragmented frame, use `newframe = frame.copy()`\n",
      "  Actor_career[f\"eigenvector_centrality_{date}\"] = Actor_career[\"Freebase_actor_ID\"].map(eigenvector_centrality)\n"
     ]
    },
    {
     "name": "stdout",
     "output_type": "stream",
     "text": [
      "max degree: 1147.0\n",
      "max centrality: 0.06484291310372611\n"
     ]
    },
    {
     "name": "stderr",
     "output_type": "stream",
     "text": [
      "Creating network: 100%|██████████| 64308/64308 [00:09<00:00, 6831.96it/s] \n"
     ]
    },
    {
     "name": "stdout",
     "output_type": "stream",
     "text": [
      "Network (2016/2024) of 119348 nodes.\n"
     ]
    },
    {
     "name": "stderr",
     "output_type": "stream",
     "text": [
      "C:\\Users\\pierr\\AppData\\Local\\Temp\\ipykernel_1608\\109354668.py:17: PerformanceWarning: DataFrame is highly fragmented.  This is usually the result of calling `frame.insert` many times, which has poor performance.  Consider joining all columns at once using pd.concat(axis=1) instead. To get a de-fragmented frame, use `newframe = frame.copy()`\n",
      "  Actor_career[f\"Degree_{date}\"] = Actor_career[\"Freebase_actor_ID\"].map(degrees)\n",
      "C:\\Users\\pierr\\AppData\\Local\\Temp\\ipykernel_1608\\109354668.py:20: PerformanceWarning: DataFrame is highly fragmented.  This is usually the result of calling `frame.insert` many times, which has poor performance.  Consider joining all columns at once using pd.concat(axis=1) instead. To get a de-fragmented frame, use `newframe = frame.copy()`\n",
      "  Actor_career[f\"eigenvector_centrality_{date}\"] = Actor_career[\"Freebase_actor_ID\"].map(eigenvector_centrality)\n"
     ]
    },
    {
     "name": "stdout",
     "output_type": "stream",
     "text": [
      "max degree: 1147.0\n",
      "max centrality: 0.06484029402478797\n"
     ]
    },
    {
     "name": "stderr",
     "output_type": "stream",
     "text": [
      "Creating network: 100%|██████████| 64308/64308 [00:11<00:00, 5684.61it/s] \n"
     ]
    },
    {
     "name": "stdout",
     "output_type": "stream",
     "text": [
      "Network (2017/2024) of 119353 nodes.\n"
     ]
    },
    {
     "name": "stderr",
     "output_type": "stream",
     "text": [
      "C:\\Users\\pierr\\AppData\\Local\\Temp\\ipykernel_1608\\109354668.py:17: PerformanceWarning: DataFrame is highly fragmented.  This is usually the result of calling `frame.insert` many times, which has poor performance.  Consider joining all columns at once using pd.concat(axis=1) instead. To get a de-fragmented frame, use `newframe = frame.copy()`\n",
      "  Actor_career[f\"Degree_{date}\"] = Actor_career[\"Freebase_actor_ID\"].map(degrees)\n",
      "C:\\Users\\pierr\\AppData\\Local\\Temp\\ipykernel_1608\\109354668.py:20: PerformanceWarning: DataFrame is highly fragmented.  This is usually the result of calling `frame.insert` many times, which has poor performance.  Consider joining all columns at once using pd.concat(axis=1) instead. To get a de-fragmented frame, use `newframe = frame.copy()`\n",
      "  Actor_career[f\"eigenvector_centrality_{date}\"] = Actor_career[\"Freebase_actor_ID\"].map(eigenvector_centrality)\n"
     ]
    },
    {
     "name": "stdout",
     "output_type": "stream",
     "text": [
      "max degree: 1147.0\n",
      "max centrality: 0.06484023163861181\n"
     ]
    },
    {
     "name": "stderr",
     "output_type": "stream",
     "text": [
      "Creating network: 100%|██████████| 64308/64308 [00:10<00:00, 6299.05it/s] \n"
     ]
    },
    {
     "name": "stdout",
     "output_type": "stream",
     "text": [
      "Network (2018/2024) of 119364 nodes.\n"
     ]
    },
    {
     "name": "stderr",
     "output_type": "stream",
     "text": [
      "C:\\Users\\pierr\\AppData\\Local\\Temp\\ipykernel_1608\\109354668.py:17: PerformanceWarning: DataFrame is highly fragmented.  This is usually the result of calling `frame.insert` many times, which has poor performance.  Consider joining all columns at once using pd.concat(axis=1) instead. To get a de-fragmented frame, use `newframe = frame.copy()`\n",
      "  Actor_career[f\"Degree_{date}\"] = Actor_career[\"Freebase_actor_ID\"].map(degrees)\n",
      "C:\\Users\\pierr\\AppData\\Local\\Temp\\ipykernel_1608\\109354668.py:20: PerformanceWarning: DataFrame is highly fragmented.  This is usually the result of calling `frame.insert` many times, which has poor performance.  Consider joining all columns at once using pd.concat(axis=1) instead. To get a de-fragmented frame, use `newframe = frame.copy()`\n",
      "  Actor_career[f\"eigenvector_centrality_{date}\"] = Actor_career[\"Freebase_actor_ID\"].map(eigenvector_centrality)\n"
     ]
    },
    {
     "name": "stdout",
     "output_type": "stream",
     "text": [
      "max degree: 1147.0\n",
      "max centrality: 0.06482987498488206\n"
     ]
    },
    {
     "name": "stderr",
     "output_type": "stream",
     "text": [
      "Creating network: 100%|██████████| 64308/64308 [00:10<00:00, 6235.75it/s] \n"
     ]
    },
    {
     "name": "stdout",
     "output_type": "stream",
     "text": [
      "Network (2019/2024) of 119365 nodes.\n"
     ]
    },
    {
     "name": "stderr",
     "output_type": "stream",
     "text": [
      "C:\\Users\\pierr\\AppData\\Local\\Temp\\ipykernel_1608\\109354668.py:17: PerformanceWarning: DataFrame is highly fragmented.  This is usually the result of calling `frame.insert` many times, which has poor performance.  Consider joining all columns at once using pd.concat(axis=1) instead. To get a de-fragmented frame, use `newframe = frame.copy()`\n",
      "  Actor_career[f\"Degree_{date}\"] = Actor_career[\"Freebase_actor_ID\"].map(degrees)\n",
      "C:\\Users\\pierr\\AppData\\Local\\Temp\\ipykernel_1608\\109354668.py:20: PerformanceWarning: DataFrame is highly fragmented.  This is usually the result of calling `frame.insert` many times, which has poor performance.  Consider joining all columns at once using pd.concat(axis=1) instead. To get a de-fragmented frame, use `newframe = frame.copy()`\n",
      "  Actor_career[f\"eigenvector_centrality_{date}\"] = Actor_career[\"Freebase_actor_ID\"].map(eigenvector_centrality)\n"
     ]
    },
    {
     "name": "stdout",
     "output_type": "stream",
     "text": [
      "max degree: 1147.0\n",
      "max centrality: 0.0648298645811475\n"
     ]
    },
    {
     "name": "stderr",
     "output_type": "stream",
     "text": [
      "Creating network: 100%|██████████| 64308/64308 [00:09<00:00, 6807.78it/s] \n"
     ]
    },
    {
     "name": "stdout",
     "output_type": "stream",
     "text": [
      "Network (2020/2024) of 119365 nodes.\n"
     ]
    },
    {
     "name": "stderr",
     "output_type": "stream",
     "text": [
      "C:\\Users\\pierr\\AppData\\Local\\Temp\\ipykernel_1608\\109354668.py:17: PerformanceWarning: DataFrame is highly fragmented.  This is usually the result of calling `frame.insert` many times, which has poor performance.  Consider joining all columns at once using pd.concat(axis=1) instead. To get a de-fragmented frame, use `newframe = frame.copy()`\n",
      "  Actor_career[f\"Degree_{date}\"] = Actor_career[\"Freebase_actor_ID\"].map(degrees)\n",
      "C:\\Users\\pierr\\AppData\\Local\\Temp\\ipykernel_1608\\109354668.py:20: PerformanceWarning: DataFrame is highly fragmented.  This is usually the result of calling `frame.insert` many times, which has poor performance.  Consider joining all columns at once using pd.concat(axis=1) instead. To get a de-fragmented frame, use `newframe = frame.copy()`\n",
      "  Actor_career[f\"eigenvector_centrality_{date}\"] = Actor_career[\"Freebase_actor_ID\"].map(eigenvector_centrality)\n"
     ]
    },
    {
     "name": "stdout",
     "output_type": "stream",
     "text": [
      "max degree: 1147.0\n",
      "max centrality: 0.06482855776319953\n"
     ]
    },
    {
     "name": "stderr",
     "output_type": "stream",
     "text": [
      "Creating network: 100%|██████████| 64308/64308 [00:08<00:00, 7385.87it/s] \n"
     ]
    },
    {
     "name": "stdout",
     "output_type": "stream",
     "text": [
      "Network (2021/2024) of 119365 nodes.\n"
     ]
    },
    {
     "name": "stderr",
     "output_type": "stream",
     "text": [
      "C:\\Users\\pierr\\AppData\\Local\\Temp\\ipykernel_1608\\109354668.py:17: PerformanceWarning: DataFrame is highly fragmented.  This is usually the result of calling `frame.insert` many times, which has poor performance.  Consider joining all columns at once using pd.concat(axis=1) instead. To get a de-fragmented frame, use `newframe = frame.copy()`\n",
      "  Actor_career[f\"Degree_{date}\"] = Actor_career[\"Freebase_actor_ID\"].map(degrees)\n",
      "C:\\Users\\pierr\\AppData\\Local\\Temp\\ipykernel_1608\\109354668.py:20: PerformanceWarning: DataFrame is highly fragmented.  This is usually the result of calling `frame.insert` many times, which has poor performance.  Consider joining all columns at once using pd.concat(axis=1) instead. To get a de-fragmented frame, use `newframe = frame.copy()`\n",
      "  Actor_career[f\"eigenvector_centrality_{date}\"] = Actor_career[\"Freebase_actor_ID\"].map(eigenvector_centrality)\n"
     ]
    },
    {
     "name": "stdout",
     "output_type": "stream",
     "text": [
      "max degree: 1147.0\n",
      "max centrality: 0.06482500731915021\n"
     ]
    },
    {
     "name": "stderr",
     "output_type": "stream",
     "text": [
      "Creating network: 100%|██████████| 64308/64308 [00:10<00:00, 6269.69it/s] \n"
     ]
    },
    {
     "name": "stdout",
     "output_type": "stream",
     "text": [
      "Network (2022/2024) of 119365 nodes.\n"
     ]
    },
    {
     "name": "stderr",
     "output_type": "stream",
     "text": [
      "C:\\Users\\pierr\\AppData\\Local\\Temp\\ipykernel_1608\\109354668.py:17: PerformanceWarning: DataFrame is highly fragmented.  This is usually the result of calling `frame.insert` many times, which has poor performance.  Consider joining all columns at once using pd.concat(axis=1) instead. To get a de-fragmented frame, use `newframe = frame.copy()`\n",
      "  Actor_career[f\"Degree_{date}\"] = Actor_career[\"Freebase_actor_ID\"].map(degrees)\n",
      "C:\\Users\\pierr\\AppData\\Local\\Temp\\ipykernel_1608\\109354668.py:20: PerformanceWarning: DataFrame is highly fragmented.  This is usually the result of calling `frame.insert` many times, which has poor performance.  Consider joining all columns at once using pd.concat(axis=1) instead. To get a de-fragmented frame, use `newframe = frame.copy()`\n",
      "  Actor_career[f\"eigenvector_centrality_{date}\"] = Actor_career[\"Freebase_actor_ID\"].map(eigenvector_centrality)\n"
     ]
    },
    {
     "name": "stdout",
     "output_type": "stream",
     "text": [
      "max degree: 1147.0\n",
      "max centrality: 0.06482497866837857\n"
     ]
    },
    {
     "name": "stderr",
     "output_type": "stream",
     "text": [
      "Creating network: 100%|██████████| 64308/64308 [00:09<00:00, 6851.29it/s] \n",
      "C:\\Users\\pierr\\AppData\\Local\\Temp\\ipykernel_1608\\109354668.py:17: PerformanceWarning: DataFrame is highly fragmented.  This is usually the result of calling `frame.insert` many times, which has poor performance.  Consider joining all columns at once using pd.concat(axis=1) instead. To get a de-fragmented frame, use `newframe = frame.copy()`\n",
      "  Actor_career[f\"Degree_{date}\"] = Actor_career[\"Freebase_actor_ID\"].map(degrees)\n"
     ]
    },
    {
     "name": "stdout",
     "output_type": "stream",
     "text": [
      "Network (2023/2024) of 119365 nodes.\n"
     ]
    },
    {
     "name": "stderr",
     "output_type": "stream",
     "text": [
      "C:\\Users\\pierr\\AppData\\Local\\Temp\\ipykernel_1608\\109354668.py:20: PerformanceWarning: DataFrame is highly fragmented.  This is usually the result of calling `frame.insert` many times, which has poor performance.  Consider joining all columns at once using pd.concat(axis=1) instead. To get a de-fragmented frame, use `newframe = frame.copy()`\n",
      "  Actor_career[f\"eigenvector_centrality_{date}\"] = Actor_career[\"Freebase_actor_ID\"].map(eigenvector_centrality)\n"
     ]
    },
    {
     "name": "stdout",
     "output_type": "stream",
     "text": [
      "max degree: 1147.0\n",
      "max centrality: 0.06482497866837857\n"
     ]
    },
    {
     "name": "stderr",
     "output_type": "stream",
     "text": [
      "C:\\Users\\pierr\\AppData\\Local\\Temp\\ipykernel_1608\\109354668.py:28: PerformanceWarning: DataFrame is highly fragmented.  This is usually the result of calling `frame.insert` many times, which has poor performance.  Consider joining all columns at once using pd.concat(axis=1) instead. To get a de-fragmented frame, use `newframe = frame.copy()`\n",
      "  Actor_career[f\"Year_{i+1}\"] = career_counts[:, i]\n"
     ]
    },
    {
     "ename": "NameError",
     "evalue": "name 'start' is not defined",
     "output_type": "error",
     "traceback": [
      "\u001b[1;31m---------------------------------------------------------------------------\u001b[0m",
      "\u001b[1;31mNameError\u001b[0m                                 Traceback (most recent call last)",
      "Cell \u001b[1;32mIn[51], line 29\u001b[0m\n\u001b[0;32m     27\u001b[0m \u001b[38;5;28;01mfor\u001b[39;00m i \u001b[38;5;129;01min\u001b[39;00m \u001b[38;5;28mrange\u001b[39m(max_career_years):\n\u001b[0;32m     28\u001b[0m     Actor_career[\u001b[38;5;124mf\u001b[39m\u001b[38;5;124m\"\u001b[39m\u001b[38;5;124mYear_\u001b[39m\u001b[38;5;132;01m{\u001b[39;00mi\u001b[38;5;241m+\u001b[39m\u001b[38;5;241m1\u001b[39m\u001b[38;5;132;01m}\u001b[39;00m\u001b[38;5;124m\"\u001b[39m] \u001b[38;5;241m=\u001b[39m career_counts[:, i]\n\u001b[1;32m---> 29\u001b[0m \u001b[38;5;28mprint\u001b[39m(\u001b[38;5;124mf\u001b[39m\u001b[38;5;124m\"\u001b[39m\u001b[38;5;124mComputation time: \u001b[39m\u001b[38;5;132;01m{\u001b[39;00mtime\u001b[38;5;241m.\u001b[39mtime()\u001b[38;5;241m-\u001b[39mstart\u001b[38;5;132;01m:\u001b[39;00m\u001b[38;5;124m.2f\u001b[39m\u001b[38;5;132;01m}\u001b[39;00m\u001b[38;5;124ms\u001b[39m\u001b[38;5;124m\"\u001b[39m)\n\u001b[0;32m     32\u001b[0m \u001b[38;5;28mprint\u001b[39m(\u001b[38;5;124mf\u001b[39m\u001b[38;5;124m\"\u001b[39m\u001b[38;5;124mComputation time:\u001b[39m\u001b[38;5;132;01m{\u001b[39;00mtime\u001b[38;5;241m.\u001b[39mtime()\u001b[38;5;241m-\u001b[39mstart_time\u001b[38;5;132;01m:\u001b[39;00m\u001b[38;5;124m.2f\u001b[39m\u001b[38;5;132;01m}\u001b[39;00m\u001b[38;5;124m\"\u001b[39m)\n",
      "\u001b[1;31mNameError\u001b[0m: name 'start' is not defined"
     ]
    }
   ],
   "source": [
    "start = time.time()\n",
    "movie_releasedates = range(1905,2024)\n",
    "\n",
    "print(\"Created graph with actors:\")\n",
    "\n",
    "for date in movie_releasedates+1:\n",
    "    played_together = create_actor_network(Actor_career,Movie,1, min_releasedate =date) \n",
    "\n",
    "    print(f\"Network ({date}/2024) of {played_together.number_of_nodes()} nodes.\")\n",
    "\n",
    "    #remove the nodes that are nans                \n",
    "    nan_nodes = [node for node in played_together.nodes if pd.isna(node)] \n",
    "    played_together.remove_nodes_from(nan_nodes)\n",
    "    \n",
    "    #extract metrics from the network\n",
    "    degrees = dict(played_together.degree())\n",
    "    Actor_career[f\"Degree_{date}\"] = Actor_career[\"Freebase_actor_ID\"].map(degrees)\n",
    "\n",
    "    eigenvector_centrality = nx.eigenvector_centrality(played_together, max_iter=1000) \n",
    "    Actor_career[f\"eigenvector_centrality_{date}\"] = Actor_career[\"Freebase_actor_ID\"].map(eigenvector_centrality)\n",
    "\n",
    "    print(f\"max degree: {Actor_career[f'Degree_{date}'].max()}\")\n",
    "    print(f\"max centrality: {Actor_career[f'eigenvector_centrality_{date}'].max()}\")\n",
    "\n",
    "career_counts = np.array(Actor_career.apply(fill_career_years, axis=1).tolist())\n",
    "\n",
    "for i in range(max_career_years):\n",
    "    Actor_career[f\"Year_{i+1}\"] = career_counts[:, i]\n",
    "    \n",
    "print(f\"Computation time: {time.time()-start:.2f}s\")\n",
    "\n",
    "\n",
    "\n"
   ]
  },
  {
   "cell_type": "code",
   "execution_count": 57,
   "id": "70535c03-6f3c-4db9-998c-adcf0b3a3f4e",
   "metadata": {},
   "outputs": [
    {
     "ename": "KeyError",
     "evalue": "'Degree_2024'",
     "output_type": "error",
     "traceback": [
      "\u001b[1;31m---------------------------------------------------------------------------\u001b[0m",
      "\u001b[1;31mKeyError\u001b[0m                                  Traceback (most recent call last)",
      "File \u001b[1;32m~\\AppData\\Roaming\\Python\\Python311\\site-packages\\pandas\\core\\indexes\\base.py:3805\u001b[0m, in \u001b[0;36mIndex.get_loc\u001b[1;34m(self, key)\u001b[0m\n\u001b[0;32m   3804\u001b[0m \u001b[38;5;28;01mtry\u001b[39;00m:\n\u001b[1;32m-> 3805\u001b[0m     \u001b[38;5;28;01mreturn\u001b[39;00m \u001b[38;5;28mself\u001b[39m\u001b[38;5;241m.\u001b[39m_engine\u001b[38;5;241m.\u001b[39mget_loc(casted_key)\n\u001b[0;32m   3806\u001b[0m \u001b[38;5;28;01mexcept\u001b[39;00m \u001b[38;5;167;01mKeyError\u001b[39;00m \u001b[38;5;28;01mas\u001b[39;00m err:\n",
      "File \u001b[1;32mindex.pyx:167\u001b[0m, in \u001b[0;36mpandas._libs.index.IndexEngine.get_loc\u001b[1;34m()\u001b[0m\n",
      "File \u001b[1;32mindex.pyx:196\u001b[0m, in \u001b[0;36mpandas._libs.index.IndexEngine.get_loc\u001b[1;34m()\u001b[0m\n",
      "File \u001b[1;32mpandas\\\\_libs\\\\hashtable_class_helper.pxi:7081\u001b[0m, in \u001b[0;36mpandas._libs.hashtable.PyObjectHashTable.get_item\u001b[1;34m()\u001b[0m\n",
      "File \u001b[1;32mpandas\\\\_libs\\\\hashtable_class_helper.pxi:7089\u001b[0m, in \u001b[0;36mpandas._libs.hashtable.PyObjectHashTable.get_item\u001b[1;34m()\u001b[0m\n",
      "\u001b[1;31mKeyError\u001b[0m: 'Degree_2024'",
      "\nThe above exception was the direct cause of the following exception:\n",
      "\u001b[1;31mKeyError\u001b[0m                                  Traceback (most recent call last)",
      "Cell \u001b[1;32mIn[57], line 2\u001b[0m\n\u001b[0;32m      1\u001b[0m date \u001b[38;5;241m=\u001b[39m \u001b[38;5;241m2024\u001b[39m\n\u001b[1;32m----> 2\u001b[0m Actor_career[Actor_career[\u001b[38;5;124mf\u001b[39m\u001b[38;5;124m'\u001b[39m\u001b[38;5;124mDegree_\u001b[39m\u001b[38;5;132;01m{\u001b[39;00mdate\u001b[38;5;132;01m}\u001b[39;00m\u001b[38;5;124m'\u001b[39m] \u001b[38;5;241m==\u001b[39m Actor_career[\u001b[38;5;124mf\u001b[39m\u001b[38;5;124m'\u001b[39m\u001b[38;5;124mDegree_\u001b[39m\u001b[38;5;132;01m{\u001b[39;00mdate\u001b[38;5;132;01m}\u001b[39;00m\u001b[38;5;124m'\u001b[39m]\u001b[38;5;241m.\u001b[39mmax()]\n",
      "File \u001b[1;32m~\\AppData\\Roaming\\Python\\Python311\\site-packages\\pandas\\core\\frame.py:4102\u001b[0m, in \u001b[0;36mDataFrame.__getitem__\u001b[1;34m(self, key)\u001b[0m\n\u001b[0;32m   4100\u001b[0m \u001b[38;5;28;01mif\u001b[39;00m \u001b[38;5;28mself\u001b[39m\u001b[38;5;241m.\u001b[39mcolumns\u001b[38;5;241m.\u001b[39mnlevels \u001b[38;5;241m>\u001b[39m \u001b[38;5;241m1\u001b[39m:\n\u001b[0;32m   4101\u001b[0m     \u001b[38;5;28;01mreturn\u001b[39;00m \u001b[38;5;28mself\u001b[39m\u001b[38;5;241m.\u001b[39m_getitem_multilevel(key)\n\u001b[1;32m-> 4102\u001b[0m indexer \u001b[38;5;241m=\u001b[39m \u001b[38;5;28mself\u001b[39m\u001b[38;5;241m.\u001b[39mcolumns\u001b[38;5;241m.\u001b[39mget_loc(key)\n\u001b[0;32m   4103\u001b[0m \u001b[38;5;28;01mif\u001b[39;00m is_integer(indexer):\n\u001b[0;32m   4104\u001b[0m     indexer \u001b[38;5;241m=\u001b[39m [indexer]\n",
      "File \u001b[1;32m~\\AppData\\Roaming\\Python\\Python311\\site-packages\\pandas\\core\\indexes\\base.py:3812\u001b[0m, in \u001b[0;36mIndex.get_loc\u001b[1;34m(self, key)\u001b[0m\n\u001b[0;32m   3807\u001b[0m     \u001b[38;5;28;01mif\u001b[39;00m \u001b[38;5;28misinstance\u001b[39m(casted_key, \u001b[38;5;28mslice\u001b[39m) \u001b[38;5;129;01mor\u001b[39;00m (\n\u001b[0;32m   3808\u001b[0m         \u001b[38;5;28misinstance\u001b[39m(casted_key, abc\u001b[38;5;241m.\u001b[39mIterable)\n\u001b[0;32m   3809\u001b[0m         \u001b[38;5;129;01mand\u001b[39;00m \u001b[38;5;28many\u001b[39m(\u001b[38;5;28misinstance\u001b[39m(x, \u001b[38;5;28mslice\u001b[39m) \u001b[38;5;28;01mfor\u001b[39;00m x \u001b[38;5;129;01min\u001b[39;00m casted_key)\n\u001b[0;32m   3810\u001b[0m     ):\n\u001b[0;32m   3811\u001b[0m         \u001b[38;5;28;01mraise\u001b[39;00m InvalidIndexError(key)\n\u001b[1;32m-> 3812\u001b[0m     \u001b[38;5;28;01mraise\u001b[39;00m \u001b[38;5;167;01mKeyError\u001b[39;00m(key) \u001b[38;5;28;01mfrom\u001b[39;00m \u001b[38;5;21;01merr\u001b[39;00m\n\u001b[0;32m   3813\u001b[0m \u001b[38;5;28;01mexcept\u001b[39;00m \u001b[38;5;167;01mTypeError\u001b[39;00m:\n\u001b[0;32m   3814\u001b[0m     \u001b[38;5;66;03m# If we have a listlike key, _check_indexing_error will raise\u001b[39;00m\n\u001b[0;32m   3815\u001b[0m     \u001b[38;5;66;03m#  InvalidIndexError. Otherwise we fall through and re-raise\u001b[39;00m\n\u001b[0;32m   3816\u001b[0m     \u001b[38;5;66;03m#  the TypeError.\u001b[39;00m\n\u001b[0;32m   3817\u001b[0m     \u001b[38;5;28mself\u001b[39m\u001b[38;5;241m.\u001b[39m_check_indexing_error(key)\n",
      "\u001b[1;31mKeyError\u001b[0m: 'Degree_2024'"
     ]
    }
   ],
   "source": [
    "date = 2024\n",
    "Actor_career[Actor_career[f'Degree_{date}'] == Actor_career[f'Degree_{date}'].max()]"
   ]
  },
  {
   "cell_type": "code",
   "execution_count": null,
   "id": "06145352-38e3-4aab-a236-daec8bfb9f7a",
   "metadata": {},
   "outputs": [],
   "source": []
  }
 ],
 "metadata": {
  "kernelspec": {
   "display_name": "Python 3 (ipykernel)",
   "language": "python",
   "name": "python3"
  },
  "language_info": {
   "codemirror_mode": {
    "name": "ipython",
    "version": 3
   },
   "file_extension": ".py",
   "mimetype": "text/x-python",
   "name": "python",
   "nbconvert_exporter": "python",
   "pygments_lexer": "ipython3",
   "version": "3.11.10"
  }
 },
 "nbformat": 4,
 "nbformat_minor": 5
}
