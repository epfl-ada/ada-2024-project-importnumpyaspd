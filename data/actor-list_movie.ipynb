{
 "cells": [
  {
   "cell_type": "code",
   "execution_count": 1,
   "id": "f3fd8023-86db-4f2e-a2df-0584ec293760",
   "metadata": {},
   "outputs": [],
   "source": [
    "import pandas as pd\n",
    "from T_data_loader import *\n",
    "import numpy as np\n",
    "from tqdm import tqdm\n",
    "import requests\n",
    "from bs4 import BeautifulSoup\n",
    "import urllib.parse as url"
   ]
  },
  {
   "cell_type": "markdown",
   "id": "3ca159bc-f023-4b7e-b5c6-a21024e75924",
   "metadata": {},
   "source": [
    "## CMU actor dataset"
   ]
  },
  {
   "cell_type": "markdown",
   "id": "072183b1-9b35-4af3-8b81-38d2ca437dc0",
   "metadata": {},
   "source": [
    "Reminder <br>\n",
    "You can go to https://www.cs.cmu.edu/~ark/personas/, download the dataset and extract all files. This webpage provide also a descriptive of the datasets. A more detailed description figures in the README of the download folder or in https://github.com/epfl-ada/ada-2024-project-importnumpyaspd/tree/main/data/CMU."
   ]
  },
  {
   "cell_type": "markdown",
   "id": "ff9f4152-5d60-4072-801f-749e08257e8f",
   "metadata": {},
   "source": [
    "We are interested now in the character.metadata file :"
   ]
  },
  {
   "cell_type": "code",
   "execution_count": 2,
   "id": "0aa04bba-0988-4b88-9145-15632185a569",
   "metadata": {},
   "outputs": [],
   "source": [
    "# custom column names :\n",
    "character_column = ['Wikipedia_movie_ID','Freebase_movie_ID','Movie_release_date','Character_name','actor_DOB','actor_gender','actor_height','actor_ethnicity','actor_name','actor_age_atmovierelease','freebase_character_actor_map_id','freebase_character_id','freebase_actor_id']"
   ]
  },
  {
   "cell_type": "code",
   "execution_count": 4,
   "id": "e3f248b2-933a-49af-8501-d1aafda8b832",
   "metadata": {},
   "outputs": [],
   "source": [
    "path=''"
   ]
  },
  {
   "cell_type": "code",
   "execution_count": 6,
   "id": "38325d0b-d15a-49d6-a35a-99395e015090",
   "metadata": {},
   "outputs": [],
   "source": [
    "# load the dataset\n",
    "CMU_character = pd.read_csv(path+\"MovieSummaries/character.metadata.tsv\", sep='\\t',names = character_column, header = 0)"
   ]
  },
  {
   "cell_type": "markdown",
   "id": "50789045-47b5-4629-804c-ddd96341cc98",
   "metadata": {},
   "source": [
    "We are interested to get a serie that have in index the name of an actor and contain a list of all the film that he plays in."
   ]
  },
  {
   "cell_type": "markdown",
   "id": "0e601f3f-ef11-45a2-a065-6743efef1a64",
   "metadata": {},
   "source": [
    "We have done it using groupby and apply methods : "
   ]
  },
  {
   "cell_type": "code",
   "execution_count": 7,
   "id": "39742eb2-b79e-4de4-88b3-72ebd1e07234",
   "metadata": {},
   "outputs": [],
   "source": [
    "def get_films(df):\n",
    "    list_film = df.Freebase_movie_ID.tolist()\n",
    "    return list_film"
   ]
  },
  {
   "cell_type": "code",
   "execution_count": 8,
   "id": "dbe5f470-24e3-45c3-9b63-ff5726f38637",
   "metadata": {},
   "outputs": [],
   "source": [
    "actor = CMU_character.groupby(by='freebase_actor_id').apply(get_films,include_groups=False)"
   ]
  },
  {
   "cell_type": "code",
   "execution_count": 9,
   "id": "b59fa8fa-3f87-444f-a126-e29989b08e3b",
   "metadata": {},
   "outputs": [
    {
     "data": {
      "text/plain": [
       "freebase_actor_id\n",
       "/m/010p3     [/m/0bq2wj, /m/08hjr9, /m/06zm9p7, /m/06c5z_, ...\n",
       "/m/010q36                                          [/m/033pf1]\n",
       "/m/010wx                                           [/m/07gx0c]\n",
       "/m/010xjr    [/m/0c_6bf, /m/078mm1, /m/03qfyt, /m/0cz7_4w, ...\n",
       "/m/0112yl    [/m/0513nd, /m/05c2g3q, /m/04wjg1, /m/01tch8, ...\n",
       "                                   ...                        \n",
       "/m/0z58                                           [/m/027cvd8]\n",
       "/m/0z9q0                                          [/m/0gls5qd]\n",
       "/m/0zcb7     [/m/080kkcx, /m/09v460, /m/02drs7, /m/0gls5v_,...\n",
       "/m/0zcbl     [/m/0ck5rr, /m/04yg13l, /m/04wdfw, /m/03whlgj,...\n",
       "/m/0zjpz                                          [/m/05sqdmg]\n",
       "Length: 135760, dtype: object"
      ]
     },
     "execution_count": 9,
     "metadata": {},
     "output_type": "execute_result"
    }
   ],
   "source": [
    "actor"
   ]
  }
 ],
 "metadata": {
  "kernelspec": {
   "display_name": "Python 3 (ipykernel)",
   "language": "python",
   "name": "python3"
  },
  "language_info": {
   "codemirror_mode": {
    "name": "ipython",
    "version": 3
   },
   "file_extension": ".py",
   "mimetype": "text/x-python",
   "name": "python",
   "nbconvert_exporter": "python",
   "pygments_lexer": "ipython3",
   "version": "3.9.20"
  }
 },
 "nbformat": 4,
 "nbformat_minor": 5
}
