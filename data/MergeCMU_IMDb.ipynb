{
 "cells": [
  {
   "cell_type": "markdown",
   "id": "95c2cf0d-8f0f-4f52-9139-da5416c6154a",
   "metadata": {},
   "source": [
    "## Import and load"
   ]
  },
  {
   "cell_type": "code",
   "execution_count": 1,
   "id": "03a3fdec-2744-464c-a383-907c5a612699",
   "metadata": {},
   "outputs": [],
   "source": [
    "import pandas as pd\n",
    "from T_data_loader import *"
   ]
  },
  {
   "cell_type": "code",
   "execution_count": 2,
   "id": "750a15a7-e138-4923-aac0-db8b1352b49f",
   "metadata": {},
   "outputs": [],
   "source": [
    "#Names of columns for the data CMU\n",
    "NAMES_MOVIES = ['Wikipedia_movie_ID','Freebase_movie_ID','Movie_name','Movie_release_date','Movie_box_office_revenue','Movie_runtime','Movie_languages','Movie_countries','Movie_genres']"
   ]
  },
  {
   "cell_type": "code",
   "execution_count": 3,
   "id": "d1246443-7f74-48fc-aec8-ec1cecc5b139",
   "metadata": {},
   "outputs": [],
   "source": [
    "df_CMU_movies = csv_loader('movie.metadata', 'CMU', column_names=NAMES_MOVIES)"
   ]
  },
  {
   "cell_type": "code",
   "execution_count": 4,
   "id": "3ad386f4-e94f-4349-a066-415f5967b6fa",
   "metadata": {},
   "outputs": [],
   "source": [
    "df_IMDb = pd.read_pickle('IMDb/IMDb.pkl')"
   ]
  },
  {
   "cell_type": "code",
   "execution_count": 53,
   "id": "9f2f9c3a-8a8c-42fd-a4a2-9af1b111f87d",
   "metadata": {},
   "outputs": [
    {
     "data": {
      "text/plain": [
       "<Axes: >"
      ]
     },
     "execution_count": 53,
     "metadata": {},
     "output_type": "execute_result"
    },
    {
     "data": {
      "image/png": "[encoded data removed]",
      "text/plain": [
       "<Figure size 640x480 with 1 Axes>"
      ]
     },
     "metadata": {},
     "output_type": "display_data"
    }
   ],
   "source": [
    "df_IMDb['realease_date'].hist()"
   ]
  },
  {
   "cell_type": "code",
   "execution_count": 60,
   "id": "2ac2796f-6502-4231-af0b-1a7e9447d0cd",
   "metadata": {},
   "outputs": [
    {
     "data": {
      "text/plain": [
       "(344, 10)"
      ]
     },
     "execution_count": 60,
     "metadata": {},
     "output_type": "execute_result"
    }
   ],
   "source": [
    "df_CMU_movies.query('Movie_release_date<1910').shape"
   ]
  },
  {
   "cell_type": "code",
   "execution_count": 61,
   "id": "c7983114-1f22-4746-9756-56a67bde07b0",
   "metadata": {},
   "outputs": [
    {
     "data": {
      "text/plain": [
       "(202, 105)"
      ]
     },
     "execution_count": 61,
     "metadata": {},
     "output_type": "execute_result"
    }
   ],
   "source": [
    "df_IMDb.query('realease_date<1910').shape"
   ]
  },
  {
   "cell_type": "markdown",
   "id": "b09ece77-0918-4a7a-8178-489a537ea600",
   "metadata": {},
   "source": [
    "## Trying to get an unique index"
   ]
  },
  {
   "cell_type": "code",
   "execution_count": 5,
   "id": "34f71cd6-bed3-48d9-9365-c311ca4fc412",
   "metadata": {},
   "outputs": [],
   "source": [
    "df_CMU_movies[\"Movie_release_date\"]=pd.to_datetime(df_CMU_movies[\"Movie_release_date\"], format='mixed', errors='coerce').dt.year.astype('Int64')"
   ]
  },
  {
   "cell_type": "code",
   "execution_count": 6,
   "id": "0eacde4f-65a6-420c-8d27-435f8575a4fb",
   "metadata": {},
   "outputs": [],
   "source": [
    "df_IMDb['realease_date']=pd.to_datetime(df_IMDb['realease_date'], format='mixed', errors='coerce').dt.year.astype('Int64')"
   ]
  },
  {
   "cell_type": "code",
   "execution_count": 7,
   "id": "24bee1bc-61d3-46e1-99b0-f48c57e6800a",
   "metadata": {},
   "outputs": [],
   "source": [
    "df_CMU_movies_modified_title = df_CMU_movies.Movie_name.str.replace(r'[^\\w\\s]', '', regex=True).str.replace(r'\\s+', '', regex=True).str.lower()\n",
    "df_CMU_movies[\"modified_title\"]=df_CMU_movies_modified_title"
   ]
  },
  {
   "cell_type": "code",
   "execution_count": 8,
   "id": "520c5e3d-7869-4b41-b3fa-5e22f7cd7dc3",
   "metadata": {},
   "outputs": [],
   "source": [
    "df_IMDb_modified_title = df_IMDb.Primary_title.str.replace(r'[^\\w\\s]', '', regex=True).str.replace(r'\\s+', '', regex=True).str.lower()\n",
    "df_IMDb[\"modified_title\"]=df_IMDb_modified_title"
   ]
  },
  {
   "cell_type": "code",
   "execution_count": 9,
   "id": "2e63fdf6-63ce-4af2-b40b-4b60fcf7a1da",
   "metadata": {},
   "outputs": [],
   "source": [
    "df_IMDb[\"runtime\"] = pd.to_numeric(df_IMDb[\"runtime\"], errors='coerce').round(0).astype('Int64')\n",
    "df_CMU_movies[\"Movie_runtime\"] = pd.to_numeric(df_CMU_movies[\"Movie_runtime\"], errors='coerce').round(0).astype('Int64')"
   ]
  },
  {
   "cell_type": "markdown",
   "id": "6385637e-20cc-4a43-8cf8-1dec75f77a78",
   "metadata": {},
   "source": [
    "How much Data we are losing with new indexing (2 alternatives) : "
   ]
  },
  {
   "cell_type": "markdown",
   "id": "3eaeb0bc-6c98-426f-ac41-9c28c90ddb92",
   "metadata": {},
   "source": [
    "CUM :"
   ]
  },
  {
   "cell_type": "code",
   "execution_count": 10,
   "id": "784534dd-b40e-400d-8609-0b36b46a2d30",
   "metadata": {},
   "outputs": [
    {
     "data": {
      "text/plain": [
       "(81741, 10)"
      ]
     },
     "execution_count": 10,
     "metadata": {},
     "output_type": "execute_result"
    }
   ],
   "source": [
    "df_CMU_movies.shape"
   ]
  },
  {
   "cell_type": "code",
   "execution_count": 11,
   "id": "8f8cf6ac-a826-47af-ba3a-133cf4a33346",
   "metadata": {},
   "outputs": [],
   "source": [
    "test1_data_set = df_CMU_movies.dropna(subset=['Movie_release_date','Movie_runtime'])\n",
    "test2_data_set = df_CMU_movies.dropna(subset=['Movie_release_date'])"
   ]
  },
  {
   "cell_type": "code",
   "execution_count": 12,
   "id": "1c50e0a3-5ebc-4301-bd6a-3f9e6c9afbfc",
   "metadata": {},
   "outputs": [
    {
     "name": "stdout",
     "output_type": "stream",
     "text": [
      "(58630, 10)\n",
      "(74838, 10)\n"
     ]
    }
   ],
   "source": [
    "print(test1_data_set.shape)\n",
    "print(test2_data_set.shape)"
   ]
  },
  {
   "cell_type": "code",
   "execution_count": 13,
   "id": "45e4ffcf-93be-466a-9ebe-68eb409023db",
   "metadata": {},
   "outputs": [],
   "source": [
    "new_id1 = test1_data_set.Movie_release_date.astype(str)+test1_data_set.Movie_runtime.astype(str)+test1_data_set.modified_title\n",
    "new_id2 = test2_data_set.Movie_release_date.astype(str)+test2_data_set.modified_title"
   ]
  },
  {
   "cell_type": "code",
   "execution_count": 14,
   "id": "52074048-9085-46b1-be88-d412ad4ab1e4",
   "metadata": {},
   "outputs": [
    {
     "data": {
      "text/plain": [
       "(22, 10)"
      ]
     },
     "execution_count": 14,
     "metadata": {},
     "output_type": "execute_result"
    }
   ],
   "source": [
    "df_CMU_movies_newind1 = test1_data_set.copy()\n",
    "df_CMU_movies_newind1.index = new_id1\n",
    "\n",
    "duplicate_indices = df_CMU_movies_newind1.index.value_counts()\n",
    "indices_with_dupl1 = duplicate_indices[duplicate_indices > 1].index\n",
    "result = df_CMU_movies_newind1.loc[df_CMU_movies_newind1.index.isin(indices_with_dupl1)]\n",
    "result.shape"
   ]
  },
  {
   "cell_type": "code",
   "execution_count": 15,
   "id": "a3ea6099-bd18-4ff2-99d1-fbe3ab4ac9c9",
   "metadata": {},
   "outputs": [
    {
     "data": {
      "text/plain": [
       "(275, 10)"
      ]
     },
     "execution_count": 15,
     "metadata": {},
     "output_type": "execute_result"
    }
   ],
   "source": [
    "df_CMU_movies_newind2 = test2_data_set.copy()\n",
    "df_CMU_movies_newind2.index = new_id2\n",
    "\n",
    "duplicate_indices = df_CMU_movies_newind2.index.value_counts()\n",
    "indices_with_dupl2 = duplicate_indices[duplicate_indices > 1].index\n",
    "result = df_CMU_movies_newind2.loc[df_CMU_movies_newind2.index.isin(indices_with_dupl2)]\n",
    "result.shape"
   ]
  },
  {
   "cell_type": "code",
   "execution_count": 16,
   "id": "347ade24-eb77-4cba-94dd-8f60a8742637",
   "metadata": {},
   "outputs": [],
   "source": [
    "CMU_test1 = df_CMU_movies_newind1.loc[~df_CMU_movies_newind1.index.isin(indices_with_dupl1)]\n",
    "CMU_test2 = df_CMU_movies_newind2.loc[~df_CMU_movies_newind2.index.isin(indices_with_dupl2)]"
   ]
  },
  {
   "cell_type": "code",
   "execution_count": 17,
   "id": "6790cdb2-979b-48d6-8512-1ac2f43959f2",
   "metadata": {},
   "outputs": [
    {
     "name": "stdout",
     "output_type": "stream",
     "text": [
      "(58608, 10)\n",
      "(74563, 10)\n"
     ]
    }
   ],
   "source": [
    "print(CMU_test1.shape)\n",
    "print(CMU_test2.shape)"
   ]
  },
  {
   "cell_type": "markdown",
   "id": "ab52d93c-b098-482f-a267-5160fb69521c",
   "metadata": {},
   "source": [
    "IMDb :"
   ]
  },
  {
   "cell_type": "code",
   "execution_count": 18,
   "id": "6e2715b0-df1f-48f8-b8ec-ea73bea75b1f",
   "metadata": {},
   "outputs": [
    {
     "data": {
      "text/plain": [
       "(696856, 105)"
      ]
     },
     "execution_count": 18,
     "metadata": {},
     "output_type": "execute_result"
    }
   ],
   "source": [
    "df_IMDb.shape"
   ]
  },
  {
   "cell_type": "code",
   "execution_count": 19,
   "id": "27b3b4b4-2411-46c2-b6e7-ff1101209045",
   "metadata": {},
   "outputs": [],
   "source": [
    "test1IMDb_data_set = df_IMDb.dropna(subset=['realease_date','runtime'])\n",
    "test2IMDb_data_set = df_IMDb.dropna(subset=['realease_date'])"
   ]
  },
  {
   "cell_type": "code",
   "execution_count": 20,
   "id": "e4d8d4f2-569f-4c27-99a6-7d1fd79a66d3",
   "metadata": {},
   "outputs": [
    {
     "name": "stdout",
     "output_type": "stream",
     "text": [
      "(431091, 105)\n",
      "(595363, 105)\n"
     ]
    }
   ],
   "source": [
    "print(test1IMDb_data_set.shape)\n",
    "print(test2IMDb_data_set.shape)"
   ]
  },
  {
   "cell_type": "code",
   "execution_count": 21,
   "id": "1b252012-8d0d-47cf-96cf-3b4a590eccf1",
   "metadata": {},
   "outputs": [],
   "source": [
    "new_id1_IMDb = test1IMDb_data_set.realease_date.astype(str)+test1IMDb_data_set.runtime.astype(str)+test1IMDb_data_set.modified_title\n",
    "new_id2_IMDb = test2IMDb_data_set.realease_date.astype(str)+test2IMDb_data_set.modified_title"
   ]
  },
  {
   "cell_type": "code",
   "execution_count": 22,
   "id": "07b8a792-2cb8-46cc-a903-e5980e86c508",
   "metadata": {},
   "outputs": [
    {
     "data": {
      "text/plain": [
       "(663, 105)"
      ]
     },
     "execution_count": 22,
     "metadata": {},
     "output_type": "execute_result"
    }
   ],
   "source": [
    "df_IMDb_movies_newind1 = test1IMDb_data_set.copy()\n",
    "df_IMDb_movies_newind1.index = new_id1_IMDb\n",
    "\n",
    "duplicate_indices = df_IMDb_movies_newind1.index.value_counts()\n",
    "indices_with_dupl1 = duplicate_indices[duplicate_indices > 1].index\n",
    "result = df_IMDb_movies_newind1.loc[df_IMDb_movies_newind1.index.isin(indices_with_dupl1)]\n",
    "result.shape"
   ]
  },
  {
   "cell_type": "code",
   "execution_count": 23,
   "id": "adea5699-935c-4149-9e73-e18cba91e836",
   "metadata": {},
   "outputs": [
    {
     "data": {
      "text/plain": [
       "(11114, 105)"
      ]
     },
     "execution_count": 23,
     "metadata": {},
     "output_type": "execute_result"
    }
   ],
   "source": [
    "df_IMDb_movies_newind2 = test2IMDb_data_set.copy()\n",
    "df_IMDb_movies_newind2.index = new_id2_IMDb\n",
    "\n",
    "duplicate_indices = df_IMDb_movies_newind2.index.value_counts()\n",
    "indices_with_dupl2 = duplicate_indices[duplicate_indices > 1].index\n",
    "result = df_IMDb_movies_newind2.loc[df_IMDb_movies_newind2.index.isin(indices_with_dupl2)]\n",
    "result.shape"
   ]
  },
  {
   "cell_type": "code",
   "execution_count": 24,
   "id": "2434eaf6-ef52-4a18-be13-b3ce4e9ec5bd",
   "metadata": {},
   "outputs": [],
   "source": [
    "IMDb_test1 = df_IMDb_movies_newind1.loc[~df_IMDb_movies_newind1.index.isin(indices_with_dupl1)]\n",
    "IMDb_test2 = df_IMDb_movies_newind2.loc[~df_IMDb_movies_newind2.index.isin(indices_with_dupl2)]"
   ]
  },
  {
   "cell_type": "code",
   "execution_count": 25,
   "id": "3f3b907a-fcba-4c34-a19a-fc18db1af86d",
   "metadata": {},
   "outputs": [
    {
     "name": "stdout",
     "output_type": "stream",
     "text": [
      "(430428, 105)\n",
      "(584249, 105)\n"
     ]
    }
   ],
   "source": [
    "print(IMDb_test1.shape)\n",
    "print(IMDb_test2.shape)"
   ]
  },
  {
   "cell_type": "markdown",
   "id": "cdcf1b40-2f03-48a7-bd05-76c3697f5797",
   "metadata": {},
   "source": [
    "Merging IMDb and CMU :"
   ]
  },
  {
   "cell_type": "markdown",
   "id": "4f583073-cac0-461f-9ff3-7834c07fd19e",
   "metadata": {},
   "source": [
    "1) Release date + name :"
   ]
  },
  {
   "cell_type": "code",
   "execution_count": 31,
   "id": "f8fecb2b-c9c8-4b63-b392-92fd18f5f949",
   "metadata": {},
   "outputs": [],
   "source": [
    "merged2 = IMDb_test2.merge(CMU_test2, left_index=True, right_index=True, how='inner')"
   ]
  },
  {
   "cell_type": "code",
   "execution_count": 32,
   "id": "cb9b751b-5fc6-4a62-8c43-864162cfa72b",
   "metadata": {},
   "outputs": [
    {
     "data": {
      "text/plain": [
       "(44866, 115)"
      ]
     },
     "execution_count": 32,
     "metadata": {},
     "output_type": "execute_result"
    }
   ],
   "source": [
    "merged2.shape"
   ]
  },
  {
   "cell_type": "markdown",
   "id": "7de23063-8d71-4904-bb11-7c2fea4242b5",
   "metadata": {},
   "source": [
    "2. Release date + runtime + name :"
   ]
  },
  {
   "cell_type": "code",
   "execution_count": 33,
   "id": "228c871f-d68e-4154-a5f4-dc13c92b6300",
   "metadata": {},
   "outputs": [],
   "source": [
    "merged1 = IMDb_test1.merge(CMU_test1, left_index=True, right_index=True, how='inner')"
   ]
  },
  {
   "cell_type": "code",
   "execution_count": 34,
   "id": "25d687c3-7047-4ece-927d-280259bb6dec",
   "metadata": {},
   "outputs": [
    {
     "data": {
      "text/plain": [
       "(23260, 115)"
      ]
     },
     "execution_count": 34,
     "metadata": {},
     "output_type": "execute_result"
    }
   ],
   "source": [
    "merged1.shape"
   ]
  },
  {
   "cell_type": "markdown",
   "id": "4ddcaac9-1528-47ae-9b41-27c109b5a9f6",
   "metadata": {},
   "source": [
    "From 1), using original title :"
   ]
  },
  {
   "cell_type": "code",
   "execution_count": 38,
   "id": "636dfc1c-fe3a-409d-97dc-25aded81caac",
   "metadata": {},
   "outputs": [
    {
     "name": "stdout",
     "output_type": "stream",
     "text": [
      "(539383, 105)\n",
      "(29697, 10)\n"
     ]
    }
   ],
   "source": [
    "notmatched_CMU = CMU_test2[~CMU_test2.index.isin(IMDb_test2.index)]\n",
    "notmatched_IMDb = IMDb_test2[~IMDb_test2.index.isin(CMU_test2.index)]\n",
    "print(notmatched_IMDb.shape)\n",
    "print(notmatched_CMU.shape)"
   ]
  },
  {
   "cell_type": "code",
   "execution_count": 40,
   "id": "c01842a4-5ddf-473c-bcac-5aa4662ce568",
   "metadata": {},
   "outputs": [],
   "source": [
    "notmatched_IMDb = notmatched_IMDb.drop(columns=[\"modified_title\"])\n",
    "df_IMDb_modified_titlev2 = notmatched_IMDb.Original_title.str.replace(r'[^\\w\\s]', '', regex=True).str.replace(r'\\s+', '', regex=True).str.lower()\n",
    "notmatched_IMDb[\"modified_title\"]=df_IMDb_modified_titlev2"
   ]
  },
  {
   "cell_type": "code",
   "execution_count": 41,
   "id": "5253d68f-4827-4d83-bef6-b66e33adad39",
   "metadata": {},
   "outputs": [],
   "source": [
    "new_id2_IMDbv2 = notmatched_IMDb.realease_date.astype(str)+notmatched_IMDb.modified_title"
   ]
  },
  {
   "cell_type": "code",
   "execution_count": 42,
   "id": "9987302b-c36b-4414-96a2-9dfd45dfad94",
   "metadata": {},
   "outputs": [
    {
     "data": {
      "text/plain": [
       "(438, 105)"
      ]
     },
     "execution_count": 42,
     "metadata": {},
     "output_type": "execute_result"
    }
   ],
   "source": [
    "notmatched_IMDb_newind = notmatched_IMDb.copy()\n",
    "notmatched_IMDb_newind.index = new_id2_IMDbv2\n",
    "\n",
    "duplicate_indices = notmatched_IMDb_newind.index.value_counts()\n",
    "indices_with_duplv2 = duplicate_indices[duplicate_indices > 1].index\n",
    "result = notmatched_IMDb_newind.loc[notmatched_IMDb_newind.index.isin(indices_with_duplv2)]\n",
    "result.shape"
   ]
  },
  {
   "cell_type": "code",
   "execution_count": 43,
   "id": "68d1b2ae-482e-4028-b8ad-994d698fa85f",
   "metadata": {},
   "outputs": [],
   "source": [
    "IMDb_notmatched_newind = notmatched_IMDb_newind.loc[~notmatched_IMDb_newind.index.isin(indices_with_duplv2)]"
   ]
  },
  {
   "cell_type": "code",
   "execution_count": 44,
   "id": "60ddf6d3-ab9d-4fb7-8aaf-fbfa1b691096",
   "metadata": {},
   "outputs": [],
   "source": [
    "merged2v2 = IMDb_notmatched_newind.merge(notmatched_CMU, left_index=True, right_index=True, how='inner')"
   ]
  },
  {
   "cell_type": "code",
   "execution_count": 45,
   "id": "ca1835bc-2e1e-47da-a851-a7b662cb8e8a",
   "metadata": {},
   "outputs": [
    {
     "data": {
      "text/plain": [
       "(3074, 115)"
      ]
     },
     "execution_count": 45,
     "metadata": {},
     "output_type": "execute_result"
    }
   ],
   "source": [
    "merged2v2.shape"
   ]
  },
  {
   "cell_type": "code",
   "execution_count": 46,
   "id": "4190485c-76bc-4f87-8f26-51e7996dd62b",
   "metadata": {},
   "outputs": [
    {
     "data": {
      "text/html": [
       "<div>\n",
       "<style scoped>\n",
       "    .dataframe tbody tr th:only-of-type {\n",
       "        vertical-align: middle;\n",
       "    }\n",
       "\n",
       "    .dataframe tbody tr th {\n",
       "        vertical-align: top;\n",
       "    }\n",
       "\n",
       "    .dataframe thead th {\n",
       "        text-align: right;\n",
       "    }\n",
       "</style>\n",
       "<table border=\"1\" class=\"dataframe\">\n",
       "  <thead>\n",
       "    <tr style=\"text-align: right;\">\n",
       "      <th></th>\n",
       "      <th>IMDb_title_ID</th>\n",
       "      <th>Director0</th>\n",
       "      <th>Director1</th>\n",
       "      <th>Director2</th>\n",
       "      <th>Director3</th>\n",
       "      <th>Director4</th>\n",
       "      <th>Director5</th>\n",
       "      <th>Director6</th>\n",
       "      <th>Director7</th>\n",
       "      <th>Director8</th>\n",
       "      <th>...</th>\n",
       "      <th>Wikipedia_movie_ID</th>\n",
       "      <th>Freebase_movie_ID</th>\n",
       "      <th>Movie_name</th>\n",
       "      <th>Movie_release_date</th>\n",
       "      <th>Movie_box_office_revenue</th>\n",
       "      <th>Movie_runtime</th>\n",
       "      <th>Movie_languages</th>\n",
       "      <th>Movie_countries</th>\n",
       "      <th>Movie_genres</th>\n",
       "      <th>modified_title_y</th>\n",
       "    </tr>\n",
       "  </thead>\n",
       "  <tbody>\n",
       "    <tr>\n",
       "      <th>1907lenfantprodigue</th>\n",
       "      <td>tt0000591</td>\n",
       "      <td>Michel Carré</td>\n",
       "      <td>None</td>\n",
       "      <td>None</td>\n",
       "      <td>None</td>\n",
       "      <td>None</td>\n",
       "      <td>None</td>\n",
       "      <td>None</td>\n",
       "      <td>None</td>\n",
       "      <td>None</td>\n",
       "      <td>...</td>\n",
       "      <td>4849466</td>\n",
       "      <td>/m/07s67rr</td>\n",
       "      <td>L'Enfant prodigue</td>\n",
       "      <td>1907</td>\n",
       "      <td>NaN</td>\n",
       "      <td>90</td>\n",
       "      <td>{\"/m/064_8sq\": \"French Language\"}</td>\n",
       "      <td>{\"/m/0f8l9c\": \"France\"}</td>\n",
       "      <td>{\"/m/02hmvc\": \"Short Film\", \"/m/06ppq\": \"Silen...</td>\n",
       "      <td>lenfantprodigue</td>\n",
       "    </tr>\n",
       "    <tr>\n",
       "      <th>1911captainmidnightthebushking</th>\n",
       "      <td>tt0001530</td>\n",
       "      <td>Alfred Rolfe</td>\n",
       "      <td>None</td>\n",
       "      <td>None</td>\n",
       "      <td>None</td>\n",
       "      <td>None</td>\n",
       "      <td>None</td>\n",
       "      <td>None</td>\n",
       "      <td>None</td>\n",
       "      <td>None</td>\n",
       "      <td>...</td>\n",
       "      <td>32987200</td>\n",
       "      <td>/m/0h569x9</td>\n",
       "      <td>Captain Midnight, the Bush King</td>\n",
       "      <td>1911</td>\n",
       "      <td>NaN</td>\n",
       "      <td>&lt;NA&gt;</td>\n",
       "      <td>{\"/m/06ppq\": \"Silent film\"}</td>\n",
       "      <td>{}</td>\n",
       "      <td>{\"/m/06ppq\": \"Silent film\"}</td>\n",
       "      <td>captainmidnightthebushking</td>\n",
       "    </tr>\n",
       "    <tr>\n",
       "      <th>1911thelifeofrufusdawes</th>\n",
       "      <td>tt0001731</td>\n",
       "      <td>Alfred Rolfe</td>\n",
       "      <td>None</td>\n",
       "      <td>None</td>\n",
       "      <td>None</td>\n",
       "      <td>None</td>\n",
       "      <td>None</td>\n",
       "      <td>None</td>\n",
       "      <td>None</td>\n",
       "      <td>None</td>\n",
       "      <td>...</td>\n",
       "      <td>32987279</td>\n",
       "      <td>/m/0h534h8</td>\n",
       "      <td>The Life of Rufus Dawes</td>\n",
       "      <td>1911</td>\n",
       "      <td>NaN</td>\n",
       "      <td>&lt;NA&gt;</td>\n",
       "      <td>{\"/m/06ppq\": \"Silent film\"}</td>\n",
       "      <td>{\"/m/0chghy\": \"Australia\"}</td>\n",
       "      <td>{\"/m/06ppq\": \"Silent film\"}</td>\n",
       "      <td>thelifeofrufusdawes</td>\n",
       "    </tr>\n",
       "    <tr>\n",
       "      <th>1911sweetnellofolddrury</th>\n",
       "      <td>tt0001911</td>\n",
       "      <td>Raymond Longford</td>\n",
       "      <td>None</td>\n",
       "      <td>None</td>\n",
       "      <td>None</td>\n",
       "      <td>None</td>\n",
       "      <td>None</td>\n",
       "      <td>None</td>\n",
       "      <td>None</td>\n",
       "      <td>None</td>\n",
       "      <td>...</td>\n",
       "      <td>32895030</td>\n",
       "      <td>/m/0h3xvly</td>\n",
       "      <td>Sweet Nell of Old Drury</td>\n",
       "      <td>1911</td>\n",
       "      <td>NaN</td>\n",
       "      <td>&lt;NA&gt;</td>\n",
       "      <td>{\"/m/06ppq\": \"Silent film\", \"/m/02h40lc\": \"Eng...</td>\n",
       "      <td>{}</td>\n",
       "      <td>{\"/m/06ppq\": \"Silent film\"}</td>\n",
       "      <td>sweetnellofolddrury</td>\n",
       "    </tr>\n",
       "    <tr>\n",
       "      <th>1911linferno</th>\n",
       "      <td>tt0002130</td>\n",
       "      <td>Francesco BertoliniGiuseppe de Liguoro</td>\n",
       "      <td>None</td>\n",
       "      <td>None</td>\n",
       "      <td>None</td>\n",
       "      <td>None</td>\n",
       "      <td>None</td>\n",
       "      <td>None</td>\n",
       "      <td>None</td>\n",
       "      <td>None</td>\n",
       "      <td>...</td>\n",
       "      <td>2502728</td>\n",
       "      <td>/m/07jcl5</td>\n",
       "      <td>L'Inferno</td>\n",
       "      <td>1911</td>\n",
       "      <td>NaN</td>\n",
       "      <td>68</td>\n",
       "      <td>{\"/m/06ppq\": \"Silent film\"}</td>\n",
       "      <td>{\"/m/03rjj\": \"Italy\"}</td>\n",
       "      <td>{\"/m/06ppq\": \"Silent film\", \"/m/03k9fj\": \"Adve...</td>\n",
       "      <td>linferno</td>\n",
       "    </tr>\n",
       "  </tbody>\n",
       "</table>\n",
       "<p>5 rows × 115 columns</p>\n",
       "</div>"
      ],
      "text/plain": [
       "                               IMDb_title_ID  \\\n",
       "1907lenfantprodigue                tt0000591   \n",
       "1911captainmidnightthebushking     tt0001530   \n",
       "1911thelifeofrufusdawes            tt0001731   \n",
       "1911sweetnellofolddrury            tt0001911   \n",
       "1911linferno                       tt0002130   \n",
       "\n",
       "                                                             Director0  \\\n",
       "1907lenfantprodigue                                       Michel Carré   \n",
       "1911captainmidnightthebushking                            Alfred Rolfe   \n",
       "1911thelifeofrufusdawes                                   Alfred Rolfe   \n",
       "1911sweetnellofolddrury                               Raymond Longford   \n",
       "1911linferno                    Francesco BertoliniGiuseppe de Liguoro   \n",
       "\n",
       "                               Director1 Director2 Director3 Director4  \\\n",
       "1907lenfantprodigue                 None      None      None      None   \n",
       "1911captainmidnightthebushking      None      None      None      None   \n",
       "1911thelifeofrufusdawes             None      None      None      None   \n",
       "1911sweetnellofolddrury             None      None      None      None   \n",
       "1911linferno                        None      None      None      None   \n",
       "\n",
       "                               Director5 Director6 Director7 Director8  ...  \\\n",
       "1907lenfantprodigue                 None      None      None      None  ...   \n",
       "1911captainmidnightthebushking      None      None      None      None  ...   \n",
       "1911thelifeofrufusdawes             None      None      None      None  ...   \n",
       "1911sweetnellofolddrury             None      None      None      None  ...   \n",
       "1911linferno                        None      None      None      None  ...   \n",
       "\n",
       "                               Wikipedia_movie_ID Freebase_movie_ID  \\\n",
       "1907lenfantprodigue                       4849466        /m/07s67rr   \n",
       "1911captainmidnightthebushking           32987200        /m/0h569x9   \n",
       "1911thelifeofrufusdawes                  32987279        /m/0h534h8   \n",
       "1911sweetnellofolddrury                  32895030        /m/0h3xvly   \n",
       "1911linferno                              2502728         /m/07jcl5   \n",
       "\n",
       "                                                     Movie_name  \\\n",
       "1907lenfantprodigue                           L'Enfant prodigue   \n",
       "1911captainmidnightthebushking  Captain Midnight, the Bush King   \n",
       "1911thelifeofrufusdawes                 The Life of Rufus Dawes   \n",
       "1911sweetnellofolddrury                 Sweet Nell of Old Drury   \n",
       "1911linferno                                          L'Inferno   \n",
       "\n",
       "                               Movie_release_date Movie_box_office_revenue  \\\n",
       "1907lenfantprodigue                          1907                      NaN   \n",
       "1911captainmidnightthebushking               1911                      NaN   \n",
       "1911thelifeofrufusdawes                      1911                      NaN   \n",
       "1911sweetnellofolddrury                      1911                      NaN   \n",
       "1911linferno                                 1911                      NaN   \n",
       "\n",
       "                               Movie_runtime  \\\n",
       "1907lenfantprodigue                       90   \n",
       "1911captainmidnightthebushking          <NA>   \n",
       "1911thelifeofrufusdawes                 <NA>   \n",
       "1911sweetnellofolddrury                 <NA>   \n",
       "1911linferno                              68   \n",
       "\n",
       "                                                                  Movie_languages  \\\n",
       "1907lenfantprodigue                             {\"/m/064_8sq\": \"French Language\"}   \n",
       "1911captainmidnightthebushking                        {\"/m/06ppq\": \"Silent film\"}   \n",
       "1911thelifeofrufusdawes                               {\"/m/06ppq\": \"Silent film\"}   \n",
       "1911sweetnellofolddrury         {\"/m/06ppq\": \"Silent film\", \"/m/02h40lc\": \"Eng...   \n",
       "1911linferno                                          {\"/m/06ppq\": \"Silent film\"}   \n",
       "\n",
       "                                           Movie_countries  \\\n",
       "1907lenfantprodigue                {\"/m/0f8l9c\": \"France\"}   \n",
       "1911captainmidnightthebushking                          {}   \n",
       "1911thelifeofrufusdawes         {\"/m/0chghy\": \"Australia\"}   \n",
       "1911sweetnellofolddrury                                 {}   \n",
       "1911linferno                         {\"/m/03rjj\": \"Italy\"}   \n",
       "\n",
       "                                                                     Movie_genres  \\\n",
       "1907lenfantprodigue             {\"/m/02hmvc\": \"Short Film\", \"/m/06ppq\": \"Silen...   \n",
       "1911captainmidnightthebushking                        {\"/m/06ppq\": \"Silent film\"}   \n",
       "1911thelifeofrufusdawes                               {\"/m/06ppq\": \"Silent film\"}   \n",
       "1911sweetnellofolddrury                               {\"/m/06ppq\": \"Silent film\"}   \n",
       "1911linferno                    {\"/m/06ppq\": \"Silent film\", \"/m/03k9fj\": \"Adve...   \n",
       "\n",
       "                                          modified_title_y  \n",
       "1907lenfantprodigue                        lenfantprodigue  \n",
       "1911captainmidnightthebushking  captainmidnightthebushking  \n",
       "1911thelifeofrufusdawes                thelifeofrufusdawes  \n",
       "1911sweetnellofolddrury                sweetnellofolddrury  \n",
       "1911linferno                                      linferno  \n",
       "\n",
       "[5 rows x 115 columns]"
      ]
     },
     "execution_count": 46,
     "metadata": {},
     "output_type": "execute_result"
    }
   ],
   "source": [
    "merged2v2.head()"
   ]
  },
  {
   "cell_type": "code",
   "execution_count": 47,
   "id": "efdf7237-27cc-4149-8a93-b608bdfcb7e3",
   "metadata": {},
   "outputs": [],
   "source": [
    "merged_final = pd.concat([merged2,merged2v2])"
   ]
  },
  {
   "cell_type": "code",
   "execution_count": 48,
   "id": "36a32c75-d327-407c-a369-ed1101a75624",
   "metadata": {},
   "outputs": [
    {
     "data": {
      "text/plain": [
       "True"
      ]
     },
     "execution_count": 48,
     "metadata": {},
     "output_type": "execute_result"
    }
   ],
   "source": [
    "merged_final.index.is_unique"
   ]
  },
  {
   "cell_type": "code",
   "execution_count": 49,
   "id": "5f8a019b-6be0-402f-8006-5d576a8a94ac",
   "metadata": {},
   "outputs": [
    {
     "data": {
      "text/plain": [
       "(47940, 115)"
      ]
     },
     "execution_count": 49,
     "metadata": {},
     "output_type": "execute_result"
    }
   ],
   "source": [
    "merged_final.shape"
   ]
  },
  {
   "cell_type": "markdown",
   "id": "a23711ca-cf8b-4886-9e7b-c075df810f83",
   "metadata": {},
   "source": [
    "Encoire pas de match :"
   ]
  },
  {
   "cell_type": "code",
   "execution_count": 51,
   "id": "4704556f-74c4-44d2-889d-e7867fd5900c",
   "metadata": {},
   "outputs": [],
   "source": [
    "notmatched_CMU2 = notmatched_CMU[~notmatched_CMU.index.isin(IMDb_notmatched_newind.index)]\n",
    "notmatched_IMDb2 = IMDb_notmatched_newind[~IMDb_notmatched_newind.index.isin(notmatched_CMU.index)]"
   ]
  },
  {
   "cell_type": "code",
   "execution_count": 52,
   "id": "b5a46fd9-ba35-451d-bb36-8d4df6e6b900",
   "metadata": {},
   "outputs": [
    {
     "name": "stdout",
     "output_type": "stream",
     "text": [
      "(535871, 105)\n",
      "(26623, 10)\n"
     ]
    }
   ],
   "source": [
    "print(notmatched_IMDb2.shape)\n",
    "print(notmatched_CMU2.shape)"
   ]
  }
 ],
 "metadata": {
  "kernelspec": {
   "display_name": "Python 3 (ipykernel)",
   "language": "python",
   "name": "python3"
  },
  "language_info": {
   "codemirror_mode": {
    "name": "ipython",
    "version": 3
   },
   "file_extension": ".py",
   "mimetype": "text/x-python",
   "name": "python",
   "nbconvert_exporter": "python",
   "pygments_lexer": "ipython3",
   "version": "3.9.20"
  }
 },
 "nbformat": 4,
 "nbformat_minor": 5
}
