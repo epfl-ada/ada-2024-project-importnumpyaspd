{
 "cells": [
  {
   "cell_type": "markdown",
   "id": "95c2cf0d-8f0f-4f52-9139-da5416c6154a",
   "metadata": {
    "jp-MarkdownHeadingCollapsed": true
   },
   "source": [
    "## Import and load"
   ]
  },
  {
   "cell_type": "code",
   "execution_count": 1,
   "id": "03a3fdec-2744-464c-a383-907c5a612699",
   "metadata": {},
   "outputs": [],
   "source": [
    "import pandas as pd\n",
    "from T_data_loader import *"
   ]
  },
  {
   "cell_type": "code",
   "execution_count": 2,
   "id": "750a15a7-e138-4923-aac0-db8b1352b49f",
   "metadata": {},
   "outputs": [],
   "source": [
    "#Names of columns for the data CMU\n",
    "NAMES_MOVIES = ['Wikipedia_movie_ID','Freebase_movie_ID','Movie_name','Movie_release_date','Movie_box_office_revenue','Movie_runtime','Movie_languages','Movie_countries','Movie_genres']"
   ]
  },
  {
   "cell_type": "code",
   "execution_count": 3,
   "id": "d1246443-7f74-48fc-aec8-ec1cecc5b139",
   "metadata": {},
   "outputs": [],
   "source": [
    "df_CMU_movies = csv_loader('movie.metadata', 'CMU', column_names=NAMES_MOVIES)"
   ]
  },
  {
   "cell_type": "code",
   "execution_count": 4,
   "id": "3ad386f4-e94f-4349-a066-415f5967b6fa",
   "metadata": {},
   "outputs": [],
   "source": [
    "df_IMDb = pd.read_pickle('IMDb/IMDb.pkl')"
   ]
  },
  {
   "cell_type": "markdown",
   "id": "b09ece77-0918-4a7a-8178-489a537ea600",
   "metadata": {},
   "source": [
    "## Trying to get an unique index"
   ]
  },
  {
   "cell_type": "code",
   "execution_count": 5,
   "id": "34f71cd6-bed3-48d9-9365-c311ca4fc412",
   "metadata": {},
   "outputs": [],
   "source": [
    "df_CMU_movies[\"Movie_release_date\"]=pd.to_datetime(df_CMU_movies[\"Movie_release_date\"], format='mixed', errors='coerce').dt.year.astype('Int64')"
   ]
  },
  {
   "cell_type": "code",
   "execution_count": 7,
   "id": "0eacde4f-65a6-420c-8d27-435f8575a4fb",
   "metadata": {},
   "outputs": [],
   "source": [
    "df_IMDb['realease_date']=pd.to_datetime(df_IMDb['realease_date'], format='mixed', errors='coerce').dt.year.astype('Int64')"
   ]
  },
  {
   "cell_type": "code",
   "execution_count": 8,
   "id": "24bee1bc-61d3-46e1-99b0-f48c57e6800a",
   "metadata": {},
   "outputs": [],
   "source": [
    "df_CMU_movies_modified_title = df_CMU_movies.Movie_name.str.replace(r'[^\\w\\s]', '', regex=True).str.replace(r'\\s+', '', regex=True).str.lower()\n",
    "df_CMU_movies[\"modified_title\"]=df_CMU_movies_modified_title"
   ]
  },
  {
   "cell_type": "code",
   "execution_count": 9,
   "id": "520c5e3d-7869-4b41-b3fa-5e22f7cd7dc3",
   "metadata": {},
   "outputs": [],
   "source": [
    "df_IMDb_modified_title = df_IMDb.Primary_title.str.replace(r'[^\\w\\s]', '', regex=True).str.replace(r'\\s+', '', regex=True).str.lower()\n",
    "df_IMDb[\"modified_title\"]=df_IMDb_modified_title"
   ]
  },
  {
   "cell_type": "code",
   "execution_count": 10,
   "id": "2e63fdf6-63ce-4af2-b40b-4b60fcf7a1da",
   "metadata": {},
   "outputs": [],
   "source": [
    "df_IMDb[\"runtime\"] = pd.to_numeric(df_IMDb[\"runtime\"], errors='coerce').round(0).astype('Int64')\n",
    "df_CMU_movies[\"Movie_runtime\"] = pd.to_numeric(df_CMU_movies[\"Movie_runtime\"], errors='coerce').round(0).astype('Int64')"
   ]
  },
  {
   "cell_type": "code",
   "execution_count": 15,
   "id": "fbe9f320-dfd9-4f8e-bd3e-29d9959272ae",
   "metadata": {},
   "outputs": [],
   "source": [
    "new_id = df_CMU_movies.Movie_release_date.astype(str)+df_CMU_movies.Movie_runtime.astype(str)+df_CMU_movies.modified_title"
   ]
  },
  {
   "cell_type": "code",
   "execution_count": 16,
   "id": "c5ac1e74-4c18-4227-a371-58fe1deb1033",
   "metadata": {},
   "outputs": [
    {
     "data": {
      "text/plain": [
       "False"
      ]
     },
     "execution_count": 16,
     "metadata": {},
     "output_type": "execute_result"
    }
   ],
   "source": [
    "df_CMU_movies_newind = df_CMU_movies.copy()\n",
    "df_CMU_movies_newind.index = new_id\n",
    "df_CMU_movies_newind.index.is_unique"
   ]
  },
  {
   "cell_type": "code",
   "execution_count": 17,
   "id": "8d40b4ed-f44f-4585-a7f5-cd8bc82f4f82",
   "metadata": {},
   "outputs": [
    {
     "data": {
      "text/plain": [
       "(81741, 10)"
      ]
     },
     "execution_count": 17,
     "metadata": {},
     "output_type": "execute_result"
    }
   ],
   "source": [
    "df_CMU_movies_newind.shape"
   ]
  },
  {
   "cell_type": "code",
   "execution_count": 18,
   "id": "d575c5f3-6e63-4c73-b4c8-ec116c4f11b3",
   "metadata": {},
   "outputs": [
    {
     "data": {
      "text/plain": [
       "<NA><NA>hero                    3\n",
       "<NA><NA>vengeance               3\n",
       "<NA><NA>wanted                  3\n",
       "<NA><NA>busybuddies             2\n",
       "195186littlebighorn             2\n",
       "                               ..\n",
       "1990100spacedinvaders           1\n",
       "194355frontierfury              1\n",
       "194659theflyingserpent          1\n",
       "1956105janzizka                 1\n",
       "200286thesorcerersapprentice    1\n",
       "Name: count, Length: 81687, dtype: int64"
      ]
     },
     "execution_count": 18,
     "metadata": {},
     "output_type": "execute_result"
    }
   ],
   "source": [
    "df_CMU_movies_newind.index.value_counts()"
   ]
  },
  {
   "cell_type": "code",
   "execution_count": 52,
   "id": "784534dd-b40e-400d-8609-0b36b46a2d30",
   "metadata": {},
   "outputs": [
    {
     "data": {
      "text/plain": [
       "Movie_release_date\n",
       "1970    74838\n",
       "Name: count, dtype: Int64"
      ]
     },
     "execution_count": 52,
     "metadata": {},
     "output_type": "execute_result"
    }
   ],
   "source": [
    "df_CMU_movies.Movie_release_date.value_counts()"
   ]
  },
  {
   "cell_type": "code",
   "execution_count": 22,
   "id": "45e4ffcf-93be-466a-9ebe-68eb409023db",
   "metadata": {},
   "outputs": [],
   "source": [
    "new_id2 = df_CMU_movies.Movie_release_date.astype(str)+df_CMU_movies.modified_title"
   ]
  },
  {
   "cell_type": "code",
   "execution_count": 23,
   "id": "52074048-9085-46b1-be88-d412ad4ab1e4",
   "metadata": {},
   "outputs": [
    {
     "data": {
      "text/plain": [
       "False"
      ]
     },
     "execution_count": 23,
     "metadata": {},
     "output_type": "execute_result"
    }
   ],
   "source": [
    "df_CMU_movies_newind2 = df_CMU_movies.copy()\n",
    "df_CMU_movies_newind2.index = new_id2\n",
    "df_CMU_movies_newind2.index.is_unique"
   ]
  },
  {
   "cell_type": "code",
   "execution_count": null,
   "id": "02f4f0c2-6f09-49e6-a0cc-6e715ed4b43d",
   "metadata": {},
   "outputs": [],
   "source": []
  }
 ],
 "metadata": {
  "kernelspec": {
   "display_name": "Python 3 (ipykernel)",
   "language": "python",
   "name": "python3"
  },
  "language_info": {
   "codemirror_mode": {
    "name": "ipython",
    "version": 3
   },
   "file_extension": ".py",
   "mimetype": "text/x-python",
   "name": "python",
   "nbconvert_exporter": "python",
   "pygments_lexer": "ipython3",
   "version": "3.9.20"
  }
 },
 "nbformat": 4,
 "nbformat_minor": 5
}
