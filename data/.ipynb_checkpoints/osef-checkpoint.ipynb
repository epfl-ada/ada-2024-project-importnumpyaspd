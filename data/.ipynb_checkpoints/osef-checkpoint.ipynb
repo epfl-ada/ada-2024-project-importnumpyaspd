{
 "cells": [
  {
   "cell_type": "code",
   "execution_count": 1,
   "id": "e9032d8e-3564-4e28-853d-efdd85c1fe67",
   "metadata": {},
   "outputs": [],
   "source": [
    "#test\n",
    "from tmdbv3api import TMDb\n",
    "tmdb = TMDb()\n",
    "tmdb.api_key = 'a420be33e7ef148f063ee36c19341bb9'"
   ]
  },
  {
   "cell_type": "code",
   "execution_count": 2,
   "id": "bed57de4-c842-49d2-938a-6ace6700944c",
   "metadata": {},
   "outputs": [],
   "source": [
    "from tmdbv3api import Movie\n",
    "from tmdbv3api import Find"
   ]
  },
  {
   "cell_type": "code",
   "execution_count": 3,
   "id": "823e1e16-84f9-45b5-9f68-114ae9f5c5e8",
   "metadata": {},
   "outputs": [],
   "source": [
    "movie = Movie()\n"
   ]
  },
  {
   "cell_type": "code",
   "execution_count": 4,
   "id": "9a2002e2-57eb-4086-b8b4-0241b29dd9b3",
   "metadata": {},
   "outputs": [
    {
     "data": {
      "text/plain": [
       "['_base',\n",
       " '_remaining',\n",
       " '_reset',\n",
       " 'obj_cached',\n",
       " '__module__',\n",
       " '_urls',\n",
       " 'details',\n",
       " 'account_states',\n",
       " 'alternative_titles',\n",
       " 'changes',\n",
       " 'credits',\n",
       " 'external_ids',\n",
       " 'images',\n",
       " 'keywords',\n",
       " 'lists',\n",
       " 'recommendations',\n",
       " 'release_dates',\n",
       " 'reviews',\n",
       " 'similar',\n",
       " 'translations',\n",
       " 'videos',\n",
       " 'watch_providers',\n",
       " 'rate_movie',\n",
       " 'delete_rating',\n",
       " 'latest',\n",
       " 'now_playing',\n",
       " 'popular',\n",
       " 'top_rated',\n",
       " 'upcoming',\n",
       " 'search',\n",
       " 'external',\n",
       " '__doc__',\n",
       " '_session',\n",
       " 'TMDB_API_KEY',\n",
       " 'TMDB_LANGUAGE',\n",
       " 'TMDB_SESSION_ID',\n",
       " 'TMDB_WAIT_ON_RATE_LIMIT',\n",
       " 'TMDB_DEBUG_ENABLED',\n",
       " 'TMDB_CACHE_ENABLED',\n",
       " 'TMDB_PROXIES',\n",
       " 'REQUEST_CACHE_MAXSIZE',\n",
       " '__init__',\n",
       " 'page',\n",
       " 'total_results',\n",
       " 'total_pages',\n",
       " 'api_key',\n",
       " 'proxies',\n",
       " 'language',\n",
       " 'has_session',\n",
       " 'session_id',\n",
       " 'wait_on_rate_limit',\n",
       " 'debug',\n",
       " 'cache',\n",
       " 'cached_request',\n",
       " 'cache_clear',\n",
       " '_request_obj',\n",
       " '__dict__',\n",
       " '__weakref__',\n",
       " '__new__',\n",
       " '__repr__',\n",
       " '__hash__',\n",
       " '__str__',\n",
       " '__getattribute__',\n",
       " '__setattr__',\n",
       " '__delattr__',\n",
       " '__lt__',\n",
       " '__le__',\n",
       " '__eq__',\n",
       " '__ne__',\n",
       " '__gt__',\n",
       " '__ge__',\n",
       " '__reduce_ex__',\n",
       " '__reduce__',\n",
       " '__getstate__',\n",
       " '__subclasshook__',\n",
       " '__init_subclass__',\n",
       " '__format__',\n",
       " '__sizeof__',\n",
       " '__dir__',\n",
       " '__class__']"
      ]
     },
     "execution_count": 4,
     "metadata": {},
     "output_type": "execute_result"
    }
   ],
   "source": [
    "movie.__dir__()"
   ]
  },
  {
   "cell_type": "code",
   "execution_count": 4,
   "id": "77e07db7-9dee-4e62-a90a-316e78462b38",
   "metadata": {},
   "outputs": [
    {
     "data": {
      "text/plain": [
       "{'id': 85, 'imdb_id': 'tt0082971', 'wikidata_id': 'Q174284', 'facebook_id': None, 'instagram_id': None, 'twitter_id': None}"
      ]
     },
     "execution_count": 4,
     "metadata": {},
     "output_type": "execute_result"
    }
   ],
   "source": [
    "i_d = 'tt0082971' #indiana jones\n",
    "#'wikidata_id': 'Q132863'\n",
    "\n",
    "movie.external_ids(i_d)"
   ]
  },
  {
   "cell_type": "code",
   "execution_count": 6,
   "id": "456da304-dc02-4693-a53e-f980e82121b3",
   "metadata": {},
   "outputs": [],
   "source": [
    "find = Find()"
   ]
  },
  {
   "cell_type": "code",
   "execution_count": 7,
   "id": "09aa7966-e6a9-4109-beee-e41981a5337c",
   "metadata": {},
   "outputs": [
    {
     "data": {
      "text/plain": [
       "['_base',\n",
       " '_remaining',\n",
       " '_reset',\n",
       " 'obj_cached',\n",
       " '__module__',\n",
       " '_urls',\n",
       " 'find',\n",
       " 'find_by_imdb_id',\n",
       " 'find_by_tvdb_id',\n",
       " 'find_by_freebase_mid',\n",
       " 'find_by_freebase_id',\n",
       " 'find_by_tvrage_id',\n",
       " 'find_by_facebook_id',\n",
       " 'find_by_instagram_id',\n",
       " 'find_by_twitter_id',\n",
       " '__doc__',\n",
       " '_session',\n",
       " 'TMDB_API_KEY',\n",
       " 'TMDB_LANGUAGE',\n",
       " 'TMDB_SESSION_ID',\n",
       " 'TMDB_WAIT_ON_RATE_LIMIT',\n",
       " 'TMDB_DEBUG_ENABLED',\n",
       " 'TMDB_CACHE_ENABLED',\n",
       " 'TMDB_PROXIES',\n",
       " 'REQUEST_CACHE_MAXSIZE',\n",
       " '__init__',\n",
       " 'page',\n",
       " 'total_results',\n",
       " 'total_pages',\n",
       " 'api_key',\n",
       " 'proxies',\n",
       " 'language',\n",
       " 'has_session',\n",
       " 'session_id',\n",
       " 'wait_on_rate_limit',\n",
       " 'debug',\n",
       " 'cache',\n",
       " 'cached_request',\n",
       " 'cache_clear',\n",
       " '_request_obj',\n",
       " '__dict__',\n",
       " '__weakref__',\n",
       " '__new__',\n",
       " '__repr__',\n",
       " '__hash__',\n",
       " '__str__',\n",
       " '__getattribute__',\n",
       " '__setattr__',\n",
       " '__delattr__',\n",
       " '__lt__',\n",
       " '__le__',\n",
       " '__eq__',\n",
       " '__ne__',\n",
       " '__gt__',\n",
       " '__ge__',\n",
       " '__reduce_ex__',\n",
       " '__reduce__',\n",
       " '__getstate__',\n",
       " '__subclasshook__',\n",
       " '__init_subclass__',\n",
       " '__format__',\n",
       " '__sizeof__',\n",
       " '__dir__',\n",
       " '__class__']"
      ]
     },
     "execution_count": 7,
     "metadata": {},
     "output_type": "execute_result"
    }
   ],
   "source": [
    "find.__dir__()"
   ]
  },
  {
   "cell_type": "code",
   "execution_count": 8,
   "id": "c7457de8-4744-454c-a5f6-0df89426782d",
   "metadata": {},
   "outputs": [
    {
     "data": {
      "text/plain": [
       "{'movie_results': [{'backdrop_path': '/c7Mjuip0jfHLY7x8ZSEriRj45cu.jpg', 'id': 85, 'title': 'Raiders of the Lost Ark', 'original_title': 'Raiders of the Lost Ark', 'overview': 'When Dr. Indiana Jones – the tweed-suited professor who just happens to be a celebrated archaeologist – is hired by the government to locate the legendary Ark of the Covenant, he finds himself up against the entire Nazi regime.', 'poster_path': '/ceG9VzoRAVGwivFU403Wc3AHRys.jpg', 'media_type': 'movie', 'adult': False, 'original_language': 'en', 'genre_ids': [12, 28], 'popularity': 51.405, 'release_date': '1981-06-12', 'video': False, 'vote_average': 7.928, 'vote_count': 12342}], 'person_results': {}, 'tv_results': {}, 'tv_episode_results': {}, 'tv_season_results': {}}"
      ]
     },
     "execution_count": 8,
     "metadata": {},
     "output_type": "execute_result"
    }
   ],
   "source": [
    "find.find_by_imdb_id('tt0082971')"
   ]
  },
  {
   "cell_type": "code",
   "execution_count": 11,
   "id": "a7b881a9-39a7-490f-a6c8-b2fdb39ef3b7",
   "metadata": {},
   "outputs": [
    {
     "data": {
      "text/plain": [
       "['_json',\n",
       " '_key',\n",
       " '_dict_key',\n",
       " '_dict_key_name',\n",
       " '_obj_list',\n",
       " '_list_only',\n",
       " 'adult',\n",
       " 'backdrop_path',\n",
       " 'belongs_to_collection',\n",
       " 'budget',\n",
       " 'genres',\n",
       " 'homepage',\n",
       " 'id',\n",
       " 'imdb_id',\n",
       " 'origin_country',\n",
       " 'original_language',\n",
       " 'original_title',\n",
       " 'overview',\n",
       " 'popularity',\n",
       " 'poster_path',\n",
       " 'production_companies',\n",
       " 'production_countries',\n",
       " 'release_date',\n",
       " 'revenue',\n",
       " 'runtime',\n",
       " 'spoken_languages',\n",
       " 'status',\n",
       " 'tagline',\n",
       " 'title',\n",
       " 'video',\n",
       " 'vote_average',\n",
       " 'vote_count',\n",
       " 'videos',\n",
       " 'trailers',\n",
       " 'images',\n",
       " 'casts',\n",
       " 'translations',\n",
       " 'keywords',\n",
       " 'release_dates',\n",
       " '__module__',\n",
       " '__init__',\n",
       " '_dict',\n",
       " '__delitem__',\n",
       " '__getitem__',\n",
       " '__iter__',\n",
       " '__len__',\n",
       " '__repr__',\n",
       " '__setitem__',\n",
       " '__str__',\n",
       " '__reversed__',\n",
       " '__class_getitem__',\n",
       " '__ior__',\n",
       " '__or__',\n",
       " 'copy',\n",
       " 'get',\n",
       " 'items',\n",
       " 'keys',\n",
       " 'pop',\n",
       " 'popitem',\n",
       " 'setdefault',\n",
       " 'update',\n",
       " 'values',\n",
       " '__dict__',\n",
       " '__weakref__',\n",
       " '__doc__',\n",
       " '__new__',\n",
       " '__hash__',\n",
       " '__getattribute__',\n",
       " '__setattr__',\n",
       " '__delattr__',\n",
       " '__lt__',\n",
       " '__le__',\n",
       " '__eq__',\n",
       " '__ne__',\n",
       " '__gt__',\n",
       " '__ge__',\n",
       " '__reduce_ex__',\n",
       " '__reduce__',\n",
       " '__getstate__',\n",
       " '__subclasshook__',\n",
       " '__init_subclass__',\n",
       " '__format__',\n",
       " '__sizeof__',\n",
       " '__dir__',\n",
       " '__class__']"
      ]
     },
     "execution_count": 11,
     "metadata": {},
     "output_type": "execute_result"
    }
   ],
   "source": [
    "movie.details(85).__dir__()"
   ]
  },
  {
   "cell_type": "code",
   "execution_count": 5,
   "id": "e0d2bccf-be3b-460d-8096-493a60cca310",
   "metadata": {},
   "outputs": [
    {
     "data": {
      "text/plain": [
       "115"
      ]
     },
     "execution_count": 5,
     "metadata": {},
     "output_type": "execute_result"
    }
   ],
   "source": [
    "movie.details(85).runtime"
   ]
  },
  {
   "cell_type": "code",
   "execution_count": 6,
   "id": "eccccf1e-6859-44cb-b3c0-bd7a2afd6e15",
   "metadata": {},
   "outputs": [
    {
     "data": {
      "text/plain": [
       "'1981-06-12'"
      ]
     },
     "execution_count": 6,
     "metadata": {},
     "output_type": "execute_result"
    }
   ],
   "source": [
    "movie.details(85).release_date"
   ]
  },
  {
   "cell_type": "code",
   "execution_count": 9,
   "id": "8bda3cec-dc77-44ce-a179-bd8a47b2b7c9",
   "metadata": {},
   "outputs": [
    {
     "data": {
      "text/plain": [
       "389925971"
      ]
     },
     "execution_count": 9,
     "metadata": {},
     "output_type": "execute_result"
    }
   ],
   "source": [
    "movie.details(85).revenue"
   ]
  },
  {
   "cell_type": "code",
   "execution_count": 27,
   "id": "d565b65c-0693-4be6-8a2a-97f1215563f8",
   "metadata": {},
   "outputs": [
    {
     "name": "stdout",
     "output_type": "stream",
     "text": [
      "{'page': 1, 'results': {}, 'total_pages': 1, 'total_results': 0}\n"
     ]
    }
   ],
   "source": [
    "movies = movie.search('')\n",
    "print(movies)"
   ]
  },
  {
   "cell_type": "code",
   "execution_count": null,
   "id": "bcc03024-bbc1-4685-8af0-789469408ff2",
   "metadata": {},
   "outputs": [],
   "source": []
  }
 ],
 "metadata": {
  "kernelspec": {
   "display_name": "Python [conda env:ada] *",
   "language": "python",
   "name": "conda-env-ada-py"
  },
  "language_info": {
   "codemirror_mode": {
    "name": "ipython",
    "version": 3
   },
   "file_extension": ".py",
   "mimetype": "text/x-python",
   "name": "python",
   "nbconvert_exporter": "python",
   "pygments_lexer": "ipython3",
   "version": "3.11.10"
  }
 },
 "nbformat": 4,
 "nbformat_minor": 5
}
