{
 "cells": [
  {
   "cell_type": "code",
   "execution_count": 1,
   "id": "be63e847-457f-4132-939f-6b1d2f72a791",
   "metadata": {},
   "outputs": [
    {
     "data": {
      "text/plain": [
       "'\\nFile name: cleaning_data.py\\nAuthor: ImportNumpyAsPd\\nDate created: 05/11/2024\\nDate last modified: 05/11/2024\\n'"
      ]
     },
     "execution_count": 1,
     "metadata": {},
     "output_type": "execute_result"
    }
   ],
   "source": [
    "\"\"\"\n",
    "File name: cleaning_data.py\n",
    "Author: ImportNumpyAsPd\n",
    "Date created: 05/11/2024\n",
    "Date last modified: 05/11/2024\n",
    "\"\"\"\n",
    "#fichier final "
   ]
  },
  {
   "cell_type": "code",
   "execution_count": 2,
   "id": "2c9ecec4-33e9-418f-97cd-76adc2e7ce65",
   "metadata": {},
   "outputs": [],
   "source": [
    "# some basic imports\n",
    "import os\n",
    "import pandas as pd\n",
    "import numpy as np"
   ]
  },
  {
   "cell_type": "code",
   "execution_count": 3,
   "id": "b5c45901-d5cf-40f7-b83e-39aa483cf40b",
   "metadata": {},
   "outputs": [],
   "source": [
    "#path data \n",
    "data_path_CMU = './CMU/'\n",
    "data_path_IMDb = './IMDb/'\n",
    "\n",
    "#Names of columns for the data CMU\n",
    "NAMES_MOVIES = ['Wikipedia_movie_ID','Freebase_movie_ID','Movie_name','Movie_release_date','Movie_box_office_revenue','Movie_runtime','Movie_languages','Movie_countries','Movie_genres']\n",
    "NAMES_CHARACTER = ['Character_Name','Actor_DOB','Actor_gender','Actor_height','Actor_ethnicity','Actor_Name','Actor_age_at_movie_release','Freebase_character_actor_map_ID', 'Freebase_character_ID', 'Freebase_actor_ID']\n",
    "\n",
    "#Names of columns for the data IMDb\n",
    "NAMES_BASICS = ['IMDb_director_ID', 'Name_of_the_director']\n",
    "NAMES_BASICS_2 = ['IMDb_title_ID', 'Type', 'Primary_title', 'Original_title']\n",
    "NAMES_CREW = ['IMDb_title_ID','IMDb_director_ID', 'IMDb_writers_ID']\n",
    "NAMES_NEW = ['IMDb_title_ID', 'Release_date','Runtime']\n",
    "\n",
    "#Read data CMU \n",
    "df_CMU_character = pd.read_csv(data_path_CMU+'character.metadata.tsv', sep='\\t', names = NAMES_CHARACTER, header = None)\n",
    "df_CMU_movies = pd.read_csv(data_path_CMU+'movie.metadata.tsv', sep='\\t', names = NAMES_MOVIES, header = None)\n",
    "\n",
    "#Read data IMDb\n",
    "df_IMDb_name = pd.read_csv(data_path_IMDb+'name.basics_Movie.tsv', sep='\\t', names = NAMES_BASICS, header = None)\n",
    "df_IMDb_basics = pd.read_csv(data_path_IMDb+'title.basics_Movie.tsv', sep='\\t', names = NAMES_BASICS_2, header = None)\n",
    "df_IMDb_crew = pd.read_csv(data_path_IMDb+'title.crew_Movie.tsv', sep='\\t', names = NAMES_CREW, header = None)\n",
    "df_IMDb_ratings = pd.read_csv(data_path_IMDb+'title.ratings.tsv', sep='\\t')\n",
    "df_IMDb_ratings.rename(columns={'tconst': 'IMDb_title_ID'}, inplace=True)\n",
    "df_IMDb_new = pd.read_csv(data_path_IMDb+'title.basics_Thomas.tsv', sep='\\t', names = NAMES_NEW, header = None)"
   ]
  },
  {
   "cell_type": "code",
   "execution_count": 4,
   "id": "20248934-72ff-4f52-a716-389fa9660fba",
   "metadata": {},
   "outputs": [],
   "source": [
    "#Name of the datasets\n",
    "datasets = ['df_CMU_character','df_CMU_movies','df_IMDb_name','df_IMDb_basics','df_IMDb_crew',\n",
    "            'df_IMDb_ratings', 'df_IMDb_new']\n",
    "#Make it a dictionary\n",
    "df_all = {'df_CMU_character': df_CMU_character,'df_CMU_movies': df_CMU_movies,\n",
    "          'df_IMDb_name': df_IMDb_name,'df_IMDb_basics': df_IMDb_basics,\n",
    "          'df_IMDb_crew': df_IMDb_crew,'df_IMDb_ratings': df_IMDb_ratings,'df_IMDb_new':df_IMDb_new}"
   ]
  },
  {
   "cell_type": "code",
   "execution_count": 5,
   "id": "020bbe5b-b482-4d3a-8269-353ea8deab11",
   "metadata": {},
   "outputs": [],
   "source": [
    "# before cleaning the data, first look in detail to data"
   ]
  },
  {
   "cell_type": "code",
   "execution_count": 6,
   "id": "e23bc28b-6a09-4c20-a1f5-fdc30733118c",
   "metadata": {},
   "outputs": [
    {
     "name": "stdout",
     "output_type": "stream",
     "text": [
      "Name of the dataframe : df_CMU_character, its size : 4506690, its shape : (450669, 10)\n",
      "Name of the dataframe : df_CMU_movies, its size : 735669, its shape : (81741, 9)\n",
      "Name of the dataframe : df_IMDb_name, its size : 413024, its shape : (206512, 2)\n",
      "Name of the dataframe : df_IMDb_basics, its size : 2783768, its shape : (695942, 4)\n",
      "Name of the dataframe : df_IMDb_crew, its size : 2039205, its shape : (679735, 3)\n",
      "Name of the dataframe : df_IMDb_ratings, its size : 4480260, its shape : (1493420, 3)\n",
      "Name of the dataframe : df_IMDb_new, its size : 2088990, its shape : (696330, 3)\n"
     ]
    }
   ],
   "source": [
    "# printing the size and shape of the different dataframes :\n",
    "for name, df_i in df_all.items():\n",
    "    print(f\"Name of the dataframe : {name}, its size : {df_i.size}, its shape : {df_i.shape}\")"
   ]
  },
  {
   "cell_type": "code",
   "execution_count": 7,
   "id": "00f73944-298c-4988-a336-8c9cf4460717",
   "metadata": {},
   "outputs": [
    {
     "name": "stdout",
     "output_type": "stream",
     "text": [
      "Types in the dataframe: df_CMU_character\n",
      "Character_Name                      object\n",
      "Actor_DOB                           object\n",
      "Actor_gender                        object\n",
      "Actor_height                       float64\n",
      "Actor_ethnicity                     object\n",
      "Actor_Name                          object\n",
      "Actor_age_at_movie_release         float64\n",
      "Freebase_character_actor_map_ID     object\n",
      "Freebase_character_ID               object\n",
      "Freebase_actor_ID                   object\n",
      "dtype: object\n",
      "-----------------------------------------\n",
      "Types in the dataframe: df_CMU_movies\n",
      "Wikipedia_movie_ID            int64\n",
      "Freebase_movie_ID            object\n",
      "Movie_name                   object\n",
      "Movie_release_date           object\n",
      "Movie_box_office_revenue    float64\n",
      "Movie_runtime               float64\n",
      "Movie_languages              object\n",
      "Movie_countries              object\n",
      "Movie_genres                 object\n",
      "dtype: object\n",
      "-----------------------------------------\n",
      "Types in the dataframe: df_IMDb_name\n",
      "IMDb_director_ID        object\n",
      "Name_of_the_director    object\n",
      "dtype: object\n",
      "-----------------------------------------\n",
      "Types in the dataframe: df_IMDb_basics\n",
      "IMDb_title_ID     object\n",
      "Type              object\n",
      "Primary_title     object\n",
      "Original_title    object\n",
      "dtype: object\n",
      "-----------------------------------------\n",
      "Types in the dataframe: df_IMDb_crew\n",
      "IMDb_title_ID       object\n",
      "IMDb_director_ID    object\n",
      "IMDb_writers_ID     object\n",
      "dtype: object\n",
      "-----------------------------------------\n",
      "Types in the dataframe: df_IMDb_ratings\n",
      "IMDb_title_ID     object\n",
      "averageRating    float64\n",
      "numVotes           int64\n",
      "dtype: object\n",
      "-----------------------------------------\n",
      "Types in the dataframe: df_IMDb_new\n",
      "IMDb_title_ID    object\n",
      "Release_date     object\n",
      "Runtime          object\n",
      "dtype: object\n",
      "-----------------------------------------\n"
     ]
    }
   ],
   "source": [
    "# printing the type in the different dataframes : \n",
    "for name, df_i in df_all.items():\n",
    "    print(f\"Types in the dataframe: {name}\")\n",
    "    print(df_i.dtypes)\n",
    "    print(\"-----------------------------------------\")"
   ]
  },
  {
   "cell_type": "code",
   "execution_count": 8,
   "id": "4604cce0-1315-4dff-a1af-435a787ad105",
   "metadata": {},
   "outputs": [
    {
     "name": "stdout",
     "output_type": "stream",
     "text": [
      "Look for any NaN values\n",
      "Name of the dataframe : df_CMU_character\n",
      "Character_Name                     257875\n",
      "Actor_DOB                          106145\n",
      "Actor_gender                        45609\n",
      "Actor_height                       295845\n",
      "Actor_ethnicity                    344611\n",
      "Actor_Name                           1228\n",
      "Actor_age_at_movie_release         158113\n",
      "Freebase_character_actor_map_ID         0\n",
      "Freebase_character_ID              257865\n",
      "Freebase_actor_ID                     815\n",
      "dtype: int64\n",
      "----------------------\n",
      "Name of the dataframe : df_CMU_movies\n",
      "Wikipedia_movie_ID              0\n",
      "Freebase_movie_ID               0\n",
      "Movie_name                      0\n",
      "Movie_release_date           6902\n",
      "Movie_box_office_revenue    73340\n",
      "Movie_runtime               20450\n",
      "Movie_languages                 0\n",
      "Movie_countries                 0\n",
      "Movie_genres                    0\n",
      "dtype: int64\n",
      "----------------------\n",
      "Name of the dataframe : df_IMDb_name\n",
      "IMDb_director_ID        0\n",
      "Name_of_the_director    0\n",
      "dtype: int64\n",
      "----------------------\n",
      "Name of the dataframe : df_IMDb_basics\n",
      "IMDb_title_ID     0\n",
      "Type              0\n",
      "Primary_title     2\n",
      "Original_title    2\n",
      "dtype: int64\n",
      "----------------------\n",
      "Name of the dataframe : df_IMDb_crew\n",
      "IMDb_title_ID       0\n",
      "IMDb_director_ID    0\n",
      "IMDb_writers_ID     0\n",
      "dtype: int64\n",
      "----------------------\n",
      "Name of the dataframe : df_IMDb_ratings\n",
      "IMDb_title_ID    0\n",
      "averageRating    0\n",
      "numVotes         0\n",
      "dtype: int64\n",
      "----------------------\n",
      "Name of the dataframe : df_IMDb_new\n",
      "IMDb_title_ID    0\n",
      "Release_date     0\n",
      "Runtime          0\n",
      "dtype: int64\n",
      "----------------------\n"
     ]
    }
   ],
   "source": [
    "# look for any NaN values\n",
    "print(\"Look for any NaN values\")\n",
    "for name, df_i in df_all.items():\n",
    "    print(f\"Name of the dataframe : {name}\")\n",
    "    print(df_i.isnull().sum())\n",
    "    print(\"----------------------\")"
   ]
  },
  {
   "cell_type": "code",
   "execution_count": 9,
   "id": "8368e0ed-bb34-4926-9fd8-f270c38293a1",
   "metadata": {},
   "outputs": [
    {
     "name": "stdout",
     "output_type": "stream",
     "text": [
      "Looking for strange outcome in df_IMDb_name dataset\n",
      "Index(['Broken', 'Home', 'Alone', 'Mother', 'Trapped', 'Homecoming', 'Hamlet',\n",
      "       'Paradise', 'Love', 'Untitled',\n",
      "       ...\n",
      "       'Al eeteraf al akhir', 'Dreams Awake', 'Viking Warrior Women',\n",
      "       'Csillag a máglyán', 'La colo', 'Il canto di Circe', 'Butch Jamie',\n",
      "       'Buried in Tucson', 'The Big Year', 'Chico Albuquerque - Revelações'],\n",
      "      dtype='object', name='Primary_title', length=598900)\n"
     ]
    }
   ],
   "source": [
    "#The fact the IMDb datasets do not have any NaN is strange, \n",
    "#for df_IMDb_name and df_IMDb_crew it is normal, since ID is unique\n",
    "#for df_IMDb_basics, its seem that there is NaN value where it should be, just very low\n",
    "#let's have a look\n",
    "print(\"Looking for strange outcome in df_IMDb_name dataset\")\n",
    "i = df_IMDb_basics.Primary_title.value_counts()\n",
    "print(i.index)"
   ]
  },
  {
   "cell_type": "code",
   "execution_count": 10,
   "id": "0aedb7f3-991d-4cab-b062-5d6eeb254c16",
   "metadata": {},
   "outputs": [
    {
     "name": "stdout",
     "output_type": "stream",
     "text": [
      "Looking for strange outcome in df_IMDb_ratings dataset\n",
      "see averageRatings column\n",
      "Index([ 7.2,  7.4,  7.6,  7.8,  7.0,  7.5,  7.3,  8.0,  6.8,  7.7,  7.1,  7.9,\n",
      "        8.2,  6.6,  6.9,  6.7,  8.1,  6.4,  6.2,  6.5,  6.3,  6.0,  8.3,  8.4,\n",
      "        5.8,  6.1,  8.5,  8.6,  5.9,  5.6,  5.7,  8.7,  8.8,  5.4,  5.5,  5.2,\n",
      "        5.3,  9.0,  5.0,  8.9,  5.1,  4.8,  9.2,  9.1,  4.9,  4.6,  4.7,  4.4,\n",
      "        9.4,  4.5,  4.2,  9.3, 10.0,  4.3,  4.0,  4.1,  9.6,  9.5,  3.8,  3.9,\n",
      "        3.6,  3.7,  9.8,  9.7,  3.4,  3.5,  3.2,  3.3,  3.0,  3.1,  2.8,  9.9,\n",
      "        2.9,  2.7,  1.0,  2.6,  2.5,  2.4,  2.3,  2.2,  2.0,  2.1,  1.8,  1.9,\n",
      "        1.7,  1.5,  1.2,  1.6,  1.4,  1.3,  1.1],\n",
      "      dtype='float64', name='averageRating')\n",
      "-----------------------\n",
      "numVotes column\n",
      "Index([     7,      8,      9,      6,     10,     11,     12,     13,      5,\n",
      "           14,\n",
      "       ...\n",
      "        45291,  14961,  28910, 107406, 102425,  50145,  45412, 269095,  25650,\n",
      "       138123],\n",
      "      dtype='int64', name='numVotes', length=22727)\n"
     ]
    }
   ],
   "source": [
    "#looks okay\n",
    "#now for df_IMDb_ratings\n",
    "print(\"Looking for strange outcome in df_IMDb_ratings dataset\")\n",
    "a = df_IMDb_ratings.averageRating.value_counts()\n",
    "b = df_IMDb_ratings.numVotes.value_counts()\n",
    "print(\"see averageRatings column\")\n",
    "print(a.index)\n",
    "print(\"-----------------------\")\n",
    "print(\"numVotes column\")\n",
    "print(b.index)\n"
   ]
  },
  {
   "cell_type": "code",
   "execution_count": 11,
   "id": "bfc7eb2a-7e58-4b0e-aae3-6ca2012a0781",
   "metadata": {},
   "outputs": [
    {
     "name": "stdout",
     "output_type": "stream",
     "text": [
      "Looking for strange outcome in df_IMDb_new dataset\n",
      "see averageRatings column\n",
      "Index(['\\N', '2022', '2023', '2018', '2019', '2017', '2021', '2016', '2015',\n",
      "       '2014',\n",
      "       ...\n",
      "       '2029', '1903', '1902', '1897', '1904', '2030', '1894', '1896', '2028',\n",
      "       '2031'],\n",
      "      dtype='object', name='Release_date', length=138)\n",
      "-----------------------\n",
      "numVotes column\n",
      "Index(['\\N', '90', '80', '60', '85', '95', '100', '88', '92', '93',\n",
      "       ...\n",
      "       '950', '468', '1320', '435', '28643', '1325', '384', '570', '368',\n",
      "       '990'],\n",
      "      dtype='object', name='Runtime', length=519)\n"
     ]
    }
   ],
   "source": [
    "#dtype are int or float, looks good\n",
    "#now lets see df_IMDb_new\n",
    "print(\"Looking for strange outcome in df_IMDb_new dataset\")\n",
    "c = df_IMDb_new.Release_date.value_counts()\n",
    "d = df_IMDb_new.Runtime.value_counts()\n",
    "print(\"see averageRatings column\")\n",
    "print(c.index)\n",
    "print(\"-----------------------\")\n",
    "print(\"numVotes column\")\n",
    "print(d.index)\n"
   ]
  },
  {
   "cell_type": "code",
   "execution_count": 12,
   "id": "eab780b3-75fe-4114-a215-b26df09c2c25",
   "metadata": {},
   "outputs": [],
   "source": [
    "# oh oh, we have dtype = object, where it should be int or float here, \n",
    "# and we see that there is \\N that appears in the index -> looks like \"false\" NaN values, \n",
    "# so lets replace them by reel NaN values\n",
    "\n",
    "# replace \\N with NaN in df_IMDb_new\n",
    "df_IMDb_new.replace(to_replace='\\\\N', value=np.nan, inplace=True)"
   ]
  },
  {
   "cell_type": "code",
   "execution_count": 13,
   "id": "f959e4ef-f63c-44c9-b009-bd809926a3ae",
   "metadata": {},
   "outputs": [
    {
     "name": "stdout",
     "output_type": "stream",
     "text": [
      "IMDb_title_ID         0\n",
      "Release_date     101163\n",
      "Runtime          257955\n",
      "dtype: int64\n"
     ]
    }
   ],
   "source": [
    "# Did it worked ?\n",
    "print(df_IMDb_new.isnull().sum())"
   ]
  },
  {
   "cell_type": "code",
   "execution_count": 14,
   "id": "a53cdf05-d9fa-4175-bfcb-90b9bd3ec87b",
   "metadata": {},
   "outputs": [],
   "source": [
    "# Now, we can work on the data"
   ]
  },
  {
   "cell_type": "code",
   "execution_count": 15,
   "id": "01238632-e37c-4860-a201-9dba1fb3704a",
   "metadata": {},
   "outputs": [
    {
     "data": {
      "text/html": [
       "<div>\n",
       "<style scoped>\n",
       "    .dataframe tbody tr th:only-of-type {\n",
       "        vertical-align: middle;\n",
       "    }\n",
       "\n",
       "    .dataframe tbody tr th {\n",
       "        vertical-align: top;\n",
       "    }\n",
       "\n",
       "    .dataframe thead th {\n",
       "        text-align: right;\n",
       "    }\n",
       "</style>\n",
       "<table border=\"1\" class=\"dataframe\">\n",
       "  <thead>\n",
       "    <tr style=\"text-align: right;\">\n",
       "      <th></th>\n",
       "      <th>Wikipedia_movie_ID</th>\n",
       "      <th>Freebase_movie_ID</th>\n",
       "      <th>Movie_name</th>\n",
       "      <th>Movie_release_date</th>\n",
       "      <th>Movie_box_office_revenue</th>\n",
       "      <th>Movie_runtime</th>\n",
       "      <th>Movie_languages</th>\n",
       "      <th>Movie_countries</th>\n",
       "      <th>Movie_genres</th>\n",
       "    </tr>\n",
       "  </thead>\n",
       "  <tbody>\n",
       "  </tbody>\n",
       "</table>\n",
       "</div>"
      ],
      "text/plain": [
       "Empty DataFrame\n",
       "Columns: [Wikipedia_movie_ID, Freebase_movie_ID, Movie_name, Movie_release_date, Movie_box_office_revenue, Movie_runtime, Movie_languages, Movie_countries, Movie_genres]\n",
       "Index: []"
      ]
     },
     "execution_count": 15,
     "metadata": {},
     "output_type": "execute_result"
    }
   ],
   "source": [
    "# 1) \n",
    "# Let's cut a little bit our huge IMDb datasets\n",
    "# First, we see that there is no movies in CMU that are above 2016 \n",
    "df_CMU_movies[df_CMU_movies['Movie_release_date']>='2017']"
   ]
  },
  {
   "cell_type": "code",
   "execution_count": 16,
   "id": "a0dfcfaf-4c8b-4e31-a087-e4ce02f369a7",
   "metadata": {},
   "outputs": [
    {
     "name": "stdout",
     "output_type": "stream",
     "text": [
      "We have deleted : 253208 nbr of rows\n"
     ]
    }
   ],
   "source": [
    "# So, lets cut IMDb_new for any movies above 2016\n",
    "df_IMDb_date = df_IMDb_new[df_IMDb_new['Release_date']<='2016']\n",
    "print(f\"We have deleted : {df_IMDb_new.Release_date.shape[0] - df_IMDb_date.Release_date.shape[0]} nbr of rows\")"
   ]
  },
  {
   "cell_type": "code",
   "execution_count": 17,
   "id": "f19923db-68e7-47db-b499-b52a60a8d3d2",
   "metadata": {},
   "outputs": [
    {
     "name": "stdout",
     "output_type": "stream",
     "text": [
      "90\n",
      "252910\n",
      "Are they any duplicates ? If true it means no duplicated : True\n"
     ]
    }
   ],
   "source": [
    "# 2) \n",
    "# Now, lets merge IMDb_date with IMDb_basics\n",
    "\n",
    "# merge on IMDb title ID (by default)\n",
    "df_IMDb_big = pd.merge(df_IMDb_date, df_IMDb_basics)\n",
    "print(df_IMDb_date.shape[0]-df_IMDb_big.shape[0])\n",
    "print(df_IMDb_basics.shape[0]-df_IMDb_big.shape[0])\n",
    "print(f\"Are they any duplicates ? If true it means no duplicated : {df_IMDb_big['IMDb_title_ID'].is_unique}\")"
   ]
  },
  {
   "cell_type": "code",
   "execution_count": 18,
   "id": "04f3a930-171a-4aaf-aca3-8217b1f48668",
   "metadata": {},
   "outputs": [],
   "source": [
    "# See that we have lost a reasonable amount of film \n",
    "# the fact that the two dataset have not been downloaded at the same time \n",
    "# explains why 90+252910 != 253208"
   ]
  },
  {
   "cell_type": "code",
   "execution_count": 19,
   "id": "ee83febb-10a7-4e19-903e-a5e36c3f9a9d",
   "metadata": {},
   "outputs": [
    {
     "data": {
      "text/html": [
       "<div>\n",
       "<style scoped>\n",
       "    .dataframe tbody tr th:only-of-type {\n",
       "        vertical-align: middle;\n",
       "    }\n",
       "\n",
       "    .dataframe tbody tr th {\n",
       "        vertical-align: top;\n",
       "    }\n",
       "\n",
       "    .dataframe thead th {\n",
       "        text-align: right;\n",
       "    }\n",
       "</style>\n",
       "<table border=\"1\" class=\"dataframe\">\n",
       "  <thead>\n",
       "    <tr style=\"text-align: right;\">\n",
       "      <th></th>\n",
       "      <th>IMDb_title_ID</th>\n",
       "      <th>Release_date</th>\n",
       "      <th>Runtime</th>\n",
       "      <th>Type</th>\n",
       "      <th>Primary_title</th>\n",
       "      <th>Original_title</th>\n",
       "    </tr>\n",
       "  </thead>\n",
       "  <tbody>\n",
       "    <tr>\n",
       "      <th>257517</th>\n",
       "      <td>tt1340791</td>\n",
       "      <td>2010</td>\n",
       "      <td>98</td>\n",
       "      <td>movie</td>\n",
       "      <td>Regresa</td>\n",
       "      <td>Regresa</td>\n",
       "    </tr>\n",
       "    <tr>\n",
       "      <th>293344</th>\n",
       "      <td>tt1781064</td>\n",
       "      <td>2000</td>\n",
       "      <td>170</td>\n",
       "      <td>movie</td>\n",
       "      <td>X Factor</td>\n",
       "      <td>X Factor</td>\n",
       "    </tr>\n",
       "    <tr>\n",
       "      <th>403894</th>\n",
       "      <td>tt5255710</td>\n",
       "      <td>2016</td>\n",
       "      <td>154</td>\n",
       "      <td>movie</td>\n",
       "      <td>Sanam Teri Kasam</td>\n",
       "      <td>Sanam Teri Kasam</td>\n",
       "    </tr>\n",
       "    <tr>\n",
       "      <th>243149</th>\n",
       "      <td>tt1189061</td>\n",
       "      <td>1966</td>\n",
       "      <td>104</td>\n",
       "      <td>movie</td>\n",
       "      <td>Kuai lo qing chun</td>\n",
       "      <td>Kuai lo qing chun</td>\n",
       "    </tr>\n",
       "    <tr>\n",
       "      <th>269200</th>\n",
       "      <td>tt1451794</td>\n",
       "      <td>2009</td>\n",
       "      <td>72</td>\n",
       "      <td>movie</td>\n",
       "      <td>Gay Days</td>\n",
       "      <td>Hazman havarod</td>\n",
       "    </tr>\n",
       "  </tbody>\n",
       "</table>\n",
       "</div>"
      ],
      "text/plain": [
       "       IMDb_title_ID Release_date Runtime   Type      Primary_title  \\\n",
       "257517     tt1340791         2010      98  movie            Regresa   \n",
       "293344     tt1781064         2000     170  movie           X Factor   \n",
       "403894     tt5255710         2016     154  movie   Sanam Teri Kasam   \n",
       "243149     tt1189061         1966     104  movie  Kuai lo qing chun   \n",
       "269200     tt1451794         2009      72  movie           Gay Days   \n",
       "\n",
       "           Original_title  \n",
       "257517            Regresa  \n",
       "293344           X Factor  \n",
       "403894   Sanam Teri Kasam  \n",
       "243149  Kuai lo qing chun  \n",
       "269200     Hazman havarod  "
      ]
     },
     "execution_count": 19,
     "metadata": {},
     "output_type": "execute_result"
    }
   ],
   "source": [
    "df_IMDb_big.sample(5)"
   ]
  },
  {
   "cell_type": "code",
   "execution_count": 20,
   "id": "e05bde87-a382-4d97-bfe3-6969ca698090",
   "metadata": {},
   "outputs": [
    {
     "data": {
      "text/plain": [
       "Type\n",
       "movie    443032\n",
       "Name: count, dtype: int64"
      ]
     },
     "execution_count": 20,
     "metadata": {},
     "output_type": "execute_result"
    }
   ],
   "source": [
    "df_IMDb_big['Type'].value_counts()"
   ]
  },
  {
   "cell_type": "code",
   "execution_count": 21,
   "id": "86de26f8-9023-44d4-947e-73c42630fec2",
   "metadata": {},
   "outputs": [
    {
     "data": {
      "text/html": [
       "<div>\n",
       "<style scoped>\n",
       "    .dataframe tbody tr th:only-of-type {\n",
       "        vertical-align: middle;\n",
       "    }\n",
       "\n",
       "    .dataframe tbody tr th {\n",
       "        vertical-align: top;\n",
       "    }\n",
       "\n",
       "    .dataframe thead th {\n",
       "        text-align: right;\n",
       "    }\n",
       "</style>\n",
       "<table border=\"1\" class=\"dataframe\">\n",
       "  <thead>\n",
       "    <tr style=\"text-align: right;\">\n",
       "      <th></th>\n",
       "      <th>IMDb_title_ID</th>\n",
       "      <th>Release_date</th>\n",
       "      <th>Runtime</th>\n",
       "      <th>Primary_title</th>\n",
       "      <th>Original_title</th>\n",
       "    </tr>\n",
       "  </thead>\n",
       "  <tbody>\n",
       "    <tr>\n",
       "      <th>212431</th>\n",
       "      <td>tt0493601</td>\n",
       "      <td>1942</td>\n",
       "      <td>NaN</td>\n",
       "      <td>Les coulisses de la radio</td>\n",
       "      <td>Les coulisses de la radio</td>\n",
       "    </tr>\n",
       "    <tr>\n",
       "      <th>363774</th>\n",
       "      <td>tt33543124</td>\n",
       "      <td>2012</td>\n",
       "      <td>NaN</td>\n",
       "      <td>Amen</td>\n",
       "      <td>Amen</td>\n",
       "    </tr>\n",
       "    <tr>\n",
       "      <th>10286</th>\n",
       "      <td>tt0017563</td>\n",
       "      <td>1926</td>\n",
       "      <td>50</td>\n",
       "      <td>The Windjammer</td>\n",
       "      <td>The Windjammer</td>\n",
       "    </tr>\n",
       "    <tr>\n",
       "      <th>232374</th>\n",
       "      <td>tt10767318</td>\n",
       "      <td>2012</td>\n",
       "      <td>90</td>\n",
       "      <td>Newcastle United F.C. vs Tottenham Hotspur Foo...</td>\n",
       "      <td>Newcastle United F.C. vs Tottenham Hotspur Foo...</td>\n",
       "    </tr>\n",
       "    <tr>\n",
       "      <th>362329</th>\n",
       "      <td>tt3318750</td>\n",
       "      <td>2014</td>\n",
       "      <td>92</td>\n",
       "      <td>Adult Beginners</td>\n",
       "      <td>Adult Beginners</td>\n",
       "    </tr>\n",
       "  </tbody>\n",
       "</table>\n",
       "</div>"
      ],
      "text/plain": [
       "       IMDb_title_ID Release_date Runtime  \\\n",
       "212431     tt0493601         1942     NaN   \n",
       "363774    tt33543124         2012     NaN   \n",
       "10286      tt0017563         1926      50   \n",
       "232374    tt10767318         2012      90   \n",
       "362329     tt3318750         2014      92   \n",
       "\n",
       "                                            Primary_title  \\\n",
       "212431                          Les coulisses de la radio   \n",
       "363774                                               Amen   \n",
       "10286                                      The Windjammer   \n",
       "232374  Newcastle United F.C. vs Tottenham Hotspur Foo...   \n",
       "362329                                    Adult Beginners   \n",
       "\n",
       "                                           Original_title  \n",
       "212431                          Les coulisses de la radio  \n",
       "363774                                               Amen  \n",
       "10286                                      The Windjammer  \n",
       "232374  Newcastle United F.C. vs Tottenham Hotspur Foo...  \n",
       "362329                                    Adult Beginners  "
      ]
     },
     "execution_count": 21,
     "metadata": {},
     "output_type": "execute_result"
    }
   ],
   "source": [
    "# we can see that this column does not give any infos\n",
    "# we can delete it\n",
    "df_IMDb_big = df_IMDb_big.drop('Type', axis=1)\n",
    "df_IMDb_big.sample(5)"
   ]
  },
  {
   "cell_type": "code",
   "execution_count": 22,
   "id": "13d6a1f0-c79b-494b-9397-e0f7bc21d560",
   "metadata": {},
   "outputs": [],
   "source": [
    "# 3) Merge CMU movies with IMDb basic dataset\n",
    "\n",
    "# Here, we will try to merge them based on the movie names \n",
    "# Since the movies names can be different from both database due to ponctuation or \n",
    "# style of writings, lets first try to modify the title of both dataset"
   ]
  },
  {
   "cell_type": "code",
   "execution_count": 23,
   "id": "660871b9-2c68-484d-a5a8-518daade0421",
   "metadata": {},
   "outputs": [],
   "source": [
    "# Make a function for that\n",
    "\n",
    "# needed imports\n",
    "import string\n",
    "\n",
    "# Change title to put it in a other new column called \"Movie_title\"\n",
    "def change_title(df, title_column='Movie_name') : \n",
    "    table = str.maketrans('', '', string.punctuation) \n",
    "    #make sur everything is in string\n",
    "    df[title_column] = df[title_column].astype(str)\n",
    "    df['Movie_title'] = df[title_column].apply(lambda r: r.lower().translate(table).replace(' ',''))\n",
    "    return df"
   ]
  },
  {
   "cell_type": "code",
   "execution_count": 24,
   "id": "5a20a90b-e96c-4c1d-8b7e-07c009a50aba",
   "metadata": {},
   "outputs": [
    {
     "data": {
      "text/html": [
       "<div>\n",
       "<style scoped>\n",
       "    .dataframe tbody tr th:only-of-type {\n",
       "        vertical-align: middle;\n",
       "    }\n",
       "\n",
       "    .dataframe tbody tr th {\n",
       "        vertical-align: top;\n",
       "    }\n",
       "\n",
       "    .dataframe thead th {\n",
       "        text-align: right;\n",
       "    }\n",
       "</style>\n",
       "<table border=\"1\" class=\"dataframe\">\n",
       "  <thead>\n",
       "    <tr style=\"text-align: right;\">\n",
       "      <th></th>\n",
       "      <th>IMDb_title_ID</th>\n",
       "      <th>Release_date</th>\n",
       "      <th>Runtime</th>\n",
       "      <th>Primary_title</th>\n",
       "      <th>Original_title</th>\n",
       "      <th>Movie_title</th>\n",
       "    </tr>\n",
       "  </thead>\n",
       "  <tbody>\n",
       "    <tr>\n",
       "      <th>282521</th>\n",
       "      <td>tt1602617</td>\n",
       "      <td>2010</td>\n",
       "      <td>98</td>\n",
       "      <td>The Corridor</td>\n",
       "      <td>The Corridor</td>\n",
       "      <td>thecorridor</td>\n",
       "    </tr>\n",
       "    <tr>\n",
       "      <th>124537</th>\n",
       "      <td>tt0209143</td>\n",
       "      <td>1926</td>\n",
       "      <td>60</td>\n",
       "      <td>Mechanics of the Brain</td>\n",
       "      <td>Mekhanika golovnogo mozga</td>\n",
       "      <td>mechanicsofthebrain</td>\n",
       "    </tr>\n",
       "    <tr>\n",
       "      <th>338164</th>\n",
       "      <td>tt26812552</td>\n",
       "      <td>1997</td>\n",
       "      <td>46</td>\n",
       "      <td>Music: A Family Tradition</td>\n",
       "      <td>Music: A Family Tradition</td>\n",
       "      <td>musicafamilytradition</td>\n",
       "    </tr>\n",
       "    <tr>\n",
       "      <th>440527</th>\n",
       "      <td>tt9444892</td>\n",
       "      <td>1927</td>\n",
       "      <td>NaN</td>\n",
       "      <td>Oishi sezaemon</td>\n",
       "      <td>Oishi sezaemon</td>\n",
       "      <td>oishisezaemon</td>\n",
       "    </tr>\n",
       "    <tr>\n",
       "      <th>408112</th>\n",
       "      <td>tt5515896</td>\n",
       "      <td>2016</td>\n",
       "      <td>NaN</td>\n",
       "      <td>Love Say Hey</td>\n",
       "      <td>Love Say Hey</td>\n",
       "      <td>lovesayhey</td>\n",
       "    </tr>\n",
       "  </tbody>\n",
       "</table>\n",
       "</div>"
      ],
      "text/plain": [
       "       IMDb_title_ID Release_date Runtime              Primary_title  \\\n",
       "282521     tt1602617         2010      98               The Corridor   \n",
       "124537     tt0209143         1926      60     Mechanics of the Brain   \n",
       "338164    tt26812552         1997      46  Music: A Family Tradition   \n",
       "440527     tt9444892         1927     NaN             Oishi sezaemon   \n",
       "408112     tt5515896         2016     NaN               Love Say Hey   \n",
       "\n",
       "                   Original_title            Movie_title  \n",
       "282521               The Corridor            thecorridor  \n",
       "124537  Mekhanika golovnogo mozga    mechanicsofthebrain  \n",
       "338164  Music: A Family Tradition  musicafamilytradition  \n",
       "440527             Oishi sezaemon          oishisezaemon  \n",
       "408112               Love Say Hey             lovesayhey  "
      ]
     },
     "execution_count": 24,
     "metadata": {},
     "output_type": "execute_result"
    }
   ],
   "source": [
    "change_title(df_IMDb_big, 'Primary_title')\n",
    "df_IMDb_big.sample(5)"
   ]
  },
  {
   "cell_type": "code",
   "execution_count": 25,
   "id": "36b52f87-5383-453b-b61f-9c3511365baa",
   "metadata": {},
   "outputs": [
    {
     "data": {
      "text/html": [
       "<div>\n",
       "<style scoped>\n",
       "    .dataframe tbody tr th:only-of-type {\n",
       "        vertical-align: middle;\n",
       "    }\n",
       "\n",
       "    .dataframe tbody tr th {\n",
       "        vertical-align: top;\n",
       "    }\n",
       "\n",
       "    .dataframe thead th {\n",
       "        text-align: right;\n",
       "    }\n",
       "</style>\n",
       "<table border=\"1\" class=\"dataframe\">\n",
       "  <thead>\n",
       "    <tr style=\"text-align: right;\">\n",
       "      <th></th>\n",
       "      <th>Wikipedia_movie_ID</th>\n",
       "      <th>Freebase_movie_ID</th>\n",
       "      <th>Movie_name</th>\n",
       "      <th>Movie_release_date</th>\n",
       "      <th>Movie_box_office_revenue</th>\n",
       "      <th>Movie_runtime</th>\n",
       "      <th>Movie_languages</th>\n",
       "      <th>Movie_countries</th>\n",
       "      <th>Movie_genres</th>\n",
       "      <th>Movie_title</th>\n",
       "    </tr>\n",
       "  </thead>\n",
       "  <tbody>\n",
       "    <tr>\n",
       "      <th>40302</th>\n",
       "      <td>18146373</td>\n",
       "      <td>/m/04cwsmf</td>\n",
       "      <td>Triumph</td>\n",
       "      <td>1917-09-03</td>\n",
       "      <td>NaN</td>\n",
       "      <td>NaN</td>\n",
       "      <td>{\"/m/06ppq\": \"Silent film\", \"/m/02h40lc\": \"Eng...</td>\n",
       "      <td>{\"/m/09c7w0\": \"United States of America\"}</td>\n",
       "      <td>{\"/m/06ppq\": \"Silent film\", \"/m/07s9rl0\": \"Dra...</td>\n",
       "      <td>triumph</td>\n",
       "    </tr>\n",
       "    <tr>\n",
       "      <th>12622</th>\n",
       "      <td>14640694</td>\n",
       "      <td>/m/03grkc6</td>\n",
       "      <td>The Love Letter</td>\n",
       "      <td>1998-02-01</td>\n",
       "      <td>NaN</td>\n",
       "      <td>99.0</td>\n",
       "      <td>{\"/m/02h40lc\": \"English Language\"}</td>\n",
       "      <td>{\"/m/09c7w0\": \"United States of America\"}</td>\n",
       "      <td>{\"/m/07s9rl0\": \"Drama\", \"/m/068d7h\": \"Romantic...</td>\n",
       "      <td>theloveletter</td>\n",
       "    </tr>\n",
       "    <tr>\n",
       "      <th>9525</th>\n",
       "      <td>952902</td>\n",
       "      <td>/m/03sy0h</td>\n",
       "      <td>Cheaters</td>\n",
       "      <td>2000-05-20</td>\n",
       "      <td>NaN</td>\n",
       "      <td>108.0</td>\n",
       "      <td>{\"/m/02h40lc\": \"English Language\"}</td>\n",
       "      <td>{\"/m/09c7w0\": \"United States of America\"}</td>\n",
       "      <td>{\"/m/07s9rl0\": \"Drama\", \"/m/015w9s\": \"Televisi...</td>\n",
       "      <td>cheaters</td>\n",
       "    </tr>\n",
       "    <tr>\n",
       "      <th>78814</th>\n",
       "      <td>15428140</td>\n",
       "      <td>/m/03m887f</td>\n",
       "      <td>La Vérité si je mens!</td>\n",
       "      <td>1997-05-02</td>\n",
       "      <td>NaN</td>\n",
       "      <td>100.0</td>\n",
       "      <td>{\"/m/064_8sq\": \"French Language\", \"/m/03hkp\": ...</td>\n",
       "      <td>{\"/m/0f8l9c\": \"France\"}</td>\n",
       "      <td>{\"/m/06cvj\": \"Romantic comedy\", \"/m/05p553\": \"...</td>\n",
       "      <td>lavéritésijemens</td>\n",
       "    </tr>\n",
       "    <tr>\n",
       "      <th>59917</th>\n",
       "      <td>23747829</td>\n",
       "      <td>/m/06zl8nf</td>\n",
       "      <td>Detective Naani</td>\n",
       "      <td>2009-05-22</td>\n",
       "      <td>NaN</td>\n",
       "      <td>140.0</td>\n",
       "      <td>{\"/m/03k50\": \"Hindi Language\"}</td>\n",
       "      <td>{\"/m/03rk0\": \"India\"}</td>\n",
       "      <td>{\"/m/0lsxr\": \"Crime Fiction\", \"/m/0hqxf\": \"Fam...</td>\n",
       "      <td>detectivenaani</td>\n",
       "    </tr>\n",
       "  </tbody>\n",
       "</table>\n",
       "</div>"
      ],
      "text/plain": [
       "       Wikipedia_movie_ID Freebase_movie_ID             Movie_name  \\\n",
       "40302            18146373        /m/04cwsmf                Triumph   \n",
       "12622            14640694        /m/03grkc6        The Love Letter   \n",
       "9525               952902         /m/03sy0h               Cheaters   \n",
       "78814            15428140        /m/03m887f  La Vérité si je mens!   \n",
       "59917            23747829        /m/06zl8nf        Detective Naani   \n",
       "\n",
       "      Movie_release_date  Movie_box_office_revenue  Movie_runtime  \\\n",
       "40302         1917-09-03                       NaN            NaN   \n",
       "12622         1998-02-01                       NaN           99.0   \n",
       "9525          2000-05-20                       NaN          108.0   \n",
       "78814         1997-05-02                       NaN          100.0   \n",
       "59917         2009-05-22                       NaN          140.0   \n",
       "\n",
       "                                         Movie_languages  \\\n",
       "40302  {\"/m/06ppq\": \"Silent film\", \"/m/02h40lc\": \"Eng...   \n",
       "12622                 {\"/m/02h40lc\": \"English Language\"}   \n",
       "9525                  {\"/m/02h40lc\": \"English Language\"}   \n",
       "78814  {\"/m/064_8sq\": \"French Language\", \"/m/03hkp\": ...   \n",
       "59917                     {\"/m/03k50\": \"Hindi Language\"}   \n",
       "\n",
       "                                 Movie_countries  \\\n",
       "40302  {\"/m/09c7w0\": \"United States of America\"}   \n",
       "12622  {\"/m/09c7w0\": \"United States of America\"}   \n",
       "9525   {\"/m/09c7w0\": \"United States of America\"}   \n",
       "78814                    {\"/m/0f8l9c\": \"France\"}   \n",
       "59917                      {\"/m/03rk0\": \"India\"}   \n",
       "\n",
       "                                            Movie_genres       Movie_title  \n",
       "40302  {\"/m/06ppq\": \"Silent film\", \"/m/07s9rl0\": \"Dra...           triumph  \n",
       "12622  {\"/m/07s9rl0\": \"Drama\", \"/m/068d7h\": \"Romantic...     theloveletter  \n",
       "9525   {\"/m/07s9rl0\": \"Drama\", \"/m/015w9s\": \"Televisi...          cheaters  \n",
       "78814  {\"/m/06cvj\": \"Romantic comedy\", \"/m/05p553\": \"...  lavéritésijemens  \n",
       "59917  {\"/m/0lsxr\": \"Crime Fiction\", \"/m/0hqxf\": \"Fam...    detectivenaani  "
      ]
     },
     "execution_count": 25,
     "metadata": {},
     "output_type": "execute_result"
    }
   ],
   "source": [
    "change_title(df_CMU_movies, 'Movie_name')\n",
    "df_CMU_movies.sample(5)"
   ]
  },
  {
   "cell_type": "code",
   "execution_count": 26,
   "id": "c9ce9b98-f6dc-4edf-a1ae-ac9a4fa8e974",
   "metadata": {},
   "outputs": [],
   "source": [
    "# Now, merge them on 'Movie_title' and drop the new column since not useful\n",
    "merge_CMU_IMDb = pd.merge(df_CMU_movies, df_IMDb_big, on = 'Movie_title').drop('Movie_title', axis=1)"
   ]
  },
  {
   "cell_type": "code",
   "execution_count": 27,
   "id": "8ce67444-8f4f-4491-af60-36d6902f73b1",
   "metadata": {},
   "outputs": [
    {
     "name": "stdout",
     "output_type": "stream",
     "text": [
      "The shape of the CMU dataset was: 81741, after merging we have : 116158.\n",
      "Is the merge files contains only unique films ? : False\n",
      "If false, mean that there is duplicates\n"
     ]
    }
   ],
   "source": [
    "# Now, lets see what we got \n",
    "\n",
    "print(f\"The shape of the CMU dataset was: {df_CMU_movies.shape[0]}, after merging we have : {merge_CMU_IMDb.shape[0]}.\")\n",
    "print(f\"Is the merge files contains only unique films ? : {merge_CMU_IMDb['Wikipedia_movie_ID'].is_unique}\")\n",
    "print(\"If false, mean that there is duplicates\")"
   ]
  },
  {
   "cell_type": "code",
   "execution_count": 28,
   "id": "aa7b79e0-a658-4964-944a-6efe3d6d54b9",
   "metadata": {},
   "outputs": [
    {
     "data": {
      "text/plain": [
       "(76194, 14)"
      ]
     },
     "execution_count": 28,
     "metadata": {},
     "output_type": "execute_result"
    }
   ],
   "source": [
    "# look for duplicates \n",
    "duplicates = merge_CMU_IMDb[merge_CMU_IMDb.duplicated(subset = 'Wikipedia_movie_ID', keep = False)]\n",
    "duplicates.shape\n"
   ]
  },
  {
   "cell_type": "code",
   "execution_count": 29,
   "id": "2b783d07-1e08-4654-bee8-2048b051822d",
   "metadata": {},
   "outputs": [
    {
     "data": {
      "text/plain": [
       "True"
      ]
     },
     "execution_count": 29,
     "metadata": {},
     "output_type": "execute_result"
    }
   ],
   "source": [
    "# we have a lot of duplicates, pas ouf ouf \n",
    "\n",
    "# before dealing with duplicates, that are stored, lets remove them from the \n",
    "# datasets, so we have at least something to work on\n",
    "\n",
    "first_dataset = merge_CMU_IMDb.drop_duplicates(['Wikipedia_movie_ID'], keep = False)\n",
    "first_dataset['Wikipedia_movie_ID'].is_unique"
   ]
  },
  {
   "cell_type": "code",
   "execution_count": 30,
   "id": "bcac52b6-411f-4cca-9757-fa00714d3894",
   "metadata": {},
   "outputs": [
    {
     "data": {
      "text/plain": [
       "(39964, 14)"
      ]
     },
     "execution_count": 30,
     "metadata": {},
     "output_type": "execute_result"
    }
   ],
   "source": [
    "first_dataset.shape"
   ]
  },
  {
   "cell_type": "code",
   "execution_count": 31,
   "id": "22784b3e-310f-4c33-80dd-c9db355e5780",
   "metadata": {},
   "outputs": [
    {
     "data": {
      "text/html": [
       "<div>\n",
       "<style scoped>\n",
       "    .dataframe tbody tr th:only-of-type {\n",
       "        vertical-align: middle;\n",
       "    }\n",
       "\n",
       "    .dataframe tbody tr th {\n",
       "        vertical-align: top;\n",
       "    }\n",
       "\n",
       "    .dataframe thead th {\n",
       "        text-align: right;\n",
       "    }\n",
       "</style>\n",
       "<table border=\"1\" class=\"dataframe\">\n",
       "  <thead>\n",
       "    <tr style=\"text-align: right;\">\n",
       "      <th></th>\n",
       "      <th>Wikipedia_movie_ID</th>\n",
       "      <th>Freebase_movie_ID</th>\n",
       "      <th>Movie_name</th>\n",
       "      <th>Movie_release_date</th>\n",
       "      <th>Movie_box_office_revenue</th>\n",
       "      <th>Movie_runtime</th>\n",
       "      <th>Movie_languages</th>\n",
       "      <th>Movie_countries</th>\n",
       "      <th>Movie_genres</th>\n",
       "      <th>IMDb_title_ID</th>\n",
       "      <th>Release_date</th>\n",
       "      <th>Runtime</th>\n",
       "      <th>Primary_title</th>\n",
       "      <th>Original_title</th>\n",
       "    </tr>\n",
       "  </thead>\n",
       "  <tbody>\n",
       "    <tr>\n",
       "      <th>23492</th>\n",
       "      <td>2134444</td>\n",
       "      <td>/m/06pc90</td>\n",
       "      <td>Highway 301</td>\n",
       "      <td>1950-12-01</td>\n",
       "      <td>NaN</td>\n",
       "      <td>83.0</td>\n",
       "      <td>{\"/m/02h40lc\": \"English Language\"}</td>\n",
       "      <td>{\"/m/09c7w0\": \"United States of America\"}</td>\n",
       "      <td>{\"/m/0lsxr\": \"Crime Fiction\", \"/m/0gw5w78\": \"G...</td>\n",
       "      <td>tt0042250</td>\n",
       "      <td>1950</td>\n",
       "      <td>83</td>\n",
       "      <td>Highway 301</td>\n",
       "      <td>Highway 301</td>\n",
       "    </tr>\n",
       "    <tr>\n",
       "      <th>91425</th>\n",
       "      <td>15693150</td>\n",
       "      <td>/m/03nq8t_</td>\n",
       "      <td>Stars in My Crown</td>\n",
       "      <td>1950</td>\n",
       "      <td>NaN</td>\n",
       "      <td>89.0</td>\n",
       "      <td>{\"/m/02h40lc\": \"English Language\"}</td>\n",
       "      <td>{\"/m/09c7w0\": \"United States of America\"}</td>\n",
       "      <td>{\"/m/0hfjk\": \"Western\", \"/m/07s9rl0\": \"Drama\"}</td>\n",
       "      <td>tt0042998</td>\n",
       "      <td>1950</td>\n",
       "      <td>89</td>\n",
       "      <td>Stars in My Crown</td>\n",
       "      <td>Stars in My Crown</td>\n",
       "    </tr>\n",
       "    <tr>\n",
       "      <th>36687</th>\n",
       "      <td>9074461</td>\n",
       "      <td>/m/027wqfx</td>\n",
       "      <td>Toplo</td>\n",
       "      <td>1978-11-20</td>\n",
       "      <td>NaN</td>\n",
       "      <td>97.0</td>\n",
       "      <td>{\"/m/01bkv\": \"Bulgarian Language\"}</td>\n",
       "      <td>{\"/m/015qh\": \"Bulgaria\"}</td>\n",
       "      <td>{\"/m/01z4y\": \"Comedy\"}</td>\n",
       "      <td>tt0189154</td>\n",
       "      <td>1978</td>\n",
       "      <td>97</td>\n",
       "      <td>Toplo</td>\n",
       "      <td>Toplo</td>\n",
       "    </tr>\n",
       "  </tbody>\n",
       "</table>\n",
       "</div>"
      ],
      "text/plain": [
       "       Wikipedia_movie_ID Freebase_movie_ID         Movie_name  \\\n",
       "23492             2134444         /m/06pc90        Highway 301   \n",
       "91425            15693150        /m/03nq8t_  Stars in My Crown   \n",
       "36687             9074461        /m/027wqfx              Toplo   \n",
       "\n",
       "      Movie_release_date  Movie_box_office_revenue  Movie_runtime  \\\n",
       "23492         1950-12-01                       NaN           83.0   \n",
       "91425               1950                       NaN           89.0   \n",
       "36687         1978-11-20                       NaN           97.0   \n",
       "\n",
       "                          Movie_languages  \\\n",
       "23492  {\"/m/02h40lc\": \"English Language\"}   \n",
       "91425  {\"/m/02h40lc\": \"English Language\"}   \n",
       "36687  {\"/m/01bkv\": \"Bulgarian Language\"}   \n",
       "\n",
       "                                 Movie_countries  \\\n",
       "23492  {\"/m/09c7w0\": \"United States of America\"}   \n",
       "91425  {\"/m/09c7w0\": \"United States of America\"}   \n",
       "36687                   {\"/m/015qh\": \"Bulgaria\"}   \n",
       "\n",
       "                                            Movie_genres IMDb_title_ID  \\\n",
       "23492  {\"/m/0lsxr\": \"Crime Fiction\", \"/m/0gw5w78\": \"G...     tt0042250   \n",
       "91425     {\"/m/0hfjk\": \"Western\", \"/m/07s9rl0\": \"Drama\"}     tt0042998   \n",
       "36687                             {\"/m/01z4y\": \"Comedy\"}     tt0189154   \n",
       "\n",
       "      Release_date Runtime      Primary_title     Original_title  \n",
       "23492         1950      83        Highway 301        Highway 301  \n",
       "91425         1950      89  Stars in My Crown  Stars in My Crown  \n",
       "36687         1978      97              Toplo              Toplo  "
      ]
     },
     "execution_count": 31,
     "metadata": {},
     "output_type": "execute_result"
    }
   ],
   "source": [
    "first_dataset.sample(3)"
   ]
  },
  {
   "cell_type": "code",
   "execution_count": 32,
   "id": "c22fd3fa-f3ad-4255-b010-79e19d4614f8",
   "metadata": {},
   "outputs": [],
   "source": [
    "# bon, on a perdu la moitié du dataset mais pour l'instant je peux\n",
    "# rien faire de plus, j'ai des idées mais j'ai plus le temps\n",
    "# je vous laisse travailler avec ce 'petit' dataset"
   ]
  },
  {
   "cell_type": "code",
   "execution_count": 33,
   "id": "01800235-f291-4520-975e-a32267d430bb",
   "metadata": {},
   "outputs": [],
   "source": [
    "# juste quelques manips pour le rendre plus joli (j avais mis les runtime et tout pour\n",
    "# faire des comparaisons, mais vu que j'ai pas le temps je les tej du dataframe pour \n",
    "# l'instant, mais ca devait etre utile a la base)"
   ]
  },
  {
   "cell_type": "code",
   "execution_count": 34,
   "id": "1c3f2425-0aa6-4ffe-b3af-9b66c8d6f5e7",
   "metadata": {},
   "outputs": [
    {
     "data": {
      "text/html": [
       "<div>\n",
       "<style scoped>\n",
       "    .dataframe tbody tr th:only-of-type {\n",
       "        vertical-align: middle;\n",
       "    }\n",
       "\n",
       "    .dataframe tbody tr th {\n",
       "        vertical-align: top;\n",
       "    }\n",
       "\n",
       "    .dataframe thead th {\n",
       "        text-align: right;\n",
       "    }\n",
       "</style>\n",
       "<table border=\"1\" class=\"dataframe\">\n",
       "  <thead>\n",
       "    <tr style=\"text-align: right;\">\n",
       "      <th></th>\n",
       "      <th>Wikipedia_movie_ID</th>\n",
       "      <th>Freebase_movie_ID</th>\n",
       "      <th>Movie_name</th>\n",
       "      <th>Movie_release_date</th>\n",
       "      <th>Movie_box_office_revenue</th>\n",
       "      <th>Movie_runtime</th>\n",
       "      <th>Movie_languages</th>\n",
       "      <th>Movie_countries</th>\n",
       "      <th>Movie_genres</th>\n",
       "      <th>IMDb_title_ID</th>\n",
       "    </tr>\n",
       "  </thead>\n",
       "  <tbody>\n",
       "    <tr>\n",
       "      <th>11257</th>\n",
       "      <td>9084609</td>\n",
       "      <td>/m/027x2k3</td>\n",
       "      <td>It Had to Happen</td>\n",
       "      <td>1936-02-14</td>\n",
       "      <td>NaN</td>\n",
       "      <td>79.0</td>\n",
       "      <td>{\"/m/02h40lc\": \"English Language\"}</td>\n",
       "      <td>{\"/m/09c7w0\": \"United States of America\"}</td>\n",
       "      <td>{\"/m/068d7h\": \"Romantic drama\", \"/m/01lrrt\": \"...</td>\n",
       "      <td>tt0027808</td>\n",
       "    </tr>\n",
       "    <tr>\n",
       "      <th>101487</th>\n",
       "      <td>30828693</td>\n",
       "      <td>/m/0gfjpr9</td>\n",
       "      <td>Rent Free</td>\n",
       "      <td>1922-01-01</td>\n",
       "      <td>NaN</td>\n",
       "      <td>NaN</td>\n",
       "      <td>{\"/m/06ppq\": \"Silent film\"}</td>\n",
       "      <td>{}</td>\n",
       "      <td>{\"/m/06ppq\": \"Silent film\"}</td>\n",
       "      <td>tt0013546</td>\n",
       "    </tr>\n",
       "  </tbody>\n",
       "</table>\n",
       "</div>"
      ],
      "text/plain": [
       "        Wikipedia_movie_ID Freebase_movie_ID        Movie_name  \\\n",
       "11257              9084609        /m/027x2k3  It Had to Happen   \n",
       "101487            30828693        /m/0gfjpr9         Rent Free   \n",
       "\n",
       "       Movie_release_date  Movie_box_office_revenue  Movie_runtime  \\\n",
       "11257          1936-02-14                       NaN           79.0   \n",
       "101487         1922-01-01                       NaN            NaN   \n",
       "\n",
       "                           Movie_languages  \\\n",
       "11257   {\"/m/02h40lc\": \"English Language\"}   \n",
       "101487         {\"/m/06ppq\": \"Silent film\"}   \n",
       "\n",
       "                                  Movie_countries  \\\n",
       "11257   {\"/m/09c7w0\": \"United States of America\"}   \n",
       "101487                                         {}   \n",
       "\n",
       "                                             Movie_genres IMDb_title_ID  \n",
       "11257   {\"/m/068d7h\": \"Romantic drama\", \"/m/01lrrt\": \"...     tt0027808  \n",
       "101487                        {\"/m/06ppq\": \"Silent film\"}     tt0013546  "
      ]
     },
     "execution_count": 34,
     "metadata": {},
     "output_type": "execute_result"
    }
   ],
   "source": [
    "# tej des colonnes inutiles car redondantes\n",
    "column_to_drop = ['Release_date','Runtime','Primary_title','Original_title']\n",
    "for i in column_to_drop : \n",
    "    first_dataset = first_dataset.drop(i, axis =1)\n",
    "first_dataset.sample(2)"
   ]
  },
  {
   "cell_type": "code",
   "execution_count": 35,
   "id": "ff75f143-fdc7-4400-b8f8-c0d334761777",
   "metadata": {},
   "outputs": [],
   "source": [
    "# mtn vous avez le CMU corpus avec le film IMDb ID en plus, vous pouvez \n",
    "# donc faire des liens avec le reste des datasets df_(IMDb_crew, IMDb_ratings et IMDb_name)"
   ]
  }
 ],
 "metadata": {
  "kernelspec": {
   "display_name": "Python [conda env:base]",
   "language": "python",
   "name": "conda-base-py"
  },
  "language_info": {
   "codemirror_mode": {
    "name": "ipython",
    "version": 3
   },
   "file_extension": ".py",
   "mimetype": "text/x-python",
   "name": "python",
   "nbconvert_exporter": "python",
   "pygments_lexer": "ipython3",
   "version": "3.12.3"
  }
 },
 "nbformat": 4,
 "nbformat_minor": 5
}
