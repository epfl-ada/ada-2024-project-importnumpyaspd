{
 "cells": [
  {
   "cell_type": "code",
   "execution_count": 1,
   "id": "be63e847-457f-4132-939f-6b1d2f72a791",
   "metadata": {},
   "outputs": [
    {
     "data": {
      "text/plain": [
       "'\\nFile name: cleaning_data.py\\nAuthor: ImportNumpyAsPd\\nDate created: 05/11/2024\\nDate last modified: 05/11/2024\\n'"
      ]
     },
     "execution_count": 1,
     "metadata": {},
     "output_type": "execute_result"
    }
   ],
   "source": [
    "\"\"\"\n",
    "File name: cleaning_data.py\n",
    "Author: ImportNumpyAsPd\n",
    "Date created: 05/11/2024\n",
    "Date last modified: 05/11/2024\n",
    "\"\"\"\n",
    "#fichier final "
   ]
  },
  {
   "cell_type": "code",
   "execution_count": 2,
   "id": "2c9ecec4-33e9-418f-97cd-76adc2e7ce65",
   "metadata": {},
   "outputs": [],
   "source": [
    "# some basic imports\n",
    "import os\n",
    "import pandas as pd\n",
    "import numpy as np"
   ]
  },
  {
   "cell_type": "code",
   "execution_count": 3,
   "id": "b5c45901-d5cf-40f7-b83e-39aa483cf40b",
   "metadata": {},
   "outputs": [],
   "source": [
    "#path data \n",
    "data_path_CMU = './CMU/'\n",
    "data_path_IMDb = './IMDb/'\n",
    "\n",
    "#Names of columns for the data CMU\n",
    "NAMES_MOVIES = ['Wikipedia_movie_ID','Freebase_movie_ID','Movie_name','Movie_release_date','Movie_box_office_revenue','Movie_runtime','Movie_languages','Movie_countries','Movie_genres']\n",
    "NAMES_CHARACTER = ['Character_Name','Actor_DOB','Actor_gender','Actor_height','Actor_ethnicity','Actor_Name','Actor_age_at_movie_release','Freebase_character_actor_map_ID', 'Freebase_character_ID', 'Freebase_actor_ID']\n",
    "\n",
    "#Names of columns for the data IMDb\n",
    "NAMES_BASICS = ['IMDb_director_ID', 'Name_of_the_director']\n",
    "NAMES_BASICS_2 = ['IMDb_title_ID', 'Type', 'Primary_title', 'Original_title']\n",
    "NAMES_CREW = ['IMDb_title_ID','IMDb_director_ID', 'IMDb_writers_ID']\n",
    "NAMES_NEW = ['IMDb_title_ID', 'Release_date','Runtime']\n",
    "\n",
    "#Read data CMU \n",
    "df_CMU_character = pd.read_csv(data_path_CMU+'character.metadata.tsv', sep='\\t', names = NAMES_CHARACTER, header = None)\n",
    "df_CMU_movies = pd.read_csv(data_path_CMU+'movie.metadata.tsv', sep='\\t', names = NAMES_MOVIES, header = None)\n",
    "\n",
    "#Read data IMDb\n",
    "df_IMDb_name = pd.read_csv(data_path_IMDb+'name.basics_Movie.tsv', sep='\\t', names = NAMES_BASICS, header = None)\n",
    "df_IMDb_basics = pd.read_csv(data_path_IMDb+'title.basics_Movie.tsv', sep='\\t', names = NAMES_BASICS_2, header = None)\n",
    "df_IMDb_crew = pd.read_csv(data_path_IMDb+'title.crew_Movie.tsv', sep='\\t', names = NAMES_CREW, header = None)\n",
    "df_IMDb_ratings = pd.read_csv(data_path_IMDb+'title.ratings.tsv', sep='\\t')\n",
    "df_IMDb_ratings.rename(columns={'tconst': 'IMDb title ID'}, inplace=True)\n",
    "df_IMDb_new = pd.read_csv(data_path_IMDb+'title.basics_Thomas.tsv', sep='\\t', names = NAMES_NEW, header = None)"
   ]
  },
  {
   "cell_type": "code",
   "execution_count": 4,
   "id": "20248934-72ff-4f52-a716-389fa9660fba",
   "metadata": {},
   "outputs": [],
   "source": [
    "#Name of the datasets\n",
    "datasets = ['df_CMU_character','df_CMU_movies','df_IMDb_name','df_IMDb_basics','df_IMDb_crew',\n",
    "            'df_IMDb_ratings', 'df_IMDb_new']\n",
    "#Make it a dictionary\n",
    "df_all = {'df_CMU_character': df_CMU_character,'df_CMU_movies': df_CMU_movies,\n",
    "          'df_IMDb_name': df_IMDb_name,'df_IMDb_basics': df_IMDb_basics,\n",
    "          'df_IMDb_crew': df_IMDb_crew,'df_IMDb_ratings': df_IMDb_ratings,'df_IMDb_new':df_IMDb_new}"
   ]
  },
  {
   "cell_type": "code",
   "execution_count": 5,
   "id": "020bbe5b-b482-4d3a-8269-353ea8deab11",
   "metadata": {},
   "outputs": [],
   "source": [
    "# before cleaning the data, first look in detail to data"
   ]
  },
  {
   "cell_type": "code",
   "execution_count": 6,
   "id": "e23bc28b-6a09-4c20-a1f5-fdc30733118c",
   "metadata": {},
   "outputs": [
    {
     "name": "stdout",
     "output_type": "stream",
     "text": [
      "Name of the dataframe : df_CMU_character, its size : 4506690, its shape : (450669, 10)\n",
      "Name of the dataframe : df_CMU_movies, its size : 735669, its shape : (81741, 9)\n",
      "Name of the dataframe : df_IMDb_name, its size : 413024, its shape : (206512, 2)\n",
      "Name of the dataframe : df_IMDb_basics, its size : 2783768, its shape : (695942, 4)\n",
      "Name of the dataframe : df_IMDb_crew, its size : 2039205, its shape : (679735, 3)\n",
      "Name of the dataframe : df_IMDb_ratings, its size : 4480260, its shape : (1493420, 3)\n",
      "Name of the dataframe : df_IMDb_new, its size : 2088990, its shape : (696330, 3)\n"
     ]
    }
   ],
   "source": [
    "# printing the size and shape of the different dataframes :\n",
    "for name, df_i in df_all.items():\n",
    "    print(f\"Name of the dataframe : {name}, its size : {df_i.size}, its shape : {df_i.shape}\")"
   ]
  },
  {
   "cell_type": "code",
   "execution_count": 7,
   "id": "00f73944-298c-4988-a336-8c9cf4460717",
   "metadata": {},
   "outputs": [
    {
     "name": "stdout",
     "output_type": "stream",
     "text": [
      "Types in the dataframe: df_CMU_character\n",
      "Character_Name                      object\n",
      "Actor_DOB                           object\n",
      "Actor_gender                        object\n",
      "Actor_height                       float64\n",
      "Actor_ethnicity                     object\n",
      "Actor_Name                          object\n",
      "Actor_age_at_movie_release         float64\n",
      "Freebase_character_actor_map_ID     object\n",
      "Freebase_character_ID               object\n",
      "Freebase_actor_ID                   object\n",
      "dtype: object\n",
      "-----------------------------------------\n",
      "Types in the dataframe: df_CMU_movies\n",
      "Wikipedia_movie_ID            int64\n",
      "Freebase_movie_ID            object\n",
      "Movie_name                   object\n",
      "Movie_release_date           object\n",
      "Movie_box_office_revenue    float64\n",
      "Movie_runtime               float64\n",
      "Movie_languages              object\n",
      "Movie_countries              object\n",
      "Movie_genres                 object\n",
      "dtype: object\n",
      "-----------------------------------------\n",
      "Types in the dataframe: df_IMDb_name\n",
      "IMDb_director_ID        object\n",
      "Name_of_the_director    object\n",
      "dtype: object\n",
      "-----------------------------------------\n",
      "Types in the dataframe: df_IMDb_basics\n",
      "IMDb_title_ID     object\n",
      "Type              object\n",
      "Primary_title     object\n",
      "Original_title    object\n",
      "dtype: object\n",
      "-----------------------------------------\n",
      "Types in the dataframe: df_IMDb_crew\n",
      "IMDb_title_ID       object\n",
      "IMDb_director_ID    object\n",
      "IMDb_writers_ID     object\n",
      "dtype: object\n",
      "-----------------------------------------\n",
      "Types in the dataframe: df_IMDb_ratings\n",
      "IMDb title ID     object\n",
      "averageRating    float64\n",
      "numVotes           int64\n",
      "dtype: object\n",
      "-----------------------------------------\n",
      "Types in the dataframe: df_IMDb_new\n",
      "IMDb_title_ID    object\n",
      "Release_date     object\n",
      "Runtime          object\n",
      "dtype: object\n",
      "-----------------------------------------\n"
     ]
    }
   ],
   "source": [
    "# printing the type in the different dataframes : \n",
    "for name, df_i in df_all.items():\n",
    "    print(f\"Types in the dataframe: {name}\")\n",
    "    print(df_i.dtypes)\n",
    "    print(\"-----------------------------------------\")"
   ]
  },
  {
   "cell_type": "code",
   "execution_count": 8,
   "id": "4604cce0-1315-4dff-a1af-435a787ad105",
   "metadata": {},
   "outputs": [
    {
     "name": "stdout",
     "output_type": "stream",
     "text": [
      "Look for any NaN values\n",
      "Name of the dataframe : df_CMU_character\n",
      "Character_Name                     257875\n",
      "Actor_DOB                          106145\n",
      "Actor_gender                        45609\n",
      "Actor_height                       295845\n",
      "Actor_ethnicity                    344611\n",
      "Actor_Name                           1228\n",
      "Actor_age_at_movie_release         158113\n",
      "Freebase_character_actor_map_ID         0\n",
      "Freebase_character_ID              257865\n",
      "Freebase_actor_ID                     815\n",
      "dtype: int64\n",
      "----------------------\n",
      "Name of the dataframe : df_CMU_movies\n",
      "Wikipedia_movie_ID              0\n",
      "Freebase_movie_ID               0\n",
      "Movie_name                      0\n",
      "Movie_release_date           6902\n",
      "Movie_box_office_revenue    73340\n",
      "Movie_runtime               20450\n",
      "Movie_languages                 0\n",
      "Movie_countries                 0\n",
      "Movie_genres                    0\n",
      "dtype: int64\n",
      "----------------------\n",
      "Name of the dataframe : df_IMDb_name\n",
      "IMDb_director_ID        0\n",
      "Name_of_the_director    0\n",
      "dtype: int64\n",
      "----------------------\n",
      "Name of the dataframe : df_IMDb_basics\n",
      "IMDb_title_ID     0\n",
      "Type              0\n",
      "Primary_title     2\n",
      "Original_title    2\n",
      "dtype: int64\n",
      "----------------------\n",
      "Name of the dataframe : df_IMDb_crew\n",
      "IMDb_title_ID       0\n",
      "IMDb_director_ID    0\n",
      "IMDb_writers_ID     0\n",
      "dtype: int64\n",
      "----------------------\n",
      "Name of the dataframe : df_IMDb_ratings\n",
      "IMDb title ID    0\n",
      "averageRating    0\n",
      "numVotes         0\n",
      "dtype: int64\n",
      "----------------------\n",
      "Name of the dataframe : df_IMDb_new\n",
      "IMDb_title_ID    0\n",
      "Release_date     0\n",
      "Runtime          0\n",
      "dtype: int64\n",
      "----------------------\n"
     ]
    }
   ],
   "source": [
    "# look for any NaN values\n",
    "print(\"Look for any NaN values\")\n",
    "for name, df_i in df_all.items():\n",
    "    print(f\"Name of the dataframe : {name}\")\n",
    "    print(df_i.isnull().sum())\n",
    "    print(\"----------------------\")"
   ]
  },
  {
   "cell_type": "code",
   "execution_count": 9,
   "id": "8368e0ed-bb34-4926-9fd8-f270c38293a1",
   "metadata": {},
   "outputs": [
    {
     "name": "stdout",
     "output_type": "stream",
     "text": [
      "Looking for strange outcome in df_IMDb_name dataset\n",
      "Index(['Broken', 'Home', 'Alone', 'Mother', 'Trapped', 'Homecoming', 'Hamlet',\n",
      "       'Paradise', 'Love', 'Untitled',\n",
      "       ...\n",
      "       'Al eeteraf al akhir', 'Dreams Awake', 'Viking Warrior Women',\n",
      "       'Csillag a máglyán', 'La colo', 'Il canto di Circe', 'Butch Jamie',\n",
      "       'Buried in Tucson', 'The Big Year', 'Chico Albuquerque - Revelações'],\n",
      "      dtype='object', name='Primary_title', length=598900)\n"
     ]
    }
   ],
   "source": [
    "#The fact the IMDb datasets do not have any NaN is strange, \n",
    "#for df_IMDb_name and df_IMDb_crew it is normal, since ID is unique\n",
    "#for df_IMDb_basics, its seem that there is NaN value where it should be, just very low\n",
    "#let's have a look\n",
    "print(\"Looking for strange outcome in df_IMDb_name dataset\")\n",
    "i = df_IMDb_basics.Primary_title.value_counts()\n",
    "print(i.index)"
   ]
  },
  {
   "cell_type": "code",
   "execution_count": 10,
   "id": "0aedb7f3-991d-4cab-b062-5d6eeb254c16",
   "metadata": {},
   "outputs": [
    {
     "name": "stdout",
     "output_type": "stream",
     "text": [
      "Looking for strange outcome in df_IMDb_ratings dataset\n",
      "see averageRatings column\n",
      "Index([ 7.2,  7.4,  7.6,  7.8,  7.0,  7.5,  7.3,  8.0,  6.8,  7.7,  7.1,  7.9,\n",
      "        8.2,  6.6,  6.9,  6.7,  8.1,  6.4,  6.2,  6.5,  6.3,  6.0,  8.3,  8.4,\n",
      "        5.8,  6.1,  8.5,  8.6,  5.9,  5.6,  5.7,  8.7,  8.8,  5.4,  5.5,  5.2,\n",
      "        5.3,  9.0,  5.0,  8.9,  5.1,  4.8,  9.2,  9.1,  4.9,  4.6,  4.7,  4.4,\n",
      "        9.4,  4.5,  4.2,  9.3, 10.0,  4.3,  4.0,  4.1,  9.6,  9.5,  3.8,  3.9,\n",
      "        3.6,  3.7,  9.8,  9.7,  3.4,  3.5,  3.2,  3.3,  3.0,  3.1,  2.8,  9.9,\n",
      "        2.9,  2.7,  1.0,  2.6,  2.5,  2.4,  2.3,  2.2,  2.0,  2.1,  1.8,  1.9,\n",
      "        1.7,  1.5,  1.2,  1.6,  1.4,  1.3,  1.1],\n",
      "      dtype='float64', name='averageRating')\n",
      "-----------------------\n",
      "numVotes column\n",
      "Index([     7,      8,      9,      6,     10,     11,     12,     13,      5,\n",
      "           14,\n",
      "       ...\n",
      "        45291,  14961,  28910, 107406, 102425,  50145,  45412, 269095,  25650,\n",
      "       138123],\n",
      "      dtype='int64', name='numVotes', length=22727)\n"
     ]
    }
   ],
   "source": [
    "#looks okay\n",
    "#now for df_IMDb_ratings\n",
    "print(\"Looking for strange outcome in df_IMDb_ratings dataset\")\n",
    "a = df_IMDb_ratings.averageRating.value_counts()\n",
    "b = df_IMDb_ratings.numVotes.value_counts()\n",
    "print(\"see averageRatings column\")\n",
    "print(a.index)\n",
    "print(\"-----------------------\")\n",
    "print(\"numVotes column\")\n",
    "print(b.index)\n"
   ]
  },
  {
   "cell_type": "code",
   "execution_count": 11,
   "id": "bfc7eb2a-7e58-4b0e-aae3-6ca2012a0781",
   "metadata": {},
   "outputs": [
    {
     "name": "stdout",
     "output_type": "stream",
     "text": [
      "Looking for strange outcome in df_IMDb_new dataset\n",
      "see averageRatings column\n",
      "Index(['\\N', '2022', '2023', '2018', '2019', '2017', '2021', '2016', '2015',\n",
      "       '2014',\n",
      "       ...\n",
      "       '2029', '1903', '1902', '1897', '1904', '2030', '1894', '1896', '2028',\n",
      "       '2031'],\n",
      "      dtype='object', name='Release_date', length=138)\n",
      "-----------------------\n",
      "numVotes column\n",
      "Index(['\\N', '90', '80', '60', '85', '95', '100', '88', '92', '93',\n",
      "       ...\n",
      "       '950', '468', '1320', '435', '28643', '1325', '384', '570', '368',\n",
      "       '990'],\n",
      "      dtype='object', name='Runtime', length=519)\n"
     ]
    }
   ],
   "source": [
    "#dtype are int or float, looks good\n",
    "#now lets see df_IMDb_new\n",
    "print(\"Looking for strange outcome in df_IMDb_new dataset\")\n",
    "c = df_IMDb_new.Release_date.value_counts()\n",
    "d = df_IMDb_new.Runtime.value_counts()\n",
    "print(\"see averageRatings column\")\n",
    "print(c.index)\n",
    "print(\"-----------------------\")\n",
    "print(\"numVotes column\")\n",
    "print(d.index)\n"
   ]
  },
  {
   "cell_type": "code",
   "execution_count": 12,
   "id": "eab780b3-75fe-4114-a215-b26df09c2c25",
   "metadata": {},
   "outputs": [],
   "source": [
    "# oh oh, we have dtype = object, where it should be int or float here, \n",
    "# and we see that there is \\N that appears in the index -> looks like \"false\" NaN values, \n",
    "# so lets replace them by reel NaN values\n",
    "\n",
    "# replace \\N with NaN in df_IMDb_new\n",
    "df_IMDb_new.replace(to_replace='\\\\N', value=np.nan, inplace=True)"
   ]
  },
  {
   "cell_type": "code",
   "execution_count": 13,
   "id": "f959e4ef-f63c-44c9-b009-bd809926a3ae",
   "metadata": {},
   "outputs": [
    {
     "name": "stdout",
     "output_type": "stream",
     "text": [
      "IMDb_title_ID         0\n",
      "Release_date     101163\n",
      "Runtime          257955\n",
      "dtype: int64\n"
     ]
    }
   ],
   "source": [
    "# Did it worked ?\n",
    "print(df_IMDb_new.isnull().sum())"
   ]
  },
  {
   "cell_type": "code",
   "execution_count": 14,
   "id": "a53cdf05-d9fa-4175-bfcb-90b9bd3ec87b",
   "metadata": {},
   "outputs": [],
   "source": [
    "# Now, we can work on the data"
   ]
  },
  {
   "cell_type": "code",
   "execution_count": 16,
   "id": "01238632-e37c-4860-a201-9dba1fb3704a",
   "metadata": {},
   "outputs": [
    {
     "data": {
      "text/html": [
       "<div>\n",
       "<style scoped>\n",
       "    .dataframe tbody tr th:only-of-type {\n",
       "        vertical-align: middle;\n",
       "    }\n",
       "\n",
       "    .dataframe tbody tr th {\n",
       "        vertical-align: top;\n",
       "    }\n",
       "\n",
       "    .dataframe thead th {\n",
       "        text-align: right;\n",
       "    }\n",
       "</style>\n",
       "<table border=\"1\" class=\"dataframe\">\n",
       "  <thead>\n",
       "    <tr style=\"text-align: right;\">\n",
       "      <th></th>\n",
       "      <th>Wikipedia_movie_ID</th>\n",
       "      <th>Freebase_movie_ID</th>\n",
       "      <th>Movie_name</th>\n",
       "      <th>Movie_release_date</th>\n",
       "      <th>Movie_box_office_revenue</th>\n",
       "      <th>Movie_runtime</th>\n",
       "      <th>Movie_languages</th>\n",
       "      <th>Movie_countries</th>\n",
       "      <th>Movie_genres</th>\n",
       "    </tr>\n",
       "  </thead>\n",
       "  <tbody>\n",
       "  </tbody>\n",
       "</table>\n",
       "</div>"
      ],
      "text/plain": [
       "Empty DataFrame\n",
       "Columns: [Wikipedia_movie_ID, Freebase_movie_ID, Movie_name, Movie_release_date, Movie_box_office_revenue, Movie_runtime, Movie_languages, Movie_countries, Movie_genres]\n",
       "Index: []"
      ]
     },
     "execution_count": 16,
     "metadata": {},
     "output_type": "execute_result"
    }
   ],
   "source": [
    "# 1) \n",
    "# Let's cut a little bit our huge IMDb datasets\n",
    "# First, we see that there is no movies in CMU that are above 2016 \n",
    "df_CMU_movies[df_CMU_movies['Movie_release_date']>='2017']"
   ]
  },
  {
   "cell_type": "code",
   "execution_count": 26,
   "id": "a0dfcfaf-4c8b-4e31-a087-e4ce02f369a7",
   "metadata": {},
   "outputs": [
    {
     "name": "stdout",
     "output_type": "stream",
     "text": [
      "We have deleted : 253208 nbr of rows\n"
     ]
    }
   ],
   "source": [
    "# So, lets cut IMDb_new for any movies above 2016\n",
    "df_IMDb_date = df_IMDb_new[df_IMDb_new['Release_date']<='2016']\n",
    "print(f\"We have deleted : {df_IMDb_new.Release_date.shape[0] - df_IMDb_date.Release_date.shape[0]} nbr of rows\")"
   ]
  },
  {
   "cell_type": "code",
   "execution_count": 33,
   "id": "f19923db-68e7-47db-b499-b52a60a8d3d2",
   "metadata": {},
   "outputs": [
    {
     "name": "stdout",
     "output_type": "stream",
     "text": [
      "90\n",
      "252910\n",
      "Are they any duplicates ? If true it means no duplicated : True\n"
     ]
    }
   ],
   "source": [
    "# 2) \n",
    "# Now, lets merge IMDb_date with IMDb_basics\n",
    "\n",
    "# merge on IMDb title ID (by default)\n",
    "df_IMDb_basic = pd.merge(df_IMDb_date, df_IMDb_basics)\n",
    "print(df_IMDb_date.shape[0]-df_IMDb_basic.shape[0])\n",
    "print(df_IMDb_basics.shape[0]-df_IMDb_basic.shape[0])\n",
    "print(f\"Are they any duplicates ? If true it means no duplicated : {df_IMDb_basic['IMDb_title_ID'].is_unique}\")"
   ]
  },
  {
   "cell_type": "code",
   "execution_count": null,
   "id": "04f3a930-171a-4aaf-aca3-8217b1f48668",
   "metadata": {},
   "outputs": [],
   "source": [
    "# See that we have lost a reasonable amount of film \n",
    "# the fact that the two dataset have not been downloaded at the same time \n",
    "# explains why 90+252910 != 253208"
   ]
  },
  {
   "cell_type": "code",
   "execution_count": null,
   "id": "13d6a1f0-c79b-494b-9397-e0f7bc21d560",
   "metadata": {},
   "outputs": [],
   "source": [
    "# 3) Merge CMU movies with IMDb basic dataset\n",
    "\n",
    "# Here, we will try to merge them based on the movie names \n",
    "# Since the movies names can be different from both database due to ponctuation or \n",
    "# style of writings, lets first try to modify the title of both dataset to merge them on"
   ]
  },
  {
   "cell_type": "code",
   "execution_count": null,
   "id": "5a20a90b-e96c-4c1d-8b7e-07c009a50aba",
   "metadata": {},
   "outputs": [],
   "source": []
  },
  {
   "cell_type": "code",
   "execution_count": null,
   "id": "36b52f87-5383-453b-b61f-9c3511365baa",
   "metadata": {},
   "outputs": [],
   "source": []
  }
 ],
 "metadata": {
  "kernelspec": {
   "display_name": "Python [conda env:base]",
   "language": "python",
   "name": "conda-base-py"
  },
  "language_info": {
   "codemirror_mode": {
    "name": "ipython",
    "version": 3
   },
   "file_extension": ".py",
   "mimetype": "text/x-python",
   "name": "python",
   "nbconvert_exporter": "python",
   "pygments_lexer": "ipython3",
   "version": "3.12.3"
  }
 },
 "nbformat": 4,
 "nbformat_minor": 5
}
