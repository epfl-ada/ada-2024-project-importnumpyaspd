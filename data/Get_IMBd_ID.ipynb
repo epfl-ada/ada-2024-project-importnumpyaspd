{
 "cells": [
  {
   "cell_type": "code",
   "execution_count": 3,
   "id": "423bca58-c00c-4e43-884e-6d52d854de47",
   "metadata": {},
   "outputs": [],
   "source": [
    "import requests\n",
    "from bs4 import BeautifulSoup\n",
    "import re\n",
    "import urllib.parse as url\n",
    "import pandas as pd\n",
    "from T_data_loader import *"
   ]
  },
  {
   "cell_type": "code",
   "execution_count": 4,
   "id": "b9a25d09-7f8d-4a01-a33d-26c34cedfe86",
   "metadata": {},
   "outputs": [],
   "source": [
    "def get_IMDb_id(wikipedia_id):\n",
    "    # source : \n",
    "    # - https://www.geeksforgeeks.org/beautifulsoup-scraping-link-from-html/\n",
    "    # - https://stackoverflow.com/questions/7253803/how-to-get-everything-after-last-slash-in-a-url\n",
    "    r = requests.get(\"https://en.wikipedia.org/?curid=\"+str(wikipedia_id))\n",
    "    soup = BeautifulSoup(r.content, \"html.parser\")\n",
    "    nbr_link = 0\n",
    "    for link in soup.find_all('a',attrs={'href': re.compile(\"^https://www.imdb.com/title/tt\")}):\n",
    "        nbr_link += 1\n",
    "        href  = link.get('href')\n",
    "        url_parts = url.urlparse(href)\n",
    "        IMBd_id = url_parts.path.split('/')[2]\n",
    "    if nbr_link==1:\n",
    "        return IMBd_id\n",
    "    else :\n",
    "        return np.nan"
   ]
  },
  {
   "cell_type": "code",
   "execution_count": 5,
   "id": "b484a3a6-2fda-4c7c-82c1-6449fe081efe",
   "metadata": {},
   "outputs": [],
   "source": [
    "#Names of columns for the data CMU\n",
    "NAMES_MOVIES = ['Wikipedia_movie_ID','Freebase_movie_ID','Movie_name','Movie_release_date','Movie_box_office_revenue','Movie_runtime','Movie_languages','Movie_countries','Movie_genres']"
   ]
  },
  {
   "cell_type": "code",
   "execution_count": 6,
   "id": "ac48eed2-40bb-4482-a293-0235dba0f54e",
   "metadata": {},
   "outputs": [],
   "source": [
    "df_CMU_movies = csv_loader('movie.metadata', 'CMU', column_names=NAMES_MOVIES)"
   ]
  },
  {
   "cell_type": "code",
   "execution_count": 8,
   "id": "14da8311-a261-442c-9a2a-1b8efd12e625",
   "metadata": {},
   "outputs": [],
   "source": [
    "test = df_CMU_movies.head()\n"
   ]
  },
  {
   "cell_type": "code",
   "execution_count": 20,
   "id": "87c8e459-fd4a-43d4-8950-dfaf6c78d3b3",
   "metadata": {},
   "outputs": [],
   "source": [
    "test1=test['Wikipedia_movie_ID'].astype(str)"
   ]
  },
  {
   "cell_type": "code",
   "execution_count": 21,
   "id": "982afc3b-a23a-4379-a1c3-8919ce2867ef",
   "metadata": {},
   "outputs": [
    {
     "data": {
      "text/plain": [
       "0    tt0228333\n",
       "1    tt0245916\n",
       "2    tt0094806\n",
       "3    tt0094320\n",
       "4    tt0083949\n",
       "Name: Wikipedia_movie_ID, dtype: object"
      ]
     },
     "execution_count": 21,
     "metadata": {},
     "output_type": "execute_result"
    }
   ],
   "source": [
    "test1.apply(lambda x: get_IMDb_id(x))"
   ]
  },
  {
   "cell_type": "code",
   "execution_count": null,
   "id": "fbc9ee4d-7de2-4c24-a499-9cdea04d4abc",
   "metadata": {},
   "outputs": [],
   "source": []
  }
 ],
 "metadata": {
  "kernelspec": {
   "display_name": "Python 3 (ipykernel)",
   "language": "python",
   "name": "python3"
  },
  "language_info": {
   "codemirror_mode": {
    "name": "ipython",
    "version": 3
   },
   "file_extension": ".py",
   "mimetype": "text/x-python",
   "name": "python",
   "nbconvert_exporter": "python",
   "pygments_lexer": "ipython3",
   "version": "3.9.20"
  }
 },
 "nbformat": 4,
 "nbformat_minor": 5
}
