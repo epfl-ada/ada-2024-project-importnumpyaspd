{
 "cells": [
  {
   "cell_type": "code",
   "execution_count": 1,
   "id": "a8e6c704-23c4-4123-94c2-f04f7851a2ee",
   "metadata": {},
   "outputs": [],
   "source": [
    "import pandas as pd\n",
    "from T_data_loader import *"
   ]
  },
  {
   "cell_type": "code",
   "execution_count": 2,
   "id": "c9ac9254-d80b-4f45-86ed-69d42f508688",
   "metadata": {},
   "outputs": [],
   "source": [
    "#Names of columns for the data IMDb\n",
    "NAMES_CREW = ['IMDb_title_ID','IMDb_director_ID', 'IMDb_writers_ID']\n",
    "NAMES_ratings = ['IMDb_title_ID', 'Average rating', 'number of votes'] \n",
    "NAMES_BASICS = ['IMDb_director_ID', 'Name']\n",
    "NAMES_BASICS_2 = ['IMDb_title_ID', 'TitleType', 'Primary_title', 'Original_title', 'isAdult', 'realease_date', 'end_year', 'runtime', 'genres']\n",
    "NAMES_NEW = ['IMDb_title_ID', 'Release_date','Runtime']"
   ]
  },
  {
   "cell_type": "code",
   "execution_count": 3,
   "id": "88d6f47b-13e6-4e75-96d4-fe2c3e657aa4",
   "metadata": {},
   "outputs": [],
   "source": [
    "df_IMDb_crew = csv_loader('title.crew_Movie', 'IMDb', column_names=NAMES_CREW)\n",
    "df_IMDb_ratings = csv_loader('title.ratings', 'IMDb', column_names=NAMES_ratings, header = 0)\n",
    "df_IMDb_name = csv_loader('name.basics_Movie','IMDb', column_names=NAMES_BASICS)\n",
    "df_IMDb_title = csv_loader('title.basics','IMDb', column_names=NAMES_BASICS_2, header = 0)\n",
    "selected_type = 'movie'\n",
    "df_IMDb_title = df_IMDb_title.query('TitleType==@selected_type')"
   ]
  },
  {
   "cell_type": "code",
   "execution_count": 4,
   "id": "40211632-224b-4d66-8693-dd6da6bcbf7c",
   "metadata": {},
   "outputs": [
    {
     "name": "stdout",
     "output_type": "stream",
     "text": [
      "(679735, 3)\n",
      "(1493420, 3)\n",
      "(206512, 2)\n",
      "(696692, 9)\n"
     ]
    }
   ],
   "source": [
    "print(df_IMDb_crew.shape)\n",
    "print(df_IMDb_ratings.shape)\n",
    "print(df_IMDb_name.shape)\n",
    "print(df_IMDb_title.shape)"
   ]
  },
  {
   "cell_type": "markdown",
   "id": "1ca30b3c-99a0-43ea-85a3-6ba297fd0959",
   "metadata": {},
   "source": [
    "## Get a Df with all known directors"
   ]
  },
  {
   "cell_type": "code",
   "execution_count": 5,
   "id": "ff694f35-f77e-47f2-b6ca-30dbb9587659",
   "metadata": {},
   "outputs": [],
   "source": [
    "df_IMDb_crew_director = df_IMDb_crew['IMDb_director_ID'].str.split(',', expand=True)"
   ]
  },
  {
   "cell_type": "code",
   "execution_count": 6,
   "id": "00e81f21-f42c-41ee-8cc9-bcf889a83b96",
   "metadata": {},
   "outputs": [],
   "source": [
    "df_IMDb_crew_director.columns = [f'Director{i+1}' for i in range(df_IMDb_crew_director.shape[1])]"
   ]
  },
  {
   "cell_type": "code",
   "execution_count": 7,
   "id": "8a60e0e4-86fb-40ba-9142-bb4aa0144f6b",
   "metadata": {},
   "outputs": [],
   "source": [
    "for i in range(df_IMDb_crew_director.shape[1]):\n",
    "    director_col = f'Director{i+1}'\n",
    "    \n",
    "    df_IMDb_crew_director = df_IMDb_crew_director.merge(df_IMDb_name,left_on=director_col, right_on='IMDb_director_ID',how='left')\n",
    "\n",
    "    df_IMDb_crew_director.rename(columns={'Name': f'{director_col}_name'}, inplace=True)\n",
    "    df_IMDb_crew_director.drop(columns=[director_col], inplace=True)\n",
    "    df_IMDb_crew_director.drop(columns=['IMDb_director_ID'], inplace=True)  "
   ]
  },
  {
   "cell_type": "code",
   "execution_count": 8,
   "id": "e520634b-03e9-4b0f-ae68-762b5a859933",
   "metadata": {},
   "outputs": [],
   "source": [
    "df_IMDb_crew_director=df_IMDb_crew_director.fillna('').apply(lambda row: ','.join(row.astype(str)), axis=1)"
   ]
  },
  {
   "cell_type": "code",
   "execution_count": 9,
   "id": "e1e1f56e-1c85-44bb-8285-8396b6088c9d",
   "metadata": {},
   "outputs": [],
   "source": [
    "df_IMDb_crew_director=df_IMDb_crew_director.str.replace(',,', '', regex=False).str.lstrip(',').str.rstrip(',')"
   ]
  },
  {
   "cell_type": "code",
   "execution_count": 10,
   "id": "e786ce4f-24d1-4da3-a3b8-d515c477e908",
   "metadata": {},
   "outputs": [],
   "source": [
    "df_IMDb_crew_director = df_IMDb_crew_director.str.split(',', expand=True)"
   ]
  },
  {
   "cell_type": "code",
   "execution_count": 11,
   "id": "204ebb29-7093-4a53-84cf-7a34025ca060",
   "metadata": {},
   "outputs": [],
   "source": [
    "df_IMDb_crew_director=df_IMDb_crew_director.add_prefix(\"Director\")"
   ]
  },
  {
   "cell_type": "markdown",
   "id": "ad9a1cf8-2d5e-474a-821d-0264df635955",
   "metadata": {},
   "source": [
    "## Get a Df with all known writers"
   ]
  },
  {
   "cell_type": "code",
   "execution_count": 12,
   "id": "5cba7b99-5307-4360-9648-8a446a8272dd",
   "metadata": {},
   "outputs": [],
   "source": [
    "df_IMDb_crew_writers = df_IMDb_crew['IMDb_writers_ID'].str.split(',', expand=True)"
   ]
  },
  {
   "cell_type": "code",
   "execution_count": 13,
   "id": "424112ba-fe12-4b12-9058-af54bee0c1ce",
   "metadata": {},
   "outputs": [],
   "source": [
    "df_IMDb_crew_writers.columns = [f'Writer{i+1}' for i in range(df_IMDb_crew_writers.shape[1])]"
   ]
  },
  {
   "cell_type": "code",
   "execution_count": 14,
   "id": "f4cc71da-a59e-4eb4-bf45-7b58f577cae4",
   "metadata": {},
   "outputs": [],
   "source": [
    "for i in range(df_IMDb_crew_writers.shape[1]):\n",
    "    writer_col = f'Writer{i+1}'\n",
    "    \n",
    "    df_IMDb_crew_writers = df_IMDb_crew_writers.merge(df_IMDb_name,left_on=writer_col, right_on='IMDb_director_ID',how='left')\n",
    "\n",
    "    df_IMDb_crew_writers.rename(columns={'Name': f'{writer_col}_name'}, inplace=True)\n",
    "    df_IMDb_crew_writers.drop(columns=[writer_col], inplace=True)\n",
    "    df_IMDb_crew_writers.drop(columns=['IMDb_director_ID'], inplace=True)  "
   ]
  },
  {
   "cell_type": "code",
   "execution_count": 15,
   "id": "57d9efdb-c9f6-427e-86d4-6d382f239482",
   "metadata": {},
   "outputs": [],
   "source": [
    "df_IMDb_crew_writers=df_IMDb_crew_writers.fillna('').apply(lambda row: ','.join(row.astype(str)), axis=1)"
   ]
  },
  {
   "cell_type": "code",
   "execution_count": 16,
   "id": "b99ad999-d16c-44e1-8e7e-0be9a3775060",
   "metadata": {},
   "outputs": [],
   "source": [
    "df_IMDb_crew_writers=df_IMDb_crew_writers.str.replace(',,', '', regex=False).str.lstrip(',').str.rstrip(',')"
   ]
  },
  {
   "cell_type": "code",
   "execution_count": 17,
   "id": "a367b566-4770-4ebf-8736-59f818ecf55d",
   "metadata": {},
   "outputs": [],
   "source": [
    "df_IMDb_crew_writers = df_IMDb_crew_writers.str.split(',', expand=True)"
   ]
  },
  {
   "cell_type": "code",
   "execution_count": 18,
   "id": "088a5d76-2c6d-4db7-be68-b09bfef42e78",
   "metadata": {},
   "outputs": [],
   "source": [
    "df_IMDb_crew_writers=df_IMDb_crew_writers.add_prefix(\"Writer\")"
   ]
  },
  {
   "cell_type": "markdown",
   "id": "b43165ef-ddab-46a2-b2f5-1b30cc05af94",
   "metadata": {},
   "source": [
    "## Merging director, writer, rating "
   ]
  },
  {
   "cell_type": "code",
   "execution_count": 19,
   "id": "8499104c-6a2f-4161-b160-a54386c41d3b",
   "metadata": {},
   "outputs": [],
   "source": [
    "complete_director_writer = pd.concat([df_IMDb_crew['IMDb_title_ID'],df_IMDb_crew_director,df_IMDb_crew_writers], axis = 1)"
   ]
  },
  {
   "cell_type": "code",
   "execution_count": 20,
   "id": "d80b7ca3-abab-4d04-9b93-379630660341",
   "metadata": {},
   "outputs": [
    {
     "name": "stdout",
     "output_type": "stream",
     "text": [
      "(679735, 98)\n"
     ]
    }
   ],
   "source": [
    "print(complete_director_writer.shape)"
   ]
  },
  {
   "cell_type": "code",
   "execution_count": 21,
   "id": "edfea693-fbfa-4e0b-9728-13fba654b2ab",
   "metadata": {},
   "outputs": [
    {
     "name": "stdout",
     "output_type": "stream",
     "text": [
      "(1493420, 3)\n"
     ]
    }
   ],
   "source": [
    "print(df_IMDb_ratings.shape)"
   ]
  },
  {
   "cell_type": "code",
   "execution_count": 22,
   "id": "ad5250c5-4f8d-4539-9e35-07b757a97fe5",
   "metadata": {},
   "outputs": [],
   "source": [
    "total_IMDb = pd.merge(complete_director_writer, df_IMDb_ratings, how='left', on = 'IMDb_title_ID' )"
   ]
  },
  {
   "cell_type": "code",
   "execution_count": 31,
   "id": "ae10027c-3e51-49a6-b1c3-1098ef2ef294",
   "metadata": {},
   "outputs": [],
   "source": [
    "df_IMDb_title_select=df_IMDb_title[['IMDb_title_ID', 'realease_date','runtime','Primary_title', 'Original_title']]"
   ]
  },
  {
   "cell_type": "code",
   "execution_count": 32,
   "id": "c9f4445a-cfe2-40c5-b120-5f99dbbc0619",
   "metadata": {},
   "outputs": [],
   "source": [
    "complete_IMDb = pd.merge(total_IMDb, df_IMDb_title_select, how='outer', on = 'IMDb_title_ID' )"
   ]
  },
  {
   "cell_type": "code",
   "execution_count": 33,
   "id": "b5233794-9bd7-41c6-8845-188558ce869c",
   "metadata": {},
   "outputs": [
    {
     "data": {
      "text/plain": [
       "(696856, 104)"
      ]
     },
     "execution_count": 33,
     "metadata": {},
     "output_type": "execute_result"
    }
   ],
   "source": [
    "complete_IMDb.shape"
   ]
  },
  {
   "cell_type": "code",
   "execution_count": 34,
   "id": "976e6d5c-9a04-48c0-9fd9-ed396941086b",
   "metadata": {},
   "outputs": [],
   "source": [
    "complete_IMDb.to_pickle('IMDb/IMDb.pkl')"
   ]
  }
 ],
 "metadata": {
  "kernelspec": {
   "display_name": "Python 3 (ipykernel)",
   "language": "python",
   "name": "python3"
  },
  "language_info": {
   "codemirror_mode": {
    "name": "ipython",
    "version": 3
   },
   "file_extension": ".py",
   "mimetype": "text/x-python",
   "name": "python",
   "nbconvert_exporter": "python",
   "pygments_lexer": "ipython3",
   "version": "3.9.20"
  }
 },
 "nbformat": 4,
 "nbformat_minor": 5
}
